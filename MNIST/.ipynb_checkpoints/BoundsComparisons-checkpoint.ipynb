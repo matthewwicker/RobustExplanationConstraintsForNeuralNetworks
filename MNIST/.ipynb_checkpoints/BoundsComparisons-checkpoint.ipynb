{
 "cells": [
  {
   "cell_type": "code",
   "execution_count": 1,
   "id": "d7316301",
   "metadata": {},
   "outputs": [],
   "source": [
    "import sys\n",
    "sys.path.append(\"..\")\n",
    "# Load in MNIST\n",
    "import torch\n",
    "import torch\n",
    "import torch.nn as nn\n",
    "import torch.optim as optim\n",
    "from torch.nn import functional as F\n",
    "\n",
    "import numpy as np\n",
    "import matplotlib\n",
    "import matplotlib.pyplot as plt\n",
    "import seaborn as sns\n",
    "\n",
    "import torch.nn.functional as F\n",
    "from torch.autograd import Variable\n",
    "import torchvision.datasets as datasets\n",
    "\n",
    "# *** I need to actually do something more sophisicated with normalization to ensure that these\n",
    "# inputs are normalized in the same waya as the ones we trained on, but Torch seems\n",
    "# a bit complicated to me on this front so I am ignoring it for now :) \n",
    "\n",
    "device = torch.device(\"cpu\")\n",
    "mnist_trainset = datasets.MNIST(root='./Datasets', train=True, download=True, transform=None)\n",
    "mnist_testset = datasets.MNIST(root='./Datasets', train=False, download=True, transform=None)\n",
    "\n",
    "import GradCertModule\n",
    "import pytorch_lightning as pl\n",
    "from pl_examples.basic_examples.mnist_datamodule import MNISTDataModule\n",
    "\n",
    "\n",
    "# Model Options\n",
    "\n",
    "MODE = \"GRAD\"\n",
    "ALPHA = 1.0             # Regularization Parameter (Weights the Reg. Term)\n",
    "EPSILON = 0.05          # Input Peturbation Budget at Training Time\n",
    "GAMMA = 0.00            # Model Peturbation Budget at Training Time \n",
    "                        #(Changed to proportional budget rather than absolute)\n",
    "    \n",
    "LEARN_RATE = 0.001     # Learning Rate Hyperparameter\n",
    "HIDDEN_DIM = 128       # Hidden Neurons Hyperparameter\n",
    "HIDDEN_LAY = 1         # Hidden Layers Hyperparameter\n",
    "MAX_EPOCHS = 15\n",
    "BATCH_SIZE = 100\n",
    "\n",
    "EPSILON_LINEAR = True   # Put Epsilon on a Linear Schedule?\n",
    "GAMMA_LINEAR = True     # Put Gamma on a Linear Schedule?"
   ]
  },
  {
   "cell_type": "code",
   "execution_count": 2,
   "id": "5155cb3d",
   "metadata": {},
   "outputs": [
    {
     "name": "stdout",
     "output_type": "stream",
     "text": [
      "SET MODE TO:  GRAD\n",
      "epoch\n",
      "global_step\n",
      "pytorch-lightning_version\n",
      "state_dict\n",
      "loops\n",
      "callbacks\n",
      "optimizer_states\n",
      "lr_schedulers\n",
      "hparams_name\n",
      "hyper_parameters\n"
     ]
    }
   ],
   "source": [
    "import XAIArchitectures\n",
    "model = XAIArchitectures.FullyConnected()\n",
    "model.set_params(alpha=ALPHA, epsilon=EPSILON, gamma=GAMMA,\n",
    "                learn_rate=LEARN_RATE, max_epochs=MAX_EPOCHS,\n",
    "                epsilon_linear=EPSILON_LINEAR,gamma_linear=GAMMA_LINEAR,\n",
    "                mode=\"GRAD\")\n",
    "   \n",
    "if(MODE != \"ADV\"):    \n",
    "    SCHEDULED = EPSILON_LINEAR or GAMMA_LINEAR    \n",
    "    #MODEL_ID = \"FCN_e=%s_g=%s_h=%s_l=%s_s=%s\"%(EPSILON, GAMMA, HIDDEN_DIM, HIDDEN_LAY, SCHEDULED)  \n",
    "    MODEL_ID = \"FCN_e=%s_g=%s_a=%s_s=%s\"%(EPSILON, GAMMA, ALPHA, SCHEDULED)\n",
    "    ckpt = torch.load(\"Models/%s.ckpt\"%(MODEL_ID))\n",
    "    optimizer = optim.SGD(model.parameters(), lr=0.001, momentum=0.9)\n",
    "    checkpoint = torch.load(\"Models/%s.ckpt\"%(MODEL_ID))\n",
    "    for key in checkpoint:\n",
    "        print(key)\n",
    "    #model.load_state_dict(checkpoint['model_state_dict'])\n",
    "    model.load_state_dict(torch.load('Models/%s.pt'%(MODEL_ID)))\n",
    "else:\n",
    "    SCHEDULED = EPSILON_LINEAR or GAMMA_LINEAR    \n",
    "    #MODEL_ID = \"FCN_e=%s_g=%s_h=%s_l=%s_s=%s\"%(EPSILON, GAMMA, HIDDEN_DIM, HIDDEN_LAY, SCHEDULED)  \n",
    "    MODEL_ID = \"FCN_e=%s_g=%s_a=%s_s=%s\"%(EPSILON, GAMMA, ALPHA, SCHEDULED)\n",
    "    ckpt = torch.load(\"ADV_Models/%s.ckpt\"%(MODEL_ID))\n",
    "    optimizer = optim.SGD(model.parameters(), lr=0.001, momentum=0.9)\n",
    "    checkpoint = torch.load(\"ADV_Models/%s.ckpt\"%(MODEL_ID))\n",
    "    for key in checkpoint:\n",
    "        print(key)\n",
    "    #model.load_state_dict(checkpoint['model_state_dict'])\n",
    "    model.load_state_dict(torch.load('ADV_Models/%s.pt'%(MODEL_ID)))\n"
   ]
  },
  {
   "cell_type": "code",
   "execution_count": 3,
   "id": "01afc751",
   "metadata": {},
   "outputs": [
    {
     "name": "stdout",
     "output_type": "stream",
     "text": [
      "torch.Size([10000, 28, 28])\n",
      "0.849\n",
      "0.779\n"
     ]
    }
   ],
   "source": [
    "print(mnist_testset.data.shape)\n",
    "acc = 0\n",
    "rob = 0\n",
    "for i in range(1000):\n",
    "    data = np.asarray(mnist_testset[i][0]).reshape(1,28*28)/255.0\n",
    "    target = torch.Tensor([mnist_testset[i][1]]).type(torch.LongTensor)\n",
    "    out = torch.argmax(model(torch.Tensor(data)))\n",
    "    if(target == out):\n",
    "        acc += 1\n",
    "    y_l, y_u = GradCertModule.RobustnessBounds(model, torch.Tensor(data), target, 0.025, 0.00)\n",
    "    if(torch.argmax(y_l) == target):\n",
    "        rob += 1\n",
    "acc = acc/1000\n",
    "rob = rob/1000\n",
    "print(acc)\n",
    "print(rob)"
   ]
  },
  {
   "cell_type": "code",
   "execution_count": 4,
   "id": "a88aa2e8",
   "metadata": {},
   "outputs": [
    {
     "name": "stderr",
     "output_type": "stream",
     "text": [
      "/Users/matthewwicker/opt/anaconda3/envs/XAIenvironment/lib/python3.7/site-packages/ipykernel_launcher.py:7: UserWarning: FixedFormatter should only be used together with FixedLocator\n",
      "  import sys\n"
     ]
    },
    {
     "data": {
      "text/plain": [
       "(0.0, 1.1)"
      ]
     },
     "execution_count": 4,
     "metadata": {},
     "output_type": "execute_result"
    },
    {
     "data": {
      "image/png": "[encoded data removed]",
      "text/plain": [
       "<Figure size 500x500 with 1 Axes>"
      ]
     },
     "metadata": {
      "needs_background": "light"
     },
     "output_type": "display_data"
    }
   ],
   "source": [
    "sns.set_context('poster')\n",
    "\n",
    "plt.figure(figsize=(5,5), dpi=100)\n",
    "p1 = plt.bar(x=[0,1], height=[acc,rob], color=['darkblue', 'hotpink'])\n",
    "ax = plt.gca()\n",
    "ax.bar_label(p1)\n",
    "ax.set_xticklabels([' ', 'Acc.', ' ',  'Rob.'])\n",
    "plt.title(\"Grad. Cert. Training\")\n",
    "plt.ylim((0.0, 1.1))"
   ]
  },
  {
   "cell_type": "code",
   "execution_count": 5,
   "id": "4f9c4cf2",
   "metadata": {},
   "outputs": [
    {
     "name": "stdout",
     "output_type": "stream",
     "text": [
      "tensor(6)\n"
     ]
    }
   ],
   "source": [
    "# Compute Grad Explanations\n",
    "INPUT = 0\n",
    "CLASS = 2\n",
    "offset = 0\n",
    "\n",
    "while(True):\n",
    "    data = np.asarray(mnist_testset[INPUT+offset][0]).reshape(1,28*28)/255.0\n",
    "    data = torch.Tensor(data)\n",
    "    target = torch.Tensor([mnist_testset[INPUT+offset][1]]).type(torch.LongTensor)\n",
    "    data, target = data.to(device), target.to(device)\n",
    "    data.requires_grad = True\n",
    "    predic = model(data)\n",
    "    #print(target)\n",
    "    if(int(target) == CLASS):\n",
    "        print(torch.argmax(predic))\n",
    "        break\n",
    "    INPUT += 1"
   ]
  },
  {
   "cell_type": "code",
   "execution_count": 6,
   "id": "8bb98f76",
   "metadata": {},
   "outputs": [],
   "source": [
    "gradient = GradCertModule._INGRAD(model, data, target)"
   ]
  },
  {
   "cell_type": "code",
   "execution_count": 7,
   "id": "2ab4cb18",
   "metadata": {},
   "outputs": [],
   "source": [
    "rand_lower, rand_upper = GradCertModule.GradRandBounds(model, data, target, eps=0.025, iterations=100)"
   ]
  },
  {
   "cell_type": "code",
   "execution_count": 8,
   "id": "616b7014",
   "metadata": {},
   "outputs": [],
   "source": [
    "attk_lower, attk_upper = GradCertModule.GradAttackBounds(model, data, target, eps=0.025)"
   ]
  },
  {
   "cell_type": "code",
   "execution_count": 9,
   "id": "e1b92a56",
   "metadata": {},
   "outputs": [],
   "source": [
    "cert_lower, cert_upper = GradCertModule.GradCertBounds(model, data, target, 0.025, 0.00)"
   ]
  },
  {
   "cell_type": "code",
   "execution_count": 10,
   "id": "7823f5a6",
   "metadata": {},
   "outputs": [
    {
     "name": "stdout",
     "output_type": "stream",
     "text": [
      "<class 'torch.Tensor'> <class 'torch.Tensor'> <class 'torch.Tensor'>\n"
     ]
    }
   ],
   "source": [
    "print(type(rand_lower), type(attk_lower), type(cert_lower))\n"
   ]
  },
  {
   "cell_type": "code",
   "execution_count": 11,
   "id": "cec63d57",
   "metadata": {},
   "outputs": [
    {
     "data": {
      "image/png": "[encoded data removed]",
      "text/plain": [
       "<Figure size 1200x720 with 3 Axes>"
      ]
     },
     "metadata": {
      "needs_background": "light"
     },
     "output_type": "display_data"
    }
   ],
   "source": [
    "import matplotlib\n",
    "import matplotlib.pyplot as plt\n",
    "import seaborn as sns\n",
    "\n",
    "sns.set_context('poster')\n",
    "fig, axes = plt.subplots(nrows=1, ncols=2, figsize=(10, 6), dpi=120)\n",
    "#figure(figsize=(8, 6), dpi=80)\n",
    "im0 = axes[0].imshow(np.asarray(data.detach().numpy()).reshape(28,28), cmap='Greys')\n",
    "#plt.colorbar(im0, ax=axes[0], fraction=0.046, pad=0.04)\n",
    "#axes[0].set_title('Class %s'%(CLASS))\n",
    "axes[0].set_axis_off()\n",
    "#plt.colorbar(im0, ax=axes[0], fraction=0.046, pad=0.04)\n",
    "\n",
    "im0 = axes[1].imshow(gradient.detach().numpy().reshape(28,28), cmap='coolwarm')\n",
    "axes[1].set_title('Std. Gradient')\n",
    "axes[1].set_axis_off()\n",
    "plt.colorbar(im0, ax=axes[1], fraction=0.046, pad=0.04)\n",
    "#im0.set_clim(vmin=mi, vmax=ma)\n",
    "plt.show()"
   ]
  },
  {
   "cell_type": "code",
   "execution_count": 12,
   "id": "2164b873",
   "metadata": {},
   "outputs": [
    {
     "ename": "NameError",
     "evalue": "name 'adsf' is not defined",
     "output_type": "error",
     "traceback": [
      "\u001b[0;31m---------------------------------------------------------------------------\u001b[0m",
      "\u001b[0;31mNameError\u001b[0m                                 Traceback (most recent call last)",
      "\u001b[0;32m/var/folders/wk/dw_2kpzx6yggmhdyw5k5gj200000gn/T/ipykernel_15364/322783553.py\u001b[0m in \u001b[0;36m<module>\u001b[0;34m\u001b[0m\n\u001b[0;32m----> 1\u001b[0;31m \u001b[0msdf\u001b[0m \u001b[0;34m=\u001b[0m \u001b[0madsf\u001b[0m\u001b[0;34m\u001b[0m\u001b[0;34m\u001b[0m\u001b[0m\n\u001b[0m",
      "\u001b[0;31mNameError\u001b[0m: name 'adsf' is not defined"
     ]
    }
   ],
   "source": [
    "sdf = adsf"
   ]
  },
  {
   "cell_type": "code",
   "execution_count": null,
   "id": "5d46ca07",
   "metadata": {},
   "outputs": [],
   "source": [
    "\n",
    "ma = float(torch.max(rand_upper))\n",
    "mi = float(torch.min(rand_lower))\n",
    "\n",
    "print(mi, ma)\n",
    "\n",
    "# Compute Grad Bounds \n",
    "sns.set_context('paper')\n",
    "fig, axes = plt.subplots(nrows=1, ncols=4, figsize=(10, 6), dpi=120)\n",
    "#figure(figsize=(8, 6), dpi=80)\n",
    "im0 = axes[0].imshow(np.asarray(data.detach().numpy()).reshape(28,28), cmap='Greys')\n",
    "#plt.colorbar(im0, ax=axes[0], fraction=0.046, pad=0.04)\n",
    "axes[0].set_title('Class %s'%(CLASS))\n",
    "axes[0].set_axis_off()\n",
    "#plt.colorbar(im0, ax=axes[0], fraction=0.046, pad=0.04)\n",
    "\n",
    "im0 = axes[1].imshow(gradient.detach().numpy().reshape(28,28), cmap='coolwarm')\n",
    "axes[1].set_title('Std. Gradient')\n",
    "axes[1].set_axis_off()\n",
    "plt.colorbar(im0, ax=axes[1], fraction=0.046, pad=0.04)\n",
    "im0.set_clim(vmin=mi, vmax=ma)\n",
    "\n",
    "im1 = axes[2].imshow(rand_upper.detach().numpy().reshape(28,28)  , cmap='coolwarm')\n",
    "plt.colorbar(im1, ax=axes[2], fraction=0.046, pad=0.04)\n",
    "axes[2].set_title('Upper Bound')\n",
    "axes[2].set_axis_off()\n",
    "im1.set_clim(vmin=mi, vmax=ma)\n",
    "\n",
    "im2 = axes[3].imshow(rand_lower.detach().numpy().reshape(28,28)  , cmap='coolwarm')\n",
    "plt.colorbar(im2, ax=axes[3], fraction=0.046, pad=0.04)\n",
    "axes[3].set_title('Lower Bound')\n",
    "axes[3].set_axis_off()\n",
    "im2.set_clim(vmin=mi, vmax=ma)\n",
    "\n",
    "fig.tight_layout()"
   ]
  },
  {
   "cell_type": "code",
   "execution_count": null,
   "id": "5153e615",
   "metadata": {},
   "outputs": [],
   "source": [
    "import matplotlib\n",
    "import matplotlib.pyplot as plt\n",
    "import seaborn as sns\n",
    "\n",
    "ma = float(torch.max(attk_upper))\n",
    "mi = float(torch.min(attk_lower))\n",
    "\n",
    "print(mi, ma)\n",
    "\n",
    "# Compute Grad Bounds \n",
    "sns.set_context('paper')\n",
    "fig, axes = plt.subplots(nrows=1, ncols=4, figsize=(10, 6), dpi=120)\n",
    "#figure(figsize=(8, 6), dpi=80)\n",
    "im0 = axes[0].imshow(np.asarray(data.detach().numpy()).reshape(28,28), cmap='Greys')\n",
    "#plt.colorbar(im0, ax=axes[0], fraction=0.046, pad=0.04)\n",
    "axes[0].set_title('Class %s'%(CLASS))\n",
    "axes[0].set_axis_off()\n",
    "#plt.colorbar(im0, ax=axes[0], fraction=0.046, pad=0.04)\n",
    "\n",
    "im0 = axes[1].imshow(gradient.detach().numpy().reshape(28,28), cmap='coolwarm')\n",
    "axes[1].set_title('Std. Gradient')\n",
    "axes[1].set_axis_off()\n",
    "plt.colorbar(im0, ax=axes[1], fraction=0.046, pad=0.04)\n",
    "im0.set_clim(vmin=mi, vmax=ma)\n",
    "\n",
    "im1 = axes[2].imshow(attk_upper.detach().numpy().reshape(28,28)  , cmap='coolwarm')\n",
    "plt.colorbar(im1, ax=axes[2], fraction=0.046, pad=0.04)\n",
    "axes[2].set_title('Upper Bound')\n",
    "axes[2].set_axis_off()\n",
    "im1.set_clim(vmin=mi, vmax=ma)\n",
    "\n",
    "im2 = axes[3].imshow(attk_lower.detach().numpy().reshape(28,28)  , cmap='coolwarm')\n",
    "plt.colorbar(im2, ax=axes[3], fraction=0.046, pad=0.04)\n",
    "axes[3].set_title('Lower Bound')\n",
    "axes[3].set_axis_off()\n",
    "im2.set_clim(vmin=mi, vmax=ma)\n",
    "\n",
    "fig.tight_layout()"
   ]
  },
  {
   "cell_type": "code",
   "execution_count": null,
   "id": "f796ef9a",
   "metadata": {},
   "outputs": [],
   "source": [
    "import matplotlib\n",
    "import matplotlib.pyplot as plt\n",
    "import seaborn as sns\n",
    "\n",
    "\n",
    "cert_upper = torch.squeeze(cert_upper)\n",
    "cert_lower = torch.squeeze(cert_lower)\n",
    "ma = float(torch.max(cert_upper))\n",
    "mi = float(torch.min(cert_lower))\n",
    "\n",
    "print(mi, ma)\n",
    "# Compute Grad Bounds \n",
    "sns.set_context('paper')\n",
    "fig, axes = plt.subplots(nrows=1, ncols=4, figsize=(12, 6), dpi=120)\n",
    "#figure(figsize=(8, 6), dpi=80)\n",
    "imk = axes[0].imshow(np.asarray(data.detach().numpy()).reshape(28,28), cmap='Greys')\n",
    "#plt.colorbar(im0, ax=axes[0], fraction=0.046, pad=0.04)\n",
    "axes[0].set_title('Class %s'%(CLASS))\n",
    "axes[0].set_axis_off()\n",
    "#plt.colorbar(im0, ax=axes[0], fraction=0.046, pad=0.04)\n",
    "\n",
    "im0 = axes[1].imshow(gradient.detach().numpy().reshape(28,28), cmap='jet')\n",
    "axes[1].set_title('Std. Gradient')\n",
    "axes[1].set_axis_off()\n",
    "plt.colorbar(im0, ax=axes[1], fraction=0.046, pad=0.04)\n",
    "#im0.set_clim(vmin=mi, vmax=ma)\n",
    "\n",
    "im1 = axes[2].imshow(cert_upper.detach().numpy().reshape(28,28)  , cmap='coolwarm')\n",
    "plt.colorbar(im1, ax=axes[2], fraction=0.046, pad=0.04)\n",
    "axes[2].set_title('Upper Bound')\n",
    "axes[2].set_axis_off()\n",
    "im1.set_clim(vmin=mi, vmax=ma)\n",
    "\n",
    "im2 = axes[3].imshow(cert_lower.detach().numpy().reshape(28,28)  , cmap='coolwarm')\n",
    "plt.colorbar(im2, ax=axes[3], fraction=0.046, pad=0.04)\n",
    "axes[3].set_title('Lower Bound')\n",
    "axes[3].set_axis_off()\n",
    "im2.set_clim(vmin=mi, vmax=ma)\n",
    "\n",
    "fig.tight_layout()"
   ]
  },
  {
   "cell_type": "code",
   "execution_count": null,
   "id": "7d7ca64c",
   "metadata": {},
   "outputs": [],
   "source": [
    "\n",
    "y_l, y_u = GradCertModule.RobustnessBounds(model, data, target, 0.025, 0.00)\n",
    "print(y_l)\n",
    "print(y_u)\n",
    "print(torch.argmax(y_l))\n",
    "print(torch.argmax(y_u))"
   ]
  },
  {
   "cell_type": "code",
   "execution_count": null,
   "id": "ad1260c6",
   "metadata": {},
   "outputs": [],
   "source": [
    "from tqdm import trange\n",
    "# Compute Gradient Magnitudes \n",
    "\n",
    "# Compute RandAttack Magnitudes\n",
    "\n",
    "# Compute GradAttack Magnitudes\n",
    "\n",
    "# Compute GradCert Magnitudes\n",
    "\n",
    "\n",
    "avgs = []\n",
    "cert = []\n",
    "attk = []\n",
    "rand = []\n",
    "\n",
    "alls = []\n",
    "labs = []\n",
    "\n",
    "t_eps = 0.01\n",
    "t_gam = 0.0\n",
    "for INPUT in trange(250):\n",
    "    data = np.asarray(mnist_testset[INPUT][0]).reshape(1,28*28)/255.0\n",
    "    data = torch.Tensor(data)\n",
    "    target = torch.Tensor([mnist_testset[INPUT][1]]).type(torch.LongTensor)\n",
    "    \n",
    "    min_cert, max_cert = GradCertModule.GradCertBounds(model, data, target, t_eps, t_gam)\n",
    "    min_cert, max_cert = min_cert.detach().numpy(), max_cert.detach().numpy()\n",
    "    cert.append(np.mean((max_cert - min_cert))/2)\n",
    "    alls.append(np.mean((max_cert - min_cert))/2)\n",
    "    labs.append('Cert. Diff.')\n",
    "    \n",
    "    min_attk, max_attk = GradCertModule.GradAttackBounds(model, data, target, t_eps)\n",
    "    min_attk, max_attk = min_attk.detach().numpy(), max_attk.detach().numpy()\n",
    "    attk.append(np.mean((max_attk - min_attk))/2)\n",
    "    alls.append(np.mean((max_attk - min_attk))/2)\n",
    "    labs.append('Attk. Diff.')\n",
    "    \n",
    "    min_rand, max_rand = GradCertModule.GradAttackBounds(model, data, target, t_eps)\n",
    "    min_rand, max_rand = min_rand.detach().numpy(), max_rand.detach().numpy()\n",
    "    rand.append(np.mean((max_rand - min_rand))/2)\n",
    "    alls.append(np.mean((max_rand - min_rand))/2)\n",
    "    labs.append('Rand. Diff.')\n",
    "    \n",
    "    gra = GradCertModule.InputGrad(model, data, target)\n",
    "    gra = gra.detach().numpy()\n",
    "    avgs.append(np.mean(np.abs(gra)))\n",
    "    alls.append(np.mean(np.abs(gra)))\n",
    "    labs.append('Gradient')\n",
    "        "
   ]
  },
  {
   "cell_type": "code",
   "execution_count": null,
   "id": "f2c5e49f",
   "metadata": {},
   "outputs": [],
   "source": [
    "import seaborn as sns\n",
    "sns.set_context('poster')\n",
    "plt.figure(figsize=(8, 6), dpi=120)\n",
    "#plt.title(r'($\\epsilon_t$ = %s, $\\gamma_t$ = %s) ($\\epsilon$ = %s, $\\gamma$ = %s)'%(EPSILON, GAMMA, t_eps, t_gam))\n",
    "#plt.title(r'Certificates, Normal Training, $\\epsilon$ = %s'%(t_eps))\n",
    "plt.title(r'($\\epsilon_t$ = %s, $\\gamma_t$ = %s) ($\\epsilon$ = %s, $\\gamma$ = %s)'%(EPSILON, GAMMA, t_eps, t_gam))\n",
    "\n",
    "\n",
    "sns.histplot(cert, kde=True, bins=200, color='yellow', label='Cert. Grad. Diff')\n",
    "sns.histplot(attk, kde=True, bins=10, color='purple', label='Attk. Grad. Diff')\n",
    "sns.histplot(rand, kde=True, bins=10, color='red', label='Rand. Grad. Diff')\n",
    "sns.histplot(avgs, kde=True, bins=200, color='lightblue', label=\"Avg. Grad. Mag.\")\n",
    "\n",
    "plt.legend()\n",
    "plt.show()"
   ]
  },
  {
   "cell_type": "code",
   "execution_count": null,
   "id": "bc5e1aa5",
   "metadata": {},
   "outputs": [],
   "source": [
    "import pandas as pd\n",
    "import seaborn as sns\n",
    "sns.set_context('poster')\n",
    "plt.figure(figsize=(12, 6), dpi=120)\n",
    "\n",
    "df = pd.DataFrame({'vals': alls, 'labs': labs})\n",
    "ax = sns.boxenplot(y=\"vals\", x='labs', data=df, outlier_prop=0.0000001, k_depth=\"proportion\",\n",
    "                   order=['Gradient', 'Cert. Diff.', 'Attk. Diff.', 'Rand. Diff.'])\n",
    "\n",
    "#plt.ylim([-0.001, 1.75])\n",
    "\n",
    "plt.yscale('log')\n",
    "\n",
    "plt.ylabel(\"Magnitudes\")\n",
    "plt.xlabel(\"\")\n",
    "plt.title(\"Grad. Cert. Training\")"
   ]
  }
 ],
 "metadata": {
  "kernelspec": {
   "display_name": "Python 3 (ipykernel)",
   "language": "python",
   "name": "python3"
  },
  "language_info": {
   "codemirror_mode": {
    "name": "ipython",
    "version": 3
   },
   "file_extension": ".py",
   "mimetype": "text/x-python",
   "name": "python",
   "nbconvert_exporter": "python",
   "pygments_lexer": "ipython3",
   "version": "3.7.13"
  }
 },
 "nbformat": 4,
 "nbformat_minor": 5
}
