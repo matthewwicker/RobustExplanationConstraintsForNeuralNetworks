{
 "cells": [
  {
   "cell_type": "code",
   "execution_count": 1,
   "metadata": {},
   "outputs": [],
   "source": [
    "import sys\n",
    "sys.path.append(\"..\")\n",
    "# Load in MNIST\n",
    "import torch\n",
    "import torch\n",
    "import torch.nn as nn\n",
    "import torch.optim as optim\n",
    "from torch.nn import functional as F\n",
    "\n",
    "import numpy as np\n",
    "import matplotlib\n",
    "import matplotlib.pyplot as plt\n",
    "import seaborn as sns\n",
    "\n",
    "import torch.nn.functional as F\n",
    "from torch.autograd import Variable\n",
    "import torchvision.datasets as datasets\n",
    "\n",
    "# *** I need to actually do something more sophisicated with normalization to ensure that these\n",
    "# inputs are normalized in the same waya as the ones we trained on, but Torch seems\n",
    "# a bit complicated to me on this front so I am ignoring it for now :) \n",
    "\n",
    "device = torch.device(\"cpu\")\n",
    "mnist_trainset = datasets.MNIST(root='./Datasets', train=True, download=True, transform=None)\n",
    "mnist_testset = datasets.MNIST(root='./Datasets', train=False, download=True, transform=None)\n",
    "\n",
    "import GradCertModule\n",
    "import pytorch_lightning as pl\n",
    "from pl_examples.basic_examples.mnist_datamodule import MNISTDataModule\n",
    "\n",
    "\n",
    "# Model Options\n",
    "\n",
    "ALPHA = 0.0            # Regularization Parameter (Weights the Reg. Term)\n",
    "EPSILON = 0.0          # Input Peturbation Budget at Training Time\n",
    "GAMMA = 0.00            # Model Peturbation Budget at Training Time \n",
    "                        #(Changed to proportional budget rather than absolute)\n",
    "    \n",
    "LEARN_RATE = 0.001     # Learning Rate Hyperparameter\n",
    "HIDDEN_DIM = 128       # Hidden Neurons Hyperparameter\n",
    "HIDDEN_LAY = 1         # Hidden Layers Hyperparameter\n",
    "MAX_EPOCHS = 15\n",
    "BATCH_SIZE = 100\n",
    "\n",
    "EPSILON_LINEAR = True   # Put Epsilon on a Linear Schedule?\n",
    "GAMMA_LINEAR = True     # Put Gamma on a Linear Schedule?"
   ]
  },
  {
   "cell_type": "code",
   "execution_count": 2,
   "metadata": {},
   "outputs": [
    {
     "name": "stdout",
     "output_type": "stream",
     "text": [
      "epoch\n",
      "global_step\n",
      "pytorch-lightning_version\n",
      "state_dict\n",
      "loops\n",
      "callbacks\n",
      "optimizer_states\n",
      "lr_schedulers\n",
      "hparams_name\n",
      "hyper_parameters\n"
     ]
    },
    {
     "data": {
      "text/plain": [
       "<All keys matched successfully>"
      ]
     },
     "execution_count": 2,
     "metadata": {},
     "output_type": "execute_result"
    }
   ],
   "source": [
    "import XAIArchitectures\n",
    "model = XAIArchitectures.FullyConnected()\n",
    "model.set_params(alpha=ALPHA, epsilon=EPSILON, gamma=GAMMA,\n",
    "                learn_rate=LEARN_RATE, max_epochs=MAX_EPOCHS,\n",
    "                epsilon_linear=EPSILON_LINEAR,gamma_linear=GAMMA_LINEAR,\n",
    "                mode=\"ADV\")\n",
    "    \n",
    "    \n",
    "SCHEDULED = EPSILON_LINEAR or GAMMA_LINEAR    \n",
    "#MODEL_ID = \"FCN_e=%s_g=%s_h=%s_l=%s_s=%s\"%(EPSILON, GAMMA, HIDDEN_DIM, HIDDEN_LAY, SCHEDULED)  \n",
    "MODEL_ID = \"FCN_e=%s_g=%s_a=%s_s=%s\"%(EPSILON, GAMMA, ALPHA, SCHEDULED)\n",
    "ckpt = torch.load(\"Models/%s.ckpt\"%(MODEL_ID))\n",
    "optimizer = optim.SGD(model.parameters(), lr=0.001, momentum=0.9)\n",
    "checkpoint = torch.load(\"Models/%s.ckpt\"%(MODEL_ID))\n",
    "for key in checkpoint:\n",
    "    print(key)\n",
    "#model.load_state_dict(checkpoint['model_state_dict'])\n",
    "model.load_state_dict(torch.load('Models/%s.pt'%(MODEL_ID)))\n"
   ]
  },
  {
   "cell_type": "code",
   "execution_count": 3,
   "metadata": {},
   "outputs": [
    {
     "name": "stdout",
     "output_type": "stream",
     "text": [
      "torch.Size([10000, 28, 28])\n",
      "0.979\n"
     ]
    }
   ],
   "source": [
    "print(mnist_testset.data.shape)\n",
    "acc = 0\n",
    "for i in range(1000):\n",
    "    data = np.asarray(mnist_testset[i][0]).reshape(1,28*28)/255.0\n",
    "    target = torch.Tensor([mnist_testset[i][1]]).type(torch.LongTensor)\n",
    "    out = torch.argmax(model(torch.Tensor(data)))\n",
    "    if(target == out):\n",
    "        acc += 1\n",
    "print(acc/1000)"
   ]
  },
  {
   "cell_type": "code",
   "execution_count": 4,
   "metadata": {},
   "outputs": [],
   "source": [
    "# Compute Grad Explanations\n",
    "INPUT = 0\n",
    "CLASS = 9\n",
    "while(True):\n",
    "    data = np.asarray(mnist_testset[INPUT][0]).reshape(1,28*28)/255.0\n",
    "    data = torch.Tensor(data)\n",
    "    target = torch.Tensor([mnist_testset[INPUT][1]]).type(torch.LongTensor)\n",
    "    data, target = data.to(device), target.to(device)\n",
    "    data.requires_grad = True\n",
    "    predic = model(data)\n",
    "    #print(target)\n",
    "    if(int(target) == CLASS):\n",
    "        break\n",
    "    INPUT += 1"
   ]
  },
  {
   "cell_type": "code",
   "execution_count": 5,
   "metadata": {},
   "outputs": [],
   "source": [
    "#lrp = GradCertModule.FCN_LRP(model, data, target)\n",
    "gra = GradCertModule._INGRAD(model, data, target)"
   ]
  },
  {
   "cell_type": "code",
   "execution_count": 6,
   "metadata": {},
   "outputs": [],
   "source": [
    "grad, gra = GradCertModule.GradCertBounds(model, data, target, 0.01, 0.00)\n",
    "gra = gra.detach().numpy()\n",
    "min_grad, max_grad = GradCertModule.GradCertBounds(model, data, target, 0.05, 0.00)\n",
    "min_grad, max_grad = min_grad.detach().numpy(), max_grad.detach().numpy()"
   ]
  },
  {
   "cell_type": "code",
   "execution_count": 7,
   "metadata": {},
   "outputs": [
    {
     "data": {
      "image/png": "[encoded data removed]",
      "text/plain": [
       "<Figure size 1200x720 with 7 Axes>"
      ]
     },
     "metadata": {
      "needs_background": "light"
     },
     "output_type": "display_data"
    }
   ],
   "source": [
    "# Compute Grad Bounds \n",
    "sns.set_context('paper')\n",
    "fig, axes = plt.subplots(nrows=1, ncols=4, figsize=(10, 6), dpi=120)\n",
    "#figure(figsize=(8, 6), dpi=80)\n",
    "im0 = axes[0].imshow(np.asarray(data.detach().numpy()).reshape(28,28), cmap='Greys')\n",
    "#plt.colorbar(im0, ax=axes[0], fraction=0.046, pad=0.04)\n",
    "axes[0].set_title('Class %s'%(CLASS))\n",
    "axes[0].set_axis_off()\n",
    "#plt.colorbar(im0, ax=axes[0], fraction=0.046, pad=0.04)\n",
    "\n",
    "im0 = axes[1].imshow(np.asarray(gra).reshape(28,28), cmap='coolwarm')\n",
    "axes[1].set_title('Std. Gradient')\n",
    "axes[1].set_axis_off()\n",
    "plt.colorbar(im0, ax=axes[1], fraction=0.046, pad=0.04)\n",
    "\n",
    "im1 = axes[2].imshow(np.asarray(max_grad).reshape(28,28)  , cmap='coolwarm')\n",
    "plt.colorbar(im1, ax=axes[2], fraction=0.046, pad=0.04)\n",
    "axes[2].set_title('Upper Bound')\n",
    "axes[2].set_axis_off()\n",
    "\n",
    "im2 = axes[3].imshow(np.asarray((min_grad)-0.003).reshape(28,28) , cmap='coolwarm')\n",
    "plt.colorbar(im2, ax=axes[3], fraction=0.046, pad=0.04)\n",
    "axes[3].set_title('Lower Bound')\n",
    "axes[3].set_axis_off()\n",
    "\n",
    "fig.tight_layout()"
   ]
  },
  {
   "cell_type": "code",
   "execution_count": 8,
   "metadata": {},
   "outputs": [
    {
     "name": "stdout",
     "output_type": "stream",
     "text": [
      "True\n",
      "True\n",
      "True\n"
     ]
    }
   ],
   "source": [
    "#gra = gra.detach().numpy()\n",
    "print((np.asarray(gra) >= min_grad).all())\n",
    "print((np.asarray(gra) <= max_grad).all())\n",
    "print((min_grad <= max_grad).all())"
   ]
  },
  {
   "cell_type": "code",
   "execution_count": 9,
   "metadata": {},
   "outputs": [],
   "source": [
    "min_grad, max_grad = GradCertModule.GradCertBounds(model, data, target, 0.05, 0.00)"
   ]
  },
  {
   "cell_type": "code",
   "execution_count": 10,
   "metadata": {},
   "outputs": [
    {
     "name": "stdout",
     "output_type": "stream",
     "text": [
      "\n"
     ]
    }
   ],
   "source": [
    "\"\"\"\n",
    "from torch.autograd.functional import hessian\n",
    "def val(data, target=target):\n",
    "    output = model(data)\n",
    "    return  F.nll_loss(output, target)\n",
    "H = hessian(val, data)\n",
    "print((H == 0).all())\n",
    "H = torch.diagonal(H)\n",
    "grad = GradCertModule._INGRAD(model, data, target)\n",
    "adv = data + (0.05*torch.sign(H))\n",
    "\"\"\"\n",
    "print()"
   ]
  },
  {
   "cell_type": "code",
   "execution_count": 11,
   "metadata": {},
   "outputs": [],
   "source": [
    "def finite_difference_attack(model, data, target, eta=0.001):\n",
    "    \"\"\"\n",
    "    Can only be run one input at a time for now\n",
    "    \"\"\"\n",
    "    index = int(target[0])\n",
    "    y = torch.squeeze(model(data))[index]\n",
    "    data = torch.squeeze(data)\n",
    "    mods = eta * torch.eye(data.shape[0])\n",
    "    ey_p = data + mods\n",
    "    ey_n = data - mods\n",
    "    y_p = model(ey_p)[:,index]\n",
    "    y_n = model(ey_n)[:,index]\n",
    "    hessian = (y_p - 2*y + y_n)/(eta**2)\n",
    "    return hessian\n",
    "\n",
    "H = finite_difference_attack(model, data, target)\n",
    "adv = data - (0.01*torch.sign(H))"
   ]
  },
  {
   "cell_type": "code",
   "execution_count": 12,
   "metadata": {},
   "outputs": [],
   "source": [
    "\n",
    "def finite_maximizer(model, data, target, eps=0.1):\n",
    "    \"\"\"\n",
    "    Can only be run one input at a time for now\n",
    "    \"\"\"\n",
    "    index = int(target[0])\n",
    "    targets = torch.squeeze(target.repeat(1, 784))\n",
    "    y = torch.squeeze(model(data))[index]\n",
    "    data = torch.squeeze(data)\n",
    "    mods = eps * torch.eye(data.shape[0])\n",
    "    ey_p = torch.Tensor((data + mods).detach())\n",
    "    ey_0 = torch.Tensor((data + (mods * 0.0)).detach())\n",
    "    ey_n = torch.Tensor((data - mods).detach())\n",
    "    targets = torch.squeeze(targets)\n",
    "    val_p = torch.diagonal(GradCertModule._INGRAD(model, ey_p, targets))\n",
    "    val_0 = torch.diagonal(GradCertModule._INGRAD(model, ey_0, targets))\n",
    "    val_n = torch.diagonal(GradCertModule._INGRAD(model, ey_n, targets))\n",
    "    add_indexes = (val_p > val_n).detach().numpy().astype(int)\n",
    "    sub_indexes = (val_n > val_p).detach().numpy().astype(int)\n",
    "    return torch.Tensor(eps*(add_indexes - sub_indexes))\n",
    "\n",
    "def finite_minimizer(model, data, target, eps=0.1):\n",
    "    \"\"\"\n",
    "    Can only be run one input at a time for now\n",
    "    \"\"\"\n",
    "    index = int(target[0])\n",
    "    targets = torch.squeeze(target.repeat(1, 784))\n",
    "    y = torch.squeeze(model(data))[index]\n",
    "    data = torch.squeeze(data)\n",
    "    mods = eps * torch.eye(data.shape[0])\n",
    "    ey_p = torch.Tensor((data + mods).detach())\n",
    "    ey_0 = torch.Tensor((data + (mods * 0.0)).detach())\n",
    "    ey_n = torch.Tensor((data - mods).detach())\n",
    "    targets = torch.squeeze(targets)\n",
    "    val_p = torch.diagonal(GradCertModule._INGRAD(model, ey_p, targets))\n",
    "    val_0 = torch.diagonal(GradCertModule._INGRAD(model, ey_0, targets))\n",
    "    val_n = torch.diagonal(GradCertModule._INGRAD(model, ey_n, targets))\n",
    "    add_indexes = (val_p < val_n).detach().numpy().astype(int)\n",
    "    sub_indexes = (val_n < val_p).detach().numpy().astype(int)\n",
    "    return torch.Tensor(eps*(add_indexes - sub_indexes))\n",
    "\n",
    "def attack_bounds(model, data, target, eps=0.05):\n",
    "    g = GradCertModule._INGRAD(model, data, target)\n",
    "    H_max = finite_maximizer(model, data, target, eps=eps)\n",
    "    H_min = finite_maximizer(model, data, target, eps=eps)\n",
    "    adv_max = (data + H_max).detach().numpy()\n",
    "    adv_min = (data + H_min).detach().numpy()\n",
    "    g_max = GradCertModule._INGRAD(model, torch.Tensor(adv_max), target)\n",
    "    g_min = GradCertModule._INGRAD(model, torch.Tensor(adv_min), target)\n",
    "    return torch.minimum(g_min, g), torch.maximum(g_max, g)\n"
   ]
  },
  {
   "cell_type": "code",
   "execution_count": 13,
   "metadata": {},
   "outputs": [],
   "source": [
    "\n",
    "gra = GradCertModule._INGRAD(model, data, target)\n",
    "g_lower, g_upper = attack_bounds(model, data, target, eps=0.05)\n"
   ]
  },
  {
   "cell_type": "code",
   "execution_count": 14,
   "metadata": {},
   "outputs": [
    {
     "name": "stdout",
     "output_type": "stream",
     "text": [
      "0.0005044834688305855 -0.0006631739670410752\n"
     ]
    },
    {
     "data": {
      "image/png": "[encoded data removed]",
      "text/plain": [
       "<Figure size 432x288 with 2 Axes>"
      ]
     },
     "metadata": {
      "needs_background": "light"
     },
     "output_type": "display_data"
    },
    {
     "data": {
      "image/png": "[encoded data removed]",
      "text/plain": [
       "<Figure size 432x288 with 2 Axes>"
      ]
     },
     "metadata": {
      "needs_background": "light"
     },
     "output_type": "display_data"
    },
    {
     "data": {
      "image/png": "[encoded data removed]",
      "text/plain": [
       "<Figure size 432x288 with 2 Axes>"
      ]
     },
     "metadata": {
      "needs_background": "light"
     },
     "output_type": "display_data"
    }
   ],
   "source": [
    "ma = float(torch.max(g_upper))\n",
    "mi = float(torch.min(g_lower))\n",
    "\n",
    "print(ma, mi)\n",
    "plt.imshow(gra.detach().numpy().reshape(28,28), cmap='coolwarm' )\n",
    "plt.colorbar()\n",
    "plt.clim(mi, ma)\n",
    "plt.show()\n",
    "\n",
    "\n",
    "plt.imshow(g_lower.detach().numpy().reshape(28,28), cmap='coolwarm' )\n",
    "plt.colorbar()\n",
    "plt.clim(mi, ma)\n",
    "plt.show()\n",
    "\n",
    "\n",
    "plt.imshow(g_upper.detach().numpy().reshape(28,28), cmap='coolwarm' )\n",
    "plt.colorbar()\n",
    "plt.clim(mi, ma)\n",
    "plt.show()"
   ]
  },
  {
   "cell_type": "code",
   "execution_count": 30,
   "metadata": {},
   "outputs": [],
   "source": [
    "rand_min, rand_max = GradCertModule.GradRandBounds(model, data, target, 0.01, iterations=1000)"
   ]
  },
  {
   "cell_type": "code",
   "execution_count": 31,
   "metadata": {},
   "outputs": [
    {
     "name": "stdout",
     "output_type": "stream",
     "text": [
      "0.00031185508123598993 -0.00030064771999605\n"
     ]
    },
    {
     "data": {
      "image/png": "[encoded data removed]",
      "text/plain": [
       "<Figure size 432x288 with 2 Axes>"
      ]
     },
     "metadata": {
      "needs_background": "light"
     },
     "output_type": "display_data"
    },
    {
     "data": {
      "image/png": "[encoded data removed]",
      "text/plain": [
       "<Figure size 432x288 with 2 Axes>"
      ]
     },
     "metadata": {
      "needs_background": "light"
     },
     "output_type": "display_data"
    },
    {
     "data": {
      "image/png": "[encoded data removed]",
      "text/plain": [
       "<Figure size 432x288 with 2 Axes>"
      ]
     },
     "metadata": {
      "needs_background": "light"
     },
     "output_type": "display_data"
    }
   ],
   "source": [
    "ma = float(np.max(rand_max))\n",
    "mi = float(np.min(rand_min))\n",
    "\n",
    "print(ma, mi)\n",
    "plt.imshow(gra.detach().numpy().reshape(28,28), cmap='coolwarm' )\n",
    "plt.colorbar()\n",
    "plt.clim(mi, ma)\n",
    "plt.show()\n",
    "\n",
    "\n",
    "plt.imshow(rand_min.reshape(28,28), cmap='coolwarm' )\n",
    "plt.colorbar()\n",
    "plt.clim(mi, ma)\n",
    "plt.show()\n",
    "\n",
    "\n",
    "plt.imshow(rand_max.reshape(28,28), cmap='coolwarm' )\n",
    "plt.colorbar()\n",
    "plt.clim(mi, ma)\n",
    "plt.show()\n"
   ]
  },
  {
   "cell_type": "code",
   "execution_count": 32,
   "metadata": {},
   "outputs": [],
   "source": [
    "cert_min, cert_max = GradCertModule.GradCertBounds(model, data, target, 0.01, 0.00)"
   ]
  },
  {
   "cell_type": "code",
   "execution_count": 33,
   "metadata": {},
   "outputs": [
    {
     "name": "stdout",
     "output_type": "stream",
     "text": [
      "5.123400688171387 -4.99958610534668\n"
     ]
    },
    {
     "data": {
      "image/png": "[encoded data removed]",
      "text/plain": [
       "<Figure size 432x288 with 2 Axes>"
      ]
     },
     "metadata": {
      "needs_background": "light"
     },
     "output_type": "display_data"
    },
    {
     "data": {
      "image/png": "[encoded data removed]",
      "text/plain": [
       "<Figure size 432x288 with 2 Axes>"
      ]
     },
     "metadata": {
      "needs_background": "light"
     },
     "output_type": "display_data"
    },
    {
     "data": {
      "image/png": "[encoded data removed]",
      "text/plain": [
       "<Figure size 432x288 with 2 Axes>"
      ]
     },
     "metadata": {
      "needs_background": "light"
     },
     "output_type": "display_data"
    }
   ],
   "source": [
    "ma = float(torch.max(cert_max))\n",
    "mi = float(torch.min(cert_min))\n",
    "\n",
    "print(ma, mi)\n",
    "plt.imshow(gra.detach().numpy().reshape(28,28), cmap='coolwarm' )\n",
    "plt.colorbar()\n",
    "plt.clim(mi, ma)\n",
    "plt.show()\n",
    "\n",
    "\n",
    "plt.imshow(cert_min.detach().numpy().reshape(28,28), cmap='coolwarm' )\n",
    "plt.colorbar()\n",
    "plt.clim(mi, ma)\n",
    "plt.show()\n",
    "\n",
    "\n",
    "plt.imshow(cert_max.detach().numpy().reshape(28,28), cmap='coolwarm' )\n",
    "plt.colorbar()\n",
    "plt.clim(mi, ma)\n",
    "plt.show()\n"
   ]
  },
  {
   "cell_type": "code",
   "execution_count": 15,
   "metadata": {},
   "outputs": [
    {
     "ename": "SyntaxError",
     "evalue": "invalid syntax (2065480383.py, line 1)",
     "output_type": "error",
     "traceback": [
      "\u001b[0;36m  File \u001b[0;32m\"/var/folders/fy/05fjjdkx1pv4jpcgmg822bnc0000gr/T/ipykernel_70064/2065480383.py\"\u001b[0;36m, line \u001b[0;32m1\u001b[0m\n\u001b[0;31m    asdf asdf\u001b[0m\n\u001b[0m            ^\u001b[0m\n\u001b[0;31mSyntaxError\u001b[0m\u001b[0;31m:\u001b[0m invalid syntax\n"
     ]
    }
   ],
   "source": [
    "asdf asdf"
   ]
  },
  {
   "cell_type": "code",
   "execution_count": null,
   "metadata": {},
   "outputs": [],
   "source": [
    "h = H.detach().numpy().reshape(28,28)\n",
    "plt.imshow(h, cmap='coolwarm' )\n",
    "plt.colorbar()\n",
    "plt.show()\n",
    "\n",
    "d = adv.detach().numpy().reshape(28,28)\n",
    "plt.imshow(d, cmap='coolwarm' )\n",
    "plt.colorbar()\n",
    "plt.show()\n",
    "\n",
    "g = gra.detach().numpy().reshape(28,28)\n",
    "plt.imshow(g, cmap='coolwarm' )\n",
    "plt.colorbar()\n",
    "plt.show()\n",
    "\n",
    "ga = gra_adv.detach().numpy().reshape(28,28)\n",
    "plt.imshow(ga, cmap='coolwarm' )\n",
    "plt.colorbar()\n",
    "plt.show()\n",
    "\n",
    "print((g >= ga).all())"
   ]
  },
  {
   "cell_type": "code",
   "execution_count": null,
   "metadata": {},
   "outputs": [],
   "source": [
    "\n",
    "\n",
    "plt.imshow((g <= ga).reshape((28,28)), cmap='coolwarm' )\n",
    "plt.colorbar()\n",
    "plt.show()"
   ]
  },
  {
   "cell_type": "code",
   "execution_count": null,
   "metadata": {},
   "outputs": [],
   "source": [
    "asdf asfd"
   ]
  },
  {
   "cell_type": "code",
   "execution_count": null,
   "metadata": {},
   "outputs": [],
   "source": []
  },
  {
   "cell_type": "code",
   "execution_count": null,
   "metadata": {},
   "outputs": [],
   "source": [
    "# Check GradMag versus CertMag\n",
    "mask = np.abs(np.asarray(gra).reshape(28,28)) > np.asarray(max_grad-min_grad).reshape(28,28)\n",
    "s = np.sum(mask)\n",
    "prop = s/(28*28)\n",
    "prop = round(prop, 2)\n",
    "print(prop)\n",
    "im = plt.imshow(mask, 'Purples')\n",
    "ax = plt.gca()\n",
    "ax.set_axis_off()\n",
    "plt.colorbar(im,  fraction=0.046, pad=0.04)\n",
    "plt.title(\"Rob. Features Grad. (prop = %s)\"%(prop),  y=1.08)\n",
    "plt.show()\n"
   ]
  },
  {
   "cell_type": "code",
   "execution_count": null,
   "metadata": {},
   "outputs": [],
   "source": [
    "# Let us consider an adversary who wants to maximize the value of the input gradient. \n",
    "\n",
    "# First, we collect the input gradient through pytorch\n",
    "device = torch.device(\"cpu\")\n",
    "data, target = data.to(device), target.to(device)\n",
    "data.requires_grad = True\n",
    "output = model(data)\n",
    "try:\n",
    "    output = torch.nn.Softmax(dim=1)(output)\n",
    "except:\n",
    "    output = torch.nn.Softmax(dim=0)(output)\n",
    "    output = output[None, :]\n",
    "init_pred = output.max(1, keepdim=True)[1] \n",
    "loss = F.nll_loss(output, target)\n",
    "model.zero_grad()\n",
    "loss.backward()\n",
    "data_grad = torch.sum(data.grad.data)\n",
    "\n",
    "# Then, we define the loss as the negative sum of the gradient values\n",
    "# Then we compute the input gradient to minimize the loss (maximize the gradient)\n",
    "# Then we iterate until we converge\n"
   ]
  },
  {
   "cell_type": "code",
   "execution_count": null,
   "metadata": {},
   "outputs": [],
   "source": []
  },
  {
   "cell_type": "code",
   "execution_count": null,
   "metadata": {},
   "outputs": [],
   "source": [
    "values = []\n",
    "avgs = []\n",
    "t_eps = 0.01\n",
    "t_gam = 0.01\n",
    "for INPUT in range(500):\n",
    "    data = np.asarray(mnist_testset[INPUT][0]).reshape(-1,28*28)/255.0\n",
    "    data = torch.Tensor(data)\n",
    "    target = torch.Tensor([mnist_testset[INPUT][1]]).type(torch.LongTensor)\n",
    "    min_grad, max_grad = GradCertModule.GradCertBounds(model, data, target, t_eps, t_gam)\n",
    "    min_grad, max_grad = min_grad.detach().numpy(), max_grad.detach().numpy()\n",
    "    gra = GradCertModule.InputGrad(model, data, target)\n",
    "    gra = gra.detach().numpy()\n",
    "    avgs.append(np.mean(np.abs(gra)))\n",
    "    values.append(np.mean(max_grad - min_grad)/2)\n",
    "   "
   ]
  },
  {
   "cell_type": "code",
   "execution_count": null,
   "metadata": {},
   "outputs": [],
   "source": [
    "import seaborn as sns\n",
    "sns.set_context('poster')\n",
    "plt.figure(figsize=(8, 6), dpi=120)\n",
    "plt.title(r'($\\epsilon_t$ = %s, $\\gamma_t$ = %s) ($\\epsilon$ = %s, $\\gamma$ = %s)'%(EPSILON, GAMMA, t_eps, t_gam))\n",
    "#sns.kdeplot(values, fill=True)\n",
    "sns.histplot(values, kde=True, bins=20, color='red', label='Cert. Grad. Diff')\n",
    "#sns.kdeplot(avgs, fill=True)\n",
    "sns.histplot(avgs, kde=True, bins=20, color='lightblue', label=\"Avg. Grad. Mag.\")\n",
    "plt.legend()\n",
    "plt.show()"
   ]
  },
  {
   "cell_type": "code",
   "execution_count": null,
   "metadata": {},
   "outputs": [],
   "source": [
    "grad_robs = []\n",
    "t_eps = 0.005\n",
    "t_gam = 0.005\n",
    "for INPUT in range(500):\n",
    "    data = np.asarray(mnist_testset[INPUT][0]).reshape(-1,28*28)/255.0\n",
    "    data = torch.Tensor(data)\n",
    "    target = torch.Tensor([mnist_testset[INPUT][1]]).type(torch.LongTensor)\n",
    "    min_grad, max_grad = GradCertModule.GradCertBounds(model, data, target, t_eps, t_gam)\n",
    "    min_grad, max_grad = min_grad.detach().numpy(), max_grad.detach().numpy()\n",
    "    gra = GradCertModule.InputGrad(model, data, target)\n",
    "    gra = gra.detach().numpy()\n",
    "    mask = np.abs(np.asarray(gra).reshape(28,28)) > np.asarray(max_grad-min_grad).reshape(28,28)\n",
    "    s = np.sum(mask)\n",
    "    prop = s/(28*28)\n",
    "    grad_robs.append(prop)"
   ]
  },
  {
   "cell_type": "code",
   "execution_count": null,
   "metadata": {},
   "outputs": [],
   "source": [
    "import seaborn as sns\n",
    "sns.set_context('poster')\n",
    "plt.figure(figsize=(8, 6), dpi=120)\n",
    "plt.title(r'($\\epsilon_t$ = %s, $\\gamma_t$ = %s) ($\\epsilon$ = %s, $\\gamma$ = %s)'%(EPSILON, GAMMA, t_eps, t_gam))\n",
    "sns.histplot(grad_robs, kde=True, bins=20, color='purple', label='Cert. Grad. Diff')\n",
    "plt.legend()\n",
    "plt.show()"
   ]
  },
  {
   "cell_type": "code",
   "execution_count": null,
   "metadata": {},
   "outputs": [],
   "source": [
    "lrp_robs = []\n",
    "for INPUT in range(500):\n",
    "    data = np.asarray(mnist_testset[INPUT][0]).reshape(-1,28*28)/255.0\n",
    "    data = torch.Tensor(data)\n",
    "    target = torch.Tensor([mnist_testset[INPUT][1]]).type(torch.LongTensor)\n",
    "    min_grad, max_grad = GradCertModule.GradCertBounds(model, data, target, t_eps, t_gam)\n",
    "    min_grad, max_grad = min_grad.detach().numpy(), max_grad.detach().numpy()\n",
    "    gra = GradCertModule.FCN_LRP(model, data, target)\n",
    "    #gra = gra.detach().numpy()\n",
    "    mask = np.abs(np.asarray(gra).reshape(28,28)) > np.asarray(max_grad-min_grad).reshape(28,28)\n",
    "    s = np.sum(mask)\n",
    "    prop = s/(28*28)\n",
    "    lrp_robs.append(prop)"
   ]
  },
  {
   "cell_type": "code",
   "execution_count": null,
   "metadata": {},
   "outputs": [],
   "source": [
    "import seaborn as sns\n",
    "sns.set_context('poster')\n",
    "plt.figure(figsize=(8, 6), dpi=120)\n",
    "plt.title(r'($\\epsilon_t$ = %s, $\\gamma_t$ = %s) ($\\epsilon$ = %s, $\\gamma$ = %s)'%(EPSILON, GAMMA, t_eps, t_gam))\n",
    "sns.histplot(lrp_robs, kde=True, bins=20, color='purple', label='Cert. Grad. Diff')\n",
    "plt.legend()\n",
    "plt.show()"
   ]
  },
  {
   "cell_type": "code",
   "execution_count": null,
   "metadata": {},
   "outputs": [],
   "source": [
    "# Check GradMag versus CertMag\n",
    "mask = np.abs(np.asarray(gra).reshape(28,28)) > np.asarray(max_grad-min_grad).reshape(28,28)\n",
    "s = np.sum(mask)\n",
    "prop = s/(28*28)\n",
    "print(prop)\n",
    "im = plt.imshow(mask, 'Purples')\n",
    "ax = plt.gca()\n",
    "\n",
    "plt.colorbar(im,  fraction=0.046, pad=0.04)"
   ]
  },
  {
   "cell_type": "code",
   "execution_count": null,
   "metadata": {},
   "outputs": [],
   "source": [
    "# Check GradMag versus CertMag\n",
    "mask = np.abs(np.asarray(lrp).reshape(28,28)) > np.asarray(max_grad-min_grad).reshape(28,28)\n",
    "s = np.sum(mask)\n",
    "prop = s/(28*28)\n",
    "print(prop)\n",
    "im = plt.imshow(mask, 'Purples')\n",
    "plt.colorbar(im,  fraction=0.046, pad=0.04)"
   ]
  },
  {
   "cell_type": "code",
   "execution_count": null,
   "metadata": {},
   "outputs": [],
   "source": [
    "print(\"eps.append(\",EPSILON,\")\")\n",
    "print(\"gam.append(\", GAMMA, \")\")\n",
    "print(\"acc.append(\", round(acc/1000, 3), \")\")\n",
    "print(\"grob.append(\", round(np.mean(grad_robs), 3), \")\")\n",
    "print(\"lrob.append(\", round(np.mean(lrp_robs), 3), \")\")\n",
    "#print(round(np.mean(grad_robs), 3))\n",
    "#print(round(np.mean(lrp_robs), 3))\n",
    "plt.figure(figsize=(8, 8), dpi=120)\n",
    "plt.title(r'($\\epsilon_t$ = %s, $\\gamma_t$ = %s) ($\\epsilon$ = %s, $\\gamma$ = %s)'%(EPSILON, GAMMA, t_eps, t_gam))\n",
    "a = round(acc/1000, 3)\n",
    "grob = round(np.mean(grad_robs), 3)\n",
    "lrob = round(np.mean(lrp_robs), 3)\n",
    "plt.bar(x=[1,2,3], height=[a, grob, lrob], color=['lightblue', 'lightgreen', 'm'])\n",
    "ax = plt.gca()\n",
    "ax.set_xticklabels(['0', 'Acc', 'Rob-G', 'Rob-L'])\n",
    "plt.ylim((0,1.05))\n",
    "plt.show()"
   ]
  }
 ],
 "metadata": {
  "kernelspec": {
   "display_name": "Python 3 (ipykernel)",
   "language": "python",
   "name": "python3"
  },
  "language_info": {
   "codemirror_mode": {
    "name": "ipython",
    "version": 3
   },
   "file_extension": ".py",
   "mimetype": "text/x-python",
   "name": "python",
   "nbconvert_exporter": "python",
   "pygments_lexer": "ipython3",
   "version": "3.7.13"
  }
 },
 "nbformat": 4,
 "nbformat_minor": 4
}
