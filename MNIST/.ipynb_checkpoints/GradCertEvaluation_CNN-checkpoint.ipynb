{
 "cells": [
  {
   "cell_type": "code",
   "execution_count": 1,
   "metadata": {},
   "outputs": [],
   "source": [
    "import torch\n",
    "import torch\n",
    "import torch.nn as nn\n",
    "import torch.optim as optim\n",
    "from torch.autograd import Variable\n",
    "from torch.nn import functional as F\n",
    "import torchvision.datasets as datasets\n",
    "\n",
    "import numpy as np\n",
    "import matplotlib\n",
    "import matplotlib.pyplot as plt\n",
    "import seaborn as sns\n",
    "\n",
    "# *** I need to actually do something more sophisicated with normalization to ensure that these\n",
    "# inputs are normalized in the same waya as the ones we trained on, but Torch seems\n",
    "# a bit complicated to me on this front so I am ignoring it for now :) \n",
    "\n",
    "device = torch.device(\"cpu\")\n",
    "mnist_trainset = datasets.MNIST(root='./Datasets', train=True, download=True, transform=None)\n",
    "mnist_testset = datasets.MNIST(root='./Datasets', train=False, download=True, transform=None)\n",
    "\n",
    "import sys\n",
    "sys.path.append(\"..\")\n",
    "import XAIArchitectures\n",
    "import GradCertModule\n",
    "import pytorch_lightning as pl\n",
    "from pl_examples.basic_examples.mnist_datamodule import MNISTDataModule\n",
    "\n",
    "\n",
    "ALPHA = 0.5            # Regularization Parameter (Weights the Reg. Term)\n",
    "EPSILON = 0.05          # Input Peturbation Budget at Training Time\n",
    "GAMMA = 0.05             # Model Peturbation Budget at Training Time \n",
    "                        #(Changed to proportional budget rather than absolute)\n",
    "    \n",
    "LEARN_RATE = 0.001      # Learning Rate Hyperparameter\n",
    "HIDDEN_DIM = 100       # Hidden Neurons Hyperparameter\n",
    "HIDDEN_LAY = 1         # Hidden Layers Hyperparameter\n",
    "MAX_EPOCHS = 10\n",
    "\n",
    "EPSILON_LINEAR = True   # Put Epsilon on a Linear Schedule?\n",
    "GAMMA_LINEAR = True     # Put Gamma on a Linear Schedule?"
   ]
  },
  {
   "cell_type": "code",
   "execution_count": 2,
   "metadata": {},
   "outputs": [],
   "source": [
    "\n",
    "model = XAIArchitectures.DeepMindSmall()\n"
   ]
  },
  {
   "cell_type": "code",
   "execution_count": 3,
   "metadata": {},
   "outputs": [
    {
     "name": "stdout",
     "output_type": "stream",
     "text": [
      "epoch\n",
      "global_step\n",
      "pytorch-lightning_version\n",
      "state_dict\n",
      "callbacks\n",
      "optimizer_states\n",
      "lr_schedulers\n",
      "hparams_name\n",
      "hyper_parameters\n"
     ]
    },
    {
     "data": {
      "text/plain": [
       "<All keys matched successfully>"
      ]
     },
     "execution_count": 3,
     "metadata": {},
     "output_type": "execute_result"
    }
   ],
   "source": [
    "\n",
    "SCHEDULED = EPSILON_LINEAR or GAMMA_LINEAR \n",
    "#DeepMindSmall_e=0.0_g=0.0_a=0.0_s=True.ckpt\n",
    "MODEL_ID = \"DeepMindSmall_e=%s_g=%s_a=%s_s=%s\"%(EPSILON, GAMMA, ALPHA, SCHEDULED)\n",
    "#MODEL_ID = \"DeepMindSmall_e=%s_g=%s_h=%s_l=%s_a=%s_s=%s\"%(EPSILON, GAMMA, HIDDEN_DIM, HIDDEN_LAY, ALPHA, SCHEDULED)   \n",
    "ckpt = torch.load(\"GPU_Models/%s.ckpt\"%(MODEL_ID))\n",
    "\n",
    "optimizer = optim.SGD(model.parameters(), lr=0.001, momentum=0.9)\n",
    "checkpoint = torch.load(\"GPU_Models/%s.ckpt\"%(MODEL_ID))\n",
    "for key in checkpoint:\n",
    "    print(key)\n",
    "model.load_state_dict(torch.load('GPU_Models/%s.pt'%(MODEL_ID)))\n"
   ]
  },
  {
   "cell_type": "code",
   "execution_count": 4,
   "metadata": {},
   "outputs": [
    {
     "name": "stdout",
     "output_type": "stream",
     "text": [
      "torch.Size([16, 1, 4, 4])\n",
      "torch.Size([16])\n",
      "torch.Size([32, 16, 4, 4])\n",
      "torch.Size([32])\n",
      "torch.Size([100, 3200])\n",
      "torch.Size([100])\n",
      "torch.Size([10, 100])\n",
      "torch.Size([10])\n"
     ]
    }
   ],
   "source": [
    "weights = [t for t in model.parameters()]\n",
    "for i in weights:\n",
    "    print(i.shape)"
   ]
  },
  {
   "cell_type": "code",
   "execution_count": 5,
   "metadata": {},
   "outputs": [
    {
     "name": "stdout",
     "output_type": "stream",
     "text": [
      "torch.Size([10000, 28, 28])\n"
     ]
    },
    {
     "name": "stderr",
     "output_type": "stream",
     "text": [
      "/usr/local/anaconda3/envs/XAI_Turing/lib/python3.7/site-packages/ipykernel_launcher.py:7: UserWarning: Creating a tensor from a list of numpy.ndarrays is extremely slow. Please consider converting the list to a single numpy.ndarray with numpy.array() before converting to a tensor. (Triggered internally at  /Users/distiller/project/pytorch/torch/csrc/utils/tensor_new.cpp:210.)\n",
      "  import sys\n"
     ]
    },
    {
     "name": "stdout",
     "output_type": "stream",
     "text": [
      "0.831\n"
     ]
    }
   ],
   "source": [
    "print(mnist_testset.data.shape)\n",
    "acc = 0\n",
    "for i in range(1000):\n",
    "    data = np.asarray(mnist_testset[i][0]).reshape(1,28,28)/255.0\n",
    "    target = torch.Tensor([mnist_testset[i][1]]).type(torch.LongTensor)\n",
    "    model(torch.Tensor(data[None, :]))\n",
    "    out = torch.argmax(model(torch.Tensor([data])))\n",
    "    if(target == out):\n",
    "        acc += 1\n",
    "print(acc/1000)"
   ]
  },
  {
   "cell_type": "code",
   "execution_count": 38,
   "metadata": {},
   "outputs": [],
   "source": [
    "# Compute Grad Explanations\n",
    "INPUT = 0\n",
    "CLASS = 0\n",
    "while(True):\n",
    "    data = np.asarray(mnist_testset[INPUT][0]).reshape(1,28,28)/255.0\n",
    "    data = torch.Tensor(data)\n",
    "    target = torch.Tensor([mnist_testset[INPUT][1]]).type(torch.LongTensor)\n",
    "    data, target = data.to(device), target.to(device)\n",
    "    data.requires_grad = True\n",
    "    predic = model(data[None, :])\n",
    "    #print(target)\n",
    "    if(int(target) == CLASS):\n",
    "        break\n",
    "    INPUT += 1"
   ]
  },
  {
   "cell_type": "code",
   "execution_count": 39,
   "metadata": {},
   "outputs": [],
   "source": [
    "#lrp = GradCertModule.FCN_LRP(model, data, target)\n",
    "data = np.asarray(mnist_testset[INPUT][0]).reshape(1,28,28)/255.0\n",
    "data = torch.Tensor(data)\n",
    "gra = GradCertModule.InputGrad(model, data[None, :], target)\n",
    "gra = gra.detach().numpy().T"
   ]
  },
  {
   "cell_type": "code",
   "execution_count": 40,
   "metadata": {},
   "outputs": [],
   "source": [
    "\n",
    "\n",
    "min_grad, max_grad = GradCertModule.GradCertBounds(model, data[None, :], target, 0.05, 0.05)\n",
    "min_grad, max_grad = min_grad.detach().numpy(), max_grad.detach().numpy()\n"
   ]
  },
  {
   "cell_type": "code",
   "execution_count": 41,
   "metadata": {},
   "outputs": [
    {
     "data": {
      "image/png": "[encoded data removed]",
      "text/plain": [
       "<Figure size 1200x720 with 7 Axes>"
      ]
     },
     "metadata": {
      "needs_background": "light"
     },
     "output_type": "display_data"
    }
   ],
   "source": [
    "ma1 = np.max(gra)\n",
    "ma2 = np.max(min_grad)\n",
    "ma3 = np.max(max_grad)\n",
    "mi1 = np.min(gra)\n",
    "mi2 = np.min(min_grad)\n",
    "mi3 = np.min(max_grad)\n",
    "ma = max(ma1, ma2, ma3)\n",
    "mi = min(mi1, mi2, mi3)\n",
    "\n",
    "# Compute Grad Bounds \n",
    "sns.set_context('paper')\n",
    "fig, axes = plt.subplots(nrows=1, ncols=4, figsize=(10, 6), dpi=120)\n",
    "#figure(figsize=(8, 6), dpi=80)\n",
    "im0 = axes[0].imshow(np.asarray(data.detach().numpy()).reshape(28,28), cmap='Greys')\n",
    "#plt.colorbar(im0, ax=axes[0], fraction=0.046, pad=0.04)\n",
    "axes[0].set_title('Class %s'%(CLASS))\n",
    "axes[0].set_axis_off()\n",
    "#plt.colorbar(im0, ax=axes[0], fraction=0.046, pad=0.04)\n",
    "\n",
    "im0 = axes[1].imshow(np.asarray(gra).reshape(28,28), cmap='coolwarm')\n",
    "axes[1].set_title('Std. Gradient')\n",
    "axes[1].set_axis_off()\n",
    "im0.set_clim(vmin=mi, vmax=ma)\n",
    "plt.colorbar(im0, ax=axes[1], fraction=0.046, pad=0.04)\n",
    "\n",
    "im1 = axes[2].imshow(np.asarray(max_grad).reshape(28,28).T  , cmap='coolwarm')\n",
    "plt.colorbar(im1, ax=axes[2], fraction=0.046, pad=0.04)\n",
    "axes[2].set_title('Upper Bound')\n",
    "im1.set_clim(vmin=mi, vmax=ma)\n",
    "axes[2].set_axis_off()\n",
    "\n",
    "im2 = axes[3].imshow(np.asarray((min_grad)).reshape(28,28).T , cmap='coolwarm')\n",
    "plt.colorbar(im2, ax=axes[3], fraction=0.046, pad=0.04)\n",
    "axes[3].set_title('Lower Bound')\n",
    "im2.set_clim(vmin=mi, vmax=ma)\n",
    "axes[3].set_axis_off()\n",
    "\n",
    "fig.tight_layout()"
   ]
  },
  {
   "cell_type": "code",
   "execution_count": 42,
   "metadata": {},
   "outputs": [
    {
     "name": "stdout",
     "output_type": "stream",
     "text": [
      "0.12\n"
     ]
    },
    {
     "data": {
      "image/png": "[encoded data removed]",
      "text/plain": [
       "<Figure size 432x288 with 2 Axes>"
      ]
     },
     "metadata": {
      "needs_background": "light"
     },
     "output_type": "display_data"
    }
   ],
   "source": [
    "sns.set_context('poster')\n",
    "mask = np.abs(np.asarray(gra).reshape(28,28)) >= np.asarray(max_grad-min_grad).reshape(28,28).T\n",
    "s = np.sum(mask)\n",
    "prop = s/(28*28)\n",
    "prop = round(prop, 2)\n",
    "print(prop)\n",
    "im = plt.imshow(mask, 'Purples')\n",
    "ax = plt.gca()\n",
    "ax.set_axis_off()\n",
    "plt.colorbar(im,  fraction=0.046, pad=0.04)\n",
    "plt.title(\"Cert. Rob. Features\",  y=1.08)\n",
    "plt.show()"
   ]
  },
  {
   "cell_type": "code",
   "execution_count": 43,
   "metadata": {},
   "outputs": [
    {
     "data": {
      "image/png": "[encoded data removed]",
      "text/plain": [
       "<Figure size 432x288 with 2 Axes>"
      ]
     },
     "metadata": {
      "needs_background": "light"
     },
     "output_type": "display_data"
    }
   ],
   "source": [
    "reliability_mask = GradCertModule.ComputeReliability_Inp(model, data, target, 0.15, disc=100)\n",
    "\n",
    "sns.set_context('poster')\n",
    "im = plt.imshow(reliability_mask, 'jet')\n",
    "ax = plt.gca()\n",
    "ax.set_axis_off()\n",
    "plt.colorbar(im,  fraction=0.046, pad=0.04)\n",
    "plt.title(\"Input Rob. Reliability\",  y=1.08)\n",
    "plt.show()"
   ]
  },
  {
   "cell_type": "code",
   "execution_count": 44,
   "metadata": {},
   "outputs": [
    {
     "data": {
      "image/png": "[encoded data removed]",
      "text/plain": [
       "<Figure size 432x288 with 2 Axes>"
      ]
     },
     "metadata": {
      "needs_background": "light"
     },
     "output_type": "display_data"
    }
   ],
   "source": [
    "\n",
    "reliability_mask = GradCertModule.ComputeReliability_Mod(model, data, target, 0.15, disc=100)\n",
    "\n",
    "sns.set_context('poster')\n",
    "im = plt.imshow(reliability_mask, 'jet') #'summer_r')\n",
    "ax = plt.gca()\n",
    "ax.set_axis_off()\n",
    "plt.colorbar(im,  fraction=0.046, pad=0.04)\n",
    "plt.title(\"Model Rob. Reliability\",  y=1.08)\n",
    "plt.show()"
   ]
  },
  {
   "cell_type": "code",
   "execution_count": 13,
   "metadata": {},
   "outputs": [
    {
     "ename": "SyntaxError",
     "evalue": "invalid syntax (1663083934.py, line 1)",
     "output_type": "error",
     "traceback": [
      "\u001b[0;36m  File \u001b[0;32m\"/var/folders/fy/05fjjdkx1pv4jpcgmg822bnc0000gr/T/ipykernel_89685/1663083934.py\"\u001b[0;36m, line \u001b[0;32m1\u001b[0m\n\u001b[0;31m    asdf asdf\u001b[0m\n\u001b[0m            ^\u001b[0m\n\u001b[0;31mSyntaxError\u001b[0m\u001b[0;31m:\u001b[0m invalid syntax\n"
     ]
    }
   ],
   "source": [
    "asdf asdf\n",
    "randmax_grad = GradCertModule.GradRandMaximizer(model, data, target, 0.01, iterations=1000)\n",
    "randmin_grad = GradCertModule.GradRandMinimizer(model, data, target, 0.01, iterations=1000)\n",
    "\n",
    "#print(randmax_grad)"
   ]
  },
  {
   "cell_type": "code",
   "execution_count": null,
   "metadata": {},
   "outputs": [],
   "source": [
    "\n",
    "ma1 = np.max(gra)\n",
    "ma2 = np.max(min_grad)\n",
    "ma3 = np.max(max_grad)\n",
    "mi1 = np.min(gra)\n",
    "mi2 = np.min(min_grad)\n",
    "mi3 = np.min(max_grad)\n",
    "ma = max(ma1, ma2, ma3)\n",
    "mi = min(mi1, mi2, mi3)\n",
    "\n",
    "# Compute Grad Bounds \n",
    "sns.set_context('paper')\n",
    "fig, axes = plt.subplots(nrows=1, ncols=4, figsize=(10, 6), dpi=120)\n",
    "imA = axes[0].imshow(np.asarray(randmax_grad).reshape(28,28), cmap='coolwarm')\n",
    "imA.set_clim(vmin=mi, vmax=ma)\n",
    "plt.colorbar(imA, ax=axes[0], fraction=0.046, pad=0.04)\n",
    "axes[0].set_title('Rand Upper Bound')\n",
    "axes[0].set_axis_off()\n",
    "\n",
    "\n",
    "im0 = axes[1].imshow(np.asarray(randmin_grad).reshape(28,28), cmap='coolwarm')\n",
    "axes[1].set_title('Rand Lower Bound')\n",
    "axes[1].set_axis_off()\n",
    "im0.set_clim(vmin=mi, vmax=ma)\n",
    "plt.colorbar(im0, ax=axes[1], fraction=0.046, pad=0.04)\n",
    "\n",
    "magrad = np.asarray(max_grad).reshape(28,28).T \n",
    "im1 = axes[2].imshow(magrad , cmap='coolwarm')\n",
    "plt.colorbar(im1, ax=axes[2], fraction=0.046, pad=0.04)\n",
    "axes[2].set_title('Upper Bound')\n",
    "im1.set_clim(vmin=mi, vmax=ma)\n",
    "axes[2].set_axis_off()\n",
    "\n",
    "migrad = np.asarray((min_grad)).reshape(28,28).T\n",
    "im2 = axes[3].imshow(migrad , cmap='coolwarm')\n",
    "plt.colorbar(im2, ax=axes[3], fraction=0.046, pad=0.04)\n",
    "axes[3].set_title('Lower Bound')\n",
    "im2.set_clim(vmin=mi, vmax=ma)\n",
    "axes[3].set_axis_off()\n",
    "\n",
    "fig.tight_layout()\n"
   ]
  },
  {
   "cell_type": "code",
   "execution_count": null,
   "metadata": {},
   "outputs": [],
   "source": [
    "# We produce a \n",
    "print((randmin_grad >=  migrad-0.01).all())\n",
    "print((randmax_grad <=  magrad+0.01).all())\n",
    "print((min_grad <=  max_grad).all())\n",
    "print((randmin_grad <=  randmax_grad).all())"
   ]
  },
  {
   "cell_type": "code",
   "execution_count": null,
   "metadata": {},
   "outputs": [],
   "source": [
    "plt.imshow(randmin_grad < migrad)\n",
    "plt.colorbar()\n",
    "plt.show()\n",
    "\n",
    "plt.imshow(randmin_grad -  migrad)\n",
    "plt.colorbar()\n",
    "plt.show()"
   ]
  },
  {
   "cell_type": "code",
   "execution_count": null,
   "metadata": {},
   "outputs": [],
   "source": [
    "#asfd asdf"
   ]
  },
  {
   "cell_type": "code",
   "execution_count": null,
   "metadata": {},
   "outputs": [],
   "source": [
    "# Check GradMag versus CertMag\n",
    "sns.set_context('poster')\n",
    "#mask = np.abs(np.asarray(gra).reshape(28,28)) > np.asarray(max_grad-min_grad).reshape(28,28)\n",
    "#s = np.sum(mask)\n",
    "#prop = s/(28*28)\n",
    "#prop = round(prop, 2)\n",
    "#print(prop)\n",
    "diff = np.asarray((max_grad)).reshape(28,28).T - np.asarray((min_grad)).reshape(28,28).T\n",
    "im = plt.imshow(diff, 'jet')\n",
    "ax = plt.gca()\n",
    "ax.set_axis_off()\n",
    "plt.colorbar(im,  fraction=0.046, pad=0.04)\n",
    "plt.title(\"Explanation Reliability\",  y=1.08)\n",
    "plt.show()"
   ]
  },
  {
   "cell_type": "code",
   "execution_count": null,
   "metadata": {},
   "outputs": [],
   "source": []
  },
  {
   "cell_type": "code",
   "execution_count": null,
   "metadata": {},
   "outputs": [],
   "source": [
    "values = []\n",
    "avgs = []\n",
    "t_eps = 0.0\n",
    "t_gam = 0.02\n",
    "for INPUT in range(500):\n",
    "    try:\n",
    "        data = np.asarray(mnist_testset[INPUT][0]).reshape(-1,1,28,28)/255.0\n",
    "        data = torch.Tensor(data)\n",
    "        target = torch.Tensor([mnist_testset[INPUT][1]]).type(torch.LongTensor)\n",
    "        min_grad, max_grad = GradCertModule.GradCertBounds(model, data, target, t_eps, t_gam)\n",
    "        min_grad, max_grad = min_grad.detach().numpy(), max_grad.detach().numpy()\n",
    "        gra = GradCertModule.InputGrad(model, data, target)\n",
    "        gra = gra.detach().numpy()\n",
    "        avgs.append(np.mean(np.abs(gra)))\n",
    "        values.append(np.mean((max_grad - min_grad))/2)\n",
    "    except:\n",
    "        continue\n",
    "   "
   ]
  },
  {
   "cell_type": "code",
   "execution_count": null,
   "metadata": {},
   "outputs": [],
   "source": [
    "import seaborn as sns\n",
    "sns.set_context('poster')\n",
    "plt.figure(figsize=(6, 6), dpi=120)\n",
    "#plt.title(r'($\\epsilon_t$ = %s, $\\gamma_t$ = %s) ($\\epsilon$ = %s, $\\gamma$ = %s)'%(EPSILON, GAMMA, t_eps, t_gam))\n",
    "#plt.title(r'Certificates, Normal Training, $\\epsilon$ = %s'%(t_eps))\n",
    "plt.title(r'($\\epsilon_t$ = %s, $\\gamma_t$ = %s) ($\\epsilon$ = %s, $\\gamma$ = %s)'%(EPSILON, GAMMA, t_eps, t_gam))\n",
    "\n",
    "#sns.kdeplot(values, fill=True)\n",
    "sns.histplot(values, kde=True, bins=20, color='red', label='Cert. Grad. Diff')\n",
    "#sns.kdeplot(avgs, fill=True)\n",
    "sns.histplot(avgs, kde=True, bins=20, color='lightblue', label=\"Avg. Grad. Mag.\")\n",
    "plt.legend()\n",
    "plt.show()"
   ]
  },
  {
   "cell_type": "code",
   "execution_count": null,
   "metadata": {},
   "outputs": [],
   "source": [
    "grad_robs = []\n",
    "t_eps = 0.005\n",
    "t_gam = 0.005\n",
    "for INPUT in range(500):\n",
    "    try:\n",
    "        data = np.asarray(mnist_testset[INPUT][0]).reshape(-1,1,28,28)/255.0\n",
    "        data = torch.Tensor(data)\n",
    "        target = torch.Tensor([mnist_testset[INPUT][1]]).type(torch.LongTensor)\n",
    "        min_grad, max_grad = GradCertModule.GradCertBounds(model, data, target, t_eps, t_gam)\n",
    "        min_grad, max_grad = min_grad.detach().numpy(), max_grad.detach().numpy()\n",
    "        gra = GradCertModule.InputGrad(model, data, target)\n",
    "        gra = gra.detach().numpy()\n",
    "        mask = np.abs(np.asarray(gra).reshape(28,28)) > np.asarray(max_grad-min_grad).reshape(28,28)\n",
    "        s = np.sum(mask)\n",
    "        prop = s/(28*28)\n",
    "        grad_robs.append(prop)\n",
    "    except:\n",
    "        pass"
   ]
  },
  {
   "cell_type": "code",
   "execution_count": null,
   "metadata": {},
   "outputs": [],
   "source": [
    "import seaborn as sns\n",
    "sns.set_context('poster')\n",
    "plt.figure(figsize=(8, 6), dpi=120)\n",
    "plt.title(r'($\\epsilon_t$ = %s, $\\gamma_t$ = %s) ($\\epsilon$ = %s, $\\gamma$ = %s)'%(EPSILON, GAMMA, t_eps, t_gam))\n",
    "sns.histplot(grad_robs, kde=True, bins=20, color='purple', label='Cert. Grad. Diff')\n",
    "plt.legend()\n",
    "plt.show()"
   ]
  },
  {
   "cell_type": "code",
   "execution_count": null,
   "metadata": {},
   "outputs": [],
   "source": [
    "\"\"\"\n",
    "lrp_robs = []\n",
    "for INPUT in range(500):\n",
    "    data = np.asarray(mnist_testset[INPUT][0]).reshape(-1,28*28)/255.0\n",
    "    data = torch.Tensor(data)\n",
    "    target = torch.Tensor([mnist_testset[INPUT][1]]).type(torch.LongTensor)\n",
    "    min_grad, max_grad = GradCertModule.GradCertBounds(model, data, target, t_eps, t_gam)\n",
    "    min_grad, max_grad = min_grad.detach().numpy(), max_grad.detach().numpy()\n",
    "    gra = GradCertModule.FCN_LRP(model, data, target)\n",
    "    #gra = gra.detach().numpy()\n",
    "    mask = np.abs(np.asarray(gra).reshape(28,28)) > np.asarray(max_grad-min_grad).reshape(28,28)\n",
    "    s = np.sum(mask)\n",
    "    prop = s/(28*28)\n",
    "    lrp_robs.append(prop)\n",
    "\"\"\""
   ]
  },
  {
   "cell_type": "code",
   "execution_count": null,
   "metadata": {},
   "outputs": [],
   "source": [
    "\"\"\"\n",
    "import seaborn as sns\n",
    "sns.set_context('poster')\n",
    "plt.figure(figsize=(8, 6), dpi=120)\n",
    "plt.title(r'($\\epsilon_t$ = %s, $\\gamma_t$ = %s) ($\\epsilon$ = %s, $\\gamma$ = %s)'%(EPSILON, GAMMA, t_eps, t_gam))\n",
    "sns.histplot(lrp_robs, kde=True, bins=20, color='purple', label='Cert. Grad. Diff')\n",
    "plt.legend()\n",
    "plt.show()\n",
    "\"\"\""
   ]
  },
  {
   "cell_type": "code",
   "execution_count": null,
   "metadata": {},
   "outputs": [],
   "source": [
    "# Check GradMag versus CertMag\n",
    "mask = np.abs(np.asarray(gra).reshape(28,28)) > np.asarray(max_grad-min_grad).reshape(28,28)\n",
    "s = np.sum(mask)\n",
    "prop = s/(28*28)\n",
    "print(prop)\n",
    "im = plt.imshow(mask, 'Purples')\n",
    "ax = plt.gca()\n",
    "\n",
    "plt.colorbar(im,  fraction=0.046, pad=0.04)"
   ]
  },
  {
   "cell_type": "code",
   "execution_count": null,
   "metadata": {},
   "outputs": [],
   "source": [
    "# Check GradMag versus CertMag\n",
    "\"\"\"\n",
    "mask = np.abs(np.asarray(lrp).reshape(28,28)) > np.asarray(max_grad-min_grad).reshape(28,28)\n",
    "s = np.sum(mask)\n",
    "prop = s/(28*28)\n",
    "print(prop)\n",
    "im = plt.imshow(mask, 'Purples')\n",
    "plt.colorbar(im,  fraction=0.046, pad=0.04)\n",
    "\"\"\""
   ]
  },
  {
   "cell_type": "code",
   "execution_count": null,
   "metadata": {},
   "outputs": [],
   "source": [
    "irobs = []\n",
    "avgs = []\n",
    "t_eps = 0.01\n",
    "t_gam = 0.00\n",
    "for INPUT in range(500):\n",
    "    try:\n",
    "        data = np.asarray(mnist_testset[INPUT][0]).reshape(-1,1,28,28)/255.0\n",
    "        data = torch.Tensor(data)\n",
    "        target = torch.Tensor([mnist_testset[INPUT][1]]).type(torch.LongTensor)\n",
    "        min_grad, max_grad = GradCertModule.GradCertBounds(model, data, target, t_eps, t_gam)\n",
    "        min_grad, max_grad = min_grad.detach().numpy(), max_grad.detach().numpy()\n",
    "        gra = GradCertModule.InputGrad(model, data, target)\n",
    "        gra = gra.detach().numpy()\n",
    "        mask = np.abs(np.asarray(gra).reshape(28,28)) > np.asarray(max_grad-min_grad).reshape(28,28)\n",
    "        s = np.sum(mask)\n",
    "        prop = s/(28*28)\n",
    "        irobs.append(prop)\n",
    "    except:\n",
    "        pass"
   ]
  },
  {
   "cell_type": "code",
   "execution_count": null,
   "metadata": {},
   "outputs": [],
   "source": [
    "mrobs = []\n",
    "avgs = []\n",
    "t_eps = 0.00\n",
    "t_gam = 0.01\n",
    "for INPUT in range(500):\n",
    "    try:\n",
    "        data = np.asarray(mnist_testset[INPUT][0]).reshape(-1,1,28,28)/255.0\n",
    "        data = torch.Tensor(data)\n",
    "        target = torch.Tensor([mnist_testset[INPUT][1]]).type(torch.LongTensor)\n",
    "        min_grad, max_grad = GradCertModule.GradCertBounds(model, data, target, t_eps, t_gam)\n",
    "        min_grad, max_grad = min_grad.detach().numpy(), max_grad.detach().numpy()\n",
    "        gra = GradCertModule.InputGrad(model, data, target)\n",
    "        gra = gra.detach().numpy()\n",
    "        mask = np.abs(np.asarray(gra).reshape(28,28)) > np.asarray(max_grad-min_grad).reshape(28,28)\n",
    "        s = np.sum(mask)\n",
    "        prop = s/(28*28)\n",
    "        mrobs.append(prop)\n",
    "    except:\n",
    "        pass"
   ]
  },
  {
   "cell_type": "code",
   "execution_count": null,
   "metadata": {},
   "outputs": [],
   "source": [
    "print(\"eps.append(\",EPSILON,\")\")\n",
    "print(\"gam.append(\", GAMMA, \")\")\n",
    "print(\"acc.append(\", round(acc/1000, 3), \")\")\n",
    "print(\"grob.append(\", round(np.mean(grad_robs), 3), \")\")\n",
    "#print(\"lrob.append(\", round(np.mean(lrp_robs), 3), \")\")\n",
    "#print(round(np.mean(grad_robs), 3))\n",
    "#print(round(np.mean(lrp_robs), 3))\n",
    "plt.figure(figsize=(8, 8), dpi=120)\n",
    "plt.title(r'($\\epsilon_t$ = %s, $\\gamma_t$ = %s) ($\\epsilon$ = %s, $\\gamma$ = %s)'%(EPSILON, GAMMA, t_eps, t_gam))\n",
    "a = round(acc/1000, 3)\n",
    "irob = round(np.mean(irobs), 3)\n",
    "mrob = round(np.mean(mrobs), 3)\n",
    "print(irob)\n",
    "#lrob = round(np.mean(lrp_robs), 3)\n",
    "plt.bar(x=[1,2,3], height=[a, irob, mrob], color=['lightblue', 'lightgreen', 'm'])\n",
    "ax = plt.gca()\n",
    "ax.set_xticklabels(['-', 'Acc', 'Rob-I', 'Rob-M'])\n",
    "plt.ylim((0,1.05))\n",
    "\n",
    "y = [a, irob, mrob]\n",
    "for i, v in enumerate(y):\n",
    "    plt.text(i + 1 - 0.25, v + 0.01, str(v))\n",
    "\n",
    "plt.show()"
   ]
  }
 ],
 "metadata": {
  "kernelspec": {
   "display_name": "Python 3 (ipykernel)",
   "language": "python",
   "name": "python3"
  },
  "language_info": {
   "codemirror_mode": {
    "name": "ipython",
    "version": 3
   },
   "file_extension": ".py",
   "mimetype": "text/x-python",
   "name": "python",
   "nbconvert_exporter": "python",
   "pygments_lexer": "ipython3",
   "version": "3.7.13"
  }
 },
 "nbformat": 4,
 "nbformat_minor": 4
}
