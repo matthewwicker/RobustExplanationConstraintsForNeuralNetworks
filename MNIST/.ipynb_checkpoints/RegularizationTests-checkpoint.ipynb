{
 "cells": [
  {
   "cell_type": "code",
   "execution_count": 1,
   "id": "81f1a753",
   "metadata": {},
   "outputs": [
    {
     "name": "stderr",
     "output_type": "stream",
     "text": [
      "/Users/matthewwicker/opt/anaconda3/envs/FairnessAndPrivacy/lib/python3.7/site-packages/torchvision/io/image.py:13: UserWarning: Failed to load image Python extension: dlopen(/Users/matthewwicker/opt/anaconda3/envs/FairnessAndPrivacy/lib/python3.7/site-packages/torchvision/image.so, 6): Symbol not found: __ZN2at4_ops19empty_memory_format4callEN3c108ArrayRefIxEENS2_8optionalINS2_10ScalarTypeEEENS5_INS2_6LayoutEEENS5_INS2_6DeviceEEENS5_IbEENS5_INS2_12MemoryFormatEEE\n",
      "  Referenced from: /Users/matthewwicker/opt/anaconda3/envs/FairnessAndPrivacy/lib/python3.7/site-packages/torchvision/image.so\n",
      "  Expected in: /Users/matthewwicker/opt/anaconda3/envs/FairnessAndPrivacy/lib/python3.7/site-packages/torch/lib/libtorch_cpu.dylib\n",
      " in /Users/matthewwicker/opt/anaconda3/envs/FairnessAndPrivacy/lib/python3.7/site-packages/torchvision/image.so\n",
      "  warn(f\"Failed to load image Python extension: {e}\")\n"
     ]
    }
   ],
   "source": [
    "import sys\n",
    "sys.path.append(\"..\")\n",
    "import torch\n",
    "import torch.nn as nn\n",
    "from torch.nn import functional as F\n",
    "\n",
    "import pytorch_lightning as pl\n",
    "from pl_examples.basic_examples.mnist_datamodule import MNISTDataModule\n",
    "\n",
    "import GradCertModule\n",
    "\n",
    "ALPHA = 1.0            # Regularization Parameter (Weights the Reg. Term)\n",
    "EPSILON = 0.025          # Input Peturbation Budget at Training Time\n",
    "GAMMA = 0.00            # Model Peturbation Budget at Training Time \n",
    "                        #(Changed to proportional budget rather than absolute)\n",
    "    \n",
    "LEARN_RATE = 0.001     # Learning Rate Hyperparameter\n",
    "HIDDEN_DIM = 128       # Hidden Neurons Hyperparameter\n",
    "HIDDEN_LAY = 1         # Hidden Layers Hyperparameter\n",
    "MAX_EPOCHS = 20\n",
    "BATCH_SIZE = 100\n",
    "\n",
    "EPSILON_LINEAR = True   # Put Epsilon on a Linear Schedule?\n",
    "GAMMA_LINEAR = True     # Put Gamma on a Linear Schedule?"
   ]
  },
  {
   "cell_type": "code",
   "execution_count": 2,
   "id": "8e186ece",
   "metadata": {},
   "outputs": [
    {
     "name": "stdout",
     "output_type": "stream",
     "text": [
      "SET MODE TO:  IGSUMNORM\n"
     ]
    }
   ],
   "source": [
    "import XAIArchitectures\n",
    "model = XAIArchitectures.FullyConnected(mode=\"L2ADV\")\n",
    "model.set_params(alpha=ALPHA, epsilon=EPSILON, gamma=GAMMA,\n",
    "                learn_rate=LEARN_RATE, max_epochs=MAX_EPOCHS,\n",
    "                epsilon_linear=EPSILON_LINEAR,gamma_linear=GAMMA_LINEAR)\n",
    "model.inputfooling_ON()"
   ]
  },
  {
   "cell_type": "code",
   "execution_count": 3,
   "id": "aa16c4d4",
   "metadata": {},
   "outputs": [
    {
     "name": "stdout",
     "output_type": "stream",
     "text": [
      "True\n"
     ]
    }
   ],
   "source": [
    "print(model.inputfooling)"
   ]
  },
  {
   "cell_type": "code",
   "execution_count": 4,
   "id": "ea29599a",
   "metadata": {},
   "outputs": [
    {
     "name": "stderr",
     "output_type": "stream",
     "text": [
      "GPU available: False, used: False\n",
      "TPU available: False, using: 0 TPU cores\n",
      "IPU available: False, using: 0 IPUs\n",
      "HPU available: False, using: 0 HPUs\n",
      "\n",
      "  | Name | Type       | Params\n",
      "------------------------------------\n",
      "0 | lays | ModuleList | 101 K \n",
      "1 | l1   | Linear     | 100 K \n",
      "2 | lf   | Linear     | 1.3 K \n",
      "------------------------------------\n",
      "101 K     Trainable params\n",
      "0         Non-trainable params\n",
      "101 K     Total params\n",
      "0.407     Total estimated model params size (MB)\n"
     ]
    },
    {
     "data": {
      "application/vnd.jupyter.widget-view+json": {
       "model_id": "",
       "version_major": 2,
       "version_minor": 0
      },
      "text/plain": [
       "Sanity Checking: 0it [00:00, ?it/s]"
      ]
     },
     "metadata": {},
     "output_type": "display_data"
    },
    {
     "name": "stderr",
     "output_type": "stream",
     "text": [
      "/Users/matthewwicker/opt/anaconda3/envs/FairnessAndPrivacy/lib/python3.7/site-packages/pytorch_lightning/trainer/connectors/data_connector.py:245: PossibleUserWarning: The dataloader, val_dataloader 0, does not have many workers which may be a bottleneck. Consider increasing the value of the `num_workers` argument` (try 8 which is the number of cpus on this machine) in the `DataLoader` init to improve performance.\n",
      "  category=PossibleUserWarning,\n",
      "/Users/matthewwicker/opt/anaconda3/envs/FairnessAndPrivacy/lib/python3.7/site-packages/torchmetrics/utilities/prints.py:36: UserWarning: Torchmetrics v0.9 introduced a new argument class property called `full_state_update` that has\n",
      "                not been set for this class (_ResultMetric). The property determines if `update` by\n",
      "                default needs access to the full metric state. If this is not the case, significant speedups can be\n",
      "                achieved and we recommend setting this to `False`.\n",
      "                We provide an checking function\n",
      "                `from torchmetrics.utilities import check_forward_no_full_state`\n",
      "                that can be used to check if the `full_state_update=True` (old and potential slower behaviour,\n",
      "                default for now) or if `full_state_update=False` can be used safely.\n",
      "                \n",
      "  warnings.warn(*args, **kwargs)\n",
      "/Users/matthewwicker/opt/anaconda3/envs/FairnessAndPrivacy/lib/python3.7/site-packages/pytorch_lightning/trainer/connectors/data_connector.py:245: PossibleUserWarning: The dataloader, train_dataloader, does not have many workers which may be a bottleneck. Consider increasing the value of the `num_workers` argument` (try 8 which is the number of cpus on this machine) in the `DataLoader` init to improve performance.\n",
      "  category=PossibleUserWarning,\n"
     ]
    },
    {
     "data": {
      "application/vnd.jupyter.widget-view+json": {
       "model_id": "7bbb3e7e674b48ecae30d904a73b91f5",
       "version_major": 2,
       "version_minor": 0
      },
      "text/plain": [
       "Training: 0it [00:00, ?it/s]"
      ]
     },
     "metadata": {},
     "output_type": "display_data"
    },
    {
     "data": {
      "application/vnd.jupyter.widget-view+json": {
       "model_id": "",
       "version_major": 2,
       "version_minor": 0
      },
      "text/plain": [
       "Validation: 0it [00:00, ?it/s]"
      ]
     },
     "metadata": {},
     "output_type": "display_data"
    },
    {
     "data": {
      "application/vnd.jupyter.widget-view+json": {
       "model_id": "",
       "version_major": 2,
       "version_minor": 0
      },
      "text/plain": [
       "Validation: 0it [00:00, ?it/s]"
      ]
     },
     "metadata": {},
     "output_type": "display_data"
    },
    {
     "data": {
      "application/vnd.jupyter.widget-view+json": {
       "model_id": "",
       "version_major": 2,
       "version_minor": 0
      },
      "text/plain": [
       "Validation: 0it [00:00, ?it/s]"
      ]
     },
     "metadata": {},
     "output_type": "display_data"
    },
    {
     "data": {
      "application/vnd.jupyter.widget-view+json": {
       "model_id": "",
       "version_major": 2,
       "version_minor": 0
      },
      "text/plain": [
       "Validation: 0it [00:00, ?it/s]"
      ]
     },
     "metadata": {},
     "output_type": "display_data"
    },
    {
     "data": {
      "application/vnd.jupyter.widget-view+json": {
       "model_id": "",
       "version_major": 2,
       "version_minor": 0
      },
      "text/plain": [
       "Validation: 0it [00:00, ?it/s]"
      ]
     },
     "metadata": {},
     "output_type": "display_data"
    },
    {
     "data": {
      "application/vnd.jupyter.widget-view+json": {
       "model_id": "",
       "version_major": 2,
       "version_minor": 0
      },
      "text/plain": [
       "Validation: 0it [00:00, ?it/s]"
      ]
     },
     "metadata": {},
     "output_type": "display_data"
    },
    {
     "data": {
      "application/vnd.jupyter.widget-view+json": {
       "model_id": "",
       "version_major": 2,
       "version_minor": 0
      },
      "text/plain": [
       "Validation: 0it [00:00, ?it/s]"
      ]
     },
     "metadata": {},
     "output_type": "display_data"
    },
    {
     "data": {
      "application/vnd.jupyter.widget-view+json": {
       "model_id": "",
       "version_major": 2,
       "version_minor": 0
      },
      "text/plain": [
       "Validation: 0it [00:00, ?it/s]"
      ]
     },
     "metadata": {},
     "output_type": "display_data"
    },
    {
     "data": {
      "application/vnd.jupyter.widget-view+json": {
       "model_id": "",
       "version_major": 2,
       "version_minor": 0
      },
      "text/plain": [
       "Validation: 0it [00:00, ?it/s]"
      ]
     },
     "metadata": {},
     "output_type": "display_data"
    },
    {
     "data": {
      "application/vnd.jupyter.widget-view+json": {
       "model_id": "",
       "version_major": 2,
       "version_minor": 0
      },
      "text/plain": [
       "Validation: 0it [00:00, ?it/s]"
      ]
     },
     "metadata": {},
     "output_type": "display_data"
    },
    {
     "data": {
      "application/vnd.jupyter.widget-view+json": {
       "model_id": "",
       "version_major": 2,
       "version_minor": 0
      },
      "text/plain": [
       "Validation: 0it [00:00, ?it/s]"
      ]
     },
     "metadata": {},
     "output_type": "display_data"
    },
    {
     "data": {
      "application/vnd.jupyter.widget-view+json": {
       "model_id": "",
       "version_major": 2,
       "version_minor": 0
      },
      "text/plain": [
       "Validation: 0it [00:00, ?it/s]"
      ]
     },
     "metadata": {},
     "output_type": "display_data"
    },
    {
     "data": {
      "application/vnd.jupyter.widget-view+json": {
       "model_id": "",
       "version_major": 2,
       "version_minor": 0
      },
      "text/plain": [
       "Validation: 0it [00:00, ?it/s]"
      ]
     },
     "metadata": {},
     "output_type": "display_data"
    },
    {
     "data": {
      "application/vnd.jupyter.widget-view+json": {
       "model_id": "",
       "version_major": 2,
       "version_minor": 0
      },
      "text/plain": [
       "Validation: 0it [00:00, ?it/s]"
      ]
     },
     "metadata": {},
     "output_type": "display_data"
    },
    {
     "data": {
      "application/vnd.jupyter.widget-view+json": {
       "model_id": "",
       "version_major": 2,
       "version_minor": 0
      },
      "text/plain": [
       "Validation: 0it [00:00, ?it/s]"
      ]
     },
     "metadata": {},
     "output_type": "display_data"
    },
    {
     "data": {
      "application/vnd.jupyter.widget-view+json": {
       "model_id": "",
       "version_major": 2,
       "version_minor": 0
      },
      "text/plain": [
       "Validation: 0it [00:00, ?it/s]"
      ]
     },
     "metadata": {},
     "output_type": "display_data"
    },
    {
     "data": {
      "application/vnd.jupyter.widget-view+json": {
       "model_id": "",
       "version_major": 2,
       "version_minor": 0
      },
      "text/plain": [
       "Validation: 0it [00:00, ?it/s]"
      ]
     },
     "metadata": {},
     "output_type": "display_data"
    },
    {
     "data": {
      "application/vnd.jupyter.widget-view+json": {
       "model_id": "",
       "version_major": 2,
       "version_minor": 0
      },
      "text/plain": [
       "Validation: 0it [00:00, ?it/s]"
      ]
     },
     "metadata": {},
     "output_type": "display_data"
    },
    {
     "data": {
      "application/vnd.jupyter.widget-view+json": {
       "model_id": "",
       "version_major": 2,
       "version_minor": 0
      },
      "text/plain": [
       "Validation: 0it [00:00, ?it/s]"
      ]
     },
     "metadata": {},
     "output_type": "display_data"
    },
    {
     "data": {
      "application/vnd.jupyter.widget-view+json": {
       "model_id": "",
       "version_major": 2,
       "version_minor": 0
      },
      "text/plain": [
       "Validation: 0it [00:00, ?it/s]"
      ]
     },
     "metadata": {},
     "output_type": "display_data"
    },
    {
     "name": "stderr",
     "output_type": "stream",
     "text": [
      "/Users/matthewwicker/opt/anaconda3/envs/FairnessAndPrivacy/lib/python3.7/site-packages/pytorch_lightning/trainer/connectors/data_connector.py:245: PossibleUserWarning: The dataloader, test_dataloader 0, does not have many workers which may be a bottleneck. Consider increasing the value of the `num_workers` argument` (try 8 which is the number of cpus on this machine) in the `DataLoader` init to improve performance.\n",
      "  category=PossibleUserWarning,\n"
     ]
    },
    {
     "data": {
      "application/vnd.jupyter.widget-view+json": {
       "model_id": "177c6a65b0554ee8a231062a3c8c0079",
       "version_major": 2,
       "version_minor": 0
      },
      "text/plain": [
       "Testing: 0it [00:00, ?it/s]"
      ]
     },
     "metadata": {},
     "output_type": "display_data"
    },
    {
     "name": "stdout",
     "output_type": "stream",
     "text": [
      "────────────────────────────────────────────────────────────────────────────────────────────────────────────────────────\n",
      "       Test metric             DataLoader 0\n",
      "────────────────────────────────────────────────────────────────────────────────────────────────────────────────────────\n",
      "        test_acc            0.9829000234603882\n",
      "────────────────────────────────────────────────────────────────────────────────────────────────────────────────────────\n"
     ]
    }
   ],
   "source": [
    "\n",
    "dm = MNISTDataModule(batch_size=BATCH_SIZE, num_workers=0)\n",
    "trainer = pl.Trainer(max_epochs=MAX_EPOCHS, accelerator=\"cpu\", devices=1)\n",
    "trainer.fit(model, datamodule=dm)\n",
    "result = trainer.test(model, datamodule=dm)"
   ]
  },
  {
   "cell_type": "code",
   "execution_count": 5,
   "id": "240c9962",
   "metadata": {},
   "outputs": [
    {
     "name": "stdout",
     "output_type": "stream",
     "text": [
      "0.98\n"
     ]
    }
   ],
   "source": [
    "ACC = round(result[0]['test_acc'],2)\n",
    "print(ACC)"
   ]
  },
  {
   "cell_type": "code",
   "execution_count": 6,
   "id": "aeecac04",
   "metadata": {},
   "outputs": [],
   "source": [
    "# Finally, we save the model IDed by its relevant parameters\n",
    "import os\n",
    "directory = \"RegularizedModels\"\n",
    "if not os.path.exists(directory):\n",
    "    os.makedirs(directory)\n",
    "SCHEDULED = EPSILON_LINEAR or GAMMA_LINEAR\n",
    "MODEL_ID = \"FCN_e=%s_g=%s_a=%s_s=%s\"%(EPSILON, GAMMA, ALPHA, SCHEDULED)\n",
    "trainer.save_checkpoint(\"RegularizedModels/%s.ckpt\"%(MODEL_ID))\n",
    "torch.save(model.state_dict(), \"RegularizedModels/%s.pt\"%(MODEL_ID))"
   ]
  },
  {
   "cell_type": "code",
   "execution_count": 7,
   "id": "8351f3a2",
   "metadata": {},
   "outputs": [],
   "source": [
    "import torchvision.datasets as datasets\n",
    "device = torch.device(\"cpu\")\n",
    "mnist_trainset = datasets.MNIST(root='./Datasets', train=True, download=True, transform=None)\n",
    "mnist_testset = datasets.MNIST(root='./Datasets', train=False, download=True, transform=None)\n"
   ]
  },
  {
   "cell_type": "code",
   "execution_count": 8,
   "id": "17733657",
   "metadata": {},
   "outputs": [
    {
     "name": "stdout",
     "output_type": "stream",
     "text": [
      "******** COMPUTING FOR EPS = 0.35 *********\n"
     ]
    },
    {
     "name": "stderr",
     "output_type": "stream",
     "text": [
      "Loss: 0.0398346483707428: 100%|██████████████| 300/300 [00:01<00:00, 205.10it/s]\n"
     ]
    },
    {
     "name": "stdout",
     "output_type": "stream",
     "text": [
      "tensor(0.0398) 0\n"
     ]
    },
    {
     "name": "stderr",
     "output_type": "stream",
     "text": [
      "Loss: 0.04011650010943413: 100%|█████████████| 300/300 [00:01<00:00, 204.28it/s]\n"
     ]
    },
    {
     "name": "stdout",
     "output_type": "stream",
     "text": [
      "tensor(0.0401) 1\n"
     ]
    },
    {
     "name": "stderr",
     "output_type": "stream",
     "text": [
      "Loss: 0.040210939943790436: 100%|████████████| 300/300 [00:01<00:00, 205.57it/s]\n"
     ]
    },
    {
     "name": "stdout",
     "output_type": "stream",
     "text": [
      "tensor(0.0402) 2\n"
     ]
    },
    {
     "name": "stderr",
     "output_type": "stream",
     "text": [
      "Loss: 0.04042794927954674: 100%|█████████████| 300/300 [00:01<00:00, 209.00it/s]\n"
     ]
    },
    {
     "name": "stdout",
     "output_type": "stream",
     "text": [
      "tensor(0.0404) 3\n"
     ]
    },
    {
     "name": "stderr",
     "output_type": "stream",
     "text": [
      "Loss: 0.04050319269299507: 100%|█████████████| 300/300 [00:01<00:00, 205.13it/s]\n"
     ]
    },
    {
     "name": "stdout",
     "output_type": "stream",
     "text": [
      "tensor(0.0405) 4\n"
     ]
    },
    {
     "name": "stderr",
     "output_type": "stream",
     "text": [
      "Loss: 0.04017471894621849: 100%|█████████████| 300/300 [00:01<00:00, 209.10it/s]\n"
     ]
    },
    {
     "name": "stdout",
     "output_type": "stream",
     "text": [
      "tensor(0.0402) 5\n"
     ]
    },
    {
     "name": "stderr",
     "output_type": "stream",
     "text": [
      "Loss: 0.04024539142847061: 100%|█████████████| 300/300 [00:01<00:00, 209.75it/s]\n"
     ]
    },
    {
     "name": "stdout",
     "output_type": "stream",
     "text": [
      "tensor(0.0402) 6\n"
     ]
    },
    {
     "name": "stderr",
     "output_type": "stream",
     "text": [
      "Loss: 0.040255993604660034: 100%|████████████| 300/300 [00:01<00:00, 209.01it/s]\n"
     ]
    },
    {
     "name": "stdout",
     "output_type": "stream",
     "text": [
      "tensor(0.0403) 7\n"
     ]
    },
    {
     "name": "stderr",
     "output_type": "stream",
     "text": [
      "Loss: 0.04066033661365509: 100%|█████████████| 300/300 [00:01<00:00, 199.82it/s]\n"
     ]
    },
    {
     "name": "stdout",
     "output_type": "stream",
     "text": [
      "tensor(0.0407) 8\n"
     ]
    },
    {
     "name": "stderr",
     "output_type": "stream",
     "text": [
      "Loss: 0.039805617183446884: 100%|████████████| 300/300 [00:01<00:00, 169.27it/s]\n"
     ]
    },
    {
     "name": "stdout",
     "output_type": "stream",
     "text": [
      "tensor(0.0398) 9\n"
     ]
    },
    {
     "name": "stderr",
     "output_type": "stream",
     "text": [
      "Loss: 0.04045436903834343: 100%|█████████████| 300/300 [00:01<00:00, 195.68it/s]\n"
     ]
    },
    {
     "name": "stdout",
     "output_type": "stream",
     "text": [
      "tensor(0.0405) 10\n"
     ]
    },
    {
     "name": "stderr",
     "output_type": "stream",
     "text": [
      "Loss: 0.04021819680929184: 100%|█████████████| 300/300 [00:01<00:00, 191.72it/s]\n"
     ]
    },
    {
     "name": "stdout",
     "output_type": "stream",
     "text": [
      "tensor(0.0402) 11\n"
     ]
    },
    {
     "name": "stderr",
     "output_type": "stream",
     "text": [
      "Loss: 0.03987793251872063: 100%|█████████████| 300/300 [00:01<00:00, 182.79it/s]\n"
     ]
    },
    {
     "name": "stdout",
     "output_type": "stream",
     "text": [
      "tensor(0.0399) 12\n"
     ]
    },
    {
     "name": "stderr",
     "output_type": "stream",
     "text": [
      "Loss: 0.040307898074388504: 100%|████████████| 300/300 [00:01<00:00, 184.39it/s]\n"
     ]
    },
    {
     "name": "stdout",
     "output_type": "stream",
     "text": [
      "tensor(0.0403) 13\n"
     ]
    },
    {
     "name": "stderr",
     "output_type": "stream",
     "text": [
      "Loss: 0.040198758244514465: 100%|████████████| 300/300 [00:01<00:00, 181.02it/s]\n"
     ]
    },
    {
     "name": "stdout",
     "output_type": "stream",
     "text": [
      "tensor(0.0402) 14\n"
     ]
    },
    {
     "name": "stderr",
     "output_type": "stream",
     "text": [
      "Loss: 0.04012984782457352: 100%|█████████████| 300/300 [00:01<00:00, 191.04it/s]\n"
     ]
    },
    {
     "name": "stdout",
     "output_type": "stream",
     "text": [
      "tensor(0.0401) 15\n"
     ]
    },
    {
     "name": "stderr",
     "output_type": "stream",
     "text": [
      "Loss: 0.03994998335838318: 100%|█████████████| 300/300 [00:01<00:00, 174.08it/s]\n"
     ]
    },
    {
     "name": "stdout",
     "output_type": "stream",
     "text": [
      "tensor(0.0399) 16\n"
     ]
    },
    {
     "name": "stderr",
     "output_type": "stream",
     "text": [
      "Loss: 0.04017925262451172: 100%|█████████████| 300/300 [00:01<00:00, 184.04it/s]\n"
     ]
    },
    {
     "name": "stdout",
     "output_type": "stream",
     "text": [
      "tensor(0.0402) 17\n"
     ]
    },
    {
     "name": "stderr",
     "output_type": "stream",
     "text": [
      "Loss: 0.03972524404525757: 100%|█████████████| 300/300 [00:01<00:00, 181.57it/s]\n"
     ]
    },
    {
     "name": "stdout",
     "output_type": "stream",
     "text": [
      "tensor(0.0397) 18\n"
     ]
    },
    {
     "name": "stderr",
     "output_type": "stream",
     "text": [
      "Loss: 0.04016125947237015: 100%|█████████████| 300/300 [00:01<00:00, 188.23it/s]\n"
     ]
    },
    {
     "name": "stdout",
     "output_type": "stream",
     "text": [
      "tensor(0.0402) 19\n"
     ]
    },
    {
     "data": {
      "text/plain": [
       "[0.0]"
      ]
     },
     "execution_count": 8,
     "metadata": {},
     "output_type": "execute_result"
    }
   ],
   "source": [
    "import numpy as np\n",
    "from GradCertModule import run_mnist_attack\n",
    "def compute_fooling_rate(model, eps_test = [0.35], forward=True):\n",
    "    fool_i, fool_j = 4, 4\n",
    "    success = [int(10) for i in range(50)]\n",
    "    if(not forward):\n",
    "        eps_test = list(reversed(eps_test))\n",
    "    for eps in eps_test:\n",
    "        print(\"******** COMPUTING FOR EPS = %s *********\"%(eps))\n",
    "        for i in range(20):\n",
    "            if(success[i] != 10):\n",
    "                continue\n",
    "            data = np.asarray(mnist_testset[i][0])/255.0\n",
    "            data = torch.Tensor(data)\n",
    "            b_val, x_adv, grad_adv, targex, loss = run_mnist_attack(model, data, target = [4, 4], \n",
    "                                                            epsilon=eps, iterations=300, lr=0.01)\n",
    "            if(loss <= 0.0385 and forward): # Heuristic Threshold for Fooling Rate\n",
    "                success[i] = eps\n",
    "            elif(loss > 0.0385 and not forward):\n",
    "                success[i] = eps\n",
    "            print(loss, i)\n",
    "            #grad_advs.append(grad_adv)\n",
    "\n",
    "    fooling_rate = []\n",
    "    for v in eps_test:\n",
    "        val = sum(i <= v for i in success)\n",
    "        fooling_rate.append(val/len(success))\n",
    "    return fooling_rate\n",
    "\n",
    "compute_fooling_rate(model)"
   ]
  },
  {
   "cell_type": "code",
   "execution_count": 12,
   "id": "4696acfe",
   "metadata": {},
   "outputs": [
    {
     "data": {
      "text/plain": [
       "0.087"
      ]
     },
     "execution_count": 12,
     "metadata": {},
     "output_type": "execute_result"
    }
   ],
   "source": [
    "\n",
    "from torch.nn import functional as F\n",
    "def certify_model(model, data, target, eps=0.1):\n",
    "    \n",
    "    min_grad, max_grad = GradCertModule.GradCertBounds(model, data, target, eps, 0)\n",
    "    min_grad, max_grad = min_grad.detach().numpy().reshape(28,28), max_grad.detach().numpy().reshape(28,28)\n",
    "    \n",
    "    #print(min_grad, max_grad)\n",
    "    \n",
    "    y_l, y_u = GradCertModule.RobustnessBounds(model, data, target, eps=eps, gam=0.0)\n",
    "    \n",
    "    data = data.detach().numpy().reshape(28,28)\n",
    "    data = torch.Tensor(data)\n",
    "    \n",
    "    targets = [[4,4], [5,5], [6,6], [7,7], [24,4], [23,5], [22,6], [21,7],\n",
    "              [4,24], [5,23], [6,22], [7,21], [24,24], [23,23], [22,22], [21,21]]\n",
    "    lowest_loss = 1000\n",
    "    for t in targets:\n",
    "        targ_i, targ_j = t\n",
    "        targex = np.asarray(min_grad) * 0.0\n",
    "        targex[targ_i-4:targ_i+4,targ_j-4:targ_j+4] = 1\n",
    "        v_cert = 0.0*targex\n",
    "        v_cert += np.where(targex > max_grad, max_grad, 0) # if targex is larger than max, take the max\n",
    "        v_cert += np.where(targex < min_grad, min_grad, 0) # if targex is less than min take, min\n",
    "        inds = np.where((targex <= max_grad) & (targex >= min_grad)) # if targex is between take targex\n",
    "        v_cert[inds] = targex[inds]\n",
    "        #print(type(v_cert), type(targex))\n",
    "        loss_expl = F.mse_loss(torch.Tensor(v_cert), torch.Tensor(targex))\n",
    "        if(loss_expl < lowest_loss):\n",
    "            lowest_loss = loss_expl\n",
    "    #loss_expl = F.mse_loss(closest_exp, targex)\n",
    "    #loss_output = F.mse_loss(torch.nn.functional.one_hot(target, num_classes=10), y_u.detach())\n",
    "    total_loss = lowest_loss \n",
    "        \n",
    "    return total_loss\n",
    "\n",
    "\n",
    "def get_cert_rate(model, eps_t, eps, n=1000):\n",
    "    certified = 0\n",
    "    for i in range(n):\n",
    "        data = np.asarray(mnist_testset[i][0]).reshape(1,28*28)/255.0\n",
    "        data = torch.Tensor(data)\n",
    "        target = torch.Tensor([mnist_testset[i][1]]).type(torch.LongTensor)\n",
    "        val = certify_model(model, data, target, eps=eps)\n",
    "        if(val > 0.0385):\n",
    "            certified += 1\n",
    "    return certified/n\n",
    "get_cert_rate(model, 0.0125, 0.0125)\n",
    "#get_cert_rate(model, 0.01, 0.01)"
   ]
  },
  {
   "cell_type": "code",
   "execution_count": 14,
   "id": "3ce2ddbc",
   "metadata": {
    "scrolled": true
   },
   "outputs": [
    {
     "name": "stderr",
     "output_type": "stream",
     "text": [
      "/Users/matthewwicker/opt/anaconda3/envs/FairnessAndPrivacy/lib/python3.7/site-packages/ipykernel_launcher.py:23: UserWarning: FixedFormatter should only be used together with FixedLocator\n"
     ]
    },
    {
     "data": {
      "image/png": "[encoded data removed]",
      "text/plain": [
       "<Figure size 800x800 with 1 Axes>"
      ]
     },
     "metadata": {
      "needs_background": "light"
     },
     "output_type": "display_data"
    }
   ],
   "source": [
    "\n",
    "import matplotlib\n",
    "import matplotlib.pyplot as plt\n",
    "import seaborn as sns\n",
    "#sns.set_style('darkgrid')\n",
    "sns.set_context('poster')\n",
    "plt.figure(figsize=(8, 8), dpi=100)\n",
    "ax = plt.gca()\n",
    "\n",
    "dataset = \"MNIST\"\n",
    "vals = [0.98, 1.0, 0.15]\n",
    "plt.bar([0,1,2], vals, color=['#0A369D', '#7D8CC4', '#D64045'])\n",
    "plt.title(\"GSUMNORM Training on %s (FCN)\"%(dataset))\n",
    "plt.ylabel(\"Performance\")\n",
    "plt.xlabel(r\"Metric\")\n",
    "\n",
    "for i in range(3):\n",
    "    if(i==2):\n",
    "        plt.text(i, vals[i]/2, vals[i], ha = 'center', c='k')\n",
    "    else:\n",
    "        plt.text(i, vals[i]/2, vals[i], ha = 'center', c='w')\n",
    "        \n",
    "        \n",
    "ax.set_xticklabels(['', 'Acc.', 'Attk. Rob.', 'Cert. Rob'])\n",
    "\n",
    "plt.show()\n"
   ]
  }
 ],
 "metadata": {
  "kernelspec": {
   "display_name": "Python 3 (ipykernel)",
   "language": "python",
   "name": "python3"
  },
  "language_info": {
   "codemirror_mode": {
    "name": "ipython",
    "version": 3
   },
   "file_extension": ".py",
   "mimetype": "text/x-python",
   "name": "python",
   "nbconvert_exporter": "python",
   "pygments_lexer": "ipython3",
   "version": "3.7.13"
  }
 },
 "nbformat": 4,
 "nbformat_minor": 5
}
