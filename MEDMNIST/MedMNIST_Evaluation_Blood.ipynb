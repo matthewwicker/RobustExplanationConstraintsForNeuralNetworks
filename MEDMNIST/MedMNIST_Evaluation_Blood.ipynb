{
 "cells": [
  {
   "cell_type": "code",
   "execution_count": 1,
   "id": "c75ef4ba",
   "metadata": {},
   "outputs": [
    {
     "name": "stdout",
     "output_type": "stream",
     "text": [
      "train:  (11959, 3, 28, 28)\n",
      "test:  (3421, 3, 28, 28)\n"
     ]
    }
   ],
   "source": [
    "# Custom Imports\n",
    "import sys\n",
    "sys.path.append(\"..\")\n",
    "import GradCertModule\n",
    "import XAIArchitectures\n",
    "# Deep Learning Imports\n",
    "import torch\n",
    "import torch.nn as nn\n",
    "import torch.optim as optim\n",
    "from torch.nn import functional as F\n",
    "from torch.utils.data import Dataset\n",
    "from torch.utils.data import DataLoader\n",
    "from torchvision import models, transforms\n",
    "import pytorch_lightning as pl\n",
    "# Standard Lib Imports\n",
    "import math\n",
    "import numpy as np\n",
    "import pandas as pd\n",
    "import matplotlib.pyplot as plt\n",
    "\n",
    "\n",
    "#dataset = \"pathmnist\"\n",
    "dataset = \"bloodmnist\"\n",
    "#dataset = \"retinamnist\"\n",
    "#dataset = \"dermamnist\"\n",
    "nchan = 3\n",
    "\n",
    "#dataset = \"pneumoniamnist\"\n",
    "#dataset = \"tissuemnist\"\n",
    "\n",
    "data = np.load('Datasets/%s.npz'%(dataset))\n",
    "\n",
    "\n",
    "y_train = np.squeeze(data['train_labels'])\n",
    "y_val = np.squeeze(data['val_labels'])\n",
    "y_test = np.squeeze(data['test_labels'])\n",
    "\n",
    "\n",
    "if(dataset in [\"pathmnist\", \"bloodmnist\", \"retinamnist\", \"dermamnist\"]):\n",
    "    X_train = np.swapaxes(data['train_images'], 3, 1)/255.0\n",
    "    X_val = np.swapaxes(data['val_images'], 3, 1)/255.0\n",
    "    X_test = np.swapaxes(data['test_images'], 3, 1)/255.0\n",
    "    \n",
    "elif(dataset in [\"tissuemnist\", \"pneumoniamnist\"]):\n",
    "    X_train = data['train_images']/255.0\n",
    "    X_train = X_train[0:20000]\n",
    "    y_train = y_train[0:20000]\n",
    "    X_train = X_train[:,None]\n",
    "    X_val = data['val_images']/255.0\n",
    "    X_val = X_val[0:2000]\n",
    "    y_val = y_val[0:2000]\n",
    "    X_val = X_val[:,None]\n",
    "    X_test = data['test_images']/255.0\n",
    "    X_test = X_test[:,None]\n",
    "    \n",
    "#y_train = torch.nn.functional.one_hot(torch.Tensor(data['train_labels']).to(torch.int64), 10)\n",
    "#y_val = torch.nn.functional.one_hot(torch.Tensor(data['val_labels']).to(torch.int64), 10)\n",
    "#y_test = torch.nn.functional.one_hot(torch.Tensor(data['test_labels']).to(torch.int64), 10)\n",
    "\n",
    "print(\"train: \", X_train.shape)\n",
    "print(\"test: \", X_test.shape)\n",
    "\n",
    "class custDataset(Dataset):\n",
    "    def __init__(self, X, y):\n",
    "        self.X = torch.Tensor(X).float()\n",
    "        self.y = y\n",
    "        self.transform = transforms.Compose([transforms.ToTensor()])\n",
    "\n",
    "    def __len__(self):\n",
    "        return self.X.shape[0]\n",
    "        \n",
    "    def __getitem__(self, index):\n",
    "        return self.X[index], self.y[index]\n",
    "    \n",
    "\n",
    "CustTrain = custDataset(X_train, y_train)  \n",
    "CustVal = custDataset(X_val, y_val) \n",
    "CustTest = custDataset(X_test, y_test)\n",
    "\n",
    "class CustomDataModule(pl.LightningDataModule):\n",
    "    def __init__(self, train, val, test, batch_size=100):\n",
    "        super().__init__()\n",
    "        self.train_data = train\n",
    "        self.val_data = val\n",
    "        self.test_data = test\n",
    "        self.batch_size = batch_size\n",
    "        \n",
    "    def train_dataloader(self):\n",
    "        return DataLoader(self.train_data, batch_size=self.batch_size)\n",
    "\n",
    "    def val_dataloader(self):\n",
    "        return DataLoader(self.val_data, batch_size=self.batch_size)\n",
    "\n",
    "    def test_dataloader(self):\n",
    "        return DataLoader(self.test_data, batch_size=self.batch_size)\n",
    "    \n",
    "dm = CustomDataModule(CustTrain, CustVal, CustTest)"
   ]
  },
  {
   "cell_type": "code",
   "execution_count": 2,
   "id": "b8f36bd3",
   "metadata": {},
   "outputs": [],
   "source": [
    "# ROB Model: A= 0.1, E=0.02, G=0.02\n",
    "ALPHA = 0.0            # Regularization Parameter (Weights the Reg. Term)\n",
    "EPSILON = 0.0          # Input Peturbation Budget at Training Time\n",
    "GAMMA = 0.0           # Model Peturbation Budget at Training Time \n",
    "                        #(Changed to proportional budget rather than absolute)\n",
    "    \n",
    "LEARN_RATE = 0.0025      # Learning Rate Hyperparameter\n",
    "HIDDEN_DIM = 100       # Hidden Neurons Hyperparameter\n",
    "HIDDEN_LAY = 1         # Hidden Layers Hyperparameter\n",
    "MAX_EPOCHS = 40\n",
    "\n",
    "EPSILON_LINEAR = True   # Put Epsilon on a Linear Schedule?\n",
    "GAMMA_LINEAR = True     # Put Gamma on a Linear Schedule?"
   ]
  },
  {
   "cell_type": "code",
   "execution_count": 3,
   "id": "cd567973",
   "metadata": {},
   "outputs": [],
   "source": [
    "if(dataset == \"pneumoniamnist\"):\n",
    "    ncls = 2\n",
    "    model = XAIArchitectures.DeepMindSmall(dataset=\"PNEUMONIAMNIST\")\n",
    "elif(dataset == \"tissuemnist\"):\n",
    "    ncls = 8\n",
    "    model = XAIArchitectures.DeepMindSmall(dataset='TISSUEMNIST')\n",
    "elif(dataset == \"dermamnist\"):\n",
    "    ncls = 7\n",
    "    model = XAIArchitectures.DeepMindSmall(dataset='DERMAMNIST')\n",
    "else:\n",
    "    ncls = 10\n",
    "    model = XAIArchitectures.DeepMindSmall(dataset=\"MEDMNIST\")\n"
   ]
  },
  {
   "cell_type": "code",
   "execution_count": 4,
   "id": "04c63b07",
   "metadata": {},
   "outputs": [
    {
     "name": "stdout",
     "output_type": "stream",
     "text": [
      "DeepMindSmall_bloodmnist_e=0.0_g=0.0_a=0.0_s=True\n"
     ]
    },
    {
     "data": {
      "text/plain": [
       "<All keys matched successfully>"
      ]
     },
     "execution_count": 4,
     "metadata": {},
     "output_type": "execute_result"
    }
   ],
   "source": [
    "\n",
    "SCHEDULED = EPSILON_LINEAR or GAMMA_LINEAR \n",
    "MODEL_ID = \"DeepMindSmall_%s_e=%s_g=%s_a=%s_s=%s\"%(dataset, EPSILON, GAMMA, ALPHA, SCHEDULED)\n",
    "print(MODEL_ID)\n",
    "ckpt = torch.load(\"Models/%s.ckpt\"%(MODEL_ID))\n",
    "optimizer = optim.SGD(model.parameters(), lr=0.001, momentum=0.9)\n",
    "checkpoint = torch.load(\"Models/%s.ckpt\"%(MODEL_ID))\n",
    "model.load_state_dict(torch.load('Models/%s.pt'%(MODEL_ID)))\n"
   ]
  },
  {
   "cell_type": "code",
   "execution_count": 5,
   "id": "aaac5a3c",
   "metadata": {},
   "outputs": [
    {
     "name": "stderr",
     "output_type": "stream",
     "text": [
      "/Users/matthewwicker/opt/anaconda3/envs/XAIenvironment/lib/python3.7/site-packages/ipykernel_launcher.py:7: UserWarning: Creating a tensor from a list of numpy.ndarrays is extremely slow. Please consider converting the list to a single numpy.ndarray with numpy.array() before converting to a tensor. (Triggered internally at  /Users/distiller/project/pytorch/torch/csrc/utils/tensor_new.cpp:210.)\n",
      "  import sys\n"
     ]
    },
    {
     "name": "stdout",
     "output_type": "stream",
     "text": [
      "0.8857059339374452\n"
     ]
    }
   ],
   "source": [
    "checkpoint = torch.load(\"Models/%s.ckpt\"%(MODEL_ID))\n",
    "model.load_state_dict(torch.load('Models/%s.pt'%(MODEL_ID)))\n",
    "\n",
    "acc = 0\n",
    "for i in range(len(X_test)):\n",
    "    d = np.asarray(X_test[i]).reshape(nchan,28,28)\n",
    "    out, cls = model.classify(torch.Tensor([d]))\n",
    "    if(cls == y_test[i]):\n",
    "        acc += 1\n",
    "print(acc/len(X_test))\n"
   ]
  },
  {
   "cell_type": "code",
   "execution_count": 6,
   "id": "78123e1d",
   "metadata": {},
   "outputs": [
    {
     "name": "stderr",
     "output_type": "stream",
     "text": [
      "../GradCertModule.py:282: UserWarning: The use of `x.T` on tensors of dimension other than 2 to reverse their shape is deprecated and it will throw an error in a future release. Consider `x.mT` to transpose batches of matricesor `x.permute(*torch.arange(x.ndim - 1, -1, -1))` to reverse the dimensions of a tensor. (Triggered internally at  /Users/distiller/project/pytorch/aten/src/ATen/native/TensorShape.cpp:2318.)\n",
      "  return dL_min.T, dL_max.T #dL_dz_min.T, dL_dz_max.T\n"
     ]
    },
    {
     "data": {
      "image/png": "[encoded data removed]",
      "text/plain": [
       "<Figure size 432x288 with 1 Axes>"
      ]
     },
     "metadata": {},
     "output_type": "display_data"
    },
    {
     "data": {
      "image/png": "[encoded data removed]",
      "text/plain": [
       "<Figure size 432x288 with 1 Axes>"
      ]
     },
     "metadata": {},
     "output_type": "display_data"
    }
   ],
   "source": [
    "\n",
    "import seaborn as sns\n",
    "sns.set_context('poster')\n",
    "inp = 0\n",
    "\n",
    "data = np.asarray(X_test[inp])\n",
    "data_master = np.asarray(X_test[inp])\n",
    "data = torch.Tensor(data)\n",
    "target = torch.Tensor([y_test[inp]]).to(torch.int64)\n",
    "gra = GradCertModule.InputGrad(model, data[None, :], target, nclasses=ncls)\n",
    "gra = gra.detach().numpy()\n",
    "if(nchan == 3):\n",
    "    gra = np.sum(np.abs(np.squeeze(gra)), -1)\n",
    "else:\n",
    "    gra = np.squeeze(gra.T)\n",
    "gra = np.abs(gra)\n",
    "\n",
    "\n",
    "plt.imshow(gra, cmap='coolwarm')\n",
    "#plt.colorbar()\n",
    "plt.xticks([])\n",
    "plt.yticks([])\n",
    "plt.title('Gradient')\n",
    "plt.show()\n",
    "\n",
    "\n",
    "if(nchan == 3):\n",
    "    data = np.asarray(X_test[inp])\n",
    "    data =  np.swapaxes(np.squeeze(data), 0, 2)\n",
    "else:\n",
    "    data = np.asarray(X_test[inp]).reshape(28,28)\n",
    "data = torch.Tensor(data)\n",
    "\n",
    "\n",
    "plt.imshow(np.squeeze(data.detach().numpy()))\n",
    "plt.xticks([])\n",
    "plt.yticks([])\n",
    "plt.title('Input')\n",
    "plt.show()\n"
   ]
  },
  {
   "cell_type": "code",
   "execution_count": 7,
   "id": "51cfaee3",
   "metadata": {},
   "outputs": [
    {
     "data": {
      "image/png": "[encoded data removed]",
      "text/plain": [
       "<Figure size 432x288 with 2 Axes>"
      ]
     },
     "metadata": {
      "needs_background": "light"
     },
     "output_type": "display_data"
    }
   ],
   "source": [
    "#gra =  np.swapaxes(np.squeeze(gra), 0, 2)\n",
    "#gra = np.sum(np.abs(np.squeeze(gra)), -1)\n",
    "\n",
    "gra = np.squeeze(gra)\n",
    "plt.imshow(gra, cmap='coolwarm')\n",
    "plt.colorbar()\n",
    "plt.show()"
   ]
  },
  {
   "cell_type": "code",
   "execution_count": 8,
   "id": "da14323a",
   "metadata": {},
   "outputs": [
    {
     "name": "stdout",
     "output_type": "stream",
     "text": [
      "(3, 28, 28)\n",
      "(1, 3, 28, 28)\n"
     ]
    }
   ],
   "source": [
    "model.load_state_dict(torch.load('Models/%s.pt'%(MODEL_ID)))\n",
    "model.inputfooling_ON()\n",
    "\n",
    "if(nchan == 3):\n",
    "    data = np.asarray(X_test[inp])\n",
    "    #data =  np.swapaxes(np.squeeze(data), 0, 2)\n",
    "    print(data.shape)\n",
    "    data = torch.Tensor(data)\n",
    "    \n",
    "min_grad, max_grad = GradCertModule.GradCertBounds(model, data[None, :], target, 0.02, 0.0, nclasses=ncls)\n",
    "min_grad, max_grad = min_grad.detach().numpy().T, max_grad.detach().numpy().T\n",
    "\n",
    "\n",
    "print(min_grad.shape)\n",
    "if(nchan == 3):\n",
    "    min_grad = np.swapaxes(np.squeeze(min_grad), 0, -1)\n",
    "    max_grad = np.swapaxes(np.squeeze(max_grad), 0, -1)\n",
    "    min_grad = np.sum(np.squeeze(min_grad), -1)\n",
    "    max_grad = np.sum(np.squeeze(max_grad), -1)\n"
   ]
  },
  {
   "cell_type": "code",
   "execution_count": 9,
   "id": "bf762cc6",
   "metadata": {},
   "outputs": [
    {
     "name": "stdout",
     "output_type": "stream",
     "text": [
      "False\n"
     ]
    },
    {
     "data": {
      "image/png": "[encoded data removed]",
      "text/plain": [
       "<Figure size 432x288 with 2 Axes>"
      ]
     },
     "metadata": {
      "needs_background": "light"
     },
     "output_type": "display_data"
    },
    {
     "data": {
      "image/png": "[encoded data removed]",
      "text/plain": [
       "<Figure size 432x288 with 2 Axes>"
      ]
     },
     "metadata": {
      "needs_background": "light"
     },
     "output_type": "display_data"
    }
   ],
   "source": [
    "print((max_grad == min_grad).all())\n",
    "min_grad = np.squeeze(min_grad)\n",
    "plt.imshow(min_grad, cmap='coolwarm')\n",
    "plt.colorbar()\n",
    "plt.show()\n",
    "\n",
    "max_grad = np.squeeze(max_grad)\n",
    "plt.imshow(max_grad, cmap='coolwarm')\n",
    "plt.colorbar()\n",
    "plt.show()\n"
   ]
  },
  {
   "cell_type": "code",
   "execution_count": 10,
   "id": "7f44a360",
   "metadata": {},
   "outputs": [
    {
     "name": "stderr",
     "output_type": "stream",
     "text": [
      "Loss: 0.09496968984603882: 100%|██████████████| 200/200 [00:06<00:00, 32.96it/s]\n"
     ]
    }
   ],
   "source": [
    "\n",
    "model.load_state_dict(torch.load('Models/%s.pt'%(MODEL_ID)))\n",
    "\n",
    "data = np.asarray(X_test[inp])\n",
    "data = torch.Tensor(data)\n",
    "\n",
    "succ, x_adv, grad_adv, targex, loss = GradCertModule.run_mnist_attack(model, data, target=[5,5], epsilon=0.03, \n",
    "                                                  iterations=200, lr=0.01, shape=(3,28,28), label_reg=0.05)    \n",
    "x_adv = np.squeeze(x_adv.detach().numpy())\n",
    "grad_adv = np.squeeze(grad_adv.detach().numpy())\n"
   ]
  },
  {
   "cell_type": "code",
   "execution_count": 11,
   "id": "27bd2d93",
   "metadata": {},
   "outputs": [
    {
     "data": {
      "image/png": "[encoded data removed]",
      "text/plain": [
       "<Figure size 432x288 with 2 Axes>"
      ]
     },
     "metadata": {
      "needs_background": "light"
     },
     "output_type": "display_data"
    },
    {
     "name": "stdout",
     "output_type": "stream",
     "text": [
      "(3, 28, 28)\n"
     ]
    },
    {
     "data": {
      "image/png": "[encoded data removed]",
      "text/plain": [
       "<Figure size 432x288 with 2 Axes>"
      ]
     },
     "metadata": {
      "needs_background": "light"
     },
     "output_type": "display_data"
    },
    {
     "name": "stdout",
     "output_type": "stream",
     "text": [
      "(3, 28, 28)\n"
     ]
    },
    {
     "data": {
      "image/png": "[encoded data removed]",
      "text/plain": [
       "<Figure size 432x288 with 2 Axes>"
      ]
     },
     "metadata": {
      "needs_background": "light"
     },
     "output_type": "display_data"
    }
   ],
   "source": [
    "#print(x_adv)\n",
    "viz = np.swapaxes(np.squeeze(data.detach().numpy()), 2, 0)\n",
    "plt.imshow(viz, cmap='gray')\n",
    "plt.colorbar()\n",
    "plt.show()\n",
    "\n",
    "print(x_adv.shape)\n",
    "viz_adv = np.swapaxes(np.squeeze(x_adv), 2, 0)\n",
    "plt.imshow(viz_adv, cmap='gray')\n",
    "plt.colorbar()\n",
    "plt.show()\n",
    "\n",
    "\n",
    "print(grad_adv.shape)\n",
    "g_adv = np.sum(np.abs(np.squeeze(grad_adv)), 0)\n",
    "#g_adv = np.rot90(np.rot90(g_adv))\n",
    "plt.imshow(g_adv, cmap='coolwarm')\n",
    "plt.colorbar()\n",
    "plt.show()"
   ]
  },
  {
   "cell_type": "code",
   "execution_count": 12,
   "id": "890f846a",
   "metadata": {},
   "outputs": [
    {
     "name": "stdout",
     "output_type": "stream",
     "text": [
      "tensor([  1.8008,  -5.5213,  -2.8790,   7.2126,  -0.3955,  10.8700,  -1.4403,\n",
      "        -22.5691, -16.6016, -15.6548], grad_fn=<AddBackward0>)\n"
     ]
    },
    {
     "name": "stderr",
     "output_type": "stream",
     "text": [
      "../GradCertModule.py:786: UserWarning: Using a target size (torch.Size([3, 28, 28])) that is different to the input size (torch.Size([1, 3, 28, 28])). This will likely lead to incorrect results due to broadcasting. Please ensure they have the same size.\n",
      "  loss_expl = F.mse_loss(grad_adv, target_expl)\n"
     ]
    },
    {
     "name": "stdout",
     "output_type": "stream",
     "text": [
      "0.09545830637216568\n",
      "tensor([ -1.5486,  -2.4644,  -2.8227,   3.6496,  -2.5588,   7.3142,  -1.0975,\n",
      "        -15.6092,  -8.3045,  -8.7262], grad_fn=<AddBackward0>)\n",
      "(3, 28, 28)\n"
     ]
    },
    {
     "data": {
      "image/png": "[encoded data removed]",
      "text/plain": [
       "<Figure size 432x288 with 2 Axes>"
      ]
     },
     "metadata": {
      "needs_background": "light"
     },
     "output_type": "display_data"
    }
   ],
   "source": [
    "model.load_state_dict(torch.load('Models/%s.pt'%(MODEL_ID)))\n",
    "print(model(data))\n",
    "succ, w_adv, grad_adv, targex = GradCertModule.run_model_attack(model, data, target=[5,5], gamma=0.1, \n",
    "                                                  iterations=250, lr=0.001, shape=(3,28,28), label_reg=10000.5)\n",
    "\n",
    "print(model(data))\n",
    "\n",
    "grad_adv = np.squeeze(grad_adv.detach().numpy())\n",
    "print(grad_adv.shape)\n",
    "g_adv = np.sum(np.abs(np.squeeze(grad_adv)), 0)\n",
    "\n",
    "plt.imshow(g_adv, cmap='coolwarm')\n",
    "plt.colorbar()\n",
    "plt.show()\n"
   ]
  },
  {
   "cell_type": "code",
   "execution_count": 13,
   "id": "b463cf80",
   "metadata": {},
   "outputs": [
    {
     "name": "stdout",
     "output_type": "stream",
     "text": [
      "0\n"
     ]
    }
   ],
   "source": [
    "INDEX = inp\n",
    "print(INDEX)"
   ]
  },
  {
   "cell_type": "code",
   "execution_count": 14,
   "id": "6dce7e11",
   "metadata": {},
   "outputs": [
    {
     "name": "stderr",
     "output_type": "stream",
     "text": [
      "/Users/matthewwicker/opt/anaconda3/envs/XAIenvironment/lib/python3.7/site-packages/captum/_utils/gradient.py:59: UserWarning: Input Tensor 0 did not already require gradients, required_grads has been set automatically.\n",
      "  \"required_grads has been set automatically.\" % index\n",
      "/Users/matthewwicker/opt/anaconda3/envs/XAIenvironment/lib/python3.7/site-packages/captum/attr/_core/deep_lift.py:339: UserWarning: Setting forward, backward hooks and attributes on non-linear\n",
      "               activations. The hooks and attributes will be removed\n",
      "            after the attribution is finished\n",
      "  after the attribution is finished\"\"\"\n"
     ]
    },
    {
     "data": {
      "image/png": "[encoded data removed]",
      "text/plain": [
       "<Figure size 432x288 with 1 Axes>"
      ]
     },
     "metadata": {},
     "output_type": "display_data"
    },
    {
     "data": {
      "text/plain": [
       "\"\\nx_adv = x_adv.reshape(1,nchan,28,28)\\nx_adv = torch.Tensor(x_adv)\\nbase = 0.0*x_adv\\nx_adv = torch.Tensor(x_adv)\\nig = DeepLift(model)\\nattributions, delta = ig.attribute(x_adv, base, target=0, return_convergence_delta=True)\\nattributions = np.sum(np.squeeze(attributions.detach().numpy()), axis=0)\\nplt.imshow(attributions, cmap = 'coolwarm_r')\\nplt.show()\\n\""
      ]
     },
     "execution_count": 14,
     "metadata": {},
     "output_type": "execute_result"
    }
   ],
   "source": [
    "model.inputfooling_OFF()\n",
    "model.load_state_dict(torch.load('Models/%s.pt'%(MODEL_ID)))\n",
    "\n",
    "from captum.attr import DeepLift\n",
    "\n",
    "inp = np.asarray(X_test[INDEX]).reshape(1,nchan,28,28)\n",
    "inp = torch.Tensor(inp)\n",
    "base = 0.0 * inp\n",
    "\n",
    "ig = DeepLift(model)\n",
    "attributions, delta = ig.attribute(inp, base, target=0, return_convergence_delta=True)\n",
    "attributions = np.sum(np.squeeze(attributions.detach().numpy()), axis=0)\n",
    "attributions = np.abs(attributions)\n",
    "plt.imshow(attributions, cmap = 'coolwarm')\n",
    "plt.xticks([])\n",
    "plt.yticks([])\n",
    "plt.title('DeepLift')\n",
    "plt.show()\n",
    "\n",
    "\n",
    "\"\"\"\n",
    "x_adv = x_adv.reshape(1,nchan,28,28)\n",
    "x_adv = torch.Tensor(x_adv)\n",
    "base = 0.0*x_adv\n",
    "x_adv = torch.Tensor(x_adv)\n",
    "ig = DeepLift(model)\n",
    "attributions, delta = ig.attribute(x_adv, base, target=0, return_convergence_delta=True)\n",
    "attributions = np.sum(np.squeeze(attributions.detach().numpy()), axis=0)\n",
    "plt.imshow(attributions, cmap = 'coolwarm_r')\n",
    "plt.show()\n",
    "\"\"\""
   ]
  },
  {
   "cell_type": "code",
   "execution_count": 15,
   "id": "3599eef2",
   "metadata": {},
   "outputs": [],
   "source": [
    "target = torch.Tensor([y_test[i]]).to(torch.int64)\n",
    "target = torch.nn.functional.one_hot(target, ncls)"
   ]
  },
  {
   "cell_type": "code",
   "execution_count": 16,
   "id": "4c5db2e5",
   "metadata": {},
   "outputs": [
    {
     "data": {
      "image/png": "[encoded data removed]",
      "text/plain": [
       "<Figure size 432x288 with 1 Axes>"
      ]
     },
     "metadata": {},
     "output_type": "display_data"
    },
    {
     "data": {
      "text/plain": [
       "\"\\nx_adv = x_adv.reshape(1,nchan,28,28)\\nbase = 0.0*x_adv\\nx_adv = torch.Tensor(x_adv)\\nig = GradientShap(model)\\nattributions, delta = ig.attribute(x_adv, base, target=0, return_convergence_delta=True)\\nattributions = np.sum(np.squeeze(attributions.detach().numpy()), axis=0)\\nplt.imshow(attributions, cmap = 'coolwarm_r')\\nplt.show()\\n\""
      ]
     },
     "execution_count": 16,
     "metadata": {},
     "output_type": "execute_result"
    }
   ],
   "source": [
    "model.inputfooling_OFF()\n",
    "model.load_state_dict(torch.load('Models/%s.pt'%(MODEL_ID)))\n",
    "\n",
    "from captum.attr import GradientShap\n",
    "\n",
    "inp = np.asarray(X_test[INDEX]).reshape(1,nchan,28,28)\n",
    "inp = torch.Tensor(inp)\n",
    "base = 0.0 * inp\n",
    "\n",
    "ig = GradientShap(model)\n",
    "attributions, delta = ig.attribute(inp, base, target=0, return_convergence_delta=True)\n",
    "attributions = np.sum(np.squeeze(attributions.detach().numpy()), axis=0)\n",
    "#attributions = np.abs(attributions)\n",
    "plt.imshow(attributions, cmap = 'coolwarm')\n",
    "plt.xticks([])\n",
    "plt.yticks([])\n",
    "plt.title('Grad. SHAP')\n",
    "plt.show()\n",
    "\n",
    "\"\"\"\n",
    "x_adv = x_adv.reshape(1,nchan,28,28)\n",
    "base = 0.0*x_adv\n",
    "x_adv = torch.Tensor(x_adv)\n",
    "ig = GradientShap(model)\n",
    "attributions, delta = ig.attribute(x_adv, base, target=0, return_convergence_delta=True)\n",
    "attributions = np.sum(np.squeeze(attributions.detach().numpy()), axis=0)\n",
    "plt.imshow(attributions, cmap = 'coolwarm_r')\n",
    "plt.show()\n",
    "\"\"\""
   ]
  },
  {
   "cell_type": "code",
   "execution_count": 17,
   "id": "228f7632",
   "metadata": {},
   "outputs": [
    {
     "data": {
      "image/png": "[encoded data removed]",
      "text/plain": [
       "<Figure size 432x288 with 1 Axes>"
      ]
     },
     "metadata": {},
     "output_type": "display_data"
    },
    {
     "data": {
      "text/plain": [
       "\"\\nx_adv = torch.Tensor(x_adv)\\nx_adv = x_adv.reshape(1,nchan,28,28)\\nbase = 0.0*x_adv\\nx_adv = torch.Tensor(x_adv)\\nig = IntegratedGradients(model)\\nattributions, delta = ig.attribute(x_adv, base, target=0, return_convergence_delta=True)\\nattributions = np.sum(np.squeeze(attributions.detach().numpy()), axis=0)\\nplt.imshow(attributions, cmap = 'coolwarm_r')\\nplt.show()\\n\""
      ]
     },
     "execution_count": 17,
     "metadata": {},
     "output_type": "execute_result"
    }
   ],
   "source": [
    "model.inputfooling_OFF()\n",
    "model.load_state_dict(torch.load('Models/%s.pt'%(MODEL_ID)))\n",
    "import seaborn as sns\n",
    "from captum.attr import IntegratedGradients\n",
    "\n",
    "inp = np.asarray(X_test[INDEX]).reshape(1,nchan,28,28)\n",
    "inp = torch.Tensor(inp)\n",
    "base = 0.0 * inp\n",
    "\n",
    "sns.set_context('poster')\n",
    "ig = IntegratedGradients(model)\n",
    "attributions, delta = ig.attribute(inp, base, target=0, return_convergence_delta=True)\n",
    "attributions = np.sum(np.squeeze(attributions.detach().numpy()), axis=0)\n",
    "plt.imshow(attributions, cmap = 'coolwarm_r')\n",
    "plt.xticks([])\n",
    "plt.yticks([])\n",
    "plt.title('Integrated Grad.')\n",
    "plt.show()\n",
    "\"\"\"\n",
    "x_adv = torch.Tensor(x_adv)\n",
    "x_adv = x_adv.reshape(1,nchan,28,28)\n",
    "base = 0.0*x_adv\n",
    "x_adv = torch.Tensor(x_adv)\n",
    "ig = IntegratedGradients(model)\n",
    "attributions, delta = ig.attribute(x_adv, base, target=0, return_convergence_delta=True)\n",
    "attributions = np.sum(np.squeeze(attributions.detach().numpy()), axis=0)\n",
    "plt.imshow(attributions, cmap = 'coolwarm_r')\n",
    "plt.show()\n",
    "\"\"\""
   ]
  },
  {
   "cell_type": "code",
   "execution_count": 18,
   "id": "8ef15712",
   "metadata": {},
   "outputs": [
    {
     "data": {
      "text/plain": [
       "'\\nfrom captum.attr import LimeBase\\n\\nnet = model\\n\\nfrom captum._utils.models.linear_model import SkLearnLinearModel\\ndef similarity_kernel(\\n    original_input: torch.Tensor,\\n    perturbed_input: torch.Tensor,\\n    perturbed_interpretable_input: torch.Tensor,\\n    **kwargs)->torch.Tensor:\\n        # kernel_width will be provided to attribute as a kwarg\\n        kernel_width = kwargs[\"kernel_width\"]\\n        l2_dist = torch.norm(original_input - perturbed_input)\\n        return torch.exp(- (l2_dist**2) / (kernel_width**2))\\n\\ndef perturb_func(\\n    original_input: torch.Tensor,\\n    **kwargs)->torch.Tensor:\\n        return original_input + torch.randn_like(original_input)\\n\\ndef to_interp_transform(curr_sample, original_inp,\\n                                  **kwargs):\\n    return curr_sample\\n\\n# Generating random input with size 1 x 5\\ninp = np.asarray(X_test[i]).reshape(1,nchan,28,28)\\ninp = torch.Tensor(inp)\\ninp = torch.flatten(inp)\\nlime_attr = LimeBase(net,\\n                         SkLearnLinearModel(\"linear_model.Ridge\"),\\n                         similarity_func=similarity_kernel,\\n                         perturb_func=perturb_func,\\n                         perturb_interpretable_space=False,\\n                         from_interp_rep_transform=None,\\n                         to_interp_rep_transform=to_interp_transform)\\n\\nattr_coefs = lime_attr.attribute(inp, target=1, kernel_width=1.1)\\n\\n'"
      ]
     },
     "execution_count": 18,
     "metadata": {},
     "output_type": "execute_result"
    }
   ],
   "source": [
    "\"\"\"\n",
    "from captum.attr import LimeBase\n",
    "\n",
    "net = model\n",
    "\n",
    "from captum._utils.models.linear_model import SkLearnLinearModel\n",
    "def similarity_kernel(\n",
    "    original_input: torch.Tensor,\n",
    "    perturbed_input: torch.Tensor,\n",
    "    perturbed_interpretable_input: torch.Tensor,\n",
    "    **kwargs)->torch.Tensor:\n",
    "        # kernel_width will be provided to attribute as a kwarg\n",
    "        kernel_width = kwargs[\"kernel_width\"]\n",
    "        l2_dist = torch.norm(original_input - perturbed_input)\n",
    "        return torch.exp(- (l2_dist**2) / (kernel_width**2))\n",
    "\n",
    "def perturb_func(\n",
    "    original_input: torch.Tensor,\n",
    "    **kwargs)->torch.Tensor:\n",
    "        return original_input + torch.randn_like(original_input)\n",
    "\n",
    "def to_interp_transform(curr_sample, original_inp,\n",
    "                                  **kwargs):\n",
    "    return curr_sample\n",
    "\n",
    "# Generating random input with size 1 x 5\n",
    "inp = np.asarray(X_test[i]).reshape(1,nchan,28,28)\n",
    "inp = torch.Tensor(inp)\n",
    "inp = torch.flatten(inp)\n",
    "lime_attr = LimeBase(net,\n",
    "                         SkLearnLinearModel(\"linear_model.Ridge\"),\n",
    "                         similarity_func=similarity_kernel,\n",
    "                         perturb_func=perturb_func,\n",
    "                         perturb_interpretable_space=False,\n",
    "                         from_interp_rep_transform=None,\n",
    "                         to_interp_rep_transform=to_interp_transform)\n",
    "\n",
    "attr_coefs = lime_attr.attribute(inp, target=1, kernel_width=1.1)\n",
    "\n",
    "\"\"\""
   ]
  },
  {
   "cell_type": "code",
   "execution_count": 19,
   "id": "f8c13748",
   "metadata": {},
   "outputs": [
    {
     "name": "stdout",
     "output_type": "stream",
     "text": [
      "0.8857059339374452\n"
     ]
    }
   ],
   "source": [
    "# Re-Compute Accuracy of the Model\n",
    "model.inputfooling_OFF()\n",
    "model.load_state_dict(torch.load('Models/%s.pt'%(MODEL_ID)))\n",
    "\n",
    "acc = 0\n",
    "for i in range(len(X_test)):\n",
    "    d = np.asarray(X_test[i]).reshape(nchan,28,28)\n",
    "    out, cls = model.classify(torch.Tensor([d]))\n",
    "    if(cls == y_test[i]):\n",
    "        acc += 1\n",
    "print(acc/len(X_test))\n",
    "\n"
   ]
  },
  {
   "cell_type": "code",
   "execution_count": null,
   "id": "d668d624",
   "metadata": {},
   "outputs": [
    {
     "name": "stderr",
     "output_type": "stream",
     "text": [
      "Loss: 0.09539620578289032: 100%|████████████████| 20/20 [00:00<00:00, 33.03it/s]\n",
      "Loss: 0.09496844559907913: 100%|████████████████| 20/20 [00:00<00:00, 33.40it/s]\n",
      "Loss: 0.09477442502975464: 100%|████████████████| 20/20 [00:00<00:00, 34.40it/s]\n",
      "Loss: 0.09521559625864029:  40%|██████▊          | 8/20 [00:00<00:00, 34.45it/s]"
     ]
    }
   ],
   "source": [
    "# Compute Joint Certified Robustness\n",
    "\n",
    "\n",
    "def compute_input_robustness(model, data, target, eps, gam):\n",
    "    model.load_state_dict(torch.load('Models/%s.pt'%(MODEL_ID)))\n",
    "    grad = np.sum(np.squeeze(GradCertModule.InputGrad(model, data, targ).detach().numpy()), axis=-1)\n",
    "    model.inputfooling_ON()\n",
    "    succ, x_adv, grad_adv, targex, loss = GradCertModule.run_mnist_attack(model, data, target=[5,5], epsilon=eps, \n",
    "                                                  iterations=20, lr=0.01, shape=(3,28,28), label_reg=0.05) \n",
    "    model.inputfooling_OFF()\n",
    "    grad_adv = np.sum(np.squeeze(GradCertModule.InputGrad(model, x_adv, targ).detach().numpy()), axis=-1)\n",
    "\n",
    "    adv_g = grad_adv\n",
    "    min_grad, max_grad = GradCertModule.GradCertBounds(model, data, target, eps, gam)\n",
    "    min_grad = np.sum(np.squeeze(min_grad.detach().numpy()), axis=-1).T\n",
    "    max_grad = np.sum(np.squeeze(max_grad.detach().numpy()), axis=-1).T\n",
    "\n",
    "    diff_up = max_grad - grad\n",
    "    diff_down = grad - min_grad\n",
    "    diff = np.maximum(diff_up, diff_down)\n",
    "    \n",
    "    loss_cert = ((diff)**2).mean()\n",
    "    loss_grad = (((grad - adv_g)/np.max(grad))**2).mean()\n",
    "    \n",
    "    return loss_cert, loss_grad\n",
    "\n",
    "in_cert = 0\n",
    "in_attk = 0\n",
    "for inp in range(100):\n",
    "    data = np.asarray(X_test[inp])\n",
    "    data = torch.Tensor(data)\n",
    "    targ = torch.Tensor([y_test[inp]]).to(torch.int64)\n",
    "    cert, attk = compute_input_robustness(model, data, targ, 0.015, 0.0)\n",
    "    #print(cert, attk)\n",
    "    if(cert <= 0.03):\n",
    "        in_cert += 1\n",
    "    if(attk <= 0.03):\n",
    "        in_attk += 1\n",
    "print(in_cert)\n",
    "print(in_attk)\n",
    "\n",
    "std_acc = 0.88\n",
    "std_inp_atk = 0.58\n",
    "std_inp_rob = 0.00\n",
    "\n",
    "rob_acc = 0.68\n",
    "rob_inp_atk = 0.93\n",
    "rob_inp_rob = 0.72"
   ]
  },
  {
   "cell_type": "code",
   "execution_count": null,
   "id": "b61fbb47",
   "metadata": {},
   "outputs": [],
   "source": [
    "def compute_model_robustness(model, data, target, eps, gam):\n",
    "    model.load_state_dict(torch.load('Models/%s.pt'%(MODEL_ID)))\n",
    "    grad = np.sum(np.squeeze(GradCertModule.InputGrad(model, data, targ).detach().numpy()), axis=-1)\n",
    "    model.inputfooling_ON()\n",
    "    succ, x_adv, grad_adv, targex = GradCertModule.run_model_attack(model, data, target=[5,5], gamma=gam, \n",
    "                                                      iterations=25, lr=0.001, shape=(3,28,28), label_reg=1.0)\n",
    "    #model.inputfooling_OFF()\n",
    "    grad_adv = np.sum(np.squeeze(grad_adv.detach().numpy()), axis=0)\n",
    "    #grad_adv = np.sum(np.squeeze(GradCertModule.InputGrad(model, data, targ).detach().numpy()), axis=-1)\n",
    "\n",
    "    adv_g = grad_adv\n",
    "    min_grad, max_grad = GradCertModule.GradCertBounds(model, data, target, eps, gam)\n",
    "    min_grad = np.sum(np.squeeze(min_grad.detach().numpy()), axis=-1).T\n",
    "    max_grad = np.sum(np.squeeze(max_grad.detach().numpy()), axis=-1).T\n",
    "\n",
    "    diff_up = max_grad - grad\n",
    "    diff_down = grad - min_grad\n",
    "    diff = np.maximum(diff_up, diff_down)\n",
    "    \n",
    "    loss_cert = ((diff)**2).mean()\n",
    "    loss_grad = (((grad - adv_g)/np.max(grad))**2).mean()\n",
    "    \n",
    "    return loss_cert, loss_grad\n",
    "\n",
    "mod_cert = 0\n",
    "mod_attk = 0\n",
    "for inp in range(100):\n",
    "    data = np.asarray(X_test[inp])\n",
    "    data = torch.Tensor(data)\n",
    "    targ = torch.Tensor([y_test[inp]]).to(torch.int64)\n",
    "    cert, attk = compute_model_robustness(model, data, targ, 0.01, 0.0)\n",
    "    #print(cert, attk)\n",
    "    if(cert <= 0.03):\n",
    "        mod_cert += 1\n",
    "    if(attk <= 0.03):\n",
    "        mod_attk += 1\n",
    "    #print(cert, attk)\n",
    "    #print(mod_cert, mod_attk)\n",
    "    \n",
    "print(mod_cert)\n",
    "print(mod_attk)\n",
    "\n",
    "\n",
    "rob_mod_atk = 0.72\n",
    "rob_mod_rob = 0.39\n",
    "std_mod_atk = 0.06\n",
    "std_mod_rob = 0.00\n",
    "\n"
   ]
  },
  {
   "cell_type": "code",
   "execution_count": null,
   "id": "f51b34b8",
   "metadata": {},
   "outputs": [],
   "source": [
    "\n",
    "std_acc = 0.88\n",
    "std_inp_atk = 0.58\n",
    "std_inp_rob = 0.00\n",
    "rob_acc = 0.68\n",
    "rob_inp_atk = 0.88\n",
    "rob_inp_rob = 0.49\n",
    "rob_mod_atk = 0.72\n",
    "rob_mod_rob = 0.39\n",
    "std_mod_atk = 0.06\n",
    "std_mod_rob = 0.00\n",
    "\n"
   ]
  }
 ],
 "metadata": {
  "kernelspec": {
   "display_name": "Python 3 (ipykernel)",
   "language": "python",
   "name": "python3"
  },
  "language_info": {
   "codemirror_mode": {
    "name": "ipython",
    "version": 3
   },
   "file_extension": ".py",
   "mimetype": "text/x-python",
   "name": "python",
   "nbconvert_exporter": "python",
   "pygments_lexer": "ipython3",
   "version": "3.7.13"
  }
 },
 "nbformat": 4,
 "nbformat_minor": 5
}
