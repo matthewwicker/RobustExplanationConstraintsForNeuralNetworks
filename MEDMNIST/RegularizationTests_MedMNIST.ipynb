{
 "cells": [
  {
   "cell_type": "code",
   "execution_count": 1,
   "id": "cc3f52b6",
   "metadata": {},
   "outputs": [
    {
     "name": "stderr",
     "output_type": "stream",
     "text": [
      "/Users/matthewwicker/opt/anaconda3/envs/FairnessAndPrivacy/lib/python3.7/site-packages/torchvision/io/image.py:13: UserWarning: Failed to load image Python extension: dlopen(/Users/matthewwicker/opt/anaconda3/envs/FairnessAndPrivacy/lib/python3.7/site-packages/torchvision/image.so, 6): Symbol not found: __ZN2at4_ops19empty_memory_format4callEN3c108ArrayRefIxEENS2_8optionalINS2_10ScalarTypeEEENS5_INS2_6LayoutEEENS5_INS2_6DeviceEEENS5_IbEENS5_INS2_12MemoryFormatEEE\n",
      "  Referenced from: /Users/matthewwicker/opt/anaconda3/envs/FairnessAndPrivacy/lib/python3.7/site-packages/torchvision/image.so\n",
      "  Expected in: /Users/matthewwicker/opt/anaconda3/envs/FairnessAndPrivacy/lib/python3.7/site-packages/torch/lib/libtorch_cpu.dylib\n",
      " in /Users/matthewwicker/opt/anaconda3/envs/FairnessAndPrivacy/lib/python3.7/site-packages/torchvision/image.so\n",
      "  warn(f\"Failed to load image Python extension: {e}\")\n"
     ]
    },
    {
     "name": "stdout",
     "output_type": "stream",
     "text": [
      "train:  (4708, 1, 28, 28)\n",
      "test:  (624, 1, 28, 28)\n"
     ]
    }
   ],
   "source": [
    "# Custom Imports\n",
    "import sys\n",
    "sys.path.append(\"..\")\n",
    "import GradCertModule\n",
    "import XAIArchitectures\n",
    "# Deep Learning Imports\n",
    "import torch\n",
    "import torch.nn as nn\n",
    "import torch.optim as optim\n",
    "from torch.nn import functional as F\n",
    "from torch.utils.data import Dataset\n",
    "from torch.utils.data import DataLoader\n",
    "from torchvision import models, transforms\n",
    "import pytorch_lightning as pl\n",
    "# Standard Lib Imports\n",
    "import math\n",
    "import numpy as np\n",
    "import pandas as pd\n",
    "import matplotlib.pyplot as plt\n",
    "\n",
    "\n",
    "#dataset = \"pathmnist\"\n",
    "#dataset = \"bloodmnist\"\n",
    "#dataset = \"retinamnist\"\n",
    "#dataset = \"dermamnist\"\n",
    "\n",
    "dataset = \"pneumoniamnist\"\n",
    "#dataset = \"tissuemnist\"\n",
    "\n",
    "data = np.load('Datasets/%s.npz'%(dataset))\n",
    "\n",
    "\n",
    "y_train = np.squeeze(data['train_labels'])\n",
    "y_val = np.squeeze(data['val_labels'])\n",
    "y_test = np.squeeze(data['test_labels'])\n",
    "\n",
    "\n",
    "if(dataset in [\"pathmnist\", \"bloodmnist\", \"retinamnist\", \"dermamnist\"]):\n",
    "    X_train = np.swapaxes(data['train_images'], 3, 1)/255.0\n",
    "    X_val = np.swapaxes(data['val_images'], 3, 1)/255.0\n",
    "    X_test = np.swapaxes(data['test_images'], 3, 1)/255.0\n",
    "    \n",
    "elif(dataset in [\"tissuemnist\", \"pneumoniamnist\"]):\n",
    "    X_train = data['train_images']/255.0\n",
    "    X_train = X_train[0:20000]\n",
    "    y_train = y_train[0:20000]\n",
    "    X_train = X_train[:,None]\n",
    "    X_val = data['val_images']/255.0\n",
    "    X_val = X_val[0:2000]\n",
    "    y_val = y_val[0:2000]\n",
    "    X_val = X_val[:,None]\n",
    "    X_test = data['test_images']/255.0\n",
    "    X_test = X_test[:,None]\n",
    "    \n",
    "#y_train = torch.nn.functional.one_hot(torch.Tensor(data['train_labels']).to(torch.int64), 10)\n",
    "#y_val = torch.nn.functional.one_hot(torch.Tensor(data['val_labels']).to(torch.int64), 10)\n",
    "#y_test = torch.nn.functional.one_hot(torch.Tensor(data['test_labels']).to(torch.int64), 10)\n",
    "\n",
    "print(\"train: \", X_train.shape)\n",
    "print(\"test: \", X_test.shape)\n",
    "\n",
    "class custDataset(Dataset):\n",
    "    def __init__(self, X, y):\n",
    "        self.X = torch.Tensor(X).float()\n",
    "        self.y = y\n",
    "        self.transform = transforms.Compose([transforms.ToTensor()])\n",
    "\n",
    "    def __len__(self):\n",
    "        return self.X.shape[0]\n",
    "        \n",
    "    def __getitem__(self, index):\n",
    "        return self.X[index], self.y[index]\n",
    "    \n",
    "\n",
    "CustTrain = custDataset(X_train, y_train)  \n",
    "CustVal = custDataset(X_val, y_val) \n",
    "CustTest = custDataset(X_test, y_test)\n",
    "\n",
    "class CustomDataModule(pl.LightningDataModule):\n",
    "    def __init__(self, train, val, test, batch_size=100):\n",
    "        super().__init__()\n",
    "        self.train_data = train\n",
    "        self.val_data = val\n",
    "        self.test_data = test\n",
    "        self.batch_size = batch_size\n",
    "        \n",
    "    def train_dataloader(self):\n",
    "        return DataLoader(self.train_data, batch_size=self.batch_size)\n",
    "\n",
    "    def val_dataloader(self):\n",
    "        return DataLoader(self.val_data, batch_size=self.batch_size)\n",
    "\n",
    "    def test_dataloader(self):\n",
    "        return DataLoader(self.test_data, batch_size=self.batch_size)\n",
    "    \n",
    "dm = CustomDataModule(CustTrain, CustVal, CustTest)"
   ]
  },
  {
   "cell_type": "code",
   "execution_count": 2,
   "id": "4ebd3acc",
   "metadata": {},
   "outputs": [],
   "source": [
    "ALPHA = 0.5            # Regularization Parameter (Weights the Reg. Term)\n",
    "EPSILON = 0.05        # Input Peturbation Budget at Training Time \n",
    "# L2 - 0.05\n",
    "# HESS - 0.025\n",
    "# PGD - 0.05\n",
    "# GNORM - 0.025\n",
    "# GSUMNORM - 0.02\n",
    "# GRAD - 0.05\n",
    "GAMMA = 0.00           # Model Peturbation Budget at Training Time \n",
    "                        #(Changed to proportional budget rather than absolute)\n",
    "    \n",
    "LEARN_RATE = 0.0025      # Learning Rate Hyperparameter\n",
    "HIDDEN_DIM = 100       # Hidden Neurons Hyperparameter\n",
    "HIDDEN_LAY = 1         # Hidden Layers Hyperparameter\n",
    "MAX_EPOCHS = 35\n",
    "\n",
    "EPSILON_LINEAR = True   # Put Epsilon on a Linear Schedule?\n",
    "GAMMA_LINEAR = True     # Put Gamma on a Linear Schedule?"
   ]
  },
  {
   "cell_type": "code",
   "execution_count": 3,
   "id": "111a43c1",
   "metadata": {},
   "outputs": [
    {
     "name": "stdout",
     "output_type": "stream",
     "text": [
      "SET MODE TO:  GRAD\n"
     ]
    }
   ],
   "source": [
    "#dm = medmnist_dm(batch_size=100, num_workers=0)\n",
    "\n",
    "if(ALPHA != 0):\n",
    "    mode = \"GRAD\"\n",
    "else:\n",
    "    mode = \"NONE\"\n",
    "if(dataset in [\"pathmnist\", \"bloodmnist\", \"retinamnist\"]):\n",
    "    model = XAIArchitectures.DeepMindSmall(dataset='MEDMNIST', mode = mode) \n",
    "elif(dataset == \"tissuemnist\"):\n",
    "    model = XAIArchitectures.DeepMindSmall(dataset='TISSUEMNIST', mode=mode)\n",
    "elif(dataset == \"dermamnist\"):\n",
    "    model = XAIArchitectures.DeepMindSmall(dataset='DERMAMNIST', mode=mode)\n",
    "else:\n",
    "    model = XAIArchitectures.FullyConnected(dataset='PNEUMONIAMNIST', mode=mode) \n",
    "    #model = XAIArchitectures.(dataset='PNEUMONIAMNIST', mode=\"GRAD\") \n",
    "\n",
    "model.set_params(alpha=ALPHA, epsilon=EPSILON, gamma=GAMMA,\n",
    "                learn_rate=LEARN_RATE, max_epochs=MAX_EPOCHS,\n",
    "                epsilon_linear=EPSILON_LINEAR,gamma_linear=GAMMA_LINEAR)\n",
    "\n",
    "#model.inputfooling_ON()"
   ]
  },
  {
   "cell_type": "code",
   "execution_count": 4,
   "id": "04a6ca45",
   "metadata": {},
   "outputs": [
    {
     "name": "stderr",
     "output_type": "stream",
     "text": [
      "GPU available: False, used: False\n",
      "TPU available: False, using: 0 TPU cores\n",
      "IPU available: False, using: 0 IPUs\n",
      "HPU available: False, using: 0 HPUs\n",
      "\n",
      "  | Name | Type       | Params\n",
      "------------------------------------\n",
      "0 | lays | ModuleList | 100 K \n",
      "1 | l1   | Linear     | 100 K \n",
      "2 | lf   | Linear     | 258   \n",
      "------------------------------------\n",
      "100 K     Trainable params\n",
      "0         Non-trainable params\n",
      "100 K     Total params\n",
      "0.403     Total estimated model params size (MB)\n"
     ]
    },
    {
     "data": {
      "application/vnd.jupyter.widget-view+json": {
       "model_id": "",
       "version_major": 2,
       "version_minor": 0
      },
      "text/plain": [
       "Sanity Checking: 0it [00:00, ?it/s]"
      ]
     },
     "metadata": {},
     "output_type": "display_data"
    },
    {
     "name": "stderr",
     "output_type": "stream",
     "text": [
      "/Users/matthewwicker/opt/anaconda3/envs/FairnessAndPrivacy/lib/python3.7/site-packages/pytorch_lightning/trainer/connectors/data_connector.py:245: PossibleUserWarning: The dataloader, val_dataloader 0, does not have many workers which may be a bottleneck. Consider increasing the value of the `num_workers` argument` (try 8 which is the number of cpus on this machine) in the `DataLoader` init to improve performance.\n",
      "  category=PossibleUserWarning,\n",
      "/Users/matthewwicker/opt/anaconda3/envs/FairnessAndPrivacy/lib/python3.7/site-packages/torchmetrics/utilities/prints.py:36: UserWarning: Torchmetrics v0.9 introduced a new argument class property called `full_state_update` that has\n",
      "                not been set for this class (_ResultMetric). The property determines if `update` by\n",
      "                default needs access to the full metric state. If this is not the case, significant speedups can be\n",
      "                achieved and we recommend setting this to `False`.\n",
      "                We provide an checking function\n",
      "                `from torchmetrics.utilities import check_forward_no_full_state`\n",
      "                that can be used to check if the `full_state_update=True` (old and potential slower behaviour,\n",
      "                default for now) or if `full_state_update=False` can be used safely.\n",
      "                \n",
      "  warnings.warn(*args, **kwargs)\n",
      "/Users/matthewwicker/opt/anaconda3/envs/FairnessAndPrivacy/lib/python3.7/site-packages/pytorch_lightning/trainer/connectors/data_connector.py:245: PossibleUserWarning: The dataloader, train_dataloader, does not have many workers which may be a bottleneck. Consider increasing the value of the `num_workers` argument` (try 8 which is the number of cpus on this machine) in the `DataLoader` init to improve performance.\n",
      "  category=PossibleUserWarning,\n",
      "/Users/matthewwicker/opt/anaconda3/envs/FairnessAndPrivacy/lib/python3.7/site-packages/pytorch_lightning/trainer/trainer.py:1937: PossibleUserWarning: The number of training batches (48) is smaller than the logging interval Trainer(log_every_n_steps=50). Set a lower value for log_every_n_steps if you want to see logs for the training epoch.\n",
      "  category=PossibleUserWarning,\n"
     ]
    },
    {
     "data": {
      "application/vnd.jupyter.widget-view+json": {
       "model_id": "99dd6d682e3a4d76b409980a982c5739",
       "version_major": 2,
       "version_minor": 0
      },
      "text/plain": [
       "Training: 0it [00:00, ?it/s]"
      ]
     },
     "metadata": {},
     "output_type": "display_data"
    },
    {
     "data": {
      "application/vnd.jupyter.widget-view+json": {
       "model_id": "",
       "version_major": 2,
       "version_minor": 0
      },
      "text/plain": [
       "Validation: 0it [00:00, ?it/s]"
      ]
     },
     "metadata": {},
     "output_type": "display_data"
    },
    {
     "data": {
      "application/vnd.jupyter.widget-view+json": {
       "model_id": "",
       "version_major": 2,
       "version_minor": 0
      },
      "text/plain": [
       "Validation: 0it [00:00, ?it/s]"
      ]
     },
     "metadata": {},
     "output_type": "display_data"
    },
    {
     "data": {
      "application/vnd.jupyter.widget-view+json": {
       "model_id": "",
       "version_major": 2,
       "version_minor": 0
      },
      "text/plain": [
       "Validation: 0it [00:00, ?it/s]"
      ]
     },
     "metadata": {},
     "output_type": "display_data"
    },
    {
     "data": {
      "application/vnd.jupyter.widget-view+json": {
       "model_id": "",
       "version_major": 2,
       "version_minor": 0
      },
      "text/plain": [
       "Validation: 0it [00:00, ?it/s]"
      ]
     },
     "metadata": {},
     "output_type": "display_data"
    },
    {
     "data": {
      "application/vnd.jupyter.widget-view+json": {
       "model_id": "",
       "version_major": 2,
       "version_minor": 0
      },
      "text/plain": [
       "Validation: 0it [00:00, ?it/s]"
      ]
     },
     "metadata": {},
     "output_type": "display_data"
    },
    {
     "data": {
      "application/vnd.jupyter.widget-view+json": {
       "model_id": "",
       "version_major": 2,
       "version_minor": 0
      },
      "text/plain": [
       "Validation: 0it [00:00, ?it/s]"
      ]
     },
     "metadata": {},
     "output_type": "display_data"
    },
    {
     "data": {
      "application/vnd.jupyter.widget-view+json": {
       "model_id": "",
       "version_major": 2,
       "version_minor": 0
      },
      "text/plain": [
       "Validation: 0it [00:00, ?it/s]"
      ]
     },
     "metadata": {},
     "output_type": "display_data"
    },
    {
     "data": {
      "application/vnd.jupyter.widget-view+json": {
       "model_id": "",
       "version_major": 2,
       "version_minor": 0
      },
      "text/plain": [
       "Validation: 0it [00:00, ?it/s]"
      ]
     },
     "metadata": {},
     "output_type": "display_data"
    },
    {
     "data": {
      "application/vnd.jupyter.widget-view+json": {
       "model_id": "",
       "version_major": 2,
       "version_minor": 0
      },
      "text/plain": [
       "Validation: 0it [00:00, ?it/s]"
      ]
     },
     "metadata": {},
     "output_type": "display_data"
    },
    {
     "data": {
      "application/vnd.jupyter.widget-view+json": {
       "model_id": "",
       "version_major": 2,
       "version_minor": 0
      },
      "text/plain": [
       "Validation: 0it [00:00, ?it/s]"
      ]
     },
     "metadata": {},
     "output_type": "display_data"
    },
    {
     "data": {
      "application/vnd.jupyter.widget-view+json": {
       "model_id": "",
       "version_major": 2,
       "version_minor": 0
      },
      "text/plain": [
       "Validation: 0it [00:00, ?it/s]"
      ]
     },
     "metadata": {},
     "output_type": "display_data"
    },
    {
     "data": {
      "application/vnd.jupyter.widget-view+json": {
       "model_id": "",
       "version_major": 2,
       "version_minor": 0
      },
      "text/plain": [
       "Validation: 0it [00:00, ?it/s]"
      ]
     },
     "metadata": {},
     "output_type": "display_data"
    },
    {
     "data": {
      "application/vnd.jupyter.widget-view+json": {
       "model_id": "",
       "version_major": 2,
       "version_minor": 0
      },
      "text/plain": [
       "Validation: 0it [00:00, ?it/s]"
      ]
     },
     "metadata": {},
     "output_type": "display_data"
    },
    {
     "data": {
      "application/vnd.jupyter.widget-view+json": {
       "model_id": "",
       "version_major": 2,
       "version_minor": 0
      },
      "text/plain": [
       "Validation: 0it [00:00, ?it/s]"
      ]
     },
     "metadata": {},
     "output_type": "display_data"
    },
    {
     "data": {
      "application/vnd.jupyter.widget-view+json": {
       "model_id": "",
       "version_major": 2,
       "version_minor": 0
      },
      "text/plain": [
       "Validation: 0it [00:00, ?it/s]"
      ]
     },
     "metadata": {},
     "output_type": "display_data"
    },
    {
     "data": {
      "application/vnd.jupyter.widget-view+json": {
       "model_id": "",
       "version_major": 2,
       "version_minor": 0
      },
      "text/plain": [
       "Validation: 0it [00:00, ?it/s]"
      ]
     },
     "metadata": {},
     "output_type": "display_data"
    },
    {
     "data": {
      "application/vnd.jupyter.widget-view+json": {
       "model_id": "",
       "version_major": 2,
       "version_minor": 0
      },
      "text/plain": [
       "Validation: 0it [00:00, ?it/s]"
      ]
     },
     "metadata": {},
     "output_type": "display_data"
    },
    {
     "data": {
      "application/vnd.jupyter.widget-view+json": {
       "model_id": "",
       "version_major": 2,
       "version_minor": 0
      },
      "text/plain": [
       "Validation: 0it [00:00, ?it/s]"
      ]
     },
     "metadata": {},
     "output_type": "display_data"
    },
    {
     "data": {
      "application/vnd.jupyter.widget-view+json": {
       "model_id": "",
       "version_major": 2,
       "version_minor": 0
      },
      "text/plain": [
       "Validation: 0it [00:00, ?it/s]"
      ]
     },
     "metadata": {},
     "output_type": "display_data"
    },
    {
     "data": {
      "application/vnd.jupyter.widget-view+json": {
       "model_id": "",
       "version_major": 2,
       "version_minor": 0
      },
      "text/plain": [
       "Validation: 0it [00:00, ?it/s]"
      ]
     },
     "metadata": {},
     "output_type": "display_data"
    },
    {
     "data": {
      "application/vnd.jupyter.widget-view+json": {
       "model_id": "",
       "version_major": 2,
       "version_minor": 0
      },
      "text/plain": [
       "Validation: 0it [00:00, ?it/s]"
      ]
     },
     "metadata": {},
     "output_type": "display_data"
    },
    {
     "data": {
      "application/vnd.jupyter.widget-view+json": {
       "model_id": "",
       "version_major": 2,
       "version_minor": 0
      },
      "text/plain": [
       "Validation: 0it [00:00, ?it/s]"
      ]
     },
     "metadata": {},
     "output_type": "display_data"
    },
    {
     "data": {
      "application/vnd.jupyter.widget-view+json": {
       "model_id": "",
       "version_major": 2,
       "version_minor": 0
      },
      "text/plain": [
       "Validation: 0it [00:00, ?it/s]"
      ]
     },
     "metadata": {},
     "output_type": "display_data"
    },
    {
     "data": {
      "application/vnd.jupyter.widget-view+json": {
       "model_id": "",
       "version_major": 2,
       "version_minor": 0
      },
      "text/plain": [
       "Validation: 0it [00:00, ?it/s]"
      ]
     },
     "metadata": {},
     "output_type": "display_data"
    },
    {
     "data": {
      "application/vnd.jupyter.widget-view+json": {
       "model_id": "",
       "version_major": 2,
       "version_minor": 0
      },
      "text/plain": [
       "Validation: 0it [00:00, ?it/s]"
      ]
     },
     "metadata": {},
     "output_type": "display_data"
    },
    {
     "data": {
      "application/vnd.jupyter.widget-view+json": {
       "model_id": "",
       "version_major": 2,
       "version_minor": 0
      },
      "text/plain": [
       "Validation: 0it [00:00, ?it/s]"
      ]
     },
     "metadata": {},
     "output_type": "display_data"
    },
    {
     "data": {
      "application/vnd.jupyter.widget-view+json": {
       "model_id": "",
       "version_major": 2,
       "version_minor": 0
      },
      "text/plain": [
       "Validation: 0it [00:00, ?it/s]"
      ]
     },
     "metadata": {},
     "output_type": "display_data"
    },
    {
     "data": {
      "application/vnd.jupyter.widget-view+json": {
       "model_id": "",
       "version_major": 2,
       "version_minor": 0
      },
      "text/plain": [
       "Validation: 0it [00:00, ?it/s]"
      ]
     },
     "metadata": {},
     "output_type": "display_data"
    },
    {
     "data": {
      "application/vnd.jupyter.widget-view+json": {
       "model_id": "",
       "version_major": 2,
       "version_minor": 0
      },
      "text/plain": [
       "Validation: 0it [00:00, ?it/s]"
      ]
     },
     "metadata": {},
     "output_type": "display_data"
    },
    {
     "data": {
      "application/vnd.jupyter.widget-view+json": {
       "model_id": "",
       "version_major": 2,
       "version_minor": 0
      },
      "text/plain": [
       "Validation: 0it [00:00, ?it/s]"
      ]
     },
     "metadata": {},
     "output_type": "display_data"
    },
    {
     "data": {
      "application/vnd.jupyter.widget-view+json": {
       "model_id": "",
       "version_major": 2,
       "version_minor": 0
      },
      "text/plain": [
       "Validation: 0it [00:00, ?it/s]"
      ]
     },
     "metadata": {},
     "output_type": "display_data"
    },
    {
     "data": {
      "application/vnd.jupyter.widget-view+json": {
       "model_id": "",
       "version_major": 2,
       "version_minor": 0
      },
      "text/plain": [
       "Validation: 0it [00:00, ?it/s]"
      ]
     },
     "metadata": {},
     "output_type": "display_data"
    },
    {
     "data": {
      "application/vnd.jupyter.widget-view+json": {
       "model_id": "",
       "version_major": 2,
       "version_minor": 0
      },
      "text/plain": [
       "Validation: 0it [00:00, ?it/s]"
      ]
     },
     "metadata": {},
     "output_type": "display_data"
    },
    {
     "data": {
      "application/vnd.jupyter.widget-view+json": {
       "model_id": "",
       "version_major": 2,
       "version_minor": 0
      },
      "text/plain": [
       "Validation: 0it [00:00, ?it/s]"
      ]
     },
     "metadata": {},
     "output_type": "display_data"
    },
    {
     "data": {
      "application/vnd.jupyter.widget-view+json": {
       "model_id": "",
       "version_major": 2,
       "version_minor": 0
      },
      "text/plain": [
       "Validation: 0it [00:00, ?it/s]"
      ]
     },
     "metadata": {},
     "output_type": "display_data"
    },
    {
     "name": "stderr",
     "output_type": "stream",
     "text": [
      "/Users/matthewwicker/opt/anaconda3/envs/FairnessAndPrivacy/lib/python3.7/site-packages/pytorch_lightning/trainer/connectors/data_connector.py:245: PossibleUserWarning: The dataloader, test_dataloader 0, does not have many workers which may be a bottleneck. Consider increasing the value of the `num_workers` argument` (try 8 which is the number of cpus on this machine) in the `DataLoader` init to improve performance.\n",
      "  category=PossibleUserWarning,\n"
     ]
    },
    {
     "data": {
      "application/vnd.jupyter.widget-view+json": {
       "model_id": "3bb789b094d648b2aec47ff027fc0ca5",
       "version_major": 2,
       "version_minor": 0
      },
      "text/plain": [
       "Testing: 0it [00:00, ?it/s]"
      ]
     },
     "metadata": {},
     "output_type": "display_data"
    },
    {
     "name": "stdout",
     "output_type": "stream",
     "text": [
      "────────────────────────────────────────────────────────────────────────────────────────────────────────────────────────\n",
      "       Test metric             DataLoader 0\n",
      "────────────────────────────────────────────────────────────────────────────────────────────────────────────────────────\n",
      "        test_acc            0.8254762291908264\n",
      "────────────────────────────────────────────────────────────────────────────────────────────────────────────────────────\n"
     ]
    }
   ],
   "source": [
    "\n",
    "trainer = pl.Trainer(max_epochs=MAX_EPOCHS, accelerator=\"cpu\", devices=1)\n",
    "trainer.fit(model, datamodule=dm)\n",
    "result = trainer.test(model, datamodule=dm)\n"
   ]
  },
  {
   "cell_type": "code",
   "execution_count": 5,
   "id": "74afe17a",
   "metadata": {},
   "outputs": [
    {
     "name": "stdout",
     "output_type": "stream",
     "text": [
      "0.8397435897435898\n"
     ]
    },
    {
     "name": "stderr",
     "output_type": "stream",
     "text": [
      "/Users/matthewwicker/opt/anaconda3/envs/FairnessAndPrivacy/lib/python3.7/site-packages/ipykernel_launcher.py:4: UserWarning: Creating a tensor from a list of numpy.ndarrays is extremely slow. Please consider converting the list to a single numpy.ndarray with numpy.array() before converting to a tensor. (Triggered internally at /Users/runner/work/pytorch/pytorch/pytorch/torch/csrc/utils/tensor_new.cpp:233.)\n",
      "  after removing the cwd from sys.path.\n"
     ]
    }
   ],
   "source": [
    "\n",
    "\n",
    "acc = 0\n",
    "for i in range(len(X_test)):\n",
    "    d = np.asarray(X_test[i]).reshape(1,28,28)\n",
    "    out, cls = model.classify(torch.Tensor([d]))\n",
    "    if(cls == y_test[i]):\n",
    "        acc += 1\n",
    "print(acc/len(X_test))\n"
   ]
  },
  {
   "cell_type": "code",
   "execution_count": 6,
   "id": "ca6d9594",
   "metadata": {},
   "outputs": [
    {
     "name": "stderr",
     "output_type": "stream",
     "text": [
      "Loss: 0.04166621342301369: 100%|███████████████| 20/20 [00:00<00:00, 235.19it/s]\n",
      "Loss: 0.04171841964125633: 100%|███████████████| 20/20 [00:00<00:00, 228.91it/s]\n",
      "Loss: 0.04172874614596367: 100%|███████████████| 20/20 [00:00<00:00, 165.67it/s]\n",
      "Loss: 0.040612347424030304: 100%|██████████████| 20/20 [00:00<00:00, 233.26it/s]\n",
      "Loss: 0.041713420301675797: 100%|██████████████| 20/20 [00:00<00:00, 235.27it/s]\n",
      "Loss: 0.04144960269331932: 100%|███████████████| 20/20 [00:00<00:00, 235.14it/s]\n",
      "Loss: 0.04301835224032402: 100%|███████████████| 20/20 [00:00<00:00, 236.63it/s]\n",
      "Loss: 0.04153203219175339: 100%|███████████████| 20/20 [00:00<00:00, 237.08it/s]\n",
      "Loss: 0.042121194303035736: 100%|██████████████| 20/20 [00:00<00:00, 237.25it/s]\n",
      "Loss: 0.04188556224107742: 100%|███████████████| 20/20 [00:00<00:00, 233.50it/s]\n",
      "Loss: 0.041255056858062744: 100%|██████████████| 20/20 [00:00<00:00, 215.19it/s]\n",
      "Loss: 0.04271663725376129: 100%|███████████████| 20/20 [00:00<00:00, 224.31it/s]\n",
      "Loss: 0.041863810271024704: 100%|██████████████| 20/20 [00:00<00:00, 223.13it/s]\n",
      "Loss: 0.04132203385233879: 100%|███████████████| 20/20 [00:00<00:00, 227.40it/s]\n",
      "Loss: 0.04121699556708336: 100%|███████████████| 20/20 [00:00<00:00, 224.68it/s]\n",
      "Loss: 0.041710224002599716: 100%|██████████████| 20/20 [00:00<00:00, 178.67it/s]\n",
      "Loss: 0.04140018671751022: 100%|███████████████| 20/20 [00:00<00:00, 233.08it/s]\n",
      "Loss: 0.040843334048986435: 100%|██████████████| 20/20 [00:00<00:00, 230.66it/s]\n",
      "Loss: 0.04182672128081322: 100%|███████████████| 20/20 [00:00<00:00, 222.51it/s]\n",
      "Loss: 0.040699563920497894: 100%|██████████████| 20/20 [00:00<00:00, 152.39it/s]\n",
      "Loss: 0.04060596227645874: 100%|███████████████| 20/20 [00:00<00:00, 222.47it/s]\n",
      "Loss: 0.04147404432296753: 100%|███████████████| 20/20 [00:00<00:00, 220.87it/s]\n",
      "Loss: 0.042404163628816605: 100%|██████████████| 20/20 [00:00<00:00, 218.79it/s]\n",
      "Loss: 0.043077126145362854: 100%|██████████████| 20/20 [00:00<00:00, 226.88it/s]\n",
      "Loss: 0.04176359623670578: 100%|███████████████| 20/20 [00:00<00:00, 225.73it/s]\n",
      "Loss: 0.040545880794525146: 100%|██████████████| 20/20 [00:00<00:00, 232.27it/s]\n",
      "Loss: 0.04169803112745285: 100%|███████████████| 20/20 [00:00<00:00, 229.38it/s]\n",
      "Loss: 0.0406666174530983: 100%|████████████████| 20/20 [00:00<00:00, 223.56it/s]\n",
      "Loss: 0.040585342794656754: 100%|██████████████| 20/20 [00:00<00:00, 230.18it/s]\n",
      "Loss: 0.041423581540584564: 100%|██████████████| 20/20 [00:00<00:00, 228.40it/s]\n",
      "Loss: 0.04071221873164177: 100%|███████████████| 20/20 [00:00<00:00, 222.16it/s]\n",
      "Loss: 0.04184485226869583: 100%|███████████████| 20/20 [00:00<00:00, 227.60it/s]\n",
      "Loss: 0.041707493364810944: 100%|██████████████| 20/20 [00:00<00:00, 227.17it/s]\n",
      "Loss: 0.04153037443757057: 100%|███████████████| 20/20 [00:00<00:00, 226.54it/s]\n",
      "Loss: 0.041510000824928284: 100%|██████████████| 20/20 [00:00<00:00, 187.93it/s]\n",
      "Loss: 0.04169846326112747: 100%|███████████████| 20/20 [00:00<00:00, 227.74it/s]\n",
      "Loss: 0.04078293219208717: 100%|███████████████| 20/20 [00:00<00:00, 227.10it/s]\n",
      "Loss: 0.04169505834579468: 100%|███████████████| 20/20 [00:00<00:00, 221.07it/s]\n",
      "Loss: 0.04063780605792999: 100%|███████████████| 20/20 [00:00<00:00, 226.38it/s]\n",
      "Loss: 0.0407528355717659: 100%|████████████████| 20/20 [00:00<00:00, 227.22it/s]\n",
      "Loss: 0.04136931523680687: 100%|███████████████| 20/20 [00:00<00:00, 224.51it/s]\n",
      "Loss: 0.0407135970890522: 100%|████████████████| 20/20 [00:00<00:00, 224.02it/s]\n",
      "Loss: 0.04060088098049164: 100%|███████████████| 20/20 [00:00<00:00, 223.60it/s]\n",
      "Loss: 0.04050924628973007: 100%|███████████████| 20/20 [00:00<00:00, 221.82it/s]\n",
      "Loss: 0.042681001126766205: 100%|██████████████| 20/20 [00:00<00:00, 223.35it/s]\n",
      "Loss: 0.041570112109184265: 100%|██████████████| 20/20 [00:00<00:00, 225.11it/s]\n",
      "Loss: 0.04059133678674698: 100%|███████████████| 20/20 [00:00<00:00, 223.84it/s]\n",
      "Loss: 0.04153883457183838: 100%|███████████████| 20/20 [00:00<00:00, 224.02it/s]\n",
      "Loss: 0.04230222851037979: 100%|███████████████| 20/20 [00:00<00:00, 225.71it/s]\n",
      "Loss: 0.0417105033993721: 100%|████████████████| 20/20 [00:00<00:00, 221.53it/s]\n",
      "Loss: 0.04057580605149269: 100%|███████████████| 20/20 [00:00<00:00, 222.35it/s]\n",
      "Loss: 0.041741743683815: 100%|█████████████████| 20/20 [00:00<00:00, 225.40it/s]\n",
      "Loss: 0.04062904790043831: 100%|███████████████| 20/20 [00:00<00:00, 225.62it/s]\n",
      "Loss: 0.04165199398994446: 100%|███████████████| 20/20 [00:00<00:00, 222.98it/s]\n",
      "Loss: 0.04060713201761246: 100%|███████████████| 20/20 [00:00<00:00, 223.84it/s]\n",
      "Loss: 0.04057707637548447: 100%|███████████████| 20/20 [00:00<00:00, 150.34it/s]\n",
      "Loss: 0.04176826775074005: 100%|███████████████| 20/20 [00:00<00:00, 222.52it/s]\n",
      "Loss: 0.040611013770103455: 100%|██████████████| 20/20 [00:00<00:00, 222.44it/s]\n",
      "Loss: 0.04255387559533119: 100%|███████████████| 20/20 [00:00<00:00, 218.83it/s]\n",
      "Loss: 0.042778924107551575: 100%|██████████████| 20/20 [00:00<00:00, 210.54it/s]\n",
      "Loss: 0.04060280695557594: 100%|███████████████| 20/20 [00:00<00:00, 208.47it/s]\n",
      "Loss: 0.042245134711265564: 100%|██████████████| 20/20 [00:00<00:00, 218.41it/s]\n",
      "Loss: 0.040593937039375305: 100%|██████████████| 20/20 [00:00<00:00, 217.92it/s]\n",
      "Loss: 0.04176294803619385: 100%|███████████████| 20/20 [00:00<00:00, 220.21it/s]\n",
      "Loss: 0.04153958708047867: 100%|███████████████| 20/20 [00:00<00:00, 222.62it/s]\n",
      "Loss: 0.041587650775909424: 100%|██████████████| 20/20 [00:00<00:00, 221.82it/s]\n",
      "Loss: 0.041112639009952545: 100%|██████████████| 20/20 [00:00<00:00, 212.93it/s]\n",
      "Loss: 0.04185517877340317: 100%|███████████████| 20/20 [00:00<00:00, 219.85it/s]\n",
      "Loss: 0.04054767265915871: 100%|███████████████| 20/20 [00:00<00:00, 220.81it/s]\n",
      "Loss: 0.04061751440167427: 100%|███████████████| 20/20 [00:00<00:00, 226.44it/s]\n",
      "Loss: 0.041839342564344406: 100%|██████████████| 20/20 [00:00<00:00, 228.48it/s]\n",
      "Loss: 0.04152737557888031: 100%|███████████████| 20/20 [00:00<00:00, 223.10it/s]\n",
      "Loss: 0.04050661623477936: 100%|███████████████| 20/20 [00:00<00:00, 218.38it/s]\n",
      "Loss: 0.04166777804493904: 100%|███████████████| 20/20 [00:00<00:00, 224.70it/s]\n",
      "Loss: 0.042772628366947174: 100%|██████████████| 20/20 [00:00<00:00, 221.83it/s]\n",
      "Loss: 0.04156685993075371: 100%|███████████████| 20/20 [00:00<00:00, 222.82it/s]\n",
      "Loss: 0.04319729283452034: 100%|███████████████| 20/20 [00:00<00:00, 226.87it/s]\n",
      "Loss: 0.04056325927376747: 100%|███████████████| 20/20 [00:00<00:00, 225.45it/s]\n",
      "Loss: 0.04190551117062569: 100%|███████████████| 20/20 [00:00<00:00, 221.84it/s]\n",
      "Loss: 0.04188121110200882: 100%|███████████████| 20/20 [00:00<00:00, 214.98it/s]\n",
      "Loss: 0.04155052825808525: 100%|███████████████| 20/20 [00:00<00:00, 222.37it/s]\n",
      "Loss: 0.041978005319833755: 100%|██████████████| 20/20 [00:00<00:00, 217.49it/s]\n",
      "Loss: 0.04174014925956726: 100%|███████████████| 20/20 [00:00<00:00, 221.00it/s]\n",
      "Loss: 0.04179612174630165: 100%|███████████████| 20/20 [00:00<00:00, 221.03it/s]\n",
      "Loss: 0.040607232600450516: 100%|██████████████| 20/20 [00:00<00:00, 221.96it/s]\n",
      "Loss: 0.041289858520030975: 100%|██████████████| 20/20 [00:00<00:00, 224.46it/s]\n",
      "Loss: 0.040552470833063126: 100%|██████████████| 20/20 [00:00<00:00, 225.41it/s]\n",
      "Loss: 0.04071403294801712: 100%|███████████████| 20/20 [00:00<00:00, 223.95it/s]\n",
      "Loss: 0.04138769209384918: 100%|███████████████| 20/20 [00:00<00:00, 223.23it/s]\n",
      "Loss: 0.040587395429611206: 100%|██████████████| 20/20 [00:00<00:00, 191.51it/s]\n",
      "Loss: 0.04123275354504585: 100%|███████████████| 20/20 [00:00<00:00, 222.77it/s]\n",
      "Loss: 0.041703514754772186: 100%|██████████████| 20/20 [00:00<00:00, 223.57it/s]\n",
      "Loss: 0.041834257543087006: 100%|██████████████| 20/20 [00:00<00:00, 220.74it/s]\n",
      "Loss: 0.04058634862303734: 100%|███████████████| 20/20 [00:00<00:00, 219.81it/s]\n",
      "Loss: 0.04129432141780853: 100%|███████████████| 20/20 [00:00<00:00, 224.16it/s]\n",
      "Loss: 0.04256020858883858: 100%|███████████████| 20/20 [00:00<00:00, 220.72it/s]\n",
      "Loss: 0.041959479451179504: 100%|██████████████| 20/20 [00:00<00:00, 217.94it/s]\n",
      "Loss: 0.04057806357741356: 100%|███████████████| 20/20 [00:00<00:00, 222.33it/s]\n",
      "Loss: 0.04056365415453911: 100%|███████████████| 20/20 [00:00<00:00, 225.45it/s]\n",
      "Loss: 0.041920095682144165: 100%|██████████████| 20/20 [00:00<00:00, 218.92it/s]\n"
     ]
    },
    {
     "name": "stdout",
     "output_type": "stream",
     "text": [
      "100\n",
      "100\n"
     ]
    }
   ],
   "source": [
    "\n",
    "def compute_input_robustness(model, data, target, eps, gam):\n",
    "    grad = np.squeeze(GradCertModule.InputGrad(model, data.reshape(1,28*28), targ, nclasses=2).detach().numpy())\n",
    "    model.inputfooling_ON()\n",
    "    succ, x_adv, grad_adv, targex, loss = GradCertModule.run_mnist_attack(model, data, target=[5,5], epsilon=eps*1.5, \n",
    "                                                  iterations=20, lr=0.01, shape=(28,28), label_reg=10.05) \n",
    "    model.inputfooling_OFF()\n",
    "    grad_adv = np.squeeze(GradCertModule.InputGrad(model, x_adv.reshape(28*28), targ, nclasses=2).detach().numpy())\n",
    "\n",
    "    adv_g = grad_adv\n",
    "    min_grad, max_grad = GradCertModule.GradCertBounds(model, data.reshape(1,28*28), target, eps, gam, nclasses=2)\n",
    "    min_grad = np.squeeze(min_grad.detach().numpy())\n",
    "    max_grad = np.squeeze(max_grad.detach().numpy())\n",
    "    \n",
    "\n",
    "    diff_up = max_grad - grad\n",
    "    diff_down = grad - min_grad\n",
    "    diff = np.maximum(diff_up, diff_down)\n",
    "    \n",
    "    loss_cert = ((diff)**2).mean()\n",
    "    loss_grad = (((grad - adv_g)/np.max(adv_g))**2).mean()\n",
    "    \n",
    "    #plt.imshow(grad.reshape(28,28), cmap='coolwarm')\n",
    "    #plt.colorbar()\n",
    "    #plt.show()\n",
    "    #plt.imshow(adv_g.reshape(28,28), cmap='coolwarm')\n",
    "    #plt.title(loss_grad)\n",
    "    #plt.colorbar()\n",
    "    #plt.show()\n",
    "    #plt.imshow(np.abs(grad.reshape(28,28) - adv_g.reshape(28,28)), cmap='coolwarm')\n",
    "    #plt.title(loss_grad)\n",
    "    #plt.colorbar()\n",
    "    #plt.show()\n",
    "    \n",
    "    return loss_cert, loss_grad\n",
    "\n",
    "in_cert = 0\n",
    "in_attk = 0\n",
    "for inp in range(100):\n",
    "    data = np.asarray(X_test[inp])\n",
    "    data = torch.Tensor(data)\n",
    "    targ = torch.Tensor([y_test[inp]]).to(torch.int64)\n",
    "    cert, attk = compute_input_robustness(model, data, targ, 0.025, 0.01)\n",
    "    #print(cert, attk)\n",
    "    if(cert <= 0.03):\n",
    "        in_cert += 1\n",
    "    if(attk <= 0.03):\n",
    "        in_attk += 1\n",
    "        \n",
    "print(in_cert)\n",
    "print(in_attk)\n"
   ]
  },
  {
   "cell_type": "code",
   "execution_count": 10,
   "id": "deb0fe64",
   "metadata": {},
   "outputs": [
    {
     "name": "stderr",
     "output_type": "stream",
     "text": [
      "/Users/matthewwicker/opt/anaconda3/envs/FairnessAndPrivacy/lib/python3.7/site-packages/ipykernel_launcher.py:24: UserWarning: FixedFormatter should only be used together with FixedLocator\n"
     ]
    },
    {
     "data": {
      "image/png": "[encoded data removed]",
      "text/plain": [
       "<Figure size 800x800 with 1 Axes>"
      ]
     },
     "metadata": {
      "needs_background": "light"
     },
     "output_type": "display_data"
    }
   ],
   "source": [
    "# GSUMNORM - 841, 100, 21\n",
    "import matplotlib\n",
    "import matplotlib.pyplot as plt\n",
    "import seaborn as sns\n",
    "#sns.set_style('darkgrid')\n",
    "sns.set_context('poster')\n",
    "plt.figure(figsize=(8, 8), dpi=100)\n",
    "ax = plt.gca()\n",
    "\n",
    "dataset = \"Pneumonia\"\n",
    "vals = [0.862, 1.00, 1.00]\n",
    "plt.bar([0,1,2], vals, color=['#0A369D', '#7D8CC4', '#D64045'])\n",
    "plt.title(\"Grad. Cert. on %s (FCN)\"%(dataset))\n",
    "plt.ylabel(\"Performance\")\n",
    "plt.xlabel(r\"Metric\")\n",
    "\n",
    "for i in range(3):\n",
    "    if(i==2):\n",
    "        plt.text(i, vals[i]/2, vals[i], ha = 'center', c='w')\n",
    "    else:\n",
    "        plt.text(i, vals[i]/2, vals[i], ha = 'center', c='w')\n",
    "        \n",
    "        \n",
    "ax.set_xticklabels(['', 'Acc.', 'Attk. Rob.', 'Cert. Rob'])\n",
    "plt.ylim((0,1.01))\n",
    "plt.show()\n"
   ]
  }
 ],
 "metadata": {
  "kernelspec": {
   "display_name": "Python 3 (ipykernel)",
   "language": "python",
   "name": "python3"
  },
  "language_info": {
   "codemirror_mode": {
    "name": "ipython",
    "version": 3
   },
   "file_extension": ".py",
   "mimetype": "text/x-python",
   "name": "python",
   "nbconvert_exporter": "python",
   "pygments_lexer": "ipython3",
   "version": "3.7.13"
  }
 },
 "nbformat": 4,
 "nbformat_minor": 5
}
