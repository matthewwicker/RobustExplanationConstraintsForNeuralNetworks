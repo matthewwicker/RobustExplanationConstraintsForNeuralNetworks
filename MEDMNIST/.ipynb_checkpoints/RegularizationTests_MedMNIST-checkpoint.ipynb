{
 "cells": [
  {
   "cell_type": "code",
   "execution_count": 1,
   "id": "cc3f52b6",
   "metadata": {},
   "outputs": [
    {
     "name": "stderr",
     "output_type": "stream",
     "text": [
      "/Users/matthewwicker/opt/anaconda3/envs/FairnessAndPrivacy/lib/python3.7/site-packages/torchvision/io/image.py:13: UserWarning: Failed to load image Python extension: dlopen(/Users/matthewwicker/opt/anaconda3/envs/FairnessAndPrivacy/lib/python3.7/site-packages/torchvision/image.so, 6): Symbol not found: __ZN2at4_ops19empty_memory_format4callEN3c108ArrayRefIxEENS2_8optionalINS2_10ScalarTypeEEENS5_INS2_6LayoutEEENS5_INS2_6DeviceEEENS5_IbEENS5_INS2_12MemoryFormatEEE\n",
      "  Referenced from: /Users/matthewwicker/opt/anaconda3/envs/FairnessAndPrivacy/lib/python3.7/site-packages/torchvision/image.so\n",
      "  Expected in: /Users/matthewwicker/opt/anaconda3/envs/FairnessAndPrivacy/lib/python3.7/site-packages/torch/lib/libtorch_cpu.dylib\n",
      " in /Users/matthewwicker/opt/anaconda3/envs/FairnessAndPrivacy/lib/python3.7/site-packages/torchvision/image.so\n",
      "  warn(f\"Failed to load image Python extension: {e}\")\n"
     ]
    },
    {
     "name": "stdout",
     "output_type": "stream",
     "text": [
      "train:  (4708, 1, 28, 28)\n",
      "test:  (624, 1, 28, 28)\n"
     ]
    }
   ],
   "source": [
    "# Custom Imports\n",
    "import sys\n",
    "sys.path.append(\"..\")\n",
    "import GradCertModule\n",
    "import XAIArchitectures\n",
    "# Deep Learning Imports\n",
    "import torch\n",
    "import torch.nn as nn\n",
    "import torch.optim as optim\n",
    "from torch.nn import functional as F\n",
    "from torch.utils.data import Dataset\n",
    "from torch.utils.data import DataLoader\n",
    "from torchvision import models, transforms\n",
    "import pytorch_lightning as pl\n",
    "# Standard Lib Imports\n",
    "import math\n",
    "import numpy as np\n",
    "import pandas as pd\n",
    "import matplotlib.pyplot as plt\n",
    "\n",
    "\n",
    "#dataset = \"pathmnist\"\n",
    "#dataset = \"bloodmnist\"\n",
    "#dataset = \"retinamnist\"\n",
    "#dataset = \"dermamnist\"\n",
    "\n",
    "dataset = \"pneumoniamnist\"\n",
    "#dataset = \"tissuemnist\"\n",
    "\n",
    "data = np.load('Datasets/%s.npz'%(dataset))\n",
    "\n",
    "\n",
    "y_train = np.squeeze(data['train_labels'])\n",
    "y_val = np.squeeze(data['val_labels'])\n",
    "y_test = np.squeeze(data['test_labels'])\n",
    "\n",
    "\n",
    "if(dataset in [\"pathmnist\", \"bloodmnist\", \"retinamnist\", \"dermamnist\"]):\n",
    "    X_train = np.swapaxes(data['train_images'], 3, 1)/255.0\n",
    "    X_val = np.swapaxes(data['val_images'], 3, 1)/255.0\n",
    "    X_test = np.swapaxes(data['test_images'], 3, 1)/255.0\n",
    "    \n",
    "elif(dataset in [\"tissuemnist\", \"pneumoniamnist\"]):\n",
    "    X_train = data['train_images']/255.0\n",
    "    X_train = X_train[0:20000]\n",
    "    y_train = y_train[0:20000]\n",
    "    X_train = X_train[:,None]\n",
    "    X_val = data['val_images']/255.0\n",
    "    X_val = X_val[0:2000]\n",
    "    y_val = y_val[0:2000]\n",
    "    X_val = X_val[:,None]\n",
    "    X_test = data['test_images']/255.0\n",
    "    X_test = X_test[:,None]\n",
    "    \n",
    "#y_train = torch.nn.functional.one_hot(torch.Tensor(data['train_labels']).to(torch.int64), 10)\n",
    "#y_val = torch.nn.functional.one_hot(torch.Tensor(data['val_labels']).to(torch.int64), 10)\n",
    "#y_test = torch.nn.functional.one_hot(torch.Tensor(data['test_labels']).to(torch.int64), 10)\n",
    "\n",
    "print(\"train: \", X_train.shape)\n",
    "print(\"test: \", X_test.shape)\n",
    "\n",
    "class custDataset(Dataset):\n",
    "    def __init__(self, X, y):\n",
    "        self.X = torch.Tensor(X).float()\n",
    "        self.y = y\n",
    "        self.transform = transforms.Compose([transforms.ToTensor()])\n",
    "\n",
    "    def __len__(self):\n",
    "        return self.X.shape[0]\n",
    "        \n",
    "    def __getitem__(self, index):\n",
    "        return self.X[index], self.y[index]\n",
    "    \n",
    "\n",
    "CustTrain = custDataset(X_train, y_train)  \n",
    "CustVal = custDataset(X_val, y_val) \n",
    "CustTest = custDataset(X_test, y_test)\n",
    "\n",
    "class CustomDataModule(pl.LightningDataModule):\n",
    "    def __init__(self, train, val, test, batch_size=100):\n",
    "        super().__init__()\n",
    "        self.train_data = train\n",
    "        self.val_data = val\n",
    "        self.test_data = test\n",
    "        self.batch_size = batch_size\n",
    "        \n",
    "    def train_dataloader(self):\n",
    "        return DataLoader(self.train_data, batch_size=self.batch_size)\n",
    "\n",
    "    def val_dataloader(self):\n",
    "        return DataLoader(self.val_data, batch_size=self.batch_size)\n",
    "\n",
    "    def test_dataloader(self):\n",
    "        return DataLoader(self.test_data, batch_size=self.batch_size)\n",
    "    \n",
    "dm = CustomDataModule(CustTrain, CustVal, CustTest)"
   ]
  },
  {
   "cell_type": "code",
   "execution_count": 2,
   "id": "4ebd3acc",
   "metadata": {},
   "outputs": [],
   "source": [
    "ALPHA = 0.5            # Regularization Parameter (Weights the Reg. Term)\n",
    "EPSILON = 0.05        # Input Peturbation Budget at Training Time \n",
    "# L2 - 0.05\n",
    "# HESS - 0.025\n",
    "# PGD - 0.05\n",
    "# GNORM - 0.025\n",
    "# GSUMNORM - 0.02\n",
    "# GRAD - 0.05\n",
    "GAMMA = 0.00           # Model Peturbation Budget at Training Time \n",
    "                        #(Changed to proportional budget rather than absolute)\n",
    "    \n",
    "LEARN_RATE = 0.0025      # Learning Rate Hyperparameter\n",
    "HIDDEN_DIM = 100       # Hidden Neurons Hyperparameter\n",
    "HIDDEN_LAY = 1         # Hidden Layers Hyperparameter\n",
    "MAX_EPOCHS = 35\n",
    "\n",
    "EPSILON_LINEAR = True   # Put Epsilon on a Linear Schedule?\n",
    "GAMMA_LINEAR = True     # Put Gamma on a Linear Schedule?"
   ]
  },
  {
   "cell_type": "code",
   "execution_count": 3,
   "id": "111a43c1",
   "metadata": {},
   "outputs": [
    {
     "name": "stdout",
     "output_type": "stream",
     "text": [
      "SET MODE TO:  IGSUMNORM\n"
     ]
    }
   ],
   "source": [
    "#dm = medmnist_dm(batch_size=100, num_workers=0)\n",
    "\n",
    "if(ALPHA != 0):\n",
    "    mode = \"GRAD\"\n",
    "else:\n",
    "    mode = \"NONE\"\n",
    "if(dataset in [\"pathmnist\", \"bloodmnist\", \"retinamnist\"]):\n",
    "    model = XAIArchitectures.DeepMindSmall(dataset='MEDMNIST', mode = mode) \n",
    "elif(dataset == \"tissuemnist\"):\n",
    "    model = XAIArchitectures.DeepMindSmall(dataset='TISSUEMNIST', mode=mode)\n",
    "elif(dataset == \"dermamnist\"):\n",
    "    model = XAIArchitectures.DeepMindSmall(dataset='DERMAMNIST', mode=mode)\n",
    "else:\n",
    "    model = XAIArchitectures.FullyConnected(dataset='PNEUMONIAMNIST', mode=mode) \n",
    "    #model = XAIArchitectures.(dataset='PNEUMONIAMNIST', mode=\"GRAD\") \n",
    "\n",
    "model.set_params(alpha=ALPHA, epsilon=EPSILON, gamma=GAMMA,\n",
    "                learn_rate=LEARN_RATE, max_epochs=MAX_EPOCHS,\n",
    "                epsilon_linear=EPSILON_LINEAR,gamma_linear=GAMMA_LINEAR)\n",
    "\n",
    "#model.inputfooling_ON()"
   ]
  },
  {
   "cell_type": "code",
   "execution_count": 4,
   "id": "04a6ca45",
   "metadata": {},
   "outputs": [
    {
     "name": "stderr",
     "output_type": "stream",
     "text": [
      "GPU available: False, used: False\n",
      "TPU available: False, using: 0 TPU cores\n",
      "IPU available: False, using: 0 IPUs\n",
      "HPU available: False, using: 0 HPUs\n",
      "\n",
      "  | Name | Type       | Params\n",
      "------------------------------------\n",
      "0 | lays | ModuleList | 100 K \n",
      "1 | l1   | Linear     | 100 K \n",
      "2 | lf   | Linear     | 258   \n",
      "------------------------------------\n",
      "100 K     Trainable params\n",
      "0         Non-trainable params\n",
      "100 K     Total params\n",
      "0.403     Total estimated model params size (MB)\n"
     ]
    },
    {
     "data": {
      "application/vnd.jupyter.widget-view+json": {
       "model_id": "",
       "version_major": 2,
       "version_minor": 0
      },
      "text/plain": [
       "Sanity Checking: 0it [00:00, ?it/s]"
      ]
     },
     "metadata": {},
     "output_type": "display_data"
    },
    {
     "name": "stderr",
     "output_type": "stream",
     "text": [
      "/Users/matthewwicker/opt/anaconda3/envs/FairnessAndPrivacy/lib/python3.7/site-packages/pytorch_lightning/trainer/connectors/data_connector.py:245: PossibleUserWarning: The dataloader, val_dataloader 0, does not have many workers which may be a bottleneck. Consider increasing the value of the `num_workers` argument` (try 8 which is the number of cpus on this machine) in the `DataLoader` init to improve performance.\n",
      "  category=PossibleUserWarning,\n",
      "/Users/matthewwicker/opt/anaconda3/envs/FairnessAndPrivacy/lib/python3.7/site-packages/torchmetrics/utilities/prints.py:36: UserWarning: Torchmetrics v0.9 introduced a new argument class property called `full_state_update` that has\n",
      "                not been set for this class (_ResultMetric). The property determines if `update` by\n",
      "                default needs access to the full metric state. If this is not the case, significant speedups can be\n",
      "                achieved and we recommend setting this to `False`.\n",
      "                We provide an checking function\n",
      "                `from torchmetrics.utilities import check_forward_no_full_state`\n",
      "                that can be used to check if the `full_state_update=True` (old and potential slower behaviour,\n",
      "                default for now) or if `full_state_update=False` can be used safely.\n",
      "                \n",
      "  warnings.warn(*args, **kwargs)\n",
      "/Users/matthewwicker/opt/anaconda3/envs/FairnessAndPrivacy/lib/python3.7/site-packages/pytorch_lightning/trainer/connectors/data_connector.py:245: PossibleUserWarning: The dataloader, train_dataloader, does not have many workers which may be a bottleneck. Consider increasing the value of the `num_workers` argument` (try 8 which is the number of cpus on this machine) in the `DataLoader` init to improve performance.\n",
      "  category=PossibleUserWarning,\n",
      "/Users/matthewwicker/opt/anaconda3/envs/FairnessAndPrivacy/lib/python3.7/site-packages/pytorch_lightning/trainer/trainer.py:1937: PossibleUserWarning: The number of training batches (48) is smaller than the logging interval Trainer(log_every_n_steps=50). Set a lower value for log_every_n_steps if you want to see logs for the training epoch.\n",
      "  category=PossibleUserWarning,\n"
     ]
    },
    {
     "data": {
      "application/vnd.jupyter.widget-view+json": {
       "model_id": "3fcf70143afb43f2a7bd4d241a7b4849",
       "version_major": 2,
       "version_minor": 0
      },
      "text/plain": [
       "Training: 0it [00:00, ?it/s]"
      ]
     },
     "metadata": {},
     "output_type": "display_data"
    },
    {
     "name": "stderr",
     "output_type": "stream",
     "text": [
      "../GradCertModule.py:427: UserWarning: indexing with dtype torch.uint8 is now deprecated, please use a dtype torch.bool instead. (Triggered internally at /Users/runner/work/pytorch/pytorch/pytorch/aten/src/ATen/native/IndexingUtils.h:28.)\n",
      "  criterion_fn = lambda output, y: output[range(len(y)), y].sum()\n"
     ]
    },
    {
     "data": {
      "application/vnd.jupyter.widget-view+json": {
       "model_id": "",
       "version_major": 2,
       "version_minor": 0
      },
      "text/plain": [
       "Validation: 0it [00:00, ?it/s]"
      ]
     },
     "metadata": {},
     "output_type": "display_data"
    },
    {
     "data": {
      "application/vnd.jupyter.widget-view+json": {
       "model_id": "",
       "version_major": 2,
       "version_minor": 0
      },
      "text/plain": [
       "Validation: 0it [00:00, ?it/s]"
      ]
     },
     "metadata": {},
     "output_type": "display_data"
    },
    {
     "data": {
      "application/vnd.jupyter.widget-view+json": {
       "model_id": "",
       "version_major": 2,
       "version_minor": 0
      },
      "text/plain": [
       "Validation: 0it [00:00, ?it/s]"
      ]
     },
     "metadata": {},
     "output_type": "display_data"
    },
    {
     "data": {
      "application/vnd.jupyter.widget-view+json": {
       "model_id": "",
       "version_major": 2,
       "version_minor": 0
      },
      "text/plain": [
       "Validation: 0it [00:00, ?it/s]"
      ]
     },
     "metadata": {},
     "output_type": "display_data"
    },
    {
     "data": {
      "application/vnd.jupyter.widget-view+json": {
       "model_id": "",
       "version_major": 2,
       "version_minor": 0
      },
      "text/plain": [
       "Validation: 0it [00:00, ?it/s]"
      ]
     },
     "metadata": {},
     "output_type": "display_data"
    },
    {
     "data": {
      "application/vnd.jupyter.widget-view+json": {
       "model_id": "",
       "version_major": 2,
       "version_minor": 0
      },
      "text/plain": [
       "Validation: 0it [00:00, ?it/s]"
      ]
     },
     "metadata": {},
     "output_type": "display_data"
    },
    {
     "data": {
      "application/vnd.jupyter.widget-view+json": {
       "model_id": "",
       "version_major": 2,
       "version_minor": 0
      },
      "text/plain": [
       "Validation: 0it [00:00, ?it/s]"
      ]
     },
     "metadata": {},
     "output_type": "display_data"
    },
    {
     "data": {
      "application/vnd.jupyter.widget-view+json": {
       "model_id": "",
       "version_major": 2,
       "version_minor": 0
      },
      "text/plain": [
       "Validation: 0it [00:00, ?it/s]"
      ]
     },
     "metadata": {},
     "output_type": "display_data"
    },
    {
     "data": {
      "application/vnd.jupyter.widget-view+json": {
       "model_id": "",
       "version_major": 2,
       "version_minor": 0
      },
      "text/plain": [
       "Validation: 0it [00:00, ?it/s]"
      ]
     },
     "metadata": {},
     "output_type": "display_data"
    },
    {
     "data": {
      "application/vnd.jupyter.widget-view+json": {
       "model_id": "",
       "version_major": 2,
       "version_minor": 0
      },
      "text/plain": [
       "Validation: 0it [00:00, ?it/s]"
      ]
     },
     "metadata": {},
     "output_type": "display_data"
    },
    {
     "data": {
      "application/vnd.jupyter.widget-view+json": {
       "model_id": "",
       "version_major": 2,
       "version_minor": 0
      },
      "text/plain": [
       "Validation: 0it [00:00, ?it/s]"
      ]
     },
     "metadata": {},
     "output_type": "display_data"
    },
    {
     "data": {
      "application/vnd.jupyter.widget-view+json": {
       "model_id": "",
       "version_major": 2,
       "version_minor": 0
      },
      "text/plain": [
       "Validation: 0it [00:00, ?it/s]"
      ]
     },
     "metadata": {},
     "output_type": "display_data"
    },
    {
     "data": {
      "application/vnd.jupyter.widget-view+json": {
       "model_id": "",
       "version_major": 2,
       "version_minor": 0
      },
      "text/plain": [
       "Validation: 0it [00:00, ?it/s]"
      ]
     },
     "metadata": {},
     "output_type": "display_data"
    },
    {
     "data": {
      "application/vnd.jupyter.widget-view+json": {
       "model_id": "",
       "version_major": 2,
       "version_minor": 0
      },
      "text/plain": [
       "Validation: 0it [00:00, ?it/s]"
      ]
     },
     "metadata": {},
     "output_type": "display_data"
    },
    {
     "data": {
      "application/vnd.jupyter.widget-view+json": {
       "model_id": "",
       "version_major": 2,
       "version_minor": 0
      },
      "text/plain": [
       "Validation: 0it [00:00, ?it/s]"
      ]
     },
     "metadata": {},
     "output_type": "display_data"
    },
    {
     "data": {
      "application/vnd.jupyter.widget-view+json": {
       "model_id": "",
       "version_major": 2,
       "version_minor": 0
      },
      "text/plain": [
       "Validation: 0it [00:00, ?it/s]"
      ]
     },
     "metadata": {},
     "output_type": "display_data"
    },
    {
     "data": {
      "application/vnd.jupyter.widget-view+json": {
       "model_id": "",
       "version_major": 2,
       "version_minor": 0
      },
      "text/plain": [
       "Validation: 0it [00:00, ?it/s]"
      ]
     },
     "metadata": {},
     "output_type": "display_data"
    },
    {
     "data": {
      "application/vnd.jupyter.widget-view+json": {
       "model_id": "",
       "version_major": 2,
       "version_minor": 0
      },
      "text/plain": [
       "Validation: 0it [00:00, ?it/s]"
      ]
     },
     "metadata": {},
     "output_type": "display_data"
    },
    {
     "data": {
      "application/vnd.jupyter.widget-view+json": {
       "model_id": "",
       "version_major": 2,
       "version_minor": 0
      },
      "text/plain": [
       "Validation: 0it [00:00, ?it/s]"
      ]
     },
     "metadata": {},
     "output_type": "display_data"
    },
    {
     "data": {
      "application/vnd.jupyter.widget-view+json": {
       "model_id": "",
       "version_major": 2,
       "version_minor": 0
      },
      "text/plain": [
       "Validation: 0it [00:00, ?it/s]"
      ]
     },
     "metadata": {},
     "output_type": "display_data"
    },
    {
     "data": {
      "application/vnd.jupyter.widget-view+json": {
       "model_id": "",
       "version_major": 2,
       "version_minor": 0
      },
      "text/plain": [
       "Validation: 0it [00:00, ?it/s]"
      ]
     },
     "metadata": {},
     "output_type": "display_data"
    },
    {
     "data": {
      "application/vnd.jupyter.widget-view+json": {
       "model_id": "",
       "version_major": 2,
       "version_minor": 0
      },
      "text/plain": [
       "Validation: 0it [00:00, ?it/s]"
      ]
     },
     "metadata": {},
     "output_type": "display_data"
    },
    {
     "data": {
      "application/vnd.jupyter.widget-view+json": {
       "model_id": "",
       "version_major": 2,
       "version_minor": 0
      },
      "text/plain": [
       "Validation: 0it [00:00, ?it/s]"
      ]
     },
     "metadata": {},
     "output_type": "display_data"
    },
    {
     "data": {
      "application/vnd.jupyter.widget-view+json": {
       "model_id": "",
       "version_major": 2,
       "version_minor": 0
      },
      "text/plain": [
       "Validation: 0it [00:00, ?it/s]"
      ]
     },
     "metadata": {},
     "output_type": "display_data"
    },
    {
     "data": {
      "application/vnd.jupyter.widget-view+json": {
       "model_id": "",
       "version_major": 2,
       "version_minor": 0
      },
      "text/plain": [
       "Validation: 0it [00:00, ?it/s]"
      ]
     },
     "metadata": {},
     "output_type": "display_data"
    },
    {
     "data": {
      "application/vnd.jupyter.widget-view+json": {
       "model_id": "",
       "version_major": 2,
       "version_minor": 0
      },
      "text/plain": [
       "Validation: 0it [00:00, ?it/s]"
      ]
     },
     "metadata": {},
     "output_type": "display_data"
    },
    {
     "data": {
      "application/vnd.jupyter.widget-view+json": {
       "model_id": "",
       "version_major": 2,
       "version_minor": 0
      },
      "text/plain": [
       "Validation: 0it [00:00, ?it/s]"
      ]
     },
     "metadata": {},
     "output_type": "display_data"
    },
    {
     "data": {
      "application/vnd.jupyter.widget-view+json": {
       "model_id": "",
       "version_major": 2,
       "version_minor": 0
      },
      "text/plain": [
       "Validation: 0it [00:00, ?it/s]"
      ]
     },
     "metadata": {},
     "output_type": "display_data"
    },
    {
     "data": {
      "application/vnd.jupyter.widget-view+json": {
       "model_id": "",
       "version_major": 2,
       "version_minor": 0
      },
      "text/plain": [
       "Validation: 0it [00:00, ?it/s]"
      ]
     },
     "metadata": {},
     "output_type": "display_data"
    },
    {
     "data": {
      "application/vnd.jupyter.widget-view+json": {
       "model_id": "",
       "version_major": 2,
       "version_minor": 0
      },
      "text/plain": [
       "Validation: 0it [00:00, ?it/s]"
      ]
     },
     "metadata": {},
     "output_type": "display_data"
    },
    {
     "data": {
      "application/vnd.jupyter.widget-view+json": {
       "model_id": "",
       "version_major": 2,
       "version_minor": 0
      },
      "text/plain": [
       "Validation: 0it [00:00, ?it/s]"
      ]
     },
     "metadata": {},
     "output_type": "display_data"
    },
    {
     "data": {
      "application/vnd.jupyter.widget-view+json": {
       "model_id": "",
       "version_major": 2,
       "version_minor": 0
      },
      "text/plain": [
       "Validation: 0it [00:00, ?it/s]"
      ]
     },
     "metadata": {},
     "output_type": "display_data"
    },
    {
     "data": {
      "application/vnd.jupyter.widget-view+json": {
       "model_id": "",
       "version_major": 2,
       "version_minor": 0
      },
      "text/plain": [
       "Validation: 0it [00:00, ?it/s]"
      ]
     },
     "metadata": {},
     "output_type": "display_data"
    },
    {
     "data": {
      "application/vnd.jupyter.widget-view+json": {
       "model_id": "",
       "version_major": 2,
       "version_minor": 0
      },
      "text/plain": [
       "Validation: 0it [00:00, ?it/s]"
      ]
     },
     "metadata": {},
     "output_type": "display_data"
    },
    {
     "data": {
      "application/vnd.jupyter.widget-view+json": {
       "model_id": "",
       "version_major": 2,
       "version_minor": 0
      },
      "text/plain": [
       "Validation: 0it [00:00, ?it/s]"
      ]
     },
     "metadata": {},
     "output_type": "display_data"
    },
    {
     "name": "stderr",
     "output_type": "stream",
     "text": [
      "/Users/matthewwicker/opt/anaconda3/envs/FairnessAndPrivacy/lib/python3.7/site-packages/pytorch_lightning/trainer/connectors/data_connector.py:245: PossibleUserWarning: The dataloader, test_dataloader 0, does not have many workers which may be a bottleneck. Consider increasing the value of the `num_workers` argument` (try 8 which is the number of cpus on this machine) in the `DataLoader` init to improve performance.\n",
      "  category=PossibleUserWarning,\n"
     ]
    },
    {
     "data": {
      "application/vnd.jupyter.widget-view+json": {
       "model_id": "d5fb4ccfbd3b461bbc8cae60208c9163",
       "version_major": 2,
       "version_minor": 0
      },
      "text/plain": [
       "Testing: 0it [00:00, ?it/s]"
      ]
     },
     "metadata": {},
     "output_type": "display_data"
    },
    {
     "name": "stdout",
     "output_type": "stream",
     "text": [
      "────────────────────────────────────────────────────────────────────────────────────────────────────────────────────────\n",
      "       Test metric             DataLoader 0\n",
      "────────────────────────────────────────────────────────────────────────────────────────────────────────────────────────\n",
      "        test_acc            0.8504761457443237\n",
      "────────────────────────────────────────────────────────────────────────────────────────────────────────────────────────\n"
     ]
    }
   ],
   "source": [
    "\n",
    "trainer = pl.Trainer(max_epochs=MAX_EPOCHS, accelerator=\"cpu\", devices=1)\n",
    "trainer.fit(model, datamodule=dm)\n",
    "result = trainer.test(model, datamodule=dm)\n"
   ]
  },
  {
   "cell_type": "code",
   "execution_count": 5,
   "id": "74afe17a",
   "metadata": {},
   "outputs": [
    {
     "name": "stdout",
     "output_type": "stream",
     "text": [
      "0.8525641025641025\n"
     ]
    },
    {
     "name": "stderr",
     "output_type": "stream",
     "text": [
      "/Users/matthewwicker/opt/anaconda3/envs/FairnessAndPrivacy/lib/python3.7/site-packages/ipykernel_launcher.py:4: UserWarning: Creating a tensor from a list of numpy.ndarrays is extremely slow. Please consider converting the list to a single numpy.ndarray with numpy.array() before converting to a tensor. (Triggered internally at /Users/runner/work/pytorch/pytorch/pytorch/torch/csrc/utils/tensor_new.cpp:233.)\n",
      "  after removing the cwd from sys.path.\n"
     ]
    }
   ],
   "source": [
    "\n",
    "\n",
    "acc = 0\n",
    "for i in range(len(X_test)):\n",
    "    d = np.asarray(X_test[i]).reshape(1,28,28)\n",
    "    out, cls = model.classify(torch.Tensor([d]))\n",
    "    if(cls == y_test[i]):\n",
    "        acc += 1\n",
    "print(acc/len(X_test))\n"
   ]
  },
  {
   "cell_type": "code",
   "execution_count": 6,
   "id": "ca6d9594",
   "metadata": {},
   "outputs": [
    {
     "name": "stderr",
     "output_type": "stream",
     "text": [
      "Loss: 0.041683074086904526: 100%|██████████████| 20/20 [00:00<00:00, 233.51it/s]\n",
      "Loss: 0.041825827211141586: 100%|██████████████| 20/20 [00:00<00:00, 239.01it/s]\n",
      "Loss: 0.043159957975149155: 100%|██████████████| 20/20 [00:00<00:00, 237.18it/s]\n",
      "Loss: 0.04064725711941719: 100%|███████████████| 20/20 [00:00<00:00, 240.70it/s]\n",
      "Loss: 0.04146919026970863: 100%|███████████████| 20/20 [00:00<00:00, 238.64it/s]\n",
      "Loss: 0.04139244556427002: 100%|███████████████| 20/20 [00:00<00:00, 202.39it/s]\n",
      "Loss: 0.0421234592795372: 100%|████████████████| 20/20 [00:00<00:00, 244.08it/s]\n",
      "Loss: 0.04154828190803528: 100%|███████████████| 20/20 [00:00<00:00, 241.03it/s]\n",
      "Loss: 0.041860152035951614: 100%|██████████████| 20/20 [00:00<00:00, 240.91it/s]\n",
      "Loss: 0.04212867096066475: 100%|███████████████| 20/20 [00:00<00:00, 232.21it/s]\n",
      "Loss: 0.04127030447125435: 100%|███████████████| 20/20 [00:00<00:00, 227.23it/s]\n",
      "Loss: 0.04247628152370453: 100%|███████████████| 20/20 [00:00<00:00, 238.79it/s]\n",
      "Loss: 0.041955117136240005: 100%|██████████████| 20/20 [00:00<00:00, 237.79it/s]\n",
      "Loss: 0.04128003492951393: 100%|███████████████| 20/20 [00:00<00:00, 239.87it/s]\n",
      "Loss: 0.04409430921077728: 100%|███████████████| 20/20 [00:00<00:00, 156.96it/s]\n",
      "Loss: 0.041924018412828445: 100%|██████████████| 20/20 [00:00<00:00, 242.60it/s]\n",
      "Loss: 0.04140705615282059: 100%|███████████████| 20/20 [00:00<00:00, 239.22it/s]\n",
      "Loss: 0.043868452310562134: 100%|██████████████| 20/20 [00:00<00:00, 238.49it/s]\n",
      "Loss: 0.04257607087492943: 100%|███████████████| 20/20 [00:00<00:00, 238.98it/s]\n",
      "Loss: 0.042140714824199677: 100%|██████████████| 20/20 [00:00<00:00, 234.24it/s]\n",
      "Loss: 0.04063640907406807: 100%|███████████████| 20/20 [00:00<00:00, 238.42it/s]\n",
      "Loss: 0.04150543734431267: 100%|███████████████| 20/20 [00:00<00:00, 236.05it/s]\n",
      "Loss: 0.04516870900988579: 100%|███████████████| 20/20 [00:00<00:00, 232.34it/s]\n",
      "Loss: 0.0424988754093647: 100%|████████████████| 20/20 [00:00<00:00, 212.02it/s]\n",
      "Loss: 0.042092300951480865: 100%|██████████████| 20/20 [00:00<00:00, 227.64it/s]\n",
      "Loss: 0.04063096642494202: 100%|███████████████| 20/20 [00:00<00:00, 222.13it/s]\n",
      "Loss: 0.04181009531021118: 100%|███████████████| 20/20 [00:00<00:00, 217.13it/s]\n",
      "Loss: 0.041785843670368195: 100%|██████████████| 20/20 [00:00<00:00, 218.74it/s]\n",
      "Loss: 0.049773480743169785: 100%|██████████████| 20/20 [00:00<00:00, 226.36it/s]\n",
      "Loss: 0.04133916646242142: 100%|███████████████| 20/20 [00:00<00:00, 221.78it/s]\n",
      "Loss: 0.046574823558330536: 100%|██████████████| 20/20 [00:00<00:00, 227.43it/s]\n",
      "Loss: 0.04302708059549332: 100%|███████████████| 20/20 [00:00<00:00, 231.08it/s]\n",
      "Loss: 0.04157529026269913: 100%|███████████████| 20/20 [00:00<00:00, 233.00it/s]\n",
      "Loss: 0.04186177998781204: 100%|███████████████| 20/20 [00:00<00:00, 227.23it/s]\n",
      "Loss: 0.04142731428146362: 100%|███████████████| 20/20 [00:00<00:00, 230.57it/s]\n",
      "Loss: 0.04187954217195511: 100%|███████████████| 20/20 [00:00<00:00, 230.55it/s]\n",
      "Loss: 0.04076317325234413: 100%|███████████████| 20/20 [00:00<00:00, 227.53it/s]\n",
      "Loss: 0.041983362287282944: 100%|██████████████| 20/20 [00:00<00:00, 227.85it/s]\n",
      "Loss: 0.0443279966711998: 100%|████████████████| 20/20 [00:00<00:00, 230.65it/s]\n",
      "Loss: 0.04313213750720024: 100%|███████████████| 20/20 [00:00<00:00, 228.72it/s]\n",
      "Loss: 0.04133099317550659: 100%|███████████████| 20/20 [00:00<00:00, 184.63it/s]\n",
      "Loss: 0.04067034274339676: 100%|███████████████| 20/20 [00:00<00:00, 217.37it/s]\n",
      "Loss: 0.04065030813217163: 100%|███████████████| 20/20 [00:00<00:00, 220.33it/s]\n",
      "Loss: 0.04264916852116585: 100%|███████████████| 20/20 [00:00<00:00, 226.77it/s]\n",
      "Loss: 0.04231744632124901: 100%|███████████████| 20/20 [00:00<00:00, 225.52it/s]\n",
      "Loss: 0.041525948792696: 100%|█████████████████| 20/20 [00:00<00:00, 224.75it/s]\n",
      "Loss: 0.041620321571826935: 100%|██████████████| 20/20 [00:00<00:00, 230.81it/s]\n",
      "Loss: 0.04134978726506233: 100%|███████████████| 20/20 [00:00<00:00, 227.29it/s]\n",
      "Loss: 0.04229065775871277: 100%|███████████████| 20/20 [00:00<00:00, 156.31it/s]\n",
      "Loss: 0.04233585670590401: 100%|███████████████| 20/20 [00:00<00:00, 226.82it/s]\n",
      "Loss: 0.041729636490345: 100%|█████████████████| 20/20 [00:00<00:00, 213.88it/s]\n",
      "Loss: 0.04221026599407196: 100%|███████████████| 20/20 [00:00<00:00, 208.16it/s]\n",
      "Loss: 0.040734365582466125: 100%|██████████████| 20/20 [00:00<00:00, 226.24it/s]\n",
      "Loss: 0.04156632348895073: 100%|███████████████| 20/20 [00:00<00:00, 228.46it/s]\n",
      "Loss: 0.040660228580236435: 100%|██████████████| 20/20 [00:00<00:00, 226.73it/s]\n",
      "Loss: 0.04065283387899399: 100%|███████████████| 20/20 [00:00<00:00, 225.79it/s]\n",
      "Loss: 0.04196634143590927: 100%|███████████████| 20/20 [00:00<00:00, 228.08it/s]\n",
      "Loss: 0.04072128236293793: 100%|███████████████| 20/20 [00:00<00:00, 225.67it/s]\n",
      "Loss: 0.04264979809522629: 100%|███████████████| 20/20 [00:00<00:00, 228.63it/s]\n",
      "Loss: 0.04185479134321213: 100%|███████████████| 20/20 [00:00<00:00, 229.57it/s]\n",
      "Loss: 0.0406719334423542: 100%|████████████████| 20/20 [00:00<00:00, 230.19it/s]\n",
      "Loss: 0.045906055718660355: 100%|██████████████| 20/20 [00:00<00:00, 226.30it/s]\n",
      "Loss: 0.041673704981803894: 100%|██████████████| 20/20 [00:00<00:00, 223.68it/s]\n",
      "Loss: 0.04196741804480553: 100%|███████████████| 20/20 [00:00<00:00, 227.92it/s]\n",
      "Loss: 0.04163959622383118: 100%|███████████████| 20/20 [00:00<00:00, 225.50it/s]\n",
      "Loss: 0.04178883880376816: 100%|███████████████| 20/20 [00:00<00:00, 226.84it/s]\n",
      "Loss: 0.042221296578645706: 100%|██████████████| 20/20 [00:00<00:00, 225.78it/s]\n",
      "Loss: 0.04250840097665787: 100%|███████████████| 20/20 [00:00<00:00, 224.95it/s]\n",
      "Loss: 0.04092297703027725: 100%|███████████████| 20/20 [00:00<00:00, 228.27it/s]\n",
      "Loss: 0.04065379872918129: 100%|███████████████| 20/20 [00:00<00:00, 220.57it/s]\n",
      "Loss: 0.04172892868518829: 100%|███████████████| 20/20 [00:00<00:00, 227.72it/s]\n",
      "Loss: 0.041429631412029266: 100%|██████████████| 20/20 [00:00<00:00, 217.13it/s]\n",
      "Loss: 0.04591534286737442: 100%|███████████████| 20/20 [00:00<00:00, 160.77it/s]\n",
      "Loss: 0.04198089614510536: 100%|███████████████| 20/20 [00:00<00:00, 218.57it/s]\n",
      "Loss: 0.04238321632146835: 100%|███████████████| 20/20 [00:00<00:00, 225.19it/s]\n",
      "Loss: 0.04162115231156349: 100%|███████████████| 20/20 [00:00<00:00, 223.76it/s]\n",
      "Loss: 0.04287613183259964: 100%|███████████████| 20/20 [00:00<00:00, 223.97it/s]\n",
      "Loss: 0.040826112031936646: 100%|██████████████| 20/20 [00:00<00:00, 220.24it/s]\n",
      "Loss: 0.04344332590699196: 100%|███████████████| 20/20 [00:00<00:00, 227.86it/s]\n",
      "Loss: 0.04190560430288315: 100%|███████████████| 20/20 [00:00<00:00, 229.83it/s]\n",
      "Loss: 0.04155571013689041: 100%|███████████████| 20/20 [00:00<00:00, 216.20it/s]\n",
      "Loss: 0.04200709983706474: 100%|███████████████| 20/20 [00:00<00:00, 222.31it/s]\n",
      "Loss: 0.041514623910188675: 100%|██████████████| 20/20 [00:00<00:00, 222.95it/s]\n",
      "Loss: 0.04341806098818779: 100%|███████████████| 20/20 [00:00<00:00, 223.66it/s]\n",
      "Loss: 0.040657658129930496: 100%|██████████████| 20/20 [00:00<00:00, 220.57it/s]\n",
      "Loss: 0.042225196957588196: 100%|██████████████| 20/20 [00:00<00:00, 224.97it/s]\n",
      "Loss: 0.04065411165356636: 100%|███████████████| 20/20 [00:00<00:00, 221.45it/s]\n",
      "Loss: 0.042441681027412415: 100%|██████████████| 20/20 [00:00<00:00, 226.29it/s]\n",
      "Loss: 0.045506712049245834: 100%|██████████████| 20/20 [00:00<00:00, 227.45it/s]\n",
      "Loss: 0.04065997898578644: 100%|███████████████| 20/20 [00:00<00:00, 224.50it/s]\n",
      "Loss: 0.041282203048467636: 100%|██████████████| 20/20 [00:00<00:00, 212.33it/s]\n",
      "Loss: 0.04226839542388916: 100%|███████████████| 20/20 [00:00<00:00, 214.22it/s]\n",
      "Loss: 0.04189480468630791: 100%|███████████████| 20/20 [00:00<00:00, 218.75it/s]\n",
      "Loss: 0.04247778281569481: 100%|███████████████| 20/20 [00:00<00:00, 225.28it/s]\n",
      "Loss: 0.041311174631118774: 100%|██████████████| 20/20 [00:00<00:00, 224.15it/s]\n",
      "Loss: 0.04207155480980873: 100%|███████████████| 20/20 [00:00<00:00, 226.85it/s]\n",
      "Loss: 0.042155735194683075: 100%|██████████████| 20/20 [00:00<00:00, 223.25it/s]\n",
      "Loss: 0.04064575210213661: 100%|███████████████| 20/20 [00:00<00:00, 188.36it/s]\n",
      "Loss: 0.04063960537314415: 100%|███████████████| 20/20 [00:00<00:00, 225.69it/s]\n",
      "Loss: 0.04242737963795662: 100%|███████████████| 20/20 [00:00<00:00, 220.97it/s]\n"
     ]
    },
    {
     "name": "stdout",
     "output_type": "stream",
     "text": [
      "30\n",
      "100\n"
     ]
    }
   ],
   "source": [
    "\n",
    "def compute_input_robustness(model, data, target, eps, gam):\n",
    "    grad = np.squeeze(GradCertModule.InputGrad(model, data.reshape(1,28*28), targ, nclasses=2).detach().numpy())\n",
    "    model.inputfooling_ON()\n",
    "    succ, x_adv, grad_adv, targex, loss = GradCertModule.run_mnist_attack(model, data, target=[5,5], epsilon=eps*1.5, \n",
    "                                                  iterations=20, lr=0.01, shape=(28,28), label_reg=10.05) \n",
    "    model.inputfooling_OFF()\n",
    "    grad_adv = np.squeeze(GradCertModule.InputGrad(model, x_adv.reshape(28*28), targ, nclasses=2).detach().numpy())\n",
    "\n",
    "    adv_g = grad_adv\n",
    "    min_grad, max_grad = GradCertModule.GradCertBounds(model, data.reshape(1,28*28), target, eps, gam, nclasses=2)\n",
    "    min_grad = np.squeeze(min_grad.detach().numpy())\n",
    "    max_grad = np.squeeze(max_grad.detach().numpy())\n",
    "    \n",
    "\n",
    "    diff_up = max_grad - grad\n",
    "    diff_down = grad - min_grad\n",
    "    diff = np.maximum(diff_up, diff_down)\n",
    "    \n",
    "    loss_cert = ((diff)**2).mean()\n",
    "    loss_grad = (((grad - adv_g)/np.max(adv_g))**2).mean()\n",
    "    \n",
    "    #plt.imshow(grad.reshape(28,28), cmap='coolwarm')\n",
    "    #plt.colorbar()\n",
    "    #plt.show()\n",
    "    #plt.imshow(adv_g.reshape(28,28), cmap='coolwarm')\n",
    "    #plt.title(loss_grad)\n",
    "    #plt.colorbar()\n",
    "    #plt.show()\n",
    "    #plt.imshow(np.abs(grad.reshape(28,28) - adv_g.reshape(28,28)), cmap='coolwarm')\n",
    "    #plt.title(loss_grad)\n",
    "    #plt.colorbar()\n",
    "    #plt.show()\n",
    "    \n",
    "    return loss_cert, loss_grad\n",
    "\n",
    "in_cert = 0\n",
    "in_attk = 0\n",
    "for inp in range(100):\n",
    "    data = np.asarray(X_test[inp])\n",
    "    data = torch.Tensor(data)\n",
    "    targ = torch.Tensor([y_test[inp]]).to(torch.int64)\n",
    "    cert, attk = compute_input_robustness(model, data, targ, 0.025, 0.01)\n",
    "    #print(cert, attk)\n",
    "    if(cert <= 0.03):\n",
    "        in_cert += 1\n",
    "    if(attk <= 0.03):\n",
    "        in_attk += 1\n",
    "        \n",
    "print(in_cert)\n",
    "print(in_attk)\n"
   ]
  },
  {
   "cell_type": "code",
   "execution_count": 8,
   "id": "deb0fe64",
   "metadata": {},
   "outputs": [
    {
     "name": "stderr",
     "output_type": "stream",
     "text": [
      "/Users/matthewwicker/opt/anaconda3/envs/FairnessAndPrivacy/lib/python3.7/site-packages/ipykernel_launcher.py:24: UserWarning: FixedFormatter should only be used together with FixedLocator\n"
     ]
    },
    {
     "data": {
      "image/png": "[encoded data removed]",
      "text/plain": [
       "<Figure size 800x800 with 1 Axes>"
      ]
     },
     "metadata": {
      "needs_background": "light"
     },
     "output_type": "display_data"
    }
   ],
   "source": [
    "# GSUMNORM - 841, 100, 21\n",
    "import matplotlib\n",
    "import matplotlib.pyplot as plt\n",
    "import seaborn as sns\n",
    "#sns.set_style('darkgrid')\n",
    "sns.set_context('poster')\n",
    "plt.figure(figsize=(8, 8), dpi=100)\n",
    "ax = plt.gca()\n",
    "\n",
    "dataset = \"Pneumonia\"\n",
    "vals = [0.852, 1.00, 0.31]\n",
    "plt.bar([0,1,2], vals, color=['#0A369D', '#7D8CC4', '#D64045'])\n",
    "plt.title(\"GSUMNORM on %s (FCN)\"%(dataset))\n",
    "plt.ylabel(\"Performance\")\n",
    "plt.xlabel(r\"Metric\")\n",
    "\n",
    "for i in range(3):\n",
    "    if(i==2):\n",
    "        plt.text(i, vals[i]/2, vals[i], ha = 'center', c='w')\n",
    "    else:\n",
    "        plt.text(i, vals[i]/2, vals[i], ha = 'center', c='w')\n",
    "        \n",
    "        \n",
    "ax.set_xticklabels(['', 'Acc.', 'Attk. Rob.', 'Cert. Rob'])\n",
    "plt.ylim((0,1.01))\n",
    "plt.show()\n"
   ]
  }
 ],
 "metadata": {
  "kernelspec": {
   "display_name": "Python 3 (ipykernel)",
   "language": "python",
   "name": "python3"
  },
  "language_info": {
   "codemirror_mode": {
    "name": "ipython",
    "version": 3
   },
   "file_extension": ".py",
   "mimetype": "text/x-python",
   "name": "python",
   "nbconvert_exporter": "python",
   "pygments_lexer": "ipython3",
   "version": "3.7.13"
  }
 },
 "nbformat": 4,
 "nbformat_minor": 5
}
