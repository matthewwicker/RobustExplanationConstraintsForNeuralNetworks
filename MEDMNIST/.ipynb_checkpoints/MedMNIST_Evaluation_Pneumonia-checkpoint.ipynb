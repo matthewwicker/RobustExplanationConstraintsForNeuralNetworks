{
 "cells": [
  {
   "cell_type": "code",
   "execution_count": 1,
   "id": "c75ef4ba",
   "metadata": {},
   "outputs": [
    {
     "name": "stdout",
     "output_type": "stream",
     "text": [
      "1\n"
     ]
    }
   ],
   "source": [
    "# Custom Imports\n",
    "import sys\n",
    "sys.path.append(\"..\")\n",
    "import GradCertModule\n",
    "import XAIArchitectures\n",
    "# Deep Learning Imports\n",
    "import torch\n",
    "import torch.nn as nn\n",
    "import torch.optim as optim\n",
    "from torch.nn import functional as F\n",
    "from torch.utils.data import Dataset\n",
    "from torch.utils.data import DataLoader\n",
    "from torchvision import models, transforms\n",
    "import pytorch_lightning as pl\n",
    "# Standard Lib Imports\n",
    "import math\n",
    "import numpy as np\n",
    "import pandas as pd\n",
    "import matplotlib.pyplot as plt\n",
    "\n",
    "\n",
    "#dataset = \"pathmnist\"\n",
    "#dataset = \"bloodmnist\"\n",
    "#dataset = \"retinamnist\"\n",
    "nchan = 3\n",
    "\n",
    "dataset = \"pneumoniamnist\"; ncls = 2\n",
    "#dataset = \"tissuemnist\"\n",
    "#dataset = \"tissuemnist\"; #channels=1; least_data = [0]; nclass = 8; most_data=[1,2,3,4,5,6,7]\n",
    "#dataset = \"breastmnist\" #; channels=1; least_data = []; nclass = 2\n",
    "#dataset = \"organsmnist\"; ncls = 11\n",
    "#dataset = \"organamnist\"; ncls = 11\n",
    "#dataset = \"organcmnist\"; ncls = 11\n",
    "nchan = 1\n",
    "\n",
    "\n",
    "data = np.load('Datasets/%s.npz'%(dataset))\n",
    "\n",
    "y_train = np.squeeze(data['train_labels'])\n",
    "y_val = np.squeeze(data['val_labels'])\n",
    "y_test = np.squeeze(data['test_labels'])\n",
    "\n",
    "if(dataset in [\"pathmnist\", \"bloodmnist\", \"retinamnist\"]):\n",
    "    X_train = np.swapaxes(data['train_images'], 3, 1)/255.0\n",
    "    X_val = np.swapaxes(data['val_images'], 3, 1)/255.0\n",
    "    X_test = np.swapaxes(data['test_images'], 3, 1)/255.0\n",
    "else:\n",
    "    X_train = data['train_images']/255.0\n",
    "    X_train = X_train[0:20000]\n",
    "    y_train = y_train[0:20000]\n",
    "    X_train = X_train[:,None]\n",
    "    X_val = data['val_images']/255.0\n",
    "    X_val = X_val[0:2000]\n",
    "    y_val = y_val[0:2000]\n",
    "    X_val = X_val[:,None]\n",
    "    X_test = data['test_images']/255.0\n",
    "    X_test = X_test[:,None]\n",
    "\n",
    "\n",
    "y_train = np.squeeze(data['train_labels'])\n",
    "y_val = np.squeeze(data['val_labels'])\n",
    "y_test = np.squeeze(data['test_labels'])\n",
    "\n",
    "print(y_test[0])"
   ]
  },
  {
   "cell_type": "code",
   "execution_count": 2,
   "id": "b8f36bd3",
   "metadata": {},
   "outputs": [],
   "source": [
    "# ROB Model: A= 0.5, E=0.01, G=0.01\n",
    "ALPHA = 0.5            # Regularization Parameter (Weights the Reg. Term)\n",
    "EPSILON = 0.01        # Input Peturbation Budget at Training Time\n",
    "GAMMA = 0.01           # Model Peturbation Budget at Training Time \n",
    "                        #(Changed to proportional budget rather than absolute)\n",
    "    \n",
    "LEARN_RATE = 0.00025      # Learning Rate Hyperparameter\n",
    "HIDDEN_DIM = 128       # Hidden Neurons Hyperparameter\n",
    "HIDDEN_LAY = 2         # Hidden Layers Hyperparameter\n",
    "MAX_EPOCHS = 50\n",
    "\n",
    "EPSILON_LINEAR = True   # Put Epsilon on a Linear Schedule?\n",
    "GAMMA_LINEAR = True     # Put Gamma on a Linear Schedule?"
   ]
  },
  {
   "cell_type": "code",
   "execution_count": 3,
   "id": "cd567973",
   "metadata": {},
   "outputs": [
    {
     "name": "stdout",
     "output_type": "stream",
     "text": [
      "SET MODE TO:  GRAD\n"
     ]
    }
   ],
   "source": [
    "if(dataset == \"pneumoniamnist\"):\n",
    "    ncls = 2\n",
    "    model = XAIArchitectures.FullyConnected(dataset=\"PNEUMONIAMNIST\", hidden_dim=HIDDEN_DIM, hidden_lay=HIDDEN_LAY)\n",
    "\n"
   ]
  },
  {
   "cell_type": "code",
   "execution_count": 4,
   "id": "04c63b07",
   "metadata": {},
   "outputs": [
    {
     "name": "stdout",
     "output_type": "stream",
     "text": [
      "FCN_pneumoniamnist_e=0.01_g=0.01_a=0.5_s=True\n"
     ]
    }
   ],
   "source": [
    "adv = False\n",
    "if(adv):\n",
    "    SCHEDULED = EPSILON_LINEAR or GAMMA_LINEAR \n",
    "    MODEL_ID = \"ADV_%s_e=%s_g=%s_a=%s_s=%s\"%(dataset, EPSILON, GAMMA, ALPHA, SCHEDULED)\n",
    "    print(MODEL_ID)\n",
    "    ckpt = torch.load(\"Models/%s.ckpt\"%(MODEL_ID))\n",
    "    optimizer = optim.SGD(model.parameters(), lr=0.001, momentum=0.9)\n",
    "    checkpoint = torch.load(\"Models/%s.ckpt\"%(MODEL_ID))\n",
    "    model.load_state_dict(torch.load('Models/%s.pt'%(MODEL_ID)))\n",
    "    \n",
    "else:\n",
    "    SCHEDULED = EPSILON_LINEAR or GAMMA_LINEAR \n",
    "    MODEL_ID = \"FCN_%s_e=%s_g=%s_a=%s_s=%s\"%(dataset, EPSILON, GAMMA, ALPHA, SCHEDULED)\n",
    "    print(MODEL_ID)\n",
    "    ckpt = torch.load(\"Models/%s.ckpt\"%(MODEL_ID))\n",
    "    optimizer = optim.SGD(model.parameters(), lr=0.001, momentum=0.9)\n",
    "    checkpoint = torch.load(\"Models/%s.ckpt\"%(MODEL_ID))\n",
    "    model.load_state_dict(torch.load('Models/%s.pt'%(MODEL_ID)))"
   ]
  },
  {
   "cell_type": "code",
   "execution_count": 5,
   "id": "aaac5a3c",
   "metadata": {},
   "outputs": [
    {
     "name": "stdout",
     "output_type": "stream",
     "text": [
      "0.8525641025641025\n"
     ]
    },
    {
     "name": "stderr",
     "output_type": "stream",
     "text": [
      "/Users/matthewwicker/opt/anaconda3/envs/XAIenvironment/lib/python3.7/site-packages/ipykernel_launcher.py:7: UserWarning: Creating a tensor from a list of numpy.ndarrays is extremely slow. Please consider converting the list to a single numpy.ndarray with numpy.array() before converting to a tensor. (Triggered internally at  /Users/runner/work/_temp/anaconda/conda-bld/pytorch_1659484744261/work/torch/csrc/utils/tensor_new.cpp:204.)\n",
      "  import sys\n"
     ]
    }
   ],
   "source": [
    "checkpoint = torch.load(\"Models/%s.ckpt\"%(MODEL_ID))\n",
    "model.load_state_dict(torch.load('Models/%s.pt'%(MODEL_ID)))\n",
    "\n",
    "acc = 0\n",
    "for i in range(len(X_test)):\n",
    "    d = np.asarray(X_test[i]).reshape(nchan,28,28)\n",
    "    out, cls = model.classify(torch.Tensor([d]))\n",
    "    if(cls == y_test[i]):\n",
    "        acc += 1\n",
    "print(acc/len(X_test))\n"
   ]
  },
  {
   "cell_type": "code",
   "execution_count": 6,
   "id": "78123e1d",
   "metadata": {},
   "outputs": [
    {
     "data": {
      "image/png": "[encoded data removed]",
      "text/plain": [
       "<Figure size 432x288 with 1 Axes>"
      ]
     },
     "metadata": {},
     "output_type": "display_data"
    },
    {
     "data": {
      "image/png": "[encoded data removed]",
      "text/plain": [
       "<Figure size 432x288 with 1 Axes>"
      ]
     },
     "metadata": {},
     "output_type": "display_data"
    }
   ],
   "source": [
    "#inp = 3\n",
    "inp = 2\n",
    "import seaborn as sns\n",
    "sns.set_context('poster')\n",
    "\n",
    "data = np.asarray(X_test[inp])\n",
    "data_master = np.asarray(X_test[inp])\n",
    "data = torch.Tensor(data)\n",
    "target = torch.Tensor([y_test[inp]]).to(torch.int64)\n",
    "gra = GradCertModule.InputGrad(model, data[None, :].reshape(1,28*28), target, nclasses=ncls)\n",
    "gra = gra.detach().numpy()\n",
    "\n",
    "gra = np.squeeze(gra.T)\n",
    "gra = np.abs(gra)\n",
    "\n",
    "\n",
    "plt.imshow(gra.reshape(28,28), cmap='coolwarm')\n",
    "plt.xticks([])\n",
    "plt.yticks([])\n",
    "plt.title('Gradient')\n",
    "plt.show()\n",
    "\n",
    "\n",
    "data = np.asarray(X_test[inp]).reshape(28,28)\n",
    "data = torch.Tensor(data)\n",
    "plt.imshow(np.squeeze(data.detach().numpy()), cmap='gray')\n",
    "plt.xticks([])\n",
    "plt.yticks([])\n",
    "plt.title('Input')\n",
    "plt.show()\n"
   ]
  },
  {
   "cell_type": "code",
   "execution_count": 7,
   "id": "da14323a",
   "metadata": {},
   "outputs": [
    {
     "name": "stdout",
     "output_type": "stream",
     "text": [
      "(1, 28, 28)\n"
     ]
    }
   ],
   "source": [
    "model.load_state_dict(torch.load('Models/%s.pt'%(MODEL_ID)))\n",
    "model.inputfooling_ON()\n",
    "\n",
    "\n",
    "data = np.asarray(X_test[inp])\n",
    "#data =  np.swapaxes(np.squeeze(data), 0, 2)\n",
    "print(data.shape)\n",
    "data = torch.Tensor(data)\n",
    "    \n",
    "min_grad, max_grad = GradCertModule.GradCertBounds(model, data.reshape(1,28*28), target, 0.02, 0.0, nclasses=ncls)\n",
    "min_grad, max_grad = min_grad.detach().numpy().T, max_grad.detach().numpy().T\n",
    "\n",
    "min_grad = np.squeeze(min_grad).reshape(28,28)\n",
    "max_grad = np.squeeze(max_grad).reshape(28,28)\n"
   ]
  },
  {
   "cell_type": "code",
   "execution_count": 8,
   "id": "bf762cc6",
   "metadata": {},
   "outputs": [
    {
     "name": "stdout",
     "output_type": "stream",
     "text": [
      "False\n"
     ]
    },
    {
     "data": {
      "image/png": "[encoded data removed]",
      "text/plain": [
       "<Figure size 432x288 with 2 Axes>"
      ]
     },
     "metadata": {
      "needs_background": "light"
     },
     "output_type": "display_data"
    },
    {
     "data": {
      "image/png": "[encoded data removed]",
      "text/plain": [
       "<Figure size 432x288 with 2 Axes>"
      ]
     },
     "metadata": {
      "needs_background": "light"
     },
     "output_type": "display_data"
    }
   ],
   "source": [
    "print((max_grad == min_grad).all())\n",
    "min_grad = np.squeeze(min_grad)\n",
    "plt.imshow(min_grad, cmap='coolwarm')\n",
    "plt.colorbar()\n",
    "plt.show()\n",
    "\n",
    "max_grad = np.squeeze(max_grad)\n",
    "plt.imshow(max_grad, cmap='coolwarm')\n",
    "plt.colorbar()\n",
    "plt.show()\n"
   ]
  },
  {
   "cell_type": "code",
   "execution_count": 9,
   "id": "7f44a360",
   "metadata": {},
   "outputs": [
    {
     "name": "stderr",
     "output_type": "stream",
     "text": [
      "Loss: 9.299514931626618e-05: 100%|█████████████████████████████████████████| 1000/1000 [00:06<00:00, 160.47it/s]\n"
     ]
    }
   ],
   "source": [
    "\n",
    "model.load_state_dict(torch.load('Models/%s.pt'%(MODEL_ID)))\n",
    "\n",
    "data = np.asarray(X_test[inp])\n",
    "data = torch.Tensor(data)\n",
    "\n",
    "succ, x_adv, grad_adv, targex, loss = GradCertModule.run_mnist_attack(model, data.reshape(28,28), target=[5,5], epsilon=0.075, \n",
    "                                                  iterations=1000, lr=0.02, shape=(1,28,28), label_reg=0.05)    \n",
    "x_adv = np.squeeze(x_adv.detach().numpy())\n",
    "grad_adv = np.squeeze(grad_adv.detach().numpy())\n"
   ]
  },
  {
   "cell_type": "code",
   "execution_count": 10,
   "id": "27bd2d93",
   "metadata": {},
   "outputs": [
    {
     "data": {
      "image/png": "[encoded data removed]",
      "text/plain": [
       "<Figure size 432x288 with 2 Axes>"
      ]
     },
     "metadata": {
      "needs_background": "light"
     },
     "output_type": "display_data"
    },
    {
     "name": "stdout",
     "output_type": "stream",
     "text": [
      "(28, 28)\n"
     ]
    },
    {
     "data": {
      "image/png": "[encoded data removed]",
      "text/plain": [
       "<Figure size 432x288 with 2 Axes>"
      ]
     },
     "metadata": {
      "needs_background": "light"
     },
     "output_type": "display_data"
    },
    {
     "name": "stdout",
     "output_type": "stream",
     "text": [
      "(28, 28)\n"
     ]
    },
    {
     "data": {
      "image/png": "[encoded data removed]",
      "text/plain": [
       "<Figure size 432x288 with 2 Axes>"
      ]
     },
     "metadata": {
      "needs_background": "light"
     },
     "output_type": "display_data"
    }
   ],
   "source": [
    "#print(x_adv)\n",
    "viz = np.squeeze(data.detach().numpy())\n",
    "plt.imshow(viz, cmap='gray')\n",
    "plt.colorbar()\n",
    "plt.show()\n",
    "\n",
    "print(x_adv.shape)\n",
    "viz_adv = np.squeeze(x_adv)\n",
    "plt.imshow(viz_adv, cmap='gray')\n",
    "plt.colorbar()\n",
    "plt.show()\n",
    "\n",
    "\n",
    "print(grad_adv.shape)\n",
    "g_adv = np.abs(np.squeeze(grad_adv))\n",
    "#g_adv = np.rot90(np.rot90(g_adv))\n",
    "plt.imshow(g_adv, cmap='coolwarm')\n",
    "plt.colorbar()\n",
    "plt.show()"
   ]
  },
  {
   "cell_type": "code",
   "execution_count": 11,
   "id": "890f846a",
   "metadata": {},
   "outputs": [
    {
     "name": "stdout",
     "output_type": "stream",
     "text": [
      "tensor([[1.0158, 0.1358]], grad_fn=<AddmmBackward0>)\n"
     ]
    },
    {
     "name": "stderr",
     "output_type": "stream",
     "text": [
      "../GradCertModule.py:605: UserWarning: Using a target size (torch.Size([28, 28])) that is different to the input size (torch.Size([1, 1, 28, 28])). This will likely lead to incorrect results due to broadcasting. Please ensure they have the same size.\n",
      "  loss_expl = F.mse_loss(grad_adv, target_expl)\n"
     ]
    },
    {
     "name": "stdout",
     "output_type": "stream",
     "text": [
      "0.040198080241680145\n",
      "tensor([[0.9932, 0.1137]], grad_fn=<AddmmBackward0>)\n",
      "(28, 28)\n"
     ]
    },
    {
     "data": {
      "image/png": "[encoded data removed]",
      "text/plain": [
       "<Figure size 432x288 with 2 Axes>"
      ]
     },
     "metadata": {
      "needs_background": "light"
     },
     "output_type": "display_data"
    }
   ],
   "source": [
    "model.load_state_dict(torch.load('Models/%s.pt'%(MODEL_ID)))\n",
    "print(model(data))\n",
    "succ, x_adv, grad_adv, targex = GradCertModule.run_model_attack(model, data, target=[5,5], gamma=0.3, \n",
    "                                                  iterations=350, lr=0.001, shape=(28,28), label_reg=1.0)\n",
    "\n",
    "print(model(data))\n",
    "\n",
    "grad_adv = np.squeeze(grad_adv.detach().numpy())\n",
    "print(grad_adv.shape)\n",
    "g_adv = np.abs(np.squeeze(grad_adv))\n",
    "\n",
    "plt.imshow(g_adv, cmap='coolwarm')\n",
    "plt.colorbar()\n",
    "plt.show()\n"
   ]
  },
  {
   "cell_type": "code",
   "execution_count": 12,
   "id": "01f67683",
   "metadata": {},
   "outputs": [],
   "source": [
    "INDEX = i"
   ]
  },
  {
   "cell_type": "code",
   "execution_count": 13,
   "id": "cc7504d7",
   "metadata": {},
   "outputs": [
    {
     "name": "stdout",
     "output_type": "stream",
     "text": [
      "(28, 28)\n"
     ]
    },
    {
     "name": "stderr",
     "output_type": "stream",
     "text": [
      "/Users/matthewwicker/opt/anaconda3/envs/XAIenvironment/lib/python3.7/site-packages/captum/_utils/gradient.py:59: UserWarning: Input Tensor 0 did not already require gradients, required_grads has been set automatically.\n",
      "  \"required_grads has been set automatically.\" % index\n",
      "/Users/matthewwicker/opt/anaconda3/envs/XAIenvironment/lib/python3.7/site-packages/captum/attr/_core/deep_lift.py:339: UserWarning: Setting forward, backward hooks and attributes on non-linear\n",
      "               activations. The hooks and attributes will be removed\n",
      "            after the attribution is finished\n",
      "  after the attribution is finished\"\"\"\n"
     ]
    },
    {
     "data": {
      "image/png": "[encoded data removed]",
      "text/plain": [
       "<Figure size 432x288 with 1 Axes>"
      ]
     },
     "metadata": {},
     "output_type": "display_data"
    }
   ],
   "source": [
    "model.inputfooling_OFF()\n",
    "model.load_state_dict(torch.load('Models/%s.pt'%(MODEL_ID)))\n",
    "\n",
    "from captum.attr import DeepLift\n",
    "\n",
    "inp = np.asarray(X_test[INDEX]).reshape(1,1,28,28)\n",
    "inp = torch.Tensor(inp)\n",
    "base = 0.0 * inp\n",
    "\n",
    "ig = DeepLift(model)\n",
    "attributions, delta = ig.attribute(inp, base, target=0, return_convergence_delta=True)\n",
    "attributions = np.squeeze(attributions.detach().numpy())\n",
    "attributions = np.abs(attributions)\n",
    "print(attributions.shape)\n",
    "plt.imshow(attributions, cmap = 'coolwarm')\n",
    "plt.xticks([])\n",
    "plt.yticks([])\n",
    "plt.title('DeepLift')\n",
    "plt.show()"
   ]
  },
  {
   "cell_type": "code",
   "execution_count": 14,
   "id": "bcdc525b",
   "metadata": {},
   "outputs": [
    {
     "data": {
      "image/png": "[encoded data removed]",
      "text/plain": [
       "<Figure size 432x288 with 1 Axes>"
      ]
     },
     "metadata": {},
     "output_type": "display_data"
    }
   ],
   "source": [
    "from captum.attr import GradientShap\n",
    "\n",
    "inp = np.asarray(X_test[INDEX]).reshape(1,nchan,28,28)\n",
    "inp = torch.Tensor(inp)\n",
    "base = 0.0 * inp\n",
    "\n",
    "ig = GradientShap(model)\n",
    "attributions, delta = ig.attribute(inp, base, target=0, return_convergence_delta=True)\n",
    "attributions = np.squeeze(attributions.detach().numpy())\n",
    "attributions = np.abs(attributions)\n",
    "plt.imshow(attributions, cmap = 'coolwarm')\n",
    "plt.xticks([])\n",
    "plt.yticks([])\n",
    "plt.title('Grad. SHAP')\n",
    "plt.show()"
   ]
  },
  {
   "cell_type": "code",
   "execution_count": 15,
   "id": "82ef7f92",
   "metadata": {},
   "outputs": [
    {
     "data": {
      "image/png": "[encoded data removed]",
      "text/plain": [
       "<Figure size 432x288 with 1 Axes>"
      ]
     },
     "metadata": {},
     "output_type": "display_data"
    }
   ],
   "source": [
    "from captum.attr import IntegratedGradients\n",
    "\n",
    "inp = np.asarray(X_test[INDEX]).reshape(1,nchan,28,28)\n",
    "inp = torch.Tensor(inp)\n",
    "base = 0.0 * inp\n",
    "\n",
    "sns.set_context('poster')\n",
    "ig = IntegratedGradients(model)\n",
    "attributions, delta = ig.attribute(inp, base, target=0, return_convergence_delta=True)\n",
    "attributions = np.squeeze(attributions.detach().numpy())\n",
    "attributions = np.abs(attributions)\n",
    "plt.imshow(attributions, cmap = 'coolwarm')\n",
    "plt.xticks([])\n",
    "plt.yticks([])\n",
    "plt.title('Integrated Grad.')\n",
    "plt.show()"
   ]
  },
  {
   "cell_type": "code",
   "execution_count": 16,
   "id": "898d70be",
   "metadata": {},
   "outputs": [
    {
     "name": "stdout",
     "output_type": "stream",
     "text": [
      "0.8525641025641025\n"
     ]
    }
   ],
   "source": [
    "# Re-Compute Accuracy of the Model\n",
    "model.inputfooling_OFF()\n",
    "model.load_state_dict(torch.load('Models/%s.pt'%(MODEL_ID)))\n",
    "\n",
    "acc = 0\n",
    "for i in range(len(X_test)):\n",
    "    d = np.asarray(X_test[i]).reshape(nchan,28,28)\n",
    "    out, cls = model.classify(torch.Tensor([d]))\n",
    "    if(cls == y_test[i]):\n",
    "        acc += 1\n",
    "print(acc/len(X_test))\n",
    "\n"
   ]
  },
  {
   "cell_type": "code",
   "execution_count": 17,
   "id": "2ebd364c",
   "metadata": {},
   "outputs": [
    {
     "name": "stdout",
     "output_type": "stream",
     "text": [
      "0.02688720139209181\n"
     ]
    }
   ],
   "source": [
    "def compute_input_delta(model, data, target, eps, gam):\n",
    "    min_grad, max_grad = GradCertModule.GradCertBounds(model, data.reshape(1,28*28), target, eps, gam, nclasses=ncls)\n",
    "    min_grad = np.squeeze(min_grad.detach().numpy())\n",
    "    max_grad = np.squeeze(max_grad.detach().numpy())\n",
    "    delta = np.mean(max_grad - min_grad)\n",
    "    return delta\n",
    "\n",
    "delta = 0\n",
    "for inp in range(100):\n",
    "    data = np.asarray(X_test[inp])\n",
    "    data = torch.Tensor(data)\n",
    "    targ = torch.Tensor([y_test[inp]]).to(torch.int64)\n",
    "    d = compute_input_delta(model, data, targ, 0.025, 0.0)\n",
    "    delta += d \n",
    "print(delta/100)\n",
    "\n",
    "rob_delta = 0.026\n",
    "adv_delta = 2.035\n",
    "std_delta = 10.199\n"
   ]
  },
  {
   "cell_type": "code",
   "execution_count": 18,
   "id": "95ba569c",
   "metadata": {},
   "outputs": [
    {
     "name": "stderr",
     "output_type": "stream",
     "text": [
      "Loss: 0.04294603317975998: 100%|███████████████████████████████████████████████| 20/20 [00:00<00:00, 161.41it/s]\n",
      "Loss: 0.041192322969436646: 100%|██████████████████████████████████████████████| 20/20 [00:00<00:00, 172.21it/s]\n",
      "Loss: 0.04699462279677391: 100%|███████████████████████████████████████████████| 20/20 [00:00<00:00, 160.39it/s]\n",
      "Loss: 0.040593020617961884: 100%|██████████████████████████████████████████████| 20/20 [00:00<00:00, 163.42it/s]\n",
      "Loss: 0.04113277047872543: 100%|███████████████████████████████████████████████| 20/20 [00:00<00:00, 168.15it/s]\n",
      "Loss: 0.04201590269804001: 100%|███████████████████████████████████████████████| 20/20 [00:00<00:00, 163.43it/s]\n",
      "Loss: 0.04423302412033081: 100%|███████████████████████████████████████████████| 20/20 [00:00<00:00, 154.77it/s]\n",
      "Loss: 0.04163588210940361: 100%|███████████████████████████████████████████████| 20/20 [00:00<00:00, 154.75it/s]\n",
      "Loss: 0.04213723540306091: 100%|███████████████████████████████████████████████| 20/20 [00:00<00:00, 148.97it/s]\n",
      "Loss: 0.044032417237758636: 100%|██████████████████████████████████████████████| 20/20 [00:00<00:00, 157.71it/s]\n",
      "Loss: 0.04149532690644264: 100%|███████████████████████████████████████████████| 20/20 [00:00<00:00, 157.68it/s]\n",
      "Loss: 0.0445433109998703: 100%|████████████████████████████████████████████████| 20/20 [00:00<00:00, 160.31it/s]\n",
      "Loss: 0.042748626321554184: 100%|██████████████████████████████████████████████| 20/20 [00:00<00:00, 159.21it/s]\n",
      "Loss: 0.04121613875031471: 100%|███████████████████████████████████████████████| 20/20 [00:00<00:00, 150.10it/s]\n",
      "Loss: 0.04227510467171669: 100%|███████████████████████████████████████████████| 20/20 [00:00<00:00, 154.28it/s]\n",
      "Loss: 0.04235324636101723: 100%|███████████████████████████████████████████████| 20/20 [00:00<00:00, 158.89it/s]\n",
      "Loss: 0.04105715453624725: 100%|███████████████████████████████████████████████| 20/20 [00:00<00:00, 154.13it/s]\n",
      "Loss: 0.04691136255860329: 100%|███████████████████████████████████████████████| 20/20 [00:00<00:00, 154.46it/s]\n",
      "Loss: 0.04864775761961937: 100%|███████████████████████████████████████████████| 20/20 [00:00<00:00, 152.41it/s]\n",
      "Loss: 0.04227137193083763: 100%|███████████████████████████████████████████████| 20/20 [00:00<00:00, 154.12it/s]\n",
      "Loss: 0.04060341417789459: 100%|███████████████████████████████████████████████| 20/20 [00:00<00:00, 142.86it/s]\n",
      "Loss: 0.04193222150206566: 100%|███████████████████████████████████████████████| 20/20 [00:00<00:00, 149.89it/s]\n",
      "Loss: 0.05427044257521629: 100%|███████████████████████████████████████████████| 20/20 [00:00<00:00, 151.08it/s]\n",
      "Loss: 0.04966072738170624: 100%|███████████████████████████████████████████████| 20/20 [00:00<00:00, 145.28it/s]\n",
      "Loss: 0.05104101449251175: 100%|███████████████████████████████████████████████| 20/20 [00:00<00:00, 148.19it/s]\n",
      "Loss: 0.0417105071246624: 100%|████████████████████████████████████████████████| 20/20 [00:00<00:00, 148.08it/s]\n",
      "Loss: 0.041282132267951965: 100%|██████████████████████████████████████████████| 20/20 [00:00<00:00, 142.06it/s]\n",
      "Loss: 0.04384723678231239: 100%|███████████████████████████████████████████████| 20/20 [00:00<00:00, 153.52it/s]\n",
      "Loss: 0.05161680653691292: 100%|███████████████████████████████████████████████| 20/20 [00:00<00:00, 154.42it/s]\n",
      "Loss: 0.041228923946619034: 100%|██████████████████████████████████████████████| 20/20 [00:00<00:00, 147.90it/s]\n",
      "Loss: 0.04953594133257866: 100%|███████████████████████████████████████████████| 20/20 [00:00<00:00, 152.66it/s]\n",
      "Loss: 0.04150987043976784: 100%|███████████████████████████████████████████████| 20/20 [00:00<00:00, 143.08it/s]\n",
      "Loss: 0.04269244894385338: 100%|███████████████████████████████████████████████| 20/20 [00:00<00:00, 143.10it/s]\n",
      "Loss: 0.042367029935121536: 100%|██████████████████████████████████████████████| 20/20 [00:00<00:00, 146.97it/s]\n",
      "Loss: 0.041400715708732605: 100%|██████████████████████████████████████████████| 20/20 [00:00<00:00, 151.11it/s]\n",
      "Loss: 0.045278873294591904: 100%|██████████████████████████████████████████████| 20/20 [00:00<00:00, 148.63it/s]\n",
      "Loss: 0.045920614153146744: 100%|██████████████████████████████████████████████| 20/20 [00:00<00:00, 152.03it/s]\n",
      "Loss: 0.043565958738327026: 100%|██████████████████████████████████████████████| 20/20 [00:00<00:00, 139.65it/s]\n",
      "Loss: 0.0405147410929203: 100%|████████████████████████████████████████████████| 20/20 [00:00<00:00, 142.50it/s]\n",
      "Loss: 0.0491691492497921: 100%|████████████████████████████████████████████████| 20/20 [00:00<00:00, 153.31it/s]\n",
      "Loss: 0.04184211045503616: 100%|███████████████████████████████████████████████| 20/20 [00:00<00:00, 145.61it/s]\n",
      "Loss: 0.04051290825009346: 100%|███████████████████████████████████████████████| 20/20 [00:00<00:00, 141.39it/s]\n",
      "Loss: 0.04060337692499161: 100%|███████████████████████████████████████████████| 20/20 [00:00<00:00, 137.32it/s]\n",
      "Loss: 0.040430691093206406: 100%|██████████████████████████████████████████████| 20/20 [00:00<00:00, 141.60it/s]\n",
      "Loss: 0.04564843326807022: 100%|███████████████████████████████████████████████| 20/20 [00:00<00:00, 144.22it/s]\n",
      "Loss: 0.04403669387102127: 100%|███████████████████████████████████████████████| 20/20 [00:00<00:00, 143.92it/s]\n",
      "Loss: 0.04063614457845688: 100%|███████████████████████████████████████████████| 20/20 [00:00<00:00, 142.45it/s]\n",
      "Loss: 0.04184587299823761: 100%|███████████████████████████████████████████████| 20/20 [00:00<00:00, 147.21it/s]\n",
      "Loss: 0.04186132922768593: 100%|███████████████████████████████████████████████| 20/20 [00:00<00:00, 141.52it/s]\n",
      "Loss: 0.0438636876642704: 100%|████████████████████████████████████████████████| 20/20 [00:00<00:00, 147.11it/s]\n",
      "Loss: 0.042794108390808105: 100%|██████████████████████████████████████████████| 20/20 [00:00<00:00, 146.21it/s]\n",
      "Loss: 0.04140529781579971: 100%|███████████████████████████████████████████████| 20/20 [00:00<00:00, 141.60it/s]\n",
      "Loss: 0.040640320628881454: 100%|██████████████████████████████████████████████| 20/20 [00:00<00:00, 143.97it/s]\n",
      "Loss: 0.04128199815750122: 100%|███████████████████████████████████████████████| 20/20 [00:00<00:00, 139.79it/s]\n",
      "Loss: 0.040596552193164825: 100%|██████████████████████████████████████████████| 20/20 [00:00<00:00, 139.73it/s]\n",
      "Loss: 0.04069880023598671: 100%|███████████████████████████████████████████████| 20/20 [00:00<00:00, 141.75it/s]\n",
      "Loss: 0.04163815826177597: 100%|███████████████████████████████████████████████| 20/20 [00:00<00:00, 148.04it/s]\n",
      "Loss: 0.04094848036766052: 100%|███████████████████████████████████████████████| 20/20 [00:00<00:00, 148.10it/s]\n",
      "Loss: 0.04082313925027847: 100%|███████████████████████████████████████████████| 20/20 [00:00<00:00, 144.50it/s]\n",
      "Loss: 0.04377036914229393: 100%|███████████████████████████████████████████████| 20/20 [00:00<00:00, 136.84it/s]\n",
      "Loss: 0.040602803230285645: 100%|██████████████████████████████████████████████| 20/20 [00:00<00:00, 148.73it/s]\n",
      "Loss: 0.04148433357477188: 100%|███████████████████████████████████████████████| 20/20 [00:00<00:00, 147.34it/s]\n",
      "Loss: 0.041416365653276443: 100%|██████████████████████████████████████████████| 20/20 [00:00<00:00, 144.84it/s]\n",
      "Loss: 0.04113059863448143: 100%|███████████████████████████████████████████████| 20/20 [00:00<00:00, 137.50it/s]\n",
      "Loss: 0.041653942316770554: 100%|██████████████████████████████████████████████| 20/20 [00:00<00:00, 145.45it/s]\n",
      "Loss: 0.043200474232435226: 100%|██████████████████████████████████████████████| 20/20 [00:00<00:00, 147.06it/s]\n",
      "Loss: 0.05116739869117737: 100%|███████████████████████████████████████████████| 20/20 [00:00<00:00, 143.36it/s]\n",
      "Loss: 0.041935816407203674: 100%|██████████████████████████████████████████████| 20/20 [00:00<00:00, 138.19it/s]\n",
      "Loss: 0.046817343682050705: 100%|██████████████████████████████████████████████| 20/20 [00:00<00:00, 143.85it/s]\n",
      "Loss: 0.040615472942590714: 100%|██████████████████████████████████████████████| 20/20 [00:00<00:00, 149.38it/s]\n",
      "Loss: 0.043732695281505585: 100%|██████████████████████████████████████████████| 20/20 [00:00<00:00, 146.66it/s]\n",
      "Loss: 0.0429510697722435: 100%|████████████████████████████████████████████████| 20/20 [00:00<00:00, 136.68it/s]\n"
     ]
    },
    {
     "name": "stderr",
     "output_type": "stream",
     "text": [
      "Loss: 0.04087143391370773: 100%|███████████████████████████████████████████████| 20/20 [00:00<00:00, 172.91it/s]\n",
      "Loss: 0.041248444467782974: 100%|██████████████████████████████████████████████| 20/20 [00:00<00:00, 166.57it/s]\n",
      "Loss: 0.045473840087652206: 100%|██████████████████████████████████████████████| 20/20 [00:00<00:00, 170.85it/s]\n",
      "Loss: 0.04197941720485687: 100%|███████████████████████████████████████████████| 20/20 [00:00<00:00, 166.37it/s]\n",
      "Loss: 0.04606558009982109: 100%|███████████████████████████████████████████████| 20/20 [00:00<00:00, 166.21it/s]\n",
      "Loss: 0.040691375732421875: 100%|██████████████████████████████████████████████| 20/20 [00:00<00:00, 168.02it/s]\n",
      "Loss: 0.045444585382938385: 100%|██████████████████████████████████████████████| 20/20 [00:00<00:00, 162.52it/s]\n",
      "Loss: 0.04203854501247406: 100%|███████████████████████████████████████████████| 20/20 [00:00<00:00, 165.38it/s]\n",
      "Loss: 0.041327349841594696: 100%|██████████████████████████████████████████████| 20/20 [00:00<00:00, 160.38it/s]\n",
      "Loss: 0.0432828813791275: 100%|████████████████████████████████████████████████| 20/20 [00:00<00:00, 156.18it/s]\n",
      "Loss: 0.041288476437330246: 100%|██████████████████████████████████████████████| 20/20 [00:00<00:00, 164.58it/s]\n",
      "Loss: 0.04309385269880295: 100%|███████████████████████████████████████████████| 20/20 [00:00<00:00, 158.07it/s]\n",
      "Loss: 0.04061253368854523: 100%|███████████████████████████████████████████████| 20/20 [00:00<00:00, 164.48it/s]\n",
      "Loss: 0.044747624546289444: 100%|██████████████████████████████████████████████| 20/20 [00:00<00:00, 161.70it/s]\n",
      "Loss: 0.04194255918264389: 100%|███████████████████████████████████████████████| 20/20 [00:00<00:00, 159.04it/s]\n",
      "Loss: 0.047163210809230804: 100%|██████████████████████████████████████████████| 20/20 [00:00<00:00, 156.37it/s]\n",
      "Loss: 0.04042402282357216: 100%|███████████████████████████████████████████████| 20/20 [00:00<00:00, 160.70it/s]\n",
      "Loss: 0.04055900499224663: 100%|███████████████████████████████████████████████| 20/20 [00:00<00:00, 160.07it/s]\n",
      "Loss: 0.041057735681533813: 100%|██████████████████████████████████████████████| 20/20 [00:00<00:00, 161.11it/s]\n",
      "Loss: 0.042893633246421814: 100%|██████████████████████████████████████████████| 20/20 [00:00<00:00, 154.37it/s]\n",
      "Loss: 0.041431404650211334: 100%|██████████████████████████████████████████████| 20/20 [00:00<00:00, 163.95it/s]\n",
      "Loss: 0.042199697345495224: 100%|██████████████████████████████████████████████| 20/20 [00:00<00:00, 148.18it/s]\n",
      "Loss: 0.041065800935029984: 100%|██████████████████████████████████████████████| 20/20 [00:00<00:00, 155.45it/s]\n",
      "Loss: 0.0413571335375309: 100%|████████████████████████████████████████████████| 20/20 [00:00<00:00, 155.25it/s]\n",
      "Loss: 0.04169528931379318: 100%|███████████████████████████████████████████████| 20/20 [00:00<00:00, 153.93it/s]\n",
      "Loss: 0.04059719666838646: 100%|███████████████████████████████████████████████| 20/20 [00:00<00:00, 151.69it/s]\n",
      "Loss: 0.04064309969544411: 100%|███████████████████████████████████████████████| 20/20 [00:00<00:00, 149.80it/s]\n",
      "Loss: 0.053926870226860046: 100%|██████████████████████████████████████████████| 20/20 [00:00<00:00, 154.72it/s]\n"
     ]
    },
    {
     "name": "stdout",
     "output_type": "stream",
     "text": [
      "100\n",
      "100\n"
     ]
    }
   ],
   "source": [
    "# Compute Joint Certified Robustness\n",
    "\n",
    "\n",
    "def compute_input_robustness(model, data, target, eps, gam):\n",
    "    model.load_state_dict(torch.load('Models/%s.pt'%(MODEL_ID)))\n",
    "    grad = np.squeeze(GradCertModule.InputGrad(model, data.reshape(1,28*28), targ, nclasses=ncls).detach().numpy())\n",
    "    model.inputfooling_ON()\n",
    "    succ, x_adv, grad_adv, targex, loss = GradCertModule.run_mnist_attack(model, data, target=[5,5], epsilon=eps, \n",
    "                                                  iterations=20, lr=0.01, shape=(28,28), label_reg=100.05) \n",
    "    model.inputfooling_OFF()\n",
    "    grad_adv = np.squeeze(GradCertModule.InputGrad(model, x_adv.reshape(28*28), targ, nclasses=ncls).detach().numpy())\n",
    "\n",
    "    adv_g = grad_adv\n",
    "    min_grad, max_grad = GradCertModule.GradCertBounds(model, data.reshape(1,28*28), target, eps, gam, nclasses=ncls)\n",
    "    min_grad = np.squeeze(min_grad.detach().numpy())\n",
    "    max_grad = np.squeeze(max_grad.detach().numpy())\n",
    "    \n",
    "\n",
    "    diff_up = max_grad - grad\n",
    "    diff_down = grad - min_grad\n",
    "    diff = np.maximum(diff_up, diff_down)\n",
    "    \n",
    "    loss_cert = ((diff)**2).mean()\n",
    "    loss_grad = (((grad - adv_g)/np.max(adv_g))**2).mean()\n",
    "    \n",
    "    #plt.imshow(grad.reshape(28,28), cmap='coolwarm')\n",
    "    #plt.colorbar()\n",
    "    #plt.show()\n",
    "    #plt.imshow(adv_g.reshape(28,28), cmap='coolwarm')\n",
    "    #plt.title(loss_grad)\n",
    "    #plt.colorbar()\n",
    "    #plt.show()\n",
    "    #plt.imshow(np.abs(grad.reshape(28,28) - adv_g.reshape(28,28)), cmap='coolwarm')\n",
    "    #plt.title(loss_grad)\n",
    "    #plt.colorbar()\n",
    "    #plt.show()\n",
    "    \n",
    "    return loss_cert, loss_grad\n",
    "\n",
    "in_cert = 0\n",
    "in_attk = 0\n",
    "for inp in range(100):\n",
    "    data = np.asarray(X_test[inp])\n",
    "    data = torch.Tensor(data)\n",
    "    targ = torch.Tensor([y_test[inp]]).to(torch.int64)\n",
    "    cert, attk = compute_input_robustness(model, data, targ, 0.025, 0.0)\n",
    "    #print(cert, attk)\n",
    "    if(cert <= 0.03):\n",
    "        in_cert += 1\n",
    "    if(attk <= 0.03):\n",
    "        in_attk += 1\n",
    "        \n",
    "print(in_cert)\n",
    "print(in_attk)\n",
    "\n",
    "std_acc = 0.881\n",
    "std_inp_atk = 1.00\n",
    "std_inp_rob = 0.00\n",
    "\n",
    "rob_acc = 0.854\n",
    "rob_inp_atk = 1.00\n",
    "rob_inp_rob = 1.00"
   ]
  },
  {
   "cell_type": "code",
   "execution_count": 19,
   "id": "3538c9f6",
   "metadata": {},
   "outputs": [
    {
     "name": "stderr",
     "output_type": "stream",
     "text": [
      "../GradCertModule.py:605: UserWarning: Using a target size (torch.Size([28, 28])) that is different to the input size (torch.Size([1, 1, 28, 28])). This will likely lead to incorrect results due to broadcasting. Please ensure they have the same size.\n",
      "  loss_expl = F.mse_loss(grad_adv, target_expl)\n"
     ]
    },
    {
     "name": "stdout",
     "output_type": "stream",
     "text": [
      "0.041232217103242874\n",
      "lg:  0.00011973629\n",
      "0.04118094965815544\n",
      "lg:  0.02942589\n",
      "0.04039602726697922\n",
      "lg:  0.00017533853\n",
      "0.0405954010784626\n",
      "lg:  0.02281949\n",
      "0.041116148233413696\n",
      "lg:  7.238325e-05\n",
      "0.04108376428484917\n",
      "lg:  6.118135e-05\n",
      "0.0413946807384491\n",
      "lg:  0.0001986683\n",
      "0.04115642234683037\n",
      "lg:  8.67748e-05\n",
      "0.04113497585058212\n",
      "lg:  8.0043224e-05\n",
      "0.04134422913193703\n",
      "lg:  0.013388761\n",
      "0.041041165590286255\n",
      "lg:  4.808909e-05\n",
      "0.041401688009500504\n",
      "lg:  0.00020287048\n",
      "0.04129103571176529\n",
      "lg:  0.00014528536\n",
      "0.04103226959705353\n",
      "lg:  4.4752956e-05\n",
      "0.04041539877653122\n",
      "lg:  0.0001514507\n",
      "0.04134182631969452\n",
      "lg:  0.00017097697\n",
      "0.04102218523621559\n",
      "lg:  4.2369502e-05\n",
      "0.040389031171798706\n",
      "lg:  0.00018457191\n",
      "0.041365835815668106\n",
      "lg:  0.0001833459\n",
      "0.040444280952215195\n",
      "lg:  0.00084001693\n",
      "0.040531497448682785\n",
      "lg:  0.0101264715\n",
      "0.04106045141816139\n",
      "lg:  5.4098866e-05\n",
      "0.041436322033405304\n",
      "lg:  0.00022185552\n",
      "0.041477952152490616\n",
      "lg:  0.00024508385\n",
      "0.04142601042985916\n",
      "lg:  0.00021620825\n",
      "0.040500394999980927\n",
      "lg:  0.008120287\n",
      "0.04114992171525955\n",
      "lg:  8.4791616e-05\n",
      "0.04045099392533302\n",
      "lg:  0.0014258623\n",
      "0.04038171470165253\n",
      "lg:  0.0025430117\n",
      "0.0411166250705719\n",
      "lg:  7.2118615e-05\n",
      "0.04038829356431961\n",
      "lg:  0.0010201319\n",
      "0.041447728872299194\n",
      "lg:  0.0002282433\n",
      "0.04110708087682724\n",
      "lg:  6.938791e-05\n",
      "0.04107608646154404\n",
      "lg:  5.9969752e-05\n",
      "0.04110165685415268\n",
      "lg:  6.701941e-05\n",
      "0.041286010295152664\n",
      "lg:  0.00014393427\n",
      "0.04044822230935097\n",
      "lg:  0.0013259024\n",
      "0.04121292382478714\n",
      "lg:  0.00011146889\n",
      "0.04037943109869957\n",
      "lg:  0.0039613442\n",
      "0.04038907214999199\n",
      "lg:  0.0027556804\n",
      "0.041085194796323776\n",
      "lg:  6.144022e-05\n",
      "0.040467340499162674\n",
      "lg:  0.0040350286\n",
      "0.04059431701898575\n",
      "lg:  0.019788673\n",
      "0.040429823100566864\n",
      "lg:  0.00061800965\n",
      "0.041400082409381866\n",
      "lg:  0.009245478\n",
      "0.04122667387127876\n",
      "lg:  0.00011687591\n",
      "0.04049873352050781\n",
      "lg:  0.0072058183\n",
      "0.04107718542218208\n",
      "lg:  5.822911e-05\n",
      "0.04125038534402847\n",
      "lg:  0.00012743463\n",
      "0.04134248197078705\n",
      "lg:  0.00017324141\n",
      "0.04041821509599686\n",
      "lg:  0.00015873974\n",
      "0.04139693081378937\n",
      "lg:  0.000200235\n",
      "0.04053090885281563\n",
      "lg:  0.01326913\n",
      "0.041135188192129135\n",
      "lg:  7.908692e-05\n",
      "0.04059496894478798\n",
      "lg:  0.020342745\n",
      "0.04054828733205795\n",
      "lg:  0.015365246\n",
      "0.04144110530614853\n",
      "lg:  0.00022433151\n",
      "0.0404890738427639\n",
      "lg:  0.0065351906\n",
      "0.040415167808532715\n",
      "lg:  0.0001381828\n",
      "0.04130928963422775\n",
      "lg:  0.00015494619\n",
      "0.040605176240205765\n",
      "lg:  0.024197135\n",
      "0.04039440676569939\n",
      "lg:  0.000619545\n",
      "0.04046938195824623\n",
      "lg:  0.0042988453\n",
      "0.041087083518505096\n",
      "lg:  6.452685e-05\n",
      "0.041121892631053925\n",
      "lg:  7.4752796e-05\n",
      "0.04118010401725769\n",
      "lg:  9.664087e-05\n",
      "0.04038470238447189\n",
      "lg:  0.0008939802\n",
      "0.04148215800523758\n",
      "lg:  0.0027750314\n",
      "0.04038402810692787\n",
      "lg:  0.0010436268\n",
      "0.04060825705528259\n",
      "lg:  0.025555294\n",
      "0.04123353585600853\n",
      "lg:  0.000119333345\n",
      "0.041308529675006866\n",
      "lg:  0.015861776\n",
      "0.04042397812008858\n",
      "lg:  0.0002844064\n",
      "0.04113384708762169\n",
      "lg:  8.0162245e-05\n",
      "0.041412319988012314\n",
      "lg:  0.00020812594\n",
      "0.041189491748809814\n",
      "lg:  0.00010082609\n",
      "0.04038479924201965\n",
      "lg:  0.00019388933\n",
      "0.040509093552827835\n",
      "lg:  0.008276368\n",
      "0.04146803542971611\n",
      "lg:  0.0022475445\n",
      "0.041219327598810196\n",
      "lg:  0.000113209586\n",
      "0.04117264598608017\n",
      "lg:  9.442773e-05\n",
      "0.04122799634933472\n",
      "lg:  0.000116738585\n",
      "0.04113469645380974\n",
      "lg:  7.8874604e-05\n",
      "0.041375648230314255\n",
      "lg:  0.008083358\n",
      "0.04059061408042908\n",
      "lg:  0.019147513\n",
      "0.04043272137641907\n",
      "lg:  0.00029695337\n",
      "0.04049259424209595\n",
      "lg:  0.005971082\n",
      "0.04041573777794838\n",
      "lg:  0.00015073994\n",
      "0.04039492830634117\n",
      "lg:  0.00017680081\n",
      "0.040553491562604904\n",
      "lg:  0.013895083\n",
      "0.04098060354590416\n",
      "lg:  3.1506894e-05\n",
      "0.04128637909889221\n",
      "lg:  0.015518624\n",
      "0.04128076508641243\n",
      "lg:  0.0001416792\n",
      "0.04050508886575699\n",
      "lg:  0.005778801\n",
      "0.041019439697265625\n",
      "lg:  4.1448933e-05\n",
      "0.041315555572509766\n",
      "lg:  0.00015902928\n",
      "0.041172392666339874\n",
      "lg:  9.666153e-05\n",
      "0.040548231452703476\n",
      "lg:  0.014591728\n",
      "0.040507614612579346\n",
      "lg:  0.0086103305\n",
      "0.041447367519140244\n",
      "lg:  0.00022798555\n",
      "100\n",
      "100\n"
     ]
    }
   ],
   "source": [
    "def compute_model_robustness(model, data, target, eps, gam):\n",
    "    model.load_state_dict(torch.load('Models/%s.pt'%(MODEL_ID)))\n",
    "    grad = np.squeeze(GradCertModule.InputGrad(model, data.reshape(1,28*28), targ, nclasses=ncls).detach().numpy())\n",
    "    model.inputfooling_ON()\n",
    "    succ, x_adv, grad_adv, targex = GradCertModule.run_model_attack(model, data, target=[5,5], gamma=gam, \n",
    "                                                      iterations=25, lr=0.001, shape=(28,28), label_reg=1.0)\n",
    "    #model.inputfooling_OFF()\n",
    "    grad_adv = np.squeeze(grad_adv.detach().numpy())\n",
    "    #grad_adv = np.squeeze(GradCertModule.InputGrad(model, data.reshape(1,28*28), targ, nclasses=ncls).detach().numpy())\n",
    "    #grad_adv = grad_adv.reshape(28,28)\n",
    "    adv_g = grad_adv\n",
    "    min_grad, max_grad = GradCertModule.GradCertBounds(model, data.reshape(1,28*28), target, eps, gam, nclasses=ncls)\n",
    "    min_grad = np.squeeze(min_grad.detach().numpy()).reshape(28,28)\n",
    "    max_grad = np.squeeze(max_grad.detach().numpy()).reshape(28,28)\n",
    "    grad = grad.reshape(28,28)\n",
    "    \n",
    "    diff_up = max_grad - grad\n",
    "    diff_down = grad - min_grad\n",
    "    diff = np.maximum(diff_up, diff_down)\n",
    "    \n",
    "    loss_cert = ((diff)**2).mean()\n",
    "    \n",
    "    loss_grad = (((grad - adv_g))**2).mean()\n",
    "    print(\"lg: \", loss_grad)\n",
    "    #plt.imshow(grad.reshape(28,28), cmap='coolwarm')\n",
    "    #plt.colorbar()\n",
    "    #plt.show()\n",
    "    #plt.imshow(np.abs(adv_g).reshape(28,28), cmap='coolwarm')\n",
    "    #plt.title(loss_grad)\n",
    "    #plt.colorbar()\n",
    "    #plt.show()\n",
    "    #plt.imshow(grad.reshape(28,28) - adv_g.reshape(28,28), cmap='coolwarm')\n",
    "    #plt.title(loss_grad)\n",
    "    #plt.colorbar()\n",
    "    #plt.show()\n",
    "    \n",
    "    return loss_cert, loss_grad\n",
    "\n",
    "mod_cert = 0\n",
    "mod_attk = 0\n",
    "for inp in range(100):\n",
    "    data = np.asarray(X_test[inp])\n",
    "    data = torch.Tensor(data)\n",
    "    targ = torch.Tensor([y_test[inp]]).to(torch.int64)\n",
    "    cert, attk = compute_model_robustness(model, data, targ, 0.02, 0.0)\n",
    "    #print(cert, attk)\n",
    "    if(cert <= 0.2):\n",
    "        mod_cert += 1\n",
    "    if(attk <= 0.2):\n",
    "        mod_attk += 1\n",
    "    #print(cert, attk)\n",
    "    #print(mod_cert, mod_attk)\n",
    "    \n",
    "print(mod_cert)\n",
    "print(mod_attk)\n",
    "\n",
    "\n",
    "rob_mod_atk = 1.00\n",
    "rob_mod_rob = 1.00\n",
    "\n",
    "std_mod_atk = 1.00\n",
    "std_mod_rob = 0.00\n",
    "\n"
   ]
  },
  {
   "cell_type": "code",
   "execution_count": 20,
   "id": "0534bf36",
   "metadata": {},
   "outputs": [],
   "source": [
    "\n",
    "std_acc = 0.881\n",
    "rob_acc = 0.854\n",
    "\n",
    "std_inp_atk = 1.00\n",
    "std_inp_rob = 0.00\n",
    "rob_inp_atk = 1.00\n",
    "rob_inp_rob = 1.00\n",
    "\n",
    "rob_mod_atk = 1.00\n",
    "rob_mod_rob = 1.00\n",
    "std_mod_atk = 1.00\n",
    "std_mod_rob = 0.00\n",
    "\n"
   ]
  },
  {
   "cell_type": "code",
   "execution_count": null,
   "id": "1e7f1eca",
   "metadata": {},
   "outputs": [],
   "source": [
    "\n",
    "vals = [1.0, 0.15, 0.0]\n",
    "\n",
    "delta = [10.0, 2]"
   ]
  }
 ],
 "metadata": {
  "kernelspec": {
   "display_name": "Python 3 (ipykernel)",
   "language": "python",
   "name": "python3"
  },
  "language_info": {
   "codemirror_mode": {
    "name": "ipython",
    "version": 3
   },
   "file_extension": ".py",
   "mimetype": "text/x-python",
   "name": "python",
   "nbconvert_exporter": "python",
   "pygments_lexer": "ipython3",
   "version": "3.7.13"
  }
 },
 "nbformat": 4,
 "nbformat_minor": 5
}
