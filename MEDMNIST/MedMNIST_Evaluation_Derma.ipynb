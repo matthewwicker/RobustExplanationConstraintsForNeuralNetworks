{
 "cells": [
  {
   "cell_type": "code",
   "execution_count": 1,
   "id": "c75ef4ba",
   "metadata": {},
   "outputs": [
    {
     "name": "stdout",
     "output_type": "stream",
     "text": [
      "train:  (7007, 3, 28, 28)\n",
      "test:  (2005, 3, 28, 28)\n"
     ]
    }
   ],
   "source": [
    "# Custom Imports\n",
    "import sys\n",
    "sys.path.append(\"..\")\n",
    "import GradCertModule\n",
    "import XAIArchitectures\n",
    "# Deep Learning Imports\n",
    "import torch\n",
    "import torch.nn as nn\n",
    "import torch.optim as optim\n",
    "from torch.nn import functional as F\n",
    "from torch.utils.data import Dataset\n",
    "from torch.utils.data import DataLoader\n",
    "from torchvision import models, transforms\n",
    "import pytorch_lightning as pl\n",
    "# Standard Lib Imports\n",
    "import math\n",
    "import numpy as np\n",
    "import pandas as pd\n",
    "import matplotlib.pyplot as plt\n",
    "\n",
    "\n",
    "#dataset = \"pathmnist\"\n",
    "#dataset = \"bloodmnist\"\n",
    "#dataset = \"retinamnist\"\n",
    "dataset = \"dermamnist\"\n",
    "nchan = 3\n",
    "\n",
    "#dataset = \"pneumoniamnist\"\n",
    "#dataset = \"tissuemnist\"\n",
    "\n",
    "data = np.load('Datasets/%s.npz'%(dataset))\n",
    "\n",
    "\n",
    "y_train = np.squeeze(data['train_labels'])\n",
    "y_val = np.squeeze(data['val_labels'])\n",
    "y_test = np.squeeze(data['test_labels'])\n",
    "\n",
    "\n",
    "if(dataset in [\"pathmnist\", \"bloodmnist\", \"retinamnist\", \"dermamnist\"]):\n",
    "    X_train = np.swapaxes(data['train_images'], 3, 1)/255.0\n",
    "    X_val = np.swapaxes(data['val_images'], 3, 1)/255.0\n",
    "    X_test = np.swapaxes(data['test_images'], 3, 1)/255.0\n",
    "    \n",
    "elif(dataset in [\"tissuemnist\", \"pneumoniamnist\"]):\n",
    "    X_train = data['train_images']/255.0\n",
    "    X_train = X_train[0:20000]\n",
    "    y_train = y_train[0:20000]\n",
    "    X_train = X_train[:,None]\n",
    "    X_val = data['val_images']/255.0\n",
    "    X_val = X_val[0:2000]\n",
    "    y_val = y_val[0:2000]\n",
    "    X_val = X_val[:,None]\n",
    "    X_test = data['test_images']/255.0\n",
    "    X_test = X_test[:,None]\n",
    "    \n",
    "#y_train = torch.nn.functional.one_hot(torch.Tensor(data['train_labels']).to(torch.int64), 10)\n",
    "#y_val = torch.nn.functional.one_hot(torch.Tensor(data['val_labels']).to(torch.int64), 10)\n",
    "#y_test = torch.nn.functional.one_hot(torch.Tensor(data['test_labels']).to(torch.int64), 10)\n",
    "\n",
    "print(\"train: \", X_train.shape)\n",
    "print(\"test: \", X_test.shape)\n",
    "\n",
    "class custDataset(Dataset):\n",
    "    def __init__(self, X, y):\n",
    "        self.X = torch.Tensor(X).float()\n",
    "        self.y = y\n",
    "        self.transform = transforms.Compose([transforms.ToTensor()])\n",
    "\n",
    "    def __len__(self):\n",
    "        return self.X.shape[0]\n",
    "        \n",
    "    def __getitem__(self, index):\n",
    "        return self.X[index], self.y[index]\n",
    "    \n",
    "\n",
    "CustTrain = custDataset(X_train, y_train)  \n",
    "CustVal = custDataset(X_val, y_val) \n",
    "CustTest = custDataset(X_test, y_test)\n",
    "\n",
    "class CustomDataModule(pl.LightningDataModule):\n",
    "    def __init__(self, train, val, test, batch_size=100):\n",
    "        super().__init__()\n",
    "        self.train_data = train\n",
    "        self.val_data = val\n",
    "        self.test_data = test\n",
    "        self.batch_size = batch_size\n",
    "        \n",
    "    def train_dataloader(self):\n",
    "        return DataLoader(self.train_data, batch_size=self.batch_size)\n",
    "\n",
    "    def val_dataloader(self):\n",
    "        return DataLoader(self.val_data, batch_size=self.batch_size)\n",
    "\n",
    "    def test_dataloader(self):\n",
    "        return DataLoader(self.test_data, batch_size=self.batch_size)\n",
    "    \n",
    "dm = CustomDataModule(CustTrain, CustVal, CustTest)"
   ]
  },
  {
   "cell_type": "code",
   "execution_count": 2,
   "id": "b8f36bd3",
   "metadata": {},
   "outputs": [],
   "source": [
    "ALPHA = 0.0            # Regularization Parameter (Weights the Reg. Term)\n",
    "EPSILON = 0.0        # Input Peturbation Budget at Training Time\n",
    "GAMMA = 0.0            # Model Peturbation Budget at Training Time \n",
    "                        #(Changed to proportional budget rather than absolute)\n",
    "    \n",
    "LEARN_RATE = 0.0025      # Learning Rate Hyperparameter\n",
    "HIDDEN_DIM = 100       # Hidden Neurons Hyperparameter\n",
    "HIDDEN_LAY = 1         # Hidden Layers Hyperparameter\n",
    "MAX_EPOCHS = 20\n",
    "\n",
    "EPSILON_LINEAR = True   # Put Epsilon on a Linear Schedule?\n",
    "GAMMA_LINEAR = True     # Put Gamma on a Linear Schedule?"
   ]
  },
  {
   "cell_type": "code",
   "execution_count": 3,
   "id": "cd567973",
   "metadata": {},
   "outputs": [],
   "source": [
    "if(dataset == \"pneumoniamnist\"):\n",
    "    ncls = 2\n",
    "    model = XAIArchitectures.DeepMindSmall(dataset=\"PNEUMONIAMNIST\")\n",
    "elif(dataset == \"tissuemnist\"):\n",
    "    ncls = 8\n",
    "    model = XAIArchitectures.DeepMindSmall(dataset='TISSUEMNIST')\n",
    "elif(dataset == \"dermamnist\"):\n",
    "    ncls = 7\n",
    "    model = XAIArchitectures.DeepMindSmall(dataset='DERMAMNIST')\n",
    "else:\n",
    "    ncls = 10\n",
    "    model = XAIArchitectures.DeepMindSmall(dataset=\"MEDMNIST\")\n"
   ]
  },
  {
   "cell_type": "code",
   "execution_count": 4,
   "id": "04c63b07",
   "metadata": {},
   "outputs": [
    {
     "name": "stdout",
     "output_type": "stream",
     "text": [
      "DeepMindSmall_dermamnist_e=0.0_g=0.0_a=0.0_s=True\n",
      "epoch\n",
      "global_step\n",
      "pytorch-lightning_version\n",
      "state_dict\n",
      "loops\n",
      "callbacks\n",
      "optimizer_states\n",
      "lr_schedulers\n",
      "hparams_name\n",
      "hyper_parameters\n"
     ]
    },
    {
     "data": {
      "text/plain": [
       "<All keys matched successfully>"
      ]
     },
     "execution_count": 4,
     "metadata": {},
     "output_type": "execute_result"
    }
   ],
   "source": [
    "\n",
    "SCHEDULED = EPSILON_LINEAR or GAMMA_LINEAR \n",
    "MODEL_ID = \"DeepMindSmall_%s_e=%s_g=%s_a=%s_s=%s\"%(dataset, EPSILON, GAMMA, ALPHA, SCHEDULED)\n",
    "print(MODEL_ID)\n",
    "ckpt = torch.load(\"Models/%s.ckpt\"%(MODEL_ID))\n",
    "\n",
    "optimizer = optim.SGD(model.parameters(), lr=0.001, momentum=0.9)\n",
    "checkpoint = torch.load(\"Models/%s.ckpt\"%(MODEL_ID))\n",
    "for key in checkpoint:\n",
    "    print(key)\n",
    "model.load_state_dict(torch.load('Models/%s.pt'%(MODEL_ID)))\n"
   ]
  },
  {
   "cell_type": "code",
   "execution_count": 5,
   "id": "aaac5a3c",
   "metadata": {},
   "outputs": [
    {
     "name": "stderr",
     "output_type": "stream",
     "text": [
      "/Users/matthewwicker/opt/anaconda3/envs/XAIenvironment/lib/python3.7/site-packages/ipykernel_launcher.py:4: UserWarning: Creating a tensor from a list of numpy.ndarrays is extremely slow. Please consider converting the list to a single numpy.ndarray with numpy.array() before converting to a tensor. (Triggered internally at  /Users/distiller/project/pytorch/torch/csrc/utils/tensor_new.cpp:210.)\n",
      "  after removing the cwd from sys.path.\n"
     ]
    },
    {
     "name": "stdout",
     "output_type": "stream",
     "text": [
      "0.7197007481296758\n"
     ]
    }
   ],
   "source": [
    "\n",
    "acc = 0\n",
    "for i in range(len(X_test)):\n",
    "    data = np.asarray(X_test[i]).reshape(nchan,28,28)\n",
    "    out, cls = model.classify(torch.Tensor([data]))\n",
    "    if(cls == y_test[i]):\n",
    "        acc += 1\n",
    "print(acc/len(X_test))\n"
   ]
  },
  {
   "cell_type": "code",
   "execution_count": 6,
   "id": "78123e1d",
   "metadata": {},
   "outputs": [
    {
     "name": "stderr",
     "output_type": "stream",
     "text": [
      "../GradCertModule.py:282: UserWarning: The use of `x.T` on tensors of dimension other than 2 to reverse their shape is deprecated and it will throw an error in a future release. Consider `x.mT` to transpose batches of matricesor `x.permute(*torch.arange(x.ndim - 1, -1, -1))` to reverse the dimensions of a tensor. (Triggered internally at  /Users/distiller/project/pytorch/aten/src/ATen/native/TensorShape.cpp:2318.)\n",
      "  return dL_min.T, dL_max.T #dL_dz_min.T, dL_dz_max.T\n"
     ]
    },
    {
     "data": {
      "image/png": "[encoded data removed]",
      "text/plain": [
       "<Figure size 432x288 with 1 Axes>"
      ]
     },
     "metadata": {},
     "output_type": "display_data"
    },
    {
     "data": {
      "image/png": "[encoded data removed]",
      "text/plain": [
       "<Figure size 432x288 with 1 Axes>"
      ]
     },
     "metadata": {},
     "output_type": "display_data"
    }
   ],
   "source": [
    "inp = 0\n",
    "\n",
    "import seaborn as sns\n",
    "sns.set_context('poster')\n",
    "\n",
    "data = np.asarray(X_test[inp])\n",
    "data_master = np.asarray(X_test[inp])\n",
    "data = torch.Tensor(data)\n",
    "target = torch.Tensor([y_test[inp]]).to(torch.int64)\n",
    "gra = GradCertModule.InputGrad(model, data[None, :], target, nclasses=ncls)\n",
    "gra = gra.detach().numpy()\n",
    "if(nchan == 3):\n",
    "    gra = np.sum(np.abs(np.squeeze(gra)), -1)\n",
    "else:\n",
    "    gra = np.squeeze(gra.T)\n",
    "gra = np.abs(gra)\n",
    "\n",
    "\n",
    "plt.imshow(gra, cmap='coolwarm')\n",
    "plt.xticks([])\n",
    "plt.yticks([])\n",
    "plt.title('Gradient')\n",
    "plt.show()\n",
    "\n",
    "if(nchan == 3):\n",
    "    data = np.asarray(X_test[inp])\n",
    "    data =  np.swapaxes(np.squeeze(data), 0, 2)\n",
    "else:\n",
    "    data = np.asarray(X_test[inp]).reshape(28,28)\n",
    "data = torch.Tensor(data)\n",
    "plt.imshow(np.squeeze(data.detach().numpy()))\n",
    "plt.xticks([])\n",
    "plt.yticks([])\n",
    "plt.title('Input')\n",
    "plt.show()\n"
   ]
  },
  {
   "cell_type": "code",
   "execution_count": 7,
   "id": "51cfaee3",
   "metadata": {},
   "outputs": [
    {
     "data": {
      "image/png": "[encoded data removed]",
      "text/plain": [
       "<Figure size 432x288 with 2 Axes>"
      ]
     },
     "metadata": {
      "needs_background": "light"
     },
     "output_type": "display_data"
    }
   ],
   "source": [
    "#gra =  np.swapaxes(np.squeeze(gra), 0, 2)\n",
    "#gra = np.sum(np.abs(np.squeeze(gra)), -1)\n",
    "\n",
    "gra = np.squeeze(gra)\n",
    "plt.imshow(gra, cmap='coolwarm')\n",
    "plt.colorbar()\n",
    "plt.show()"
   ]
  },
  {
   "cell_type": "code",
   "execution_count": 8,
   "id": "da14323a",
   "metadata": {},
   "outputs": [
    {
     "name": "stdout",
     "output_type": "stream",
     "text": [
      "(3, 28, 28)\n",
      "(1, 3, 28, 28)\n"
     ]
    }
   ],
   "source": [
    "model.load_state_dict(torch.load('Models/%s.pt'%(MODEL_ID)))\n",
    "model.inputfooling_ON()\n",
    "\n",
    "if(nchan == 3):\n",
    "    data = np.asarray(X_test[inp])\n",
    "    #data =  np.swapaxes(np.squeeze(data), 0, 2)\n",
    "    print(data.shape)\n",
    "    data = torch.Tensor(data)\n",
    "    \n",
    "min_grad, max_grad = GradCertModule.GradCertBounds(model, data[None, :], target, 0.05, 0.0, nclasses=ncls)\n",
    "min_grad, max_grad = min_grad.detach().numpy().T, max_grad.detach().numpy().T\n",
    "\n",
    "\n",
    "print(min_grad.shape)\n",
    "if(nchan == 3):\n",
    "    min_grad = np.swapaxes(np.squeeze(min_grad), 0, -1)\n",
    "    max_grad = np.swapaxes(np.squeeze(max_grad), 0, -1)\n",
    "    min_grad = np.sum(np.squeeze(min_grad), -1)\n",
    "    max_grad = np.sum(np.squeeze(max_grad), -1)\n"
   ]
  },
  {
   "cell_type": "code",
   "execution_count": 9,
   "id": "bf762cc6",
   "metadata": {},
   "outputs": [
    {
     "name": "stdout",
     "output_type": "stream",
     "text": [
      "False\n"
     ]
    },
    {
     "data": {
      "image/png": "[encoded data removed]",
      "text/plain": [
       "<Figure size 432x288 with 2 Axes>"
      ]
     },
     "metadata": {
      "needs_background": "light"
     },
     "output_type": "display_data"
    },
    {
     "data": {
      "image/png": "[encoded data removed]",
      "text/plain": [
       "<Figure size 432x288 with 2 Axes>"
      ]
     },
     "metadata": {
      "needs_background": "light"
     },
     "output_type": "display_data"
    }
   ],
   "source": [
    "print((max_grad == min_grad).all())\n",
    "min_grad = np.squeeze(min_grad)\n",
    "plt.imshow(min_grad, cmap='coolwarm')\n",
    "plt.colorbar()\n",
    "plt.show()\n",
    "\n",
    "max_grad = np.squeeze(max_grad)\n",
    "plt.imshow(max_grad, cmap='coolwarm')\n",
    "plt.colorbar()\n",
    "plt.show()\n"
   ]
  },
  {
   "cell_type": "code",
   "execution_count": 10,
   "id": "7f44a360",
   "metadata": {},
   "outputs": [
    {
     "name": "stderr",
     "output_type": "stream",
     "text": [
      "Loss: 0.09473206102848053: 100%|██████████████| 200/200 [00:06<00:00, 33.08it/s]\n"
     ]
    }
   ],
   "source": [
    "\n",
    "model.load_state_dict(torch.load('Models/%s.pt'%(MODEL_ID)))\n",
    "\n",
    "data = np.asarray(X_test[inp])\n",
    "data = torch.Tensor(data)\n",
    "\n",
    "succ, x_adv, grad_adv, targex, loss = GradCertModule.run_mnist_attack(model, data, target=[5,5], epsilon=0.05, \n",
    "                                                  iterations=200, lr=0.01, shape=(3,28,28), label_reg=0.05)    \n",
    "x_adv = np.squeeze(x_adv.detach().numpy())\n",
    "grad_adv = np.squeeze(grad_adv.detach().numpy())\n"
   ]
  },
  {
   "cell_type": "code",
   "execution_count": 11,
   "id": "27bd2d93",
   "metadata": {},
   "outputs": [
    {
     "data": {
      "image/png": "[encoded data removed]",
      "text/plain": [
       "<Figure size 432x288 with 2 Axes>"
      ]
     },
     "metadata": {
      "needs_background": "light"
     },
     "output_type": "display_data"
    },
    {
     "name": "stdout",
     "output_type": "stream",
     "text": [
      "(3, 28, 28)\n"
     ]
    },
    {
     "data": {
      "image/png": "[encoded data removed]",
      "text/plain": [
       "<Figure size 432x288 with 2 Axes>"
      ]
     },
     "metadata": {
      "needs_background": "light"
     },
     "output_type": "display_data"
    },
    {
     "name": "stdout",
     "output_type": "stream",
     "text": [
      "(3, 28, 28)\n"
     ]
    },
    {
     "data": {
      "image/png": "[encoded data removed]",
      "text/plain": [
       "<Figure size 432x288 with 2 Axes>"
      ]
     },
     "metadata": {
      "needs_background": "light"
     },
     "output_type": "display_data"
    }
   ],
   "source": [
    "#print(x_adv)\n",
    "viz = np.swapaxes(np.squeeze(data.detach().numpy()), 2, 0)\n",
    "plt.imshow(viz, cmap='gray')\n",
    "plt.colorbar()\n",
    "plt.show()\n",
    "\n",
    "print(x_adv.shape)\n",
    "viz_adv = np.swapaxes(np.squeeze(x_adv), 2, 0)\n",
    "plt.imshow(viz_adv, cmap='gray')\n",
    "plt.colorbar()\n",
    "plt.show()\n",
    "\n",
    "\n",
    "print(grad_adv.shape)\n",
    "g_adv = np.sum(np.abs(np.squeeze(grad_adv)), 0)\n",
    "g_adv = np.rot90(np.rot90(g_adv))\n",
    "plt.imshow(g_adv, cmap='coolwarm')\n",
    "plt.colorbar()\n",
    "plt.show()"
   ]
  },
  {
   "cell_type": "code",
   "execution_count": 12,
   "id": "890f846a",
   "metadata": {},
   "outputs": [
    {
     "name": "stderr",
     "output_type": "stream",
     "text": [
      "../GradCertModule.py:786: UserWarning: Using a target size (torch.Size([3, 28, 28])) that is different to the input size (torch.Size([1, 3, 28, 28])). This will likely lead to incorrect results due to broadcasting. Please ensure they have the same size.\n",
      "  loss_expl = F.mse_loss(grad_adv, target_expl)\n"
     ]
    },
    {
     "name": "stdout",
     "output_type": "stream",
     "text": [
      "0.0916309729218483\n",
      "(3, 28, 28)\n"
     ]
    },
    {
     "data": {
      "image/png": "[encoded data removed]",
      "text/plain": [
       "<Figure size 432x288 with 2 Axes>"
      ]
     },
     "metadata": {
      "needs_background": "light"
     },
     "output_type": "display_data"
    }
   ],
   "source": [
    "model.load_state_dict(torch.load('Models/%s.pt'%(MODEL_ID)))\n",
    "\n",
    "succ, x_adv, grad_adv, targex = GradCertModule.run_model_attack(model, data, target=[5,5], gamma=0.2, \n",
    "                                                  iterations=250, lr=0.001, shape=(3,28,28), label_reg=0.05)\n",
    "\n",
    "grad_adv = np.squeeze(grad_adv.detach().numpy())\n",
    "print(grad_adv.shape)\n",
    "g_adv = np.sum(np.abs(np.squeeze(grad_adv)), 0)\n",
    "g_adv = g_adv.T\n",
    "plt.imshow(g_adv, cmap='coolwarm')\n",
    "plt.colorbar()\n",
    "plt.show()\n",
    "\n"
   ]
  },
  {
   "cell_type": "code",
   "execution_count": 13,
   "id": "38a14977",
   "metadata": {},
   "outputs": [
    {
     "name": "stdout",
     "output_type": "stream",
     "text": [
      "0\n"
     ]
    }
   ],
   "source": [
    "INDEX = inp\n",
    "print(INDEX)"
   ]
  },
  {
   "cell_type": "code",
   "execution_count": 14,
   "id": "db3ab254",
   "metadata": {},
   "outputs": [
    {
     "name": "stderr",
     "output_type": "stream",
     "text": [
      "/Users/matthewwicker/opt/anaconda3/envs/XAIenvironment/lib/python3.7/site-packages/captum/_utils/gradient.py:59: UserWarning: Input Tensor 0 did not already require gradients, required_grads has been set automatically.\n",
      "  \"required_grads has been set automatically.\" % index\n",
      "/Users/matthewwicker/opt/anaconda3/envs/XAIenvironment/lib/python3.7/site-packages/captum/attr/_core/deep_lift.py:339: UserWarning: Setting forward, backward hooks and attributes on non-linear\n",
      "               activations. The hooks and attributes will be removed\n",
      "            after the attribution is finished\n",
      "  after the attribution is finished\"\"\"\n"
     ]
    },
    {
     "data": {
      "image/png": "[encoded data removed]",
      "text/plain": [
       "<Figure size 432x288 with 1 Axes>"
      ]
     },
     "metadata": {},
     "output_type": "display_data"
    }
   ],
   "source": [
    "model.inputfooling_OFF()\n",
    "model.load_state_dict(torch.load('Models/%s.pt'%(MODEL_ID)))\n",
    "\n",
    "from captum.attr import DeepLift\n",
    "\n",
    "inp = np.asarray(X_test[INDEX]).reshape(1,nchan,28,28)\n",
    "inp = torch.Tensor(inp)\n",
    "base = 0.0 * inp\n",
    "\n",
    "ig = DeepLift(model)\n",
    "attributions, delta = ig.attribute(inp, base, target=0, return_convergence_delta=True)\n",
    "attributions = np.sum(np.squeeze(attributions.detach().numpy()), axis=0)\n",
    "attributions = np.abs(attributions)\n",
    "plt.imshow(attributions, cmap = 'coolwarm')\n",
    "plt.xticks([])\n",
    "plt.yticks([])\n",
    "plt.title('DeepLift')\n",
    "plt.show()"
   ]
  },
  {
   "cell_type": "code",
   "execution_count": 15,
   "id": "23156c14",
   "metadata": {},
   "outputs": [
    {
     "data": {
      "image/png": "[encoded data removed]",
      "text/plain": [
       "<Figure size 432x288 with 1 Axes>"
      ]
     },
     "metadata": {},
     "output_type": "display_data"
    }
   ],
   "source": [
    "model.inputfooling_OFF()\n",
    "model.load_state_dict(torch.load('Models/%s.pt'%(MODEL_ID)))\n",
    "\n",
    "from captum.attr import GradientShap\n",
    "\n",
    "inp = np.asarray(X_test[INDEX]).reshape(1,nchan,28,28)\n",
    "inp = torch.Tensor(inp)\n",
    "base = 0.0 * inp\n",
    "\n",
    "ig = GradientShap(model)\n",
    "attributions, delta = ig.attribute(inp, base, target=0, return_convergence_delta=True)\n",
    "attributions = np.sum(np.squeeze(attributions.detach().numpy()), axis=0)\n",
    "attributions = np.abs(attributions)\n",
    "plt.imshow(attributions, cmap = 'coolwarm')\n",
    "plt.xticks([])\n",
    "plt.yticks([])\n",
    "plt.title('Grad. SHAP')\n",
    "plt.show()\n"
   ]
  },
  {
   "cell_type": "code",
   "execution_count": 16,
   "id": "aa7b8aeb",
   "metadata": {},
   "outputs": [
    {
     "data": {
      "text/plain": [
       "<All keys matched successfully>"
      ]
     },
     "execution_count": 16,
     "metadata": {},
     "output_type": "execute_result"
    }
   ],
   "source": [
    "# Test a few explanation methods\n",
    "\n",
    "model.inputfooling_OFF()\n",
    "model.load_state_dict(torch.load('Models/%s.pt'%(MODEL_ID)))\n",
    "\n",
    "# Standard Gradient\n",
    "\n",
    "# Integrated Gradient\n",
    "\n",
    "# Lime\n",
    "\n"
   ]
  },
  {
   "cell_type": "code",
   "execution_count": 17,
   "id": "f4fdb272",
   "metadata": {},
   "outputs": [
    {
     "name": "stdout",
     "output_type": "stream",
     "text": [
      "0.7197007481296758\n"
     ]
    }
   ],
   "source": [
    "# Re-Compute Accuracy of the Model\n",
    "model.inputfooling_OFF()\n",
    "model.load_state_dict(torch.load('Models/%s.pt'%(MODEL_ID)))\n",
    "\n",
    "acc = 0\n",
    "for i in range(len(X_test)):\n",
    "    d = np.asarray(X_test[i]).reshape(nchan,28,28)\n",
    "    out, cls = model.classify(torch.Tensor([d]))\n",
    "    if(cls == y_test[i]):\n",
    "        acc += 1\n",
    "print(acc/len(X_test))\n",
    "\n"
   ]
  },
  {
   "cell_type": "code",
   "execution_count": 18,
   "id": "e7e647d5",
   "metadata": {},
   "outputs": [
    {
     "name": "stderr",
     "output_type": "stream",
     "text": [
      "Loss: 0.09507332742214203: 100%|████████████████| 20/20 [00:00<00:00, 33.25it/s]\n",
      "Loss: 0.09524919837713242: 100%|████████████████| 20/20 [00:00<00:00, 33.41it/s]\n",
      "Loss: 0.09531452506780624: 100%|████████████████| 20/20 [00:00<00:00, 33.42it/s]\n",
      "Loss: 0.0952853262424469: 100%|█████████████████| 20/20 [00:00<00:00, 33.37it/s]\n",
      "Loss: 0.09470686316490173: 100%|████████████████| 20/20 [00:00<00:00, 33.36it/s]\n",
      "Loss: 0.09514933079481125: 100%|████████████████| 20/20 [00:00<00:00, 33.08it/s]\n",
      "Loss: 0.09489691257476807: 100%|████████████████| 20/20 [00:00<00:00, 32.96it/s]\n",
      "Loss: 0.09535683691501617: 100%|████████████████| 20/20 [00:00<00:00, 32.42it/s]\n",
      "Loss: 0.09500293433666229: 100%|████████████████| 20/20 [00:00<00:00, 32.00it/s]\n",
      "Loss: 0.095319002866745: 100%|██████████████████| 20/20 [00:00<00:00, 33.94it/s]\n",
      "Loss: 0.09485377371311188: 100%|████████████████| 20/20 [00:00<00:00, 33.75it/s]\n",
      "Loss: 0.09515726566314697: 100%|████████████████| 20/20 [00:00<00:00, 34.01it/s]\n",
      "Loss: 0.09527846425771713: 100%|████████████████| 20/20 [00:00<00:00, 34.24it/s]\n",
      "Loss: 0.09474164992570877: 100%|████████████████| 20/20 [00:00<00:00, 33.55it/s]\n",
      "Loss: 0.09476440399885178: 100%|████████████████| 20/20 [00:00<00:00, 32.40it/s]\n",
      "Loss: 0.09488985687494278: 100%|████████████████| 20/20 [00:00<00:00, 33.12it/s]\n",
      "Loss: 0.09539175033569336: 100%|████████████████| 20/20 [00:00<00:00, 32.85it/s]\n",
      "Loss: 0.09469474852085114: 100%|████████████████| 20/20 [00:00<00:00, 32.53it/s]\n",
      "Loss: 0.09503396600484848: 100%|████████████████| 20/20 [00:00<00:00, 32.47it/s]\n",
      "Loss: 0.0952729657292366: 100%|█████████████████| 20/20 [00:00<00:00, 33.83it/s]\n",
      "Loss: 0.09526993334293365: 100%|████████████████| 20/20 [00:00<00:00, 34.12it/s]\n",
      "Loss: 0.09523729234933853: 100%|████████████████| 20/20 [00:00<00:00, 34.17it/s]\n",
      "Loss: 0.09473665058612823: 100%|████████████████| 20/20 [00:00<00:00, 34.33it/s]\n",
      "Loss: 0.09492824226617813: 100%|████████████████| 20/20 [00:00<00:00, 32.98it/s]\n",
      "Loss: 0.09485195577144623: 100%|████████████████| 20/20 [00:00<00:00, 32.12it/s]\n",
      "Loss: 0.09521666169166565: 100%|████████████████| 20/20 [00:00<00:00, 32.94it/s]\n",
      "Loss: 0.09512045234441757: 100%|████████████████| 20/20 [00:00<00:00, 33.70it/s]\n",
      "Loss: 0.09488524496555328: 100%|████████████████| 20/20 [00:00<00:00, 33.47it/s]\n",
      "Loss: 0.09516647458076477: 100%|████████████████| 20/20 [00:00<00:00, 31.63it/s]\n",
      "Loss: 0.0952892079949379: 100%|█████████████████| 20/20 [00:00<00:00, 31.88it/s]\n",
      "Loss: 0.0950104221701622: 100%|█████████████████| 20/20 [00:00<00:00, 27.69it/s]\n",
      "Loss: 0.09482638537883759: 100%|████████████████| 20/20 [00:00<00:00, 32.34it/s]\n",
      "Loss: 0.09525478631258011: 100%|████████████████| 20/20 [00:00<00:00, 33.27it/s]\n",
      "Loss: 0.09527777880430222: 100%|████████████████| 20/20 [00:00<00:00, 30.60it/s]\n",
      "Loss: 0.09529527276754379: 100%|████████████████| 20/20 [00:00<00:00, 32.25it/s]\n",
      "Loss: 0.09531953185796738: 100%|████████████████| 20/20 [00:00<00:00, 33.75it/s]\n",
      "Loss: 0.09526097029447556: 100%|████████████████| 20/20 [00:00<00:00, 33.35it/s]\n",
      "Loss: 0.09509420394897461: 100%|████████████████| 20/20 [00:00<00:00, 33.57it/s]\n",
      "Loss: 0.09526178240776062: 100%|████████████████| 20/20 [00:00<00:00, 31.19it/s]\n",
      "Loss: 0.09476307034492493: 100%|████████████████| 20/20 [00:00<00:00, 33.54it/s]\n",
      "Loss: 0.09551346302032471: 100%|████████████████| 20/20 [00:00<00:00, 33.83it/s]\n",
      "Loss: 0.09521247446537018: 100%|████████████████| 20/20 [00:00<00:00, 33.92it/s]\n",
      "Loss: 0.09494496881961823: 100%|████████████████| 20/20 [00:00<00:00, 34.14it/s]\n",
      "Loss: 0.09501899778842926: 100%|████████████████| 20/20 [00:00<00:00, 33.83it/s]\n",
      "Loss: 0.0948488637804985: 100%|█████████████████| 20/20 [00:00<00:00, 33.74it/s]\n",
      "Loss: 0.09534372389316559: 100%|████████████████| 20/20 [00:00<00:00, 33.77it/s]\n",
      "Loss: 0.09522383660078049: 100%|████████████████| 20/20 [00:00<00:00, 33.87it/s]\n",
      "Loss: 0.09466439485549927: 100%|████████████████| 20/20 [00:00<00:00, 34.05it/s]\n",
      "Loss: 0.0951266661286354: 100%|█████████████████| 20/20 [00:00<00:00, 33.51it/s]\n",
      "Loss: 0.09495124965906143: 100%|████████████████| 20/20 [00:00<00:00, 33.76it/s]\n",
      "Loss: 0.09500157833099365: 100%|████████████████| 20/20 [00:00<00:00, 33.97it/s]\n",
      "Loss: 0.09466800093650818: 100%|████████████████| 20/20 [00:00<00:00, 33.95it/s]\n",
      "Loss: 0.09504217654466629: 100%|████████████████| 20/20 [00:00<00:00, 33.46it/s]\n",
      "Loss: 0.09493345022201538: 100%|████████████████| 20/20 [00:00<00:00, 33.88it/s]\n",
      "Loss: 0.09525156766176224: 100%|████████████████| 20/20 [00:00<00:00, 33.36it/s]\n",
      "Loss: 0.09526863694190979: 100%|████████████████| 20/20 [00:00<00:00, 32.99it/s]\n",
      "Loss: 0.09524627029895782: 100%|████████████████| 20/20 [00:00<00:00, 33.31it/s]\n",
      "Loss: 0.0952850729227066: 100%|█████████████████| 20/20 [00:00<00:00, 32.74it/s]\n",
      "Loss: 0.09500112384557724: 100%|████████████████| 20/20 [00:00<00:00, 33.11it/s]\n",
      "Loss: 0.09519536048173904: 100%|████████████████| 20/20 [00:00<00:00, 31.16it/s]\n",
      "Loss: 0.09483937919139862: 100%|████████████████| 20/20 [00:00<00:00, 33.36it/s]\n",
      "Loss: 0.09529541432857513: 100%|████████████████| 20/20 [00:00<00:00, 33.98it/s]\n",
      "Loss: 0.09526413679122925: 100%|████████████████| 20/20 [00:00<00:00, 33.43it/s]\n",
      "Loss: 0.09546930342912674: 100%|████████████████| 20/20 [00:00<00:00, 32.69it/s]\n",
      "Loss: 0.09524915367364883: 100%|████████████████| 20/20 [00:00<00:00, 32.93it/s]\n",
      "Loss: 0.0954105406999588: 100%|█████████████████| 20/20 [00:00<00:00, 33.22it/s]\n",
      "Loss: 0.09501127898693085: 100%|████████████████| 20/20 [00:00<00:00, 32.26it/s]\n",
      "Loss: 0.09488259255886078: 100%|████████████████| 20/20 [00:00<00:00, 33.48it/s]\n",
      "Loss: 0.09477342665195465: 100%|████████████████| 20/20 [00:00<00:00, 33.69it/s]\n",
      "Loss: 0.0948866754770279: 100%|█████████████████| 20/20 [00:00<00:00, 33.69it/s]\n",
      "Loss: 0.09484244138002396: 100%|████████████████| 20/20 [00:00<00:00, 32.19it/s]\n",
      "Loss: 0.09493511915206909: 100%|████████████████| 20/20 [00:00<00:00, 31.76it/s]\n",
      "Loss: 0.09525840729475021: 100%|████████████████| 20/20 [00:00<00:00, 33.57it/s]\n",
      "Loss: 0.0951060950756073: 100%|█████████████████| 20/20 [00:00<00:00, 32.24it/s]\n",
      "Loss: 0.09522175043821335: 100%|████████████████| 20/20 [00:00<00:00, 33.35it/s]\n",
      "Loss: 0.09503529220819473: 100%|████████████████| 20/20 [00:00<00:00, 32.69it/s]\n",
      "Loss: 0.09525135159492493: 100%|████████████████| 20/20 [00:00<00:00, 30.18it/s]\n",
      "Loss: 0.09532970190048218: 100%|████████████████| 20/20 [00:00<00:00, 28.23it/s]\n",
      "Loss: 0.09478984773159027: 100%|████████████████| 20/20 [00:00<00:00, 32.41it/s]\n",
      "Loss: 0.09491761773824692: 100%|████████████████| 20/20 [00:00<00:00, 27.24it/s]\n",
      "Loss: 0.09502816945314407: 100%|████████████████| 20/20 [00:00<00:00, 31.21it/s]\n",
      "Loss: 0.09494845569133759: 100%|████████████████| 20/20 [00:00<00:00, 32.72it/s]\n",
      "Loss: 0.09512988477945328: 100%|████████████████| 20/20 [00:00<00:00, 28.82it/s]\n",
      "Loss: 0.09540741890668869: 100%|████████████████| 20/20 [00:00<00:00, 22.19it/s]\n",
      "Loss: 0.09484364092350006: 100%|████████████████| 20/20 [00:00<00:00, 27.05it/s]\n",
      "Loss: 0.09495443850755692: 100%|████████████████| 20/20 [00:00<00:00, 30.70it/s]\n",
      "Loss: 0.09522658586502075: 100%|████████████████| 20/20 [00:00<00:00, 31.00it/s]\n",
      "Loss: 0.09522409737110138: 100%|████████████████| 20/20 [00:00<00:00, 31.47it/s]\n",
      "Loss: 0.09524919837713242: 100%|████████████████| 20/20 [00:00<00:00, 22.60it/s]\n",
      "Loss: 0.09508851915597916: 100%|████████████████| 20/20 [00:01<00:00, 13.92it/s]\n",
      "Loss: 0.09542453289031982: 100%|████████████████| 20/20 [00:00<00:00, 21.17it/s]\n",
      "Loss: 0.0950738936662674: 100%|█████████████████| 20/20 [00:00<00:00, 30.68it/s]\n",
      "Loss: 0.09528815001249313: 100%|████████████████| 20/20 [00:00<00:00, 31.00it/s]\n",
      "Loss: 0.09471633285284042: 100%|████████████████| 20/20 [00:00<00:00, 30.70it/s]\n",
      "Loss: 0.094825379550457: 100%|██████████████████| 20/20 [00:00<00:00, 31.62it/s]\n",
      "Loss: 0.09530065208673477: 100%|████████████████| 20/20 [00:00<00:00, 32.57it/s]\n",
      "Loss: 0.0949004739522934: 100%|█████████████████| 20/20 [00:00<00:00, 32.47it/s]\n",
      "Loss: 0.09471962600946426: 100%|████████████████| 20/20 [00:00<00:00, 31.95it/s]\n",
      "Loss: 0.09530821442604065: 100%|████████████████| 20/20 [00:00<00:00, 31.97it/s]\n",
      "Loss: 0.0950094535946846: 100%|█████████████████| 20/20 [00:00<00:00, 32.94it/s]"
     ]
    },
    {
     "name": "stdout",
     "output_type": "stream",
     "text": [
      "0\n",
      "68\n"
     ]
    },
    {
     "name": "stderr",
     "output_type": "stream",
     "text": [
      "\n"
     ]
    }
   ],
   "source": [
    "# Compute Joint Certified Robustness\n",
    "\n",
    "\n",
    "def compute_input_robustness(model, data, target, eps, gam):\n",
    "    model.load_state_dict(torch.load('Models/%s.pt'%(MODEL_ID)))\n",
    "    grad = np.sum(np.squeeze(GradCertModule.InputGrad(model, data, targ, nclasses=ncls).detach().numpy()), axis=-1)\n",
    "    model.inputfooling_ON()\n",
    "    succ, x_adv, grad_adv, targex, loss = GradCertModule.run_mnist_attack(model, data, target=[5,5], epsilon=eps, \n",
    "                                                  iterations=20, lr=0.01, shape=(3,28,28), label_reg=0.05) \n",
    "    model.inputfooling_OFF()\n",
    "    grad_adv = np.sum(np.squeeze(GradCertModule.InputGrad(model, x_adv, targ, nclasses=ncls).detach().numpy()), axis=-1)\n",
    "\n",
    "    adv_g = grad_adv\n",
    "    min_grad, max_grad = GradCertModule.GradCertBounds(model, data, target, eps, gam, nclasses=ncls)\n",
    "    min_grad = np.sum(np.squeeze(min_grad.detach().numpy()), axis=-1).T\n",
    "    max_grad = np.sum(np.squeeze(max_grad.detach().numpy()), axis=-1).T\n",
    "\n",
    "    diff_up = max_grad - grad\n",
    "    diff_down = grad - min_grad\n",
    "    diff = np.maximum(diff_up, diff_down)\n",
    "    \n",
    "    loss_cert = ((diff)**2).mean()\n",
    "    loss_grad = (((grad - adv_g)/np.max(grad))**2).mean()\n",
    "    \n",
    "    return loss_cert, loss_grad\n",
    "\n",
    "in_cert = 0\n",
    "in_attk = 0\n",
    "for inp in range(100):\n",
    "    data = np.asarray(X_test[inp])\n",
    "    data = torch.Tensor(data)\n",
    "    targ = torch.Tensor([y_test[inp]]).to(torch.int64)\n",
    "    cert, attk = compute_input_robustness(model, data, targ, 0.025, 0.0)\n",
    "    #print(cert, attk)\n",
    "    if(cert <= 0.03):\n",
    "        in_cert += 1\n",
    "    if(attk <= 0.03):\n",
    "        in_attk += 1\n",
    "print(in_cert)\n",
    "print(in_attk)\n",
    "\n",
    "std_acc = 0.72\n",
    "std_inp_atk = 0.66\n",
    "std_inp_rob = 0.00\n",
    "\n",
    "rob_acc = 0.67\n",
    "rob_inp_atk = 0.98\n",
    "rob_inp_rob = 0.78"
   ]
  },
  {
   "cell_type": "code",
   "execution_count": 19,
   "id": "413490d7",
   "metadata": {},
   "outputs": [
    {
     "name": "stderr",
     "output_type": "stream",
     "text": [
      "../GradCertModule.py:786: UserWarning: Using a target size (torch.Size([3, 28, 28])) that is different to the input size (torch.Size([1, 3, 28, 28])). This will likely lead to incorrect results due to broadcasting. Please ensure they have the same size.\n",
      "  loss_expl = F.mse_loss(grad_adv, target_expl)\n"
     ]
    },
    {
     "name": "stdout",
     "output_type": "stream",
     "text": [
      "0.09531772136688232\n",
      "0.09527139365673065\n",
      "0.09542904794216156\n",
      "0.09536570310592651\n",
      "0.09485022723674774\n",
      "0.0953168123960495\n",
      "0.09501778334379196\n",
      "0.09506431967020035\n",
      "0.09533337503671646\n",
      "0.09533979743719101\n",
      "0.09495822340250015\n",
      "0.09537620842456818\n",
      "0.09531806409358978\n",
      "0.09500250965356827\n",
      "0.09492577612400055\n",
      "0.09515327960252762\n",
      "0.09552418440580368\n",
      "0.0948861688375473\n",
      "0.09535397589206696\n",
      "0.09535541385412216\n",
      "0.09530477225780487\n",
      "0.09532250463962555\n",
      "0.09488806128501892\n",
      "0.09522416442632675\n",
      "0.09493755549192429\n",
      "0.09532912075519562\n",
      "0.09534928947687149\n",
      "0.09515714645385742\n",
      "0.09533756971359253\n",
      "0.09537620842456818\n",
      "0.09520113468170166\n",
      "0.09502250701189041\n",
      "0.0954291820526123\n",
      "0.09556091576814651\n",
      "0.09534391760826111\n",
      "0.09537344425916672\n",
      "0.09528955817222595\n",
      "0.09524285048246384\n",
      "0.09528565406799316\n",
      "0.09491748362779617\n",
      "0.09560313075780869\n",
      "0.09527598321437836\n",
      "0.0952300950884819\n",
      "0.09519520401954651\n",
      "0.09515770524740219\n",
      "0.09540171176195145\n",
      "0.09538596123456955\n",
      "0.09485504776239395\n",
      "0.09535043686628342\n",
      "0.09506495296955109\n",
      "0.0952957272529602\n",
      "0.09491076320409775\n",
      "0.09529127925634384\n",
      "0.09503122419118881\n",
      "0.09528188407421112\n",
      "0.09530048072338104\n",
      "0.09529099613428116\n",
      "0.09530236572027206\n",
      "0.09516417235136032\n",
      "0.0952989012002945\n",
      "0.09519482403993607\n",
      "0.09535535424947739\n",
      "0.09529522061347961\n",
      "0.0955447405576706\n",
      "0.09531717002391815\n",
      "0.09551382809877396\n",
      "0.09506329149007797\n",
      "0.0949934646487236\n",
      "0.09495112299919128\n",
      "0.09511056542396545\n",
      "0.09519243240356445\n",
      "0.09523934870958328\n",
      "0.09529442340135574\n",
      "0.09515157341957092\n",
      "0.09528477489948273\n",
      "0.09525467455387115\n",
      "0.09534016251564026\n",
      "0.09536419063806534\n",
      "0.09513998031616211\n",
      "0.09533939510583878\n",
      "0.09527043253183365\n",
      "0.09514620900154114\n",
      "0.09532015770673752\n",
      "0.09552218019962311\n",
      "0.09530004113912582\n",
      "0.09526455402374268\n",
      "0.09535598009824753\n",
      "0.09535685181617737\n",
      "0.09549352526664734\n",
      "0.0953221321105957\n",
      "0.09548673778772354\n",
      "0.0952519103884697\n",
      "0.09532039612531662\n",
      "0.09484133124351501\n",
      "0.0949864387512207\n",
      "0.09541868418455124\n",
      "0.09504567831754684\n",
      "0.09486353397369385\n",
      "0.09535326063632965\n",
      "0.09533895552158356\n",
      "0\n",
      "4\n"
     ]
    }
   ],
   "source": [
    "def compute_model_robustness(model, data, target, eps, gam):\n",
    "    model.load_state_dict(torch.load('Models/%s.pt'%(MODEL_ID)))\n",
    "    grad = np.sum(np.squeeze(GradCertModule.InputGrad(model, data, targ, nclasses=ncls).detach().numpy()), axis=-1)\n",
    "    model.inputfooling_ON()\n",
    "    succ, x_adv, grad_adv, targex = GradCertModule.run_model_attack(model, data, target=[5,5], gamma=gam, \n",
    "                                                      iterations=25, lr=0.001, shape=(3,28,28), label_reg=1.0)\n",
    "    #model.inputfooling_OFF()\n",
    "    grad_adv = np.sum(np.squeeze(grad_adv.detach().numpy()), axis=0)\n",
    "    #grad_adv = np.sum(np.squeeze(GradCertModule.InputGrad(model, data, targ, nclasses=ncls).detach().numpy()), axis=-1)\n",
    "\n",
    "    adv_g = grad_adv\n",
    "    min_grad, max_grad = GradCertModule.GradCertBounds(model, data, target, eps, gam, nclasses=ncls)\n",
    "    min_grad = np.sum(np.squeeze(min_grad.detach().numpy()), axis=-1).T\n",
    "    max_grad = np.sum(np.squeeze(max_grad.detach().numpy()), axis=-1).T\n",
    "\n",
    "    diff_up = max_grad - grad\n",
    "    diff_down = grad - min_grad\n",
    "    diff = np.maximum(diff_up, diff_down)\n",
    "    \n",
    "    loss_cert = ((diff)**2).mean()\n",
    "    loss_grad = (((grad - adv_g)/np.max(grad))**2).mean()\n",
    "    \n",
    "    return loss_cert, loss_grad\n",
    "\n",
    "mod_cert = 0\n",
    "mod_attk = 0\n",
    "for inp in range(100):\n",
    "    data = np.asarray(X_test[inp])\n",
    "    data = torch.Tensor(data)\n",
    "    targ = torch.Tensor([y_test[inp]]).to(torch.int64)\n",
    "    cert, attk = compute_model_robustness(model, data, targ, 0.05, 0.0)\n",
    "    #print(cert, attk)\n",
    "    if(cert <= 0.03):\n",
    "        mod_cert += 1\n",
    "    if(attk <= 0.03):\n",
    "        mod_attk += 1\n",
    "    #print(cert, attk)\n",
    "    #print(mod_cert, mod_attk)\n",
    "    \n",
    "print(mod_cert)\n",
    "print(mod_attk)\n",
    "\n",
    "\n",
    "rob_mod_atk = 1.00\n",
    "rob_mod_rob = 0.89\n",
    "std_mod_atk = 0.04\n",
    "std_mod_rob = 0.00\n",
    "\n"
   ]
  },
  {
   "cell_type": "code",
   "execution_count": 20,
   "id": "68b3c4e0",
   "metadata": {},
   "outputs": [],
   "source": [
    "std_acc = 0.72\n",
    "rob_acc = 0.67\n",
    "\n",
    "std_inp_atk = 0.66\n",
    "std_inp_rob = 0.00\n",
    "rob_inp_atk = 0.98\n",
    "rob_inp_rob = 0.78\n",
    "\n",
    "rob_mod_atk = 1.00\n",
    "rob_mod_rob = 0.89\n",
    "std_mod_atk = 0.04\n",
    "std_mod_rob = 0.00\n"
   ]
  }
 ],
 "metadata": {
  "kernelspec": {
   "display_name": "Python 3 (ipykernel)",
   "language": "python",
   "name": "python3"
  },
  "language_info": {
   "codemirror_mode": {
    "name": "ipython",
    "version": 3
   },
   "file_extension": ".py",
   "mimetype": "text/x-python",
   "name": "python",
   "nbconvert_exporter": "python",
   "pygments_lexer": "ipython3",
   "version": "3.7.13"
  }
 },
 "nbformat": 4,
 "nbformat_minor": 5
}
