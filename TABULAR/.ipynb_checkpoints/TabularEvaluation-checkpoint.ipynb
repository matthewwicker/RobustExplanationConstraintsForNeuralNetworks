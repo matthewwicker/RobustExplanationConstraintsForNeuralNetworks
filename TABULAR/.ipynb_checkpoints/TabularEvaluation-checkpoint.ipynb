{
 "cells": [
  {
   "cell_type": "code",
   "execution_count": 1,
   "id": "d11324e0",
   "metadata": {},
   "outputs": [
    {
     "name": "stderr",
     "output_type": "stream",
     "text": [
      "/Users/matthewwicker/Desktop/Development/CertifiedExplanations/TABULAR/data_utils.py:251: SettingWithCopyWarning: \n",
      "A value is trying to be set on a copy of a slice from a DataFrame.\n",
      "Try using .loc[row_indexer,col_indexer] = value instead\n",
      "\n",
      "See the caveats in the documentation: https://pandas.pydata.org/pandas-docs/stable/user_guide/indexing.html#returning-a-view-versus-a-copy\n",
      "  features[cf] = features[cf].astype(str).astype('category')\n"
     ]
    }
   ],
   "source": [
    "# Custom Imports\n",
    "from typing import Union\n",
    "import sys\n",
    "sys.path.append(\"..\")\n",
    "import data_utils\n",
    "import GradCertModule\n",
    "import XAIArchitectures\n",
    "# Deep Learning Imports\n",
    "import torch\n",
    "import torch.nn as nn\n",
    "import torch.optim as optim\n",
    "from torch.nn import functional as F\n",
    "from torch.utils.data import Dataset\n",
    "from torch.utils.data import DataLoader\n",
    "from torchvision import models, transforms\n",
    "import pytorch_lightning as pl\n",
    "# Standard Lib Imports\n",
    "import math\n",
    "import numpy as np\n",
    "import pandas as pd\n",
    "import matplotlib.pyplot as plt\n",
    "\n",
    "dataset = \"CREDIT\"\n",
    "\n",
    "if(dataset == \"GERMAN\"):\n",
    "    negative_cls = 0\n",
    "    sensitive_features = [] \n",
    "    sens = ['status_sex_A91', 'status_sex_A92', 'status_sex_A93', 'status_sex_A94', 'status_sex_A95']\n",
    "    drop_columns = []\n",
    "    train_ds, test_ds = data_utils.get_german_data(sensitive_features, drop_columns=drop_columns)\n",
    "\n",
    "elif(dataset == \"CREDIT\"):\n",
    "    negative_cls = 1\n",
    "    sensitive_features = [] \n",
    "    sens = ['x2_1.0', 'x2_2.0']\n",
    "    drop_columns = []\n",
    "    train_ds, test_ds = data_utils.get_credit_data(sensitive_features, drop_columns=drop_columns)\n",
    "    \n",
    "elif(dataset == \"ADULT\"):\n",
    "    negative_cls = 1\n",
    "    sensitive_features = [] \n",
    "    sens = ['sex_Female', 'sex_Male', 'race_Amer-Indian-Eskimo', \n",
    "            'race_Asian-Pac-Islander', 'race_Black', 'race_Other', 'race_White',]\n",
    "    drop_columns = ['native-country'] #, 'education']\n",
    "    train_ds, test_ds = data_utils.get_adult_data(sensitive_features, drop_columns=drop_columns)\n",
    "    \n",
    "elif(dataset == \"CRIME\"):\n",
    "    negative_cls = 1\n",
    "    CRIME_DROP_COLUMNS = [\n",
    "    'HispPerCap', 'LandArea', 'LemasPctOfficDrugUn', 'MalePctNevMarr',\n",
    "    'MedOwnCostPctInc', 'MedOwnCostPctIncNoMtg', 'MedRent',\n",
    "    'MedYrHousBuilt', 'OwnOccHiQuart', 'OwnOccLowQuart',\n",
    "    'OwnOccMedVal', 'PctBornSameState', 'PctEmplManu',\n",
    "    'PctEmplProfServ', 'PctEmploy', 'PctForeignBorn', 'PctImmigRec5',\n",
    "    'PctImmigRec8', 'PctImmigRecent', 'PctRecImmig10', 'PctRecImmig5',\n",
    "    'PctRecImmig8', 'PctRecentImmig', 'PctSameCity85',\n",
    "    'PctSameState85', 'PctSpeakEnglOnly', 'PctUsePubTrans',\n",
    "    'PctVacMore6Mos', 'PctWorkMom', 'PctWorkMomYoungKids',\n",
    "    'PersPerFam', 'PersPerOccupHous', 'PersPerOwnOccHous',\n",
    "    'PersPerRentOccHous', 'RentHighQ', 'RentLowQ', 'Unnamed: 0',\n",
    "    'agePct12t21', 'agePct65up', 'householdsize', 'indianPerCap',\n",
    "    'pctUrban', 'pctWFarmSelf', 'pctWRetire', 'pctWSocSec', 'pctWWage',\n",
    "    'whitePerCap'\n",
    "    ]\n",
    "    sensitive_features = []\n",
    "    sens = ['racepctblack', 'racePctWhite', 'racePctAsian', 'racePctHisp']\n",
    "    train_ds, test_ds = data_utils.get_crime_data(sensitive_features, drop_columns=CRIME_DROP_COLUMNS)"
   ]
  },
  {
   "cell_type": "code",
   "execution_count": 2,
   "id": "1a03dc1c",
   "metadata": {},
   "outputs": [
    {
     "name": "stdout",
     "output_type": "stream",
     "text": [
      "['x1', 'x12', 'x13', 'x14', 'x15', 'x16', 'x17', 'x18', 'x19', 'x20', 'x21', 'x22', 'x23', 'x10_-1.0', 'x10_-2.0', 'x10_0.0', 'x10_2.0', 'x10_3.0', 'x10_4.0', 'x10_5.0', 'x10_6.0', 'x10_7.0', 'x10_8.0', 'x11_-1.0', 'x11_-2.0', 'x11_0.0', 'x11_2.0', 'x11_3.0', 'x11_4.0', 'x11_5.0', 'x11_6.0', 'x11_7.0', 'x11_8.0', 'x2_1.0', 'x2_2.0', 'x3_0.0', 'x3_1.0', 'x3_2.0', 'x3_3.0', 'x3_4.0', 'x3_5.0', 'x3_6.0', 'x4_0.0', 'x4_1.0', 'x4_2.0', 'x4_3.0', 'x5_21.0', 'x5_22.0', 'x5_23.0', 'x5_24.0', 'x5_25.0', 'x5_26.0', 'x5_27.0', 'x5_28.0', 'x5_29.0', 'x5_30.0', 'x5_31.0', 'x5_32.0', 'x5_33.0', 'x5_34.0', 'x5_35.0', 'x5_36.0', 'x5_37.0', 'x5_38.0', 'x5_39.0', 'x5_40.0', 'x5_41.0', 'x5_42.0', 'x5_43.0', 'x5_44.0', 'x5_45.0', 'x5_46.0', 'x5_47.0', 'x5_48.0', 'x5_49.0', 'x5_50.0', 'x5_51.0', 'x5_52.0', 'x5_53.0', 'x5_54.0', 'x5_55.0', 'x5_56.0', 'x5_57.0', 'x5_58.0', 'x5_59.0', 'x5_60.0', 'x5_61.0', 'x5_62.0', 'x5_63.0', 'x5_64.0', 'x5_65.0', 'x5_66.0', 'x5_67.0', 'x5_68.0', 'x5_69.0', 'x5_70.0', 'x5_71.0', 'x5_72.0', 'x5_73.0', 'x5_74.0', 'x5_75.0', 'x5_79.0', 'x6_-1.0', 'x6_-2.0', 'x6_0.0', 'x6_1.0', 'x6_2.0', 'x6_3.0', 'x6_4.0', 'x6_5.0', 'x6_6.0', 'x6_7.0', 'x6_8.0', 'x7_-1.0', 'x7_-2.0', 'x7_0.0', 'x7_1.0', 'x7_2.0', 'x7_3.0', 'x7_4.0', 'x7_5.0', 'x7_6.0', 'x7_7.0', 'x7_8.0', 'x8_-1.0', 'x8_-2.0', 'x8_0.0', 'x8_1.0', 'x8_2.0', 'x8_3.0', 'x8_4.0', 'x8_5.0', 'x8_6.0', 'x8_7.0', 'x8_8.0', 'x9_-1.0', 'x9_-2.0', 'x9_0.0', 'x9_1.0', 'x9_2.0', 'x9_3.0', 'x9_4.0', 'x9_5.0', 'x9_6.0', 'x9_7.0', 'x9_8.0']\n"
     ]
    }
   ],
   "source": [
    "#print(train_ds.X_df.columns.tolist())\n",
    "cols = train_ds.X_df.columns.tolist()\n",
    "print(cols)\n",
    "sens_inds = []\n",
    "for i in sens:\n",
    "    sens_inds.append(cols.index(i))\n",
    "#print(sens_inds)\n",
    "\n",
    "if(dataset == \"ADULT\"):\n",
    "    AGE = [cols.index('age')]\n",
    "    RACE = [cols.index(i) for i in ['race_Amer-Indian-Eskimo', 'race_Asian-Pac-Islander', 'race_Black', 'race_Other', 'race_White']]\n",
    "    GENDER = [cols.index(i) for i in ['sex_Female', 'sex_Male']]\n",
    "    FINANCES = [cols.index(i) for i in ['capital-gain', 'capital-loss']]\n",
    "    EDUCATION = [cols.index(i) for i in ['education_10th', 'education_11th', 'education_12th', 'education_1st-4th', 'education_5th-6th', 'education_7th-8th', 'education_9th', \n",
    "                                         'education_Assoc-acdm', 'education_Assoc-voc', 'education_Bachelors', 'education_Doctorate', 'education_HS-grad', 'education_Masters',\n",
    "                                         'education_Preschool', 'education_Prof-school', 'education_Some-college']]     \n",
    "    EMPLOYMENT = [cols.index(i) for i in ['hours-per-week', 'occupation_Adm-clerical', 'occupation_Armed-Forces', 'occupation_Craft-repair', 'occupation_Exec-managerial', 'occupation_Farming-fishing', \n",
    "                                          'occupation_Handlers-cleaners', 'occupation_Machine-op-inspct', 'occupation_Other-service', 'occupation_Priv-house-serv', 'occupation_Prof-specialty', \n",
    "                                          'occupation_Protective-serv', 'occupation_Sales', 'occupation_Tech-support', 'occupation_Transport-moving', 'workclass_Local-gov', 'workclass_Private',\n",
    "                                          'workclass_Self-emp-inc', 'workclass_Self-emp-not-inc', 'workclass_State-gov', 'workclass_Without-pay']]          \n",
    "    PERSONAL = [cols.index(i) for i in ['hours-per-week', 'relationship_Husband', 'relationship_Not-in-family', 'relationship_Other-relative', 'relationship_Own-child', 'relationship_Unmarried', 'relationship_Wife', 'marital-status_Divorced',\n",
    "                                        'marital-status_Married-AF-spouse', 'marital-status_Married-civ-spouse', 'marital-status_Married-spouse-absent', 'marital-status_Never-married', 'marital-status_Separated', 'marital-status_Widowed']]\n",
    "                           \n",
    "elif(dataset == \"CREDIT\"):\n",
    "    AMOUNT = [cols.index('x1')]\n",
    "    AGE = [cols.index(i) for i in [ 'x5_21.0', 'x5_22.0', 'x5_23.0', 'x5_24.0', 'x5_25.0', 'x5_26.0', 'x5_27.0', 'x5_28.0', 'x5_29.0', 'x5_30.0', 'x5_31.0', \n",
    "                                   'x5_32.0', 'x5_33.0', 'x5_34.0', 'x5_35.0', 'x5_36.0', 'x5_37.0', 'x5_38.0', 'x5_39.0', 'x5_40.0', 'x5_41.0', 'x5_42.0', \n",
    "                                   'x5_43.0', 'x5_44.0', 'x5_45.0', 'x5_46.0', 'x5_47.0', 'x5_48.0', 'x5_49.0', 'x5_50.0', 'x5_51.0', 'x5_52.0', 'x5_53.0', \n",
    "                                   'x5_54.0', 'x5_55.0', 'x5_56.0', 'x5_57.0', 'x5_58.0', 'x5_59.0', 'x5_60.0', 'x5_61.0', 'x5_62.0', 'x5_63.0', 'x5_64.0', \n",
    "                                   'x5_65.0', 'x5_66.0', 'x5_67.0', 'x5_68.0', 'x5_69.0', 'x5_70.0', 'x5_71.0', 'x5_72.0', 'x5_73.0', 'x5_74.0', 'x5_75.0', \n",
    "                                   'x5_79.0']]\n",
    "    GENDER = [cols.index(i) for i in ['x2_1.0', 'x2_2.0']]\n",
    "    EDUCATION = [cols.index(i) for i in ['x2_1.0', 'x2_2.0']]\n",
    "    PERSONAL = [cols.index(i) for i in ['x4_0.0', 'x4_1.0', 'x4_2.0', 'x4_3.0']]\n",
    "    BILLS = [cols.index(i) for i in ['x12', 'x13', 'x14', 'x15', 'x16', 'x17']]\n",
    "    PAYMENTS = [cols.index(i) for i in ['x6_-1.0', 'x6_-2.0', 'x6_0.0', 'x6_1.0', 'x6_2.0', 'x6_3.0', 'x6_4.0', 'x6_5.0', 'x6_6.0', 'x6_7.0', 'x6_8.0', \n",
    "                                        'x7_-1.0', 'x7_-2.0', 'x7_0.0', 'x7_1.0', 'x7_2.0', 'x7_3.0', 'x7_4.0', 'x7_5.0', 'x7_6.0', 'x7_7.0', 'x7_8.0', \n",
    "                                        'x8_-1.0', 'x8_-2.0', 'x8_0.0', 'x8_1.0', 'x8_2.0', 'x8_3.0', 'x8_4.0', 'x8_5.0', 'x8_6.0', 'x8_7.0', 'x8_8.0', \n",
    "                                        'x9_-1.0', 'x9_-2.0', 'x9_0.0', 'x9_1.0', 'x9_2.0', 'x9_3.0', 'x9_4.0', 'x9_5.0', 'x9_6.0', 'x9_7.0', 'x9_8.0', \n",
    "                                        'x10_-1.0', 'x10_-2.0', 'x10_0.0', 'x10_2.0', 'x10_3.0', 'x10_4.0', 'x10_5.0', 'x10_6.0', 'x10_7.0', 'x10_8.0', \n",
    "                                        'x11_-1.0', 'x11_-2.0', 'x11_0.0', 'x11_2.0', 'x11_3.0', 'x11_4.0', 'x11_5.0', 'x11_6.0', 'x11_7.0', 'x11_8.0',\n",
    "                                        'x18', 'x19', 'x20', 'x21', 'x22', 'x23']]\n",
    "                           "
   ]
  },
  {
   "cell_type": "code",
   "execution_count": 3,
   "id": "6f48a6e6",
   "metadata": {},
   "outputs": [],
   "source": [
    "X_train = train_ds.X_df.to_numpy()\n",
    "y_train = torch.squeeze(torch.Tensor(train_ds.y_df.to_numpy()).to(torch.int64))\n",
    "\n",
    "X_test = test_ds.X_df.to_numpy()\n",
    "y_test = torch.squeeze(torch.Tensor(test_ds.y_df.to_numpy()).to(torch.int64))"
   ]
  },
  {
   "cell_type": "code",
   "execution_count": 4,
   "id": "3f1d88d6",
   "metadata": {},
   "outputs": [],
   "source": [
    "\n",
    "class custDataset(Dataset):\n",
    "    def __init__(self, X, y):\n",
    "        self.X = torch.Tensor(X).float()\n",
    "        self.y = y\n",
    "        self.transform = transforms.Compose([transforms.ToTensor()])\n",
    "\n",
    "    def __len__(self):\n",
    "        return self.X.shape[0]\n",
    "        \n",
    "    def __getitem__(self, index):\n",
    "        return self.X[index], self.y[index]\n",
    "    \n",
    "\n",
    "CustTrain = custDataset(X_train, y_train)    \n",
    "CustTest = custDataset(X_test, y_test)\n",
    "\n",
    "class CustomDataModule(pl.LightningDataModule):\n",
    "    def __init__(self, train, val, test, batch_size=32):\n",
    "        super().__init__()\n",
    "        self.train_data = train\n",
    "        self.val_data = val\n",
    "        self.test_data = test\n",
    "        self.batch_size = batch_size\n",
    "        \n",
    "    def train_dataloader(self):\n",
    "        return DataLoader(self.train_data, batch_size=self.batch_size)\n",
    "\n",
    "    def val_dataloader(self):\n",
    "        return DataLoader(self.val_data, batch_size=self.batch_size)\n",
    "\n",
    "    def test_dataloader(self):\n",
    "        return DataLoader(self.test_data, batch_size=self.batch_size)\n",
    "    \n",
    "dm = CustomDataModule(CustTrain, CustTest, CustTest)"
   ]
  },
  {
   "cell_type": "code",
   "execution_count": 5,
   "id": "f5f3c2f6",
   "metadata": {},
   "outputs": [],
   "source": [
    "ALPHA = 0.0            # Regularization Parameter (Weights the Reg. Term)\n",
    "EPSILON = 0.0          # Input Peturbation Budget at Training Time\n",
    "GAMMA = 0.0            # Model Peturbation Budget at Training Time \n",
    "                       #(Changed to proportional budget rather than absolute)\n",
    "    \n",
    "LEARN_RATE = 0.0005     # Learning Rate Hyperparameter\n",
    "HIDDEN_DIM = 256       # Hidden Neurons Hyperparameter\n",
    "HIDDEN_LAY = 2         # Hidden Layers Hyperparameter\n",
    "MAX_EPOCHS = 25\n",
    "\n",
    "EPSILON_LINEAR = True   # Put Epsilon on a Linear Schedule?\n",
    "GAMMA_LINEAR = True     # Put Gamma on a Linear Schedule?"
   ]
  },
  {
   "cell_type": "code",
   "execution_count": 6,
   "id": "6ca09bda",
   "metadata": {},
   "outputs": [],
   "source": [
    "\n",
    "model = XAIArchitectures.FullyConnected(hidden_dim=HIDDEN_DIM, hidden_lay=HIDDEN_LAY, dataset=dataset)\n",
    "model.set_params(alpha=ALPHA, epsilon=EPSILON, gamma=GAMMA, \n",
    "                learn_rate=LEARN_RATE, max_epochs=MAX_EPOCHS,\n",
    "                epsilon_linear=EPSILON_LINEAR, gamma_linear=GAMMA_LINEAR)\n"
   ]
  },
  {
   "cell_type": "code",
   "execution_count": 7,
   "id": "15072302",
   "metadata": {},
   "outputs": [
    {
     "name": "stdout",
     "output_type": "stream",
     "text": [
      "epoch\n",
      "global_step\n",
      "pytorch-lightning_version\n",
      "state_dict\n",
      "loops\n",
      "callbacks\n",
      "optimizer_states\n",
      "lr_schedulers\n",
      "hparams_name\n",
      "hyper_parameters\n"
     ]
    },
    {
     "data": {
      "text/plain": [
       "<All keys matched successfully>"
      ]
     },
     "execution_count": 7,
     "metadata": {},
     "output_type": "execute_result"
    }
   ],
   "source": [
    "\n",
    "SCHEDULED = EPSILON_LINEAR or GAMMA_LINEAR    \n",
    "#MODEL_ID = \"FCN_e=%s_g=%s_h=%s_l=%s_s=%s\"%(EPSILON, GAMMA, HIDDEN_DIM, HIDDEN_LAY, SCHEDULED)  \n",
    "MODEL_ID = \"%s_FCN_e=%s_g=%s_a=%s_l=%s_h=%s_s=%s\"%(dataset, EPSILON, GAMMA, ALPHA, HIDDEN_LAY, HIDDEN_DIM, SCHEDULED)\n",
    "ckpt = torch.load(\"Models/%s.ckpt\"%(MODEL_ID))\n",
    "optimizer = optim.SGD(model.parameters(), lr=0.001, momentum=0.9)\n",
    "checkpoint = torch.load(\"Models/%s.ckpt\"%(MODEL_ID))\n",
    "for key in checkpoint:\n",
    "    print(key)\n",
    "#model.load_state_dict(checkpoint['model_state_dict'])\n",
    "model.load_state_dict(torch.load('Models/%s.pt'%(MODEL_ID)))\n"
   ]
  },
  {
   "cell_type": "code",
   "execution_count": 8,
   "id": "c964cb7d",
   "metadata": {},
   "outputs": [
    {
     "name": "stderr",
     "output_type": "stream",
     "text": [
      "/Users/matthewwicker/opt/anaconda3/envs/XAIenvironment/lib/python3.7/site-packages/ipykernel_launcher.py:5: UserWarning: Creating a tensor from a list of numpy.ndarrays is extremely slow. Please consider converting the list to a single numpy.ndarray with numpy.array() before converting to a tensor. (Triggered internally at  /Users/distiller/project/pytorch/torch/csrc/utils/tensor_new.cpp:210.)\n",
      "  \"\"\"\n"
     ]
    },
    {
     "data": {
      "text/plain": [
       "0.7773333333333333"
      ]
     },
     "execution_count": 8,
     "metadata": {},
     "output_type": "execute_result"
    }
   ],
   "source": [
    "# Measure Test Set Accuracy\n",
    "def get_test_acc(MODEL_ID):\n",
    "    correct = 0\n",
    "    for INDEX in range(len(X_test)):\n",
    "        data = torch.Tensor([X_test[INDEX]])\n",
    "        out, cls = model.classify(data)\n",
    "        if(cls == y_test[INDEX]):\n",
    "            correct += 1 \n",
    "    correct /= len(X_test)\n",
    "    #print(\"Test set accuracy: \", correct)\n",
    "    return correct\n",
    "get_test_acc(MODEL_ID)"
   ]
  },
  {
   "cell_type": "code",
   "execution_count": 9,
   "id": "fc5689b2",
   "metadata": {},
   "outputs": [
    {
     "name": "stderr",
     "output_type": "stream",
     "text": [
      "  0%|                                                                                                                          | 0/10 [00:00<?, ?it/s]../GradCertModule.py:862: UserWarning: Using a target size (torch.Size([146])) that is different to the input size (torch.Size([1, 146])). This will likely lead to incorrect results due to broadcasting. Please ensure they have the same size.\n",
      "  loss_expl = F.mse_loss(grad_adv, target_expl)\n",
      "100%|█████████████████████████████████████████████████████████████████████████████████████████████████████████████████| 10/10 [00:33<00:00,  3.38s/it]\n"
     ]
    },
    {
     "data": {
      "text/plain": [
       "0.0"
      ]
     },
     "execution_count": 9,
     "metadata": {},
     "output_type": "execute_result"
    }
   ],
   "source": [
    "# Measure Input Attack Robustness\n",
    "from tqdm import trange\n",
    "def get_input_attk(MODEL_ID, EPS=0.5, N=10):\n",
    "    model.inputfooling_ON()\n",
    "    fooled = 0\n",
    "    for INDEX in trange(N):\n",
    "        success, x_adv, grad_adv = GradCertModule.run_tabular_attack(model, torch.Tensor(X_test[INDEX]), iterations=500,\n",
    "                                                      target=sens_inds, epsilon=EPS, lr=0.005)\n",
    "        fooled += int(success)\n",
    "        #print(success)\n",
    "    model.inputfooling_OFF()\n",
    "    return fooled/N\n",
    "    #print(\"Input Attack Fooling Rate: \", fooled/5)\n",
    "get_input_attk(MODEL_ID)"
   ]
  },
  {
   "cell_type": "code",
   "execution_count": 10,
   "id": "b6cfdfcb",
   "metadata": {},
   "outputs": [],
   "source": [
    "# Measure Model Attack Robustness\n",
    "def get_model_attk(MODEL_ID, GAM=0.5, N=10):\n",
    "    model.inputfooling_ON()\n",
    "    fooled = 0\n",
    "    for INDEX in trange(N):\n",
    "        model.load_state_dict(torch.load('Models/%s.pt'%(MODEL_ID)))\n",
    "        success, x_adv, grad_adv = GradCertModule.run_tabular_model_attack(model, torch.Tensor(X_test[INDEX]), iterations=25,\n",
    "                                                      target=sens_inds, gamma=GAM, lr=GAM/50)\n",
    "        fooled += int(success)\n",
    "        #print(fooled)\n",
    "    model.inputfooling_OFF()  \n",
    "    return fooled/N\n",
    "    #print(\"Model Attack Fooling Rate: \", fooled/5)\n",
    "    \n",
    "#get_model_attk(MODEL_ID, GAM=1.0)\n"
   ]
  },
  {
   "cell_type": "code",
   "execution_count": 11,
   "id": "7918adab",
   "metadata": {},
   "outputs": [
    {
     "name": "stderr",
     "output_type": "stream",
     "text": [
      "100%|██████████████████████████████████████████████████████████████████████████████████████████████████████████████| 200/200 [00:00<00:00, 702.84it/s]\n"
     ]
    },
    {
     "data": {
      "text/plain": [
       "0.0"
      ]
     },
     "execution_count": 11,
     "metadata": {},
     "output_type": "execute_result"
    }
   ],
   "source": [
    "# Measure Input Attack Certification\n",
    "def get_input_cert(MODEL_ID, EPS=0.2):\n",
    "    model.load_state_dict(torch.load('Models/%s.pt'%(MODEL_ID)))\n",
    "    import copy\n",
    "    certified = 0\n",
    "    for INDEX in trange(200):\n",
    "        lower, upper = GradCertModule.GradCertBounds(model, torch.Tensor(X_test[INDEX][None, :]),\n",
    "                                                     y_test[INDEX], eps=EPS, gam=0.00, nclasses=2)\n",
    "\n",
    "        upper = np.squeeze(upper.detach().numpy())\n",
    "        lower = np.squeeze(lower.detach().numpy())\n",
    "        #print(upper[sens_inds])\n",
    "        #print(lower[sens_inds])\n",
    "        temp = copy.deepcopy(lower)\n",
    "        for i in sens_inds:\n",
    "            temp[i] = upper[i]\n",
    "        #print(temp[sens_inds])\n",
    "        top_idx = np.squeeze(np.argsort(temp))\n",
    "        top_idx = list(reversed(top_idx))\n",
    "        #print(set(top_idx[0:10]))\n",
    "        #print( set(sens_inds))\n",
    "        cert = not bool(set(top_idx[0:5]) & set(sens_inds))\n",
    "        certified += int(cert)\n",
    "        #break\n",
    "    #print(\"Input Attack Certified: \", certified/200)\n",
    "    return certified/200\n",
    "\n",
    "get_input_cert(MODEL_ID)"
   ]
  },
  {
   "cell_type": "code",
   "execution_count": 12,
   "id": "757706a8",
   "metadata": {},
   "outputs": [
    {
     "name": "stderr",
     "output_type": "stream",
     "text": [
      "100%|██████████████████████████████████████████████████████████████████████████████████████████████████████████████| 200/200 [00:00<00:00, 734.35it/s]\n"
     ]
    },
    {
     "data": {
      "text/plain": [
       "0.0"
      ]
     },
     "execution_count": 12,
     "metadata": {},
     "output_type": "execute_result"
    }
   ],
   "source": [
    "# Measure Input Attack Certification\n",
    "def get_model_cert(MODEL_ID, GAM=0.2):\n",
    "    model.load_state_dict(torch.load('Models/%s.pt'%(MODEL_ID)))\n",
    "    import copy\n",
    "    certified = 0\n",
    "    for INDEX in trange(200):\n",
    "        lower, upper = GradCertModule.GradCertBounds(model, torch.Tensor(X_test[INDEX][None, :]),\n",
    "                                                     y_test[INDEX], eps=0.00, gam=GAM, nclasses=2)\n",
    "\n",
    "        upper = np.squeeze(upper.detach().numpy())\n",
    "        lower = np.squeeze(lower.detach().numpy())\n",
    "        #print(upper[sens_inds])\n",
    "        #print(lower[sens_inds])\n",
    "        temp = copy.deepcopy(lower)\n",
    "        for i in sens_inds:\n",
    "            temp[i] = upper[i]\n",
    "        #print(temp[sens_inds])\n",
    "        top_idx = np.squeeze(np.argsort(temp))\n",
    "        top_idx = list(reversed(top_idx))\n",
    "        #print(set(top_idx[0:10]))\n",
    "        #print( set(sens_inds))\n",
    "        cert = not bool(set(top_idx[0:5]) & set(sens_inds))\n",
    "        certified += int(cert)\n",
    "        #break\n",
    "    return certified/200\n",
    "    #print(\"Model Attack Certified: \", certified/200)\n",
    "get_model_cert(MODEL_ID)"
   ]
  },
  {
   "cell_type": "code",
   "execution_count": 13,
   "id": "55380423",
   "metadata": {},
   "outputs": [
    {
     "name": "stderr",
     "output_type": "stream",
     "text": [
      "100%|██████████████████████████████████████████████████████████████████████████████████████████████████████████████| 200/200 [00:00<00:00, 738.93it/s]"
     ]
    },
    {
     "name": "stdout",
     "output_type": "stream",
     "text": [
      "Joint Attack Certified:  0.0\n"
     ]
    },
    {
     "name": "stderr",
     "output_type": "stream",
     "text": [
      "\n"
     ]
    }
   ],
   "source": [
    "# Measure Joint Attack Certification\n",
    "model.load_state_dict(torch.load('Models/%s.pt'%(MODEL_ID)))\n",
    "import copy\n",
    "certified = 0\n",
    "for INDEX in trange(200):\n",
    "    lower, upper = GradCertModule.GradCertBounds(model, torch.Tensor(X_test[INDEX][None, :]),\n",
    "                                                 y_test[INDEX], eps=0.2, gam=0.2, nclasses=2)\n",
    "    \n",
    "    upper = np.squeeze(upper.detach().numpy())\n",
    "    lower = np.squeeze(lower.detach().numpy())\n",
    "    #print(upper[sens_inds])\n",
    "    #print(lower[sens_inds])\n",
    "    temp = copy.deepcopy(lower)\n",
    "    for i in sens_inds:\n",
    "        temp[i] = upper[i]\n",
    "    #print(temp[sens_inds])\n",
    "    top_idx = np.squeeze(np.argsort(temp))\n",
    "    top_idx = list(reversed(top_idx))\n",
    "    #print(set(top_idx[0:10]))\n",
    "    #print( set(sens_inds))\n",
    "    cert = not bool(set(top_idx[0:5]) & set(sens_inds))\n",
    "    certified += int(cert)\n",
    "    #break\n",
    "print(\"Joint Attack Certified: \", certified/200)"
   ]
  },
  {
   "cell_type": "code",
   "execution_count": 14,
   "id": "0fb3cdfd",
   "metadata": {},
   "outputs": [
    {
     "name": "stderr",
     "output_type": "stream",
     "text": [
      "100%|███████████████████████████████████████████████████████████████████████████████████████████████████████████| 6000/6000 [00:04<00:00, 1270.36it/s]"
     ]
    },
    {
     "name": "stdout",
     "output_type": "stream",
     "text": [
      "Certified Adversarial Robustness:  0.7773333333333333\n"
     ]
    },
    {
     "name": "stderr",
     "output_type": "stream",
     "text": [
      "\n"
     ]
    }
   ],
   "source": [
    "# Measure Certified Adversarial Robustness\n",
    "\n",
    "robust = 0\n",
    "for INDEX in trange(len(X_test)):\n",
    "    data = torch.Tensor([X_test[INDEX]])\n",
    "    out, cls = model.classify(data)\n",
    "    y_l, y_u = GradCertModule.RobustnessBounds(model, data, cls, eps=0.1, gam=0.0, nclasses=2)\n",
    "    y_l, y_u = np.squeeze(y_l.detach().numpy()), np.squeeze(y_u.detach().numpy())\n",
    "    y = y_u\n",
    "    y[cls] = y_l[cls]\n",
    "    worst_case = np.argmax(y)\n",
    "    if(cls == y_test[INDEX]):\n",
    "        robust += 1 \n",
    "robust /= len(X_test)\n",
    "print(\"Certified Adversarial Robustness: \", robust)\n",
    "\n"
   ]
  },
  {
   "cell_type": "code",
   "execution_count": 15,
   "id": "a76d6ca4",
   "metadata": {},
   "outputs": [],
   "source": [
    "def gen_model_id(GAM_T=0.0):\n",
    "    if(GAM_T == 0.0):\n",
    "        ALPHA = 0.0\n",
    "    else:\n",
    "        ALPHA = 0.5            # Regularization Parameter (Weights the Reg. Term)\n",
    "    EPSILON = 0.0          # Input Peturbation Budget at Training Time\n",
    "\n",
    "    LEARN_RATE = 0.0005     # Learning Rate Hyperparameter\n",
    "    HIDDEN_DIM = 256       # Hidden Neurons Hyperparameter\n",
    "    HIDDEN_LAY = 2         # Hidden Layers Hyperparameter\n",
    "    MAX_EPOCHS = 25\n",
    "\n",
    "    EPSILON_LINEAR = True   # Put Epsilon on a Linear Schedule?\n",
    "    GAMMA_LINEAR = True     # Put Gamma on a Linear Schedule?\n",
    "    \n",
    "    MODEL_ID = \"%s_FCN_e=%s_g=%s_a=%s_l=%s_h=%s_s=%s\"%(dataset, EPSILON, GAM_T, ALPHA, HIDDEN_LAY, HIDDEN_DIM, SCHEDULED)     \n",
    "    print(MODEL_ID)\n",
    "    return MODEL_ID\n",
    "    "
   ]
  },
  {
   "cell_type": "code",
   "execution_count": 16,
   "id": "8107cde7",
   "metadata": {},
   "outputs": [
    {
     "name": "stdout",
     "output_type": "stream",
     "text": [
      "CREDIT_FCN_e=0.0_g=0.0_a=0.0_l=2_h=256_s=True\n"
     ]
    },
    {
     "name": "stderr",
     "output_type": "stream",
     "text": [
      "100%|██████████████████████████████████████████████████████████████████████████████████████████████████████████████| 200/200 [00:00<00:00, 733.11it/s]\n",
      "100%|██████████████████████████████████████████████████████████████████████████████████████████████████████████████| 200/200 [00:00<00:00, 738.29it/s]\n",
      "100%|██████████████████████████████████████████████████████████████████████████████████████████████████████████████| 200/200 [00:00<00:00, 734.07it/s]\n",
      "100%|██████████████████████████████████████████████████████████████████████████████████████████████████████████████| 200/200 [00:00<00:00, 685.03it/s]\n",
      "100%|██████████████████████████████████████████████████████████████████████████████████████████████████████████████| 200/200 [00:00<00:00, 659.87it/s]\n",
      "100%|██████████████████████████████████████████████████████████████████████████████████████████████████████████████| 200/200 [00:00<00:00, 732.49it/s]\n",
      "100%|██████████████████████████████████████████████████████████████████████████████████████████████████████████████| 200/200 [00:00<00:00, 730.46it/s]\n",
      "100%|██████████████████████████████████████████████████████████████████████████████████████████████████████████████| 200/200 [00:00<00:00, 733.87it/s]\n",
      "100%|██████████████████████████████████████████████████████████████████████████████████████████████████████████████| 200/200 [00:00<00:00, 734.89it/s]\n",
      "100%|██████████████████████████████████████████████████████████████████████████████████████████████████████████████| 200/200 [00:00<00:00, 731.86it/s]\n",
      "100%|██████████████████████████████████████████████████████████████████████████████████████████████████████████████| 200/200 [00:00<00:00, 735.17it/s]\n",
      "100%|██████████████████████████████████████████████████████████████████████████████████████████████████████████████| 200/200 [00:00<00:00, 733.72it/s]\n",
      "100%|██████████████████████████████████████████████████████████████████████████████████████████████████████████████| 200/200 [00:00<00:00, 735.15it/s]\n",
      "100%|██████████████████████████████████████████████████████████████████████████████████████████████████████████████| 200/200 [00:00<00:00, 732.56it/s]\n",
      "100%|██████████████████████████████████████████████████████████████████████████████████████████████████████████████| 200/200 [00:00<00:00, 733.56it/s]\n",
      "100%|██████████████████████████████████████████████████████████████████████████████████████████████████████████████| 200/200 [00:00<00:00, 734.66it/s]\n",
      "100%|██████████████████████████████████████████████████████████████████████████████████████████████████████████████| 200/200 [00:00<00:00, 730.20it/s]\n",
      "100%|██████████████████████████████████████████████████████████████████████████████████████████████████████████████| 200/200 [00:00<00:00, 731.64it/s]\n",
      "100%|██████████████████████████████████████████████████████████████████████████████████████████████████████████████| 200/200 [00:00<00:00, 733.60it/s]\n",
      "100%|██████████████████████████████████████████████████████████████████████████████████████████████████████████████| 200/200 [00:00<00:00, 732.82it/s]\n"
     ]
    },
    {
     "name": "stdout",
     "output_type": "stream",
     "text": [
      "*****\n",
      "0.0 [0.995, 0.0, 0.0, 0.0, 0.0, 0.0, 0.0, 0.0, 0.0, 0.0, 0.0, 0.0, 0.0, 0.0, 0.0, 0.0, 0.0, 0.0, 0.0, 0.0]\n",
      "*****\n",
      "CREDIT_FCN_e=0.0_g=0.125_a=0.5_l=2_h=256_s=True\n"
     ]
    },
    {
     "name": "stderr",
     "output_type": "stream",
     "text": [
      "100%|██████████████████████████████████████████████████████████████████████████████████████████████████████████████| 200/200 [00:00<00:00, 740.30it/s]\n",
      "100%|██████████████████████████████████████████████████████████████████████████████████████████████████████████████| 200/200 [00:00<00:00, 741.20it/s]\n",
      "100%|██████████████████████████████████████████████████████████████████████████████████████████████████████████████| 200/200 [00:00<00:00, 736.56it/s]\n",
      "100%|██████████████████████████████████████████████████████████████████████████████████████████████████████████████| 200/200 [00:00<00:00, 737.62it/s]\n",
      "100%|██████████████████████████████████████████████████████████████████████████████████████████████████████████████| 200/200 [00:00<00:00, 736.40it/s]\n",
      "100%|██████████████████████████████████████████████████████████████████████████████████████████████████████████████| 200/200 [00:00<00:00, 734.65it/s]\n",
      "100%|██████████████████████████████████████████████████████████████████████████████████████████████████████████████| 200/200 [00:00<00:00, 738.39it/s]\n",
      "100%|██████████████████████████████████████████████████████████████████████████████████████████████████████████████| 200/200 [00:00<00:00, 737.78it/s]\n",
      "100%|██████████████████████████████████████████████████████████████████████████████████████████████████████████████| 200/200 [00:00<00:00, 737.69it/s]\n",
      "100%|██████████████████████████████████████████████████████████████████████████████████████████████████████████████| 200/200 [00:00<00:00, 736.20it/s]\n",
      "100%|██████████████████████████████████████████████████████████████████████████████████████████████████████████████| 200/200 [00:00<00:00, 737.14it/s]\n",
      "100%|██████████████████████████████████████████████████████████████████████████████████████████████████████████████| 200/200 [00:00<00:00, 734.17it/s]\n",
      "100%|██████████████████████████████████████████████████████████████████████████████████████████████████████████████| 200/200 [00:00<00:00, 733.32it/s]\n",
      "100%|██████████████████████████████████████████████████████████████████████████████████████████████████████████████| 200/200 [00:00<00:00, 740.75it/s]\n",
      "100%|██████████████████████████████████████████████████████████████████████████████████████████████████████████████| 200/200 [00:00<00:00, 739.61it/s]\n",
      "100%|██████████████████████████████████████████████████████████████████████████████████████████████████████████████| 200/200 [00:00<00:00, 737.18it/s]\n",
      "100%|██████████████████████████████████████████████████████████████████████████████████████████████████████████████| 200/200 [00:00<00:00, 738.22it/s]\n",
      "100%|██████████████████████████████████████████████████████████████████████████████████████████████████████████████| 200/200 [00:00<00:00, 738.99it/s]\n",
      "100%|██████████████████████████████████████████████████████████████████████████████████████████████████████████████| 200/200 [00:00<00:00, 738.79it/s]\n",
      "100%|██████████████████████████████████████████████████████████████████████████████████████████████████████████████| 200/200 [00:00<00:00, 737.90it/s]\n"
     ]
    },
    {
     "name": "stdout",
     "output_type": "stream",
     "text": [
      "*****\n",
      "0.125 [1.0, 1.0, 1.0, 1.0, 1.0, 1.0, 0.98, 0.98, 0.98, 0.98, 0.975, 0.96, 0.955, 0.63, 0.555, 0.0, 0.0, 0.0, 0.0, 0.0]\n",
      "*****\n",
      "CREDIT_FCN_e=0.0_g=0.25_a=0.5_l=2_h=256_s=True\n"
     ]
    },
    {
     "name": "stderr",
     "output_type": "stream",
     "text": [
      "100%|██████████████████████████████████████████████████████████████████████████████████████████████████████████████| 200/200 [00:00<00:00, 746.44it/s]\n",
      "100%|██████████████████████████████████████████████████████████████████████████████████████████████████████████████| 200/200 [00:00<00:00, 746.26it/s]\n",
      "100%|██████████████████████████████████████████████████████████████████████████████████████████████████████████████| 200/200 [00:00<00:00, 742.71it/s]\n",
      "100%|██████████████████████████████████████████████████████████████████████████████████████████████████████████████| 200/200 [00:00<00:00, 743.65it/s]\n",
      "100%|██████████████████████████████████████████████████████████████████████████████████████████████████████████████| 200/200 [00:00<00:00, 746.78it/s]\n",
      "100%|██████████████████████████████████████████████████████████████████████████████████████████████████████████████| 200/200 [00:00<00:00, 742.85it/s]\n",
      "100%|██████████████████████████████████████████████████████████████████████████████████████████████████████████████| 200/200 [00:00<00:00, 605.24it/s]\n",
      "100%|██████████████████████████████████████████████████████████████████████████████████████████████████████████████| 200/200 [00:00<00:00, 740.11it/s]\n",
      "100%|██████████████████████████████████████████████████████████████████████████████████████████████████████████████| 200/200 [00:00<00:00, 741.73it/s]\n",
      "100%|██████████████████████████████████████████████████████████████████████████████████████████████████████████████| 200/200 [00:00<00:00, 740.74it/s]\n",
      "100%|██████████████████████████████████████████████████████████████████████████████████████████████████████████████| 200/200 [00:00<00:00, 740.48it/s]\n",
      "100%|██████████████████████████████████████████████████████████████████████████████████████████████████████████████| 200/200 [00:00<00:00, 742.38it/s]\n",
      "100%|██████████████████████████████████████████████████████████████████████████████████████████████████████████████| 200/200 [00:00<00:00, 741.39it/s]\n",
      "100%|██████████████████████████████████████████████████████████████████████████████████████████████████████████████| 200/200 [00:00<00:00, 736.92it/s]\n",
      "100%|██████████████████████████████████████████████████████████████████████████████████████████████████████████████| 200/200 [00:00<00:00, 739.39it/s]\n",
      "100%|██████████████████████████████████████████████████████████████████████████████████████████████████████████████| 200/200 [00:00<00:00, 738.74it/s]\n",
      "100%|██████████████████████████████████████████████████████████████████████████████████████████████████████████████| 200/200 [00:00<00:00, 740.06it/s]\n",
      "100%|██████████████████████████████████████████████████████████████████████████████████████████████████████████████| 200/200 [00:00<00:00, 739.64it/s]\n",
      "100%|██████████████████████████████████████████████████████████████████████████████████████████████████████████████| 200/200 [00:00<00:00, 739.10it/s]\n",
      "100%|██████████████████████████████████████████████████████████████████████████████████████████████████████████████| 200/200 [00:00<00:00, 740.59it/s]\n"
     ]
    },
    {
     "name": "stdout",
     "output_type": "stream",
     "text": [
      "*****\n",
      "0.25 [1.0, 1.0, 1.0, 1.0, 1.0, 1.0, 1.0, 0.98, 0.98, 0.98, 0.975, 0.86, 0.845, 0.84, 0.805, 0.78, 0.76, 0.76, 0.755, 0.755]\n",
      "*****\n",
      "CREDIT_FCN_e=0.0_g=0.5_a=0.5_l=2_h=256_s=True\n"
     ]
    },
    {
     "name": "stderr",
     "output_type": "stream",
     "text": [
      "100%|██████████████████████████████████████████████████████████████████████████████████████████████████████████████| 200/200 [00:00<00:00, 742.72it/s]\n",
      "100%|██████████████████████████████████████████████████████████████████████████████████████████████████████████████| 200/200 [00:00<00:00, 695.56it/s]\n",
      "100%|██████████████████████████████████████████████████████████████████████████████████████████████████████████████| 200/200 [00:00<00:00, 669.85it/s]\n",
      "100%|██████████████████████████████████████████████████████████████████████████████████████████████████████████████| 200/200 [00:00<00:00, 736.24it/s]\n",
      "100%|██████████████████████████████████████████████████████████████████████████████████████████████████████████████| 200/200 [00:00<00:00, 741.50it/s]\n",
      "100%|██████████████████████████████████████████████████████████████████████████████████████████████████████████████| 200/200 [00:00<00:00, 742.76it/s]\n",
      "100%|██████████████████████████████████████████████████████████████████████████████████████████████████████████████| 200/200 [00:00<00:00, 738.69it/s]\n",
      "100%|██████████████████████████████████████████████████████████████████████████████████████████████████████████████| 200/200 [00:00<00:00, 741.33it/s]\n",
      "100%|██████████████████████████████████████████████████████████████████████████████████████████████████████████████| 200/200 [00:00<00:00, 738.60it/s]\n",
      "100%|██████████████████████████████████████████████████████████████████████████████████████████████████████████████| 200/200 [00:00<00:00, 741.50it/s]\n",
      "100%|██████████████████████████████████████████████████████████████████████████████████████████████████████████████| 200/200 [00:00<00:00, 738.75it/s]\n",
      "100%|██████████████████████████████████████████████████████████████████████████████████████████████████████████████| 200/200 [00:00<00:00, 735.48it/s]\n",
      "100%|██████████████████████████████████████████████████████████████████████████████████████████████████████████████| 200/200 [00:00<00:00, 738.81it/s]\n",
      "100%|██████████████████████████████████████████████████████████████████████████████████████████████████████████████| 200/200 [00:00<00:00, 739.67it/s]\n",
      "100%|██████████████████████████████████████████████████████████████████████████████████████████████████████████████| 200/200 [00:00<00:00, 740.18it/s]\n",
      "100%|██████████████████████████████████████████████████████████████████████████████████████████████████████████████| 200/200 [00:00<00:00, 736.34it/s]\n",
      "100%|██████████████████████████████████████████████████████████████████████████████████████████████████████████████| 200/200 [00:00<00:00, 737.75it/s]\n",
      "100%|██████████████████████████████████████████████████████████████████████████████████████████████████████████████| 200/200 [00:00<00:00, 738.63it/s]\n",
      "100%|██████████████████████████████████████████████████████████████████████████████████████████████████████████████| 200/200 [00:00<00:00, 738.55it/s]\n",
      "100%|██████████████████████████████████████████████████████████████████████████████████████████████████████████████| 200/200 [00:00<00:00, 739.64it/s]\n"
     ]
    },
    {
     "name": "stdout",
     "output_type": "stream",
     "text": [
      "*****\n",
      "0.5 [1.0, 1.0, 0.975, 0.905, 0.58, 0.575, 0.56, 0.555, 0.545, 0.485, 0.345, 0.24, 0.22, 0.18, 0.16, 0.16, 0.16, 0.15, 0.145, 0.14]\n",
      "*****\n",
      "CREDIT_FCN_e=0.0_g=0.625_a=0.5_l=2_h=256_s=True\n"
     ]
    },
    {
     "name": "stderr",
     "output_type": "stream",
     "text": [
      "100%|██████████████████████████████████████████████████████████████████████████████████████████████████████████████| 200/200 [00:00<00:00, 734.60it/s]\n",
      "100%|██████████████████████████████████████████████████████████████████████████████████████████████████████████████| 200/200 [00:00<00:00, 744.76it/s]\n",
      "100%|██████████████████████████████████████████████████████████████████████████████████████████████████████████████| 200/200 [00:00<00:00, 742.81it/s]\n",
      "100%|██████████████████████████████████████████████████████████████████████████████████████████████████████████████| 200/200 [00:00<00:00, 745.68it/s]\n",
      "100%|██████████████████████████████████████████████████████████████████████████████████████████████████████████████| 200/200 [00:00<00:00, 742.86it/s]\n",
      "100%|██████████████████████████████████████████████████████████████████████████████████████████████████████████████| 200/200 [00:00<00:00, 744.23it/s]\n",
      "100%|██████████████████████████████████████████████████████████████████████████████████████████████████████████████| 200/200 [00:00<00:00, 741.08it/s]\n",
      "100%|██████████████████████████████████████████████████████████████████████████████████████████████████████████████| 200/200 [00:00<00:00, 742.10it/s]\n",
      "100%|██████████████████████████████████████████████████████████████████████████████████████████████████████████████| 200/200 [00:00<00:00, 744.44it/s]\n",
      "100%|██████████████████████████████████████████████████████████████████████████████████████████████████████████████| 200/200 [00:00<00:00, 738.88it/s]\n",
      "100%|██████████████████████████████████████████████████████████████████████████████████████████████████████████████| 200/200 [00:00<00:00, 738.34it/s]\n",
      "100%|██████████████████████████████████████████████████████████████████████████████████████████████████████████████| 200/200 [00:00<00:00, 742.23it/s]\n",
      "100%|██████████████████████████████████████████████████████████████████████████████████████████████████████████████| 200/200 [00:00<00:00, 740.38it/s]\n",
      "100%|██████████████████████████████████████████████████████████████████████████████████████████████████████████████| 200/200 [00:00<00:00, 739.44it/s]\n",
      "100%|██████████████████████████████████████████████████████████████████████████████████████████████████████████████| 200/200 [00:00<00:00, 737.54it/s]\n",
      "100%|██████████████████████████████████████████████████████████████████████████████████████████████████████████████| 200/200 [00:00<00:00, 738.32it/s]\n",
      "100%|██████████████████████████████████████████████████████████████████████████████████████████████████████████████| 200/200 [00:00<00:00, 738.44it/s]\n",
      "100%|██████████████████████████████████████████████████████████████████████████████████████████████████████████████| 200/200 [00:00<00:00, 738.03it/s]\n",
      "100%|██████████████████████████████████████████████████████████████████████████████████████████████████████████████| 200/200 [00:00<00:00, 739.62it/s]\n",
      "100%|██████████████████████████████████████████████████████████████████████████████████████████████████████████████| 200/200 [00:00<00:00, 740.20it/s]"
     ]
    },
    {
     "name": "stdout",
     "output_type": "stream",
     "text": [
      "*****\n",
      "0.625 [1.0, 1.0, 0.985, 0.975, 0.61, 0.585, 0.585, 0.545, 0.54, 0.54, 0.535, 0.535, 0.535, 0.245, 0.225, 0.205, 0.01, 0.0, 0.0, 0.0]\n",
      "*****\n"
     ]
    },
    {
     "name": "stderr",
     "output_type": "stream",
     "text": [
      "\n"
     ]
    }
   ],
   "source": [
    "\n",
    "CERT_VALS = []\n",
    "if(dataset == \"CREDIT\"):\n",
    "    gam_vals = [0.0, 0.125, 0.25, 0.5, 0.625]\n",
    "else:\n",
    "    gam_vals = [0.0, 0.0125, 0.025, 0.05, 0.075, 0.125]\n",
    "for gam in gam_vals:\n",
    "    M_ID = gen_model_id(gam)\n",
    "    val = []\n",
    "    for g_test in np.linspace(0, 0.2, 20): #[0.0, 0.05, 0.1, 0.15, 0.2, 0.25, 0.3, 0.35, 0.4]:\n",
    "        certified = get_model_cert(M_ID, GAM=g_test)\n",
    "        val.append(certified)\n",
    "    print(\"*****\")\n",
    "    print(gam, val)\n",
    "    print(\"*****\")\n",
    "    CERT_VALS.append(val)"
   ]
  },
  {
   "cell_type": "code",
   "execution_count": 28,
   "id": "b29091e7",
   "metadata": {},
   "outputs": [
    {
     "name": "stdout",
     "output_type": "stream",
     "text": [
      "['#d7dfc0', '#9bc799', '#65a88e', '#477d89', '#3b4a71', '#2c1e3e']\n",
      "[0.995, 0.0, 0.0, 0.0, 0.0, 0.0, 0.0, 0.0, 0.0, 0.0, 0.0, 0.0, 0.0, 0.0, 0.0, 0.0, 0.0, 0.0, 0.0, 0.0]\n",
      "[1.0, 1.0, 1.0, 1.0, 1.0, 1.0, 0.98, 0.98, 0.98, 0.98, 0.975, 0.96, 0.955, 0.63, 0.555, 0.0, 0.0, 0.0, 0.0, 0.0]\n",
      "[1.0, 1.0, 1.0, 1.0, 1.0, 1.0, 1.0, 0.98, 0.98, 0.98, 0.975, 0.86, 0.845, 0.84, 0.805, 0.78, 0.76, 0.76, 0.755, 0.755]\n",
      "[1.0, 1.0, 0.975, 0.905, 0.58, 0.575, 0.56, 0.555, 0.545, 0.485, 0.345, 0.24, 0.22, 0.18, 0.16, 0.16, 0.16, 0.15, 0.145, 0.14]\n",
      "[1.0, 1.0, 0.985, 0.975, 0.61, 0.585, 0.585, 0.545, 0.54, 0.54, 0.535, 0.535, 0.535, 0.245, 0.225, 0.205, 0.01, 0.0, 0.0, 0.0]\n"
     ]
    },
    {
     "data": {
      "image/png": "[encoded data removed]",
      "text/plain": [
       "<Figure size 1200x800 with 1 Axes>"
      ]
     },
     "metadata": {},
     "output_type": "display_data"
    }
   ],
   "source": [
    "import matplotlib\n",
    "import matplotlib.pyplot as plt\n",
    "import seaborn as sns\n",
    "sns.set_style('darkgrid')\n",
    "sns.set_context('poster')\n",
    "plt.figure(figsize=(12, 8), dpi=100)\n",
    "\n",
    "# These values are different because of the logit softmax\n",
    "# comutation that we used to do vs what we do now given \n",
    "# That it was an error before. Just correct this when running plots\n",
    "\n",
    "if(dataset == \"CREDIT\"):\n",
    "    g_test = [0.0, 0.1, 0.2, 0.3, 0.4]\n",
    "    gamma_vals = [0.0, 0.125, 0.25, 0.5, 0.625]\n",
    "else:\n",
    "    g_test = [0.0, 0.05, 0.1, 0.15, 0.2]\n",
    "    gamma_vals = [0.0, 0.0125, 0.025, 0.05, 0.075, 0.125]\n",
    "pal = sns.cubehelix_palette(start=.5, rot=-.75)\n",
    "print(pal.as_hex())\n",
    "\n",
    "for i in range(len(gam_vals)):\n",
    "    print(CERT_VALS[i])\n",
    "    plt.plot(CERT_VALS[i], label=gamma_vals[i], \n",
    "             color=pal[i], linewidth=10)\n",
    "plt.legend()\n",
    "ax = plt.gca()\n",
    "ax.set_xticks([0,4,9,14,19])\n",
    "ax.set_xticklabels(g_test)\n",
    "plt.title(\"%s\"%(dataset))\n",
    "plt.ylabel(\"Certification Rate\")\n",
    "plt.xlabel(r\"Magnitude of $\\gamma$\")\n",
    "ax.get_legend().set_title(r\"$\\gamma_t$\")\n",
    "plt.show()"
   ]
  },
  {
   "cell_type": "code",
   "execution_count": null,
   "id": "825d6bcd",
   "metadata": {},
   "outputs": [],
   "source": []
  },
  {
   "cell_type": "code",
   "execution_count": 18,
   "id": "734008b5",
   "metadata": {},
   "outputs": [
    {
     "name": "stdout",
     "output_type": "stream",
     "text": [
      "CREDIT_FCN_e=0.0_g=0.0_a=0.0_l=2_h=256_s=True\n"
     ]
    },
    {
     "name": "stderr",
     "output_type": "stream",
     "text": [
      "  0%|                                                                                                                          | 0/25 [00:00<?, ?it/s]../GradCertModule.py:936: UserWarning: Using a target size (torch.Size([146])) that is different to the input size (torch.Size([1, 146])). This will likely lead to incorrect results due to broadcasting. Please ensure they have the same size.\n",
      "  loss_expl = F.mse_loss(grad_adv, target_expl)\n",
      "100%|█████████████████████████████████████████████████████████████████████████████████████████████████████████████████| 25/25 [00:05<00:00,  4.88it/s]\n",
      "100%|█████████████████████████████████████████████████████████████████████████████████████████████████████████████████| 25/25 [00:05<00:00,  4.87it/s]\n",
      "100%|█████████████████████████████████████████████████████████████████████████████████████████████████████████████████| 25/25 [00:05<00:00,  4.90it/s]\n",
      "100%|█████████████████████████████████████████████████████████████████████████████████████████████████████████████████| 25/25 [00:05<00:00,  4.84it/s]\n",
      "100%|█████████████████████████████████████████████████████████████████████████████████████████████████████████████████| 25/25 [00:05<00:00,  4.78it/s]\n"
     ]
    },
    {
     "name": "stdout",
     "output_type": "stream",
     "text": [
      "*****\n",
      "0.0 [0.04, 0.04, 0.16, 0.24, 0.28]\n",
      "*****\n",
      "CREDIT_FCN_e=0.0_g=0.125_a=0.5_l=2_h=256_s=True\n"
     ]
    },
    {
     "name": "stderr",
     "output_type": "stream",
     "text": [
      "100%|█████████████████████████████████████████████████████████████████████████████████████████████████████████████████| 25/25 [00:05<00:00,  4.78it/s]\n",
      "100%|█████████████████████████████████████████████████████████████████████████████████████████████████████████████████| 25/25 [00:05<00:00,  4.78it/s]\n",
      "100%|█████████████████████████████████████████████████████████████████████████████████████████████████████████████████| 25/25 [00:05<00:00,  4.81it/s]\n",
      "100%|█████████████████████████████████████████████████████████████████████████████████████████████████████████████████| 25/25 [00:05<00:00,  4.84it/s]\n",
      "100%|█████████████████████████████████████████████████████████████████████████████████████████████████████████████████| 25/25 [00:05<00:00,  4.77it/s]\n"
     ]
    },
    {
     "name": "stdout",
     "output_type": "stream",
     "text": [
      "*****\n",
      "0.125 [0.0, 0.0, 0.0, 0.08, 0.0]\n",
      "*****\n",
      "CREDIT_FCN_e=0.0_g=0.25_a=0.5_l=2_h=256_s=True\n"
     ]
    },
    {
     "name": "stderr",
     "output_type": "stream",
     "text": [
      "100%|█████████████████████████████████████████████████████████████████████████████████████████████████████████████████| 25/25 [00:05<00:00,  4.81it/s]\n",
      "100%|█████████████████████████████████████████████████████████████████████████████████████████████████████████████████| 25/25 [00:05<00:00,  4.77it/s]\n",
      "100%|█████████████████████████████████████████████████████████████████████████████████████████████████████████████████| 25/25 [00:05<00:00,  4.74it/s]\n",
      "100%|█████████████████████████████████████████████████████████████████████████████████████████████████████████████████| 25/25 [00:05<00:00,  4.76it/s]\n",
      "100%|█████████████████████████████████████████████████████████████████████████████████████████████████████████████████| 25/25 [00:05<00:00,  4.79it/s]\n"
     ]
    },
    {
     "name": "stdout",
     "output_type": "stream",
     "text": [
      "*****\n",
      "0.25 [0.0, 0.0, 0.08, 0.12, 0.16]\n",
      "*****\n",
      "CREDIT_FCN_e=0.0_g=0.5_a=0.5_l=2_h=256_s=True\n"
     ]
    },
    {
     "name": "stderr",
     "output_type": "stream",
     "text": [
      "100%|█████████████████████████████████████████████████████████████████████████████████████████████████████████████████| 25/25 [00:05<00:00,  4.69it/s]\n",
      "100%|█████████████████████████████████████████████████████████████████████████████████████████████████████████████████| 25/25 [00:05<00:00,  4.83it/s]\n",
      "100%|█████████████████████████████████████████████████████████████████████████████████████████████████████████████████| 25/25 [00:05<00:00,  4.81it/s]\n",
      "100%|█████████████████████████████████████████████████████████████████████████████████████████████████████████████████| 25/25 [00:05<00:00,  4.71it/s]\n",
      "100%|█████████████████████████████████████████████████████████████████████████████████████████████████████████████████| 25/25 [00:05<00:00,  4.78it/s]\n"
     ]
    },
    {
     "name": "stdout",
     "output_type": "stream",
     "text": [
      "*****\n",
      "0.5 [0.0, 0.0, 0.0, 0.16, 0.24]\n",
      "*****\n",
      "CREDIT_FCN_e=0.0_g=0.625_a=0.5_l=2_h=256_s=True\n"
     ]
    },
    {
     "name": "stderr",
     "output_type": "stream",
     "text": [
      "100%|█████████████████████████████████████████████████████████████████████████████████████████████████████████████████| 25/25 [00:05<00:00,  4.81it/s]\n",
      "100%|█████████████████████████████████████████████████████████████████████████████████████████████████████████████████| 25/25 [00:05<00:00,  4.79it/s]\n",
      "100%|█████████████████████████████████████████████████████████████████████████████████████████████████████████████████| 25/25 [00:05<00:00,  4.72it/s]\n",
      "100%|█████████████████████████████████████████████████████████████████████████████████████████████████████████████████| 25/25 [00:05<00:00,  4.85it/s]\n",
      "100%|█████████████████████████████████████████████████████████████████████████████████████████████████████████████████| 25/25 [00:05<00:00,  4.83it/s]"
     ]
    },
    {
     "name": "stdout",
     "output_type": "stream",
     "text": [
      "*****\n",
      "0.625 [0.0, 0.0, 0.0, 0.0, 0.0]\n",
      "*****\n"
     ]
    },
    {
     "name": "stderr",
     "output_type": "stream",
     "text": [
      "\n"
     ]
    }
   ],
   "source": [
    "ATTK_VALS = []\n",
    "\n",
    "if(dataset == \"CREDIT\"):\n",
    "    gam_vals = [0.0, 0.125, 0.25, 0.5, 0.625]\n",
    "    g_test_vals = [0.25, 0.5, 1.0, 2.0, 3.0]\n",
    "else:\n",
    "    gam_vals = [0.0, 0.0125, 0.025, 0.05, 0.075, 0.125]\n",
    "    g_test_vals = [0.125, 0.25, 0.5, 1.0, 2.0]\n",
    "for gam in gam_vals:\n",
    "    M_ID = gen_model_id(gam)\n",
    "    val = []\n",
    "    for g_test in [0.25, 0.5, 1.0, 2.0, 3.0]:\n",
    "        certified = get_model_attk(M_ID, GAM=g_test, N=25)\n",
    "        val.append(certified)\n",
    "    print(\"*****\")\n",
    "    print(gam, val)\n",
    "    print(\"*****\")\n",
    "    ATTK_VALS.append(val)"
   ]
  },
  {
   "cell_type": "code",
   "execution_count": 19,
   "id": "68d7f28a",
   "metadata": {},
   "outputs": [
    {
     "name": "stdout",
     "output_type": "stream",
     "text": [
      "['#2d1e3e', '#613969', '#945785', '#bd7a98', '#daa4ac', '#edd1cb']\n"
     ]
    },
    {
     "data": {
      "image/png": "[encoded data removed]",
      "text/plain": [
       "<Figure size 1200x800 with 1 Axes>"
      ]
     },
     "metadata": {},
     "output_type": "display_data"
    }
   ],
   "source": [
    "import matplotlib\n",
    "import matplotlib.pyplot as plt\n",
    "import seaborn as sns\n",
    "sns.set_style('darkgrid')\n",
    "sns.set_context('poster')\n",
    "plt.figure(figsize=(12, 8), dpi=100)\n",
    "\n",
    "if(dataset == \"CREDIT\"):\n",
    "    gam_vals = [0.0, 0.125, 0.25, 0.5, 0.625]\n",
    "    g_test_vals = [0.25, 0.5, 1.0, 2.0, 3.0]\n",
    "else:\n",
    "    gam_vals = [0.0, 0.0125, 0.025, 0.05, 0.075]\n",
    "    g_test_vals = [0.125, 0.25, 0.5, 1.0, 2.0]\n",
    "    \n",
    "    \n",
    "pal = sns.cubehelix_palette()\n",
    "pal = pal.as_hex()\n",
    "pal = [i for i in reversed(pal)]\n",
    "print(pal)\n",
    "#print(pal.as_hex())\n",
    "\n",
    "for i in range(len(gam_vals)):\n",
    "    plt.plot(ATTK_VALS[i], label=gam_vals[i], color=pal[i], linewidth=10)\n",
    "plt.legend()\n",
    "ax = plt.gca()\n",
    "\n",
    "ax.set_xticks(range(len(g_test_vals)))\n",
    "ax.set_xticklabels(g_test_vals)\n",
    "\n",
    "plt.title(\"%s\"%(dataset))\n",
    "plt.ylabel(\"Fooling Rate\")\n",
    "plt.xlabel(r\"Magnitude of $\\gamma$\")\n",
    "ax.get_legend().set_title(r\"$\\gamma_t$\")\n",
    "\n",
    "plt.show()"
   ]
  },
  {
   "cell_type": "code",
   "execution_count": 20,
   "id": "c2e7e035",
   "metadata": {},
   "outputs": [
    {
     "ename": "NameError",
     "evalue": "name 'asdf' is not defined",
     "output_type": "error",
     "traceback": [
      "\u001b[0;31m---------------------------------------------------------------------------\u001b[0m",
      "\u001b[0;31mNameError\u001b[0m                                 Traceback (most recent call last)",
      "\u001b[0;32m/var/folders/wk/dw_2kpzx6yggmhdyw5k5gj200000gn/T/ipykernel_44403/3687861312.py\u001b[0m in \u001b[0;36m<module>\u001b[0;34m\u001b[0m\n\u001b[0;32m----> 1\u001b[0;31m \u001b[0masdf\u001b[0m \u001b[0;34m=\u001b[0m \u001b[0masdf\u001b[0m\u001b[0;34m\u001b[0m\u001b[0;34m\u001b[0m\u001b[0m\n\u001b[0m",
      "\u001b[0;31mNameError\u001b[0m: name 'asdf' is not defined"
     ]
    }
   ],
   "source": [
    "\n",
    "\n",
    "asdf = asdf\n"
   ]
  },
  {
   "cell_type": "code",
   "execution_count": null,
   "id": "90d4da75",
   "metadata": {},
   "outputs": [],
   "source": [
    "import random\n",
    "# Checking against poisoning attacks\n",
    "def poison_model(MODEL_ID, POISON_PROB=0.35, prop=0.2):\n",
    "    model.load_state_dict(torch.load('Models/%s.pt'%(MODEL_ID)))\n",
    "    X_maj = []\n",
    "    y_maj = []\n",
    "    X_min = []\n",
    "    y_min = []\n",
    "\n",
    "    X_poison = []\n",
    "    y_poison = []\n",
    "\n",
    "    for i in range(len(X_train)):\n",
    "        X_poison.append(X_train[i])\n",
    "        if(X_train[i][sens_inds[0]] == 0.0):\n",
    "            X_maj.append(X_train[i])\n",
    "            if(y_train[i] == 0 and random.random() <= POISON_PROB):\n",
    "                y_maj.append(1) \n",
    "                y_poison.append(torch.Tensor([1]).int()[0])\n",
    "            else:\n",
    "                y_maj.append(y_train[i])\n",
    "                y_poison.append(y_train[i])\n",
    "        elif(X_train[i][sens_inds[0]] == 1.0):\n",
    "            X_min.append(X_train[i])\n",
    "            if(y_train[i] == 1 and random.random() <= POISON_PROB):\n",
    "                y_min.append(0) \n",
    "                y_poison.append(torch.Tensor([0]).int()[0])\n",
    "            else:\n",
    "                y_min.append(y_train[i])\n",
    "                y_poison.append(y_train[i])\n",
    "\n",
    "    X_maj = np.asarray(X_maj)\n",
    "    y_maj = np.asarray(y_maj)\n",
    "    X_min = np.asarray(X_min)\n",
    "    y_min = np.asarray(y_min)\n",
    "\n",
    "    class custDataset(Dataset):\n",
    "        def __init__(self, X, y):\n",
    "            self.X = torch.Tensor(X).float()\n",
    "            self.y = y\n",
    "            self.transform = transforms.Compose([transforms.ToTensor()])\n",
    "\n",
    "        def __len__(self):\n",
    "            return self.X.shape[0]\n",
    "\n",
    "        def __getitem__(self, index):\n",
    "            return self.X[index], self.y[index]\n",
    "\n",
    "    CustTrain = custDataset(X_poison, y_poison)    \n",
    "    CustTest = custDataset(X_test, y_test)\n",
    "\n",
    "    class CustomDataModule(pl.LightningDataModule):\n",
    "        def __init__(self, train, val, test, batch_size=32):\n",
    "            super().__init__()\n",
    "            self.train_data = train\n",
    "            self.val_data = val\n",
    "            self.test_data = test\n",
    "            self.batch_size = batch_size\n",
    "\n",
    "        def train_dataloader(self):\n",
    "            return DataLoader(self.train_data, batch_size=self.batch_size)\n",
    "\n",
    "        def val_dataloader(self):\n",
    "            return DataLoader(self.val_data, batch_size=self.batch_size)\n",
    "\n",
    "        def test_dataloader(self):\n",
    "            return DataLoader(self.test_data, batch_size=self.batch_size)\n",
    "\n",
    "    dm = CustomDataModule(CustTrain, CustTest, CustTest)\n",
    "    \n",
    "    trainer = pl.Trainer(max_epochs=1, accelerator=\"cpu\", devices=1)\n",
    "    trainer.fit(model, datamodule=dm)\n",
    "    \n",
    "    return model\n",
    "\n",
    "M_ID = gen_model_id(0.0)    \n",
    "model = poison_model(M_ID)"
   ]
  },
  {
   "cell_type": "code",
   "execution_count": null,
   "id": "510a6a8f",
   "metadata": {},
   "outputs": [],
   "source": [
    "\n",
    "\n",
    "\n",
    "# Measure Fairness (Group Metrics)\n",
    "\n",
    "\n",
    "X_maj = []\n",
    "y_maj = []\n",
    "X_min = []\n",
    "y_min = []\n",
    "\n",
    "for i in range(len(X_test)):\n",
    "    if(X_test[i][sens_inds[0]] == 0.0):\n",
    "        X_maj.append(X_test[i])\n",
    "        y_maj.append(y_test[i])\n",
    "    elif(X_test[i][sens_inds[0]] == 1.0):\n",
    "        X_min.append(X_test[i])\n",
    "        y_min.append(y_test[i])\n",
    "\n",
    "X_maj = np.asarray(X_maj)\n",
    "y_maj = np.asarray(y_maj)\n",
    "X_min = np.asarray(X_min)\n",
    "y_min = np.asarray(y_min)\n",
    "\n",
    "\n",
    "y_pred_min = []\n",
    "y_pred_maj = []\n",
    "print(len(X_test))\n",
    " \n",
    "maj_tp = 0\n",
    "maj_tn = 0\n",
    "maj_fp = 0\n",
    "maj_fn = 0\n",
    "\n",
    "min_tp = 0\n",
    "min_tn = 0\n",
    "min_fp = 0\n",
    "min_fn = 0\n",
    " \n",
    "acc = 0\n",
    "majority = 0\n",
    "minority = 0\n",
    "min_pos, min_neg = 0, 0\n",
    "maj_pos, maj_neg = 0, 0\n",
    "\n",
    "for i in range(len(X_test)):\n",
    "    y_pred = model(torch.Tensor([X_test[i]]))\n",
    "    corr = int(torch.argmax(y_pred) == y_test[i])\n",
    "    acc += corr\n",
    "    \n",
    "    #cls = (int(torch.argmax(y_pred).detach().numpy()))\n",
    "    # Majority Group Data\n",
    "    if(X_test[i][sens_inds[0]] == 0.0):\n",
    "        majority += 1\n",
    "        if(corr == 1 and torch.argmax(y_pred) == 1):\n",
    "            maj_tp += 1\n",
    "        elif(corr == 1 and torch.argmax(y_pred) == 0):\n",
    "            maj_tn += 1\n",
    "        elif(corr == 0 and torch.argmax(y_pred) == 1):\n",
    "            maj_fp += 1\n",
    "        elif(corr == 0 and torch.argmax(y_pred) == 0):\n",
    "            maj_fn += 1\n",
    "        # Sanity check:\n",
    "        if(y_test[i] == 1):\n",
    "            maj_pos += 1\n",
    "        else:\n",
    "            maj_neg += 1\n",
    "    # Minority Group Data\n",
    "    elif(X_test[i][sens_inds[0]] == 1.0):\n",
    "        minority += 1\n",
    "        if(corr == 1 and torch.argmax(y_pred) == 1):\n",
    "            min_tp += 1\n",
    "        elif(corr == 1 and torch.argmax(y_pred) == 0):\n",
    "            min_tn += 1\n",
    "        elif(corr == 0 and torch.argmax(y_pred) == 1):\n",
    "            min_fp += 1\n",
    "        elif(corr == 0 and torch.argmax(y_pred) == 0):\n",
    "            min_fn += 1\n",
    "        # Sanity check:\n",
    "        if(y_test[i] == 1):\n",
    "            min_pos += 1\n",
    "        else:\n",
    "            min_neg += 1\n",
    "\n",
    "print(\"Neural Net Acc: \\t\", acc/len(X_test))\n",
    "\n",
    "#print(len(X_test), maj_pos+maj_neg, min_pos+min_neg)\n",
    "\n",
    "p_rate_maj = (maj_tp + maj_fp)/(maj_pos+maj_neg)\n",
    "p_rate_min = (min_tp + min_fp)/(min_pos+min_neg)\n",
    "demographic_parity = abs(p_rate_maj - p_rate_min)\n",
    "#print(\"Positive rate for majority: \", p_rate_maj)\n",
    "#print(\"Positive rate for minority: \", p_rate_min)\n",
    "print(\"Demographic Parity: \\t\", demographic_parity)\n",
    "\n",
    "maj_tp_r = maj_tp/maj_pos\n",
    "min_tp_r = min_tp/min_pos\n",
    "equalized_opp = abs(maj_tp_r - min_tp_r)\n",
    "#print(\"True pos rate for majority: \", maj_tp_r)\n",
    "#print(\"True pos rate for minority: \", min_tp_r)\n",
    "print(\"Equalized Opp Disc: \\t\", equalized_opp)\n",
    "\n",
    "maj_tp_r = (maj_tp+maj_tn)/(maj_pos+maj_neg)\n",
    "min_tp_r = (min_tp+min_tn)/(min_pos+min_neg)\n",
    "equalized_acc = abs(maj_tp_r - min_tp_r)\n",
    "#print(\"True pos rate for majority: \", maj_tp_r)\n",
    "#print(\"True pos rate for minority: \", min_tp_r)\n",
    "print(\"Equalized Acc Disc: \\t\", equalized_acc)\n",
    "\n",
    "\n",
    "# Rest of the rates: \n",
    "\n",
    "maj_tp /= (maj_pos) # Total positives maj\n",
    "maj_tn /= (maj_neg) # Total negatives maj\n",
    "maj_fp /= (maj_neg)\n",
    "maj_fn /= (maj_pos)\n",
    "\n",
    "min_tp /= (min_pos) # Total positives min\n",
    "min_tn /= (min_neg) # Total negatives min\n",
    "min_fp /= (min_neg)\n",
    "min_fn /= (min_pos)\n",
    "\n",
    "\n",
    "print(\" \")\n",
    "print(\"Majority Stats/Minority Stats:\")\n",
    "print(\"TP:\", round(maj_tp,3), \"/\", round(min_tp,3))\n",
    "print(\"TN:\", round(maj_tn,3), \"/\", round(min_tn,3))\n",
    "print(\"FP:\", round(maj_fp,3), \"/\", round(min_fp,3))\n",
    "print(\"FN:\", round(maj_fn,3), \"/\", round(min_fn,3))\n",
    "\n",
    "\n",
    "\n",
    "\n",
    "\n",
    "\n"
   ]
  },
  {
   "cell_type": "code",
   "execution_count": null,
   "id": "1f5db548",
   "metadata": {},
   "outputs": [],
   "source": [
    "\n",
    "\n",
    "\n",
    "\n",
    "\n",
    "# Measure Fairness (Group Metrics)\n",
    "M_ID = gen_model_id(0.625)\n",
    "model.load_state_dict(torch.load('Models/%s.pt'%(M_ID)))\n",
    "\n",
    "\n",
    "X_maj = []\n",
    "y_maj = []\n",
    "X_min = []\n",
    "y_min = []\n",
    "\n",
    "for i in range(len(X_test)):\n",
    "    if(X_test[i][sens_inds[0]] == 0.0):\n",
    "        X_maj.append(X_test[i])\n",
    "        y_maj.append(y_test[i])\n",
    "    elif(X_test[i][sens_inds[0]] == 1.0):\n",
    "        X_min.append(X_test[i])\n",
    "        y_min.append(y_test[i])\n",
    "\n",
    "X_maj = np.asarray(X_maj)\n",
    "y_maj = np.asarray(y_maj)\n",
    "X_min = np.asarray(X_min)\n",
    "y_min = np.asarray(y_min)\n",
    "\n",
    "\n",
    "y_pred_min = []\n",
    "y_pred_maj = []\n",
    "print(len(X_test))\n",
    " \n",
    "maj_tp = 0\n",
    "maj_tn = 0\n",
    "maj_fp = 0\n",
    "maj_fn = 0\n",
    "\n",
    "min_tp = 0\n",
    "min_tn = 0\n",
    "min_fp = 0\n",
    "min_fn = 0\n",
    " \n",
    "acc = 0\n",
    "majority = 0\n",
    "minority = 0\n",
    "min_pos, min_neg = 0, 0\n",
    "maj_pos, maj_neg = 0, 0\n",
    "\n",
    "for i in range(len(X_test)):\n",
    "    y_pred = model(torch.Tensor([X_test[i]]))\n",
    "    corr = int(torch.argmax(y_pred) == y_test[i])\n",
    "    acc += corr\n",
    "    \n",
    "    #cls = (int(torch.argmax(y_pred).detach().numpy()))\n",
    "    # Majority Group Data\n",
    "    if(X_test[i][sens_inds[0]] == 0.0):\n",
    "        majority += 1\n",
    "        if(corr == 1 and torch.argmax(y_pred) == 1):\n",
    "            maj_tp += 1\n",
    "        elif(corr == 1 and torch.argmax(y_pred) == 0):\n",
    "            maj_tn += 1\n",
    "        elif(corr == 0 and torch.argmax(y_pred) == 1):\n",
    "            maj_fp += 1\n",
    "        elif(corr == 0 and torch.argmax(y_pred) == 0):\n",
    "            maj_fn += 1\n",
    "        # Sanity check:\n",
    "        if(y_test[i] == 1):\n",
    "            maj_pos += 1\n",
    "        else:\n",
    "            maj_neg += 1\n",
    "    # Minority Group Data\n",
    "    elif(X_test[i][sens_inds[0]] == 1.0):\n",
    "        minority += 1\n",
    "        if(corr == 1 and torch.argmax(y_pred) == 1):\n",
    "            min_tp += 1\n",
    "        elif(corr == 1 and torch.argmax(y_pred) == 0):\n",
    "            min_tn += 1\n",
    "        elif(corr == 0 and torch.argmax(y_pred) == 1):\n",
    "            min_fp += 1\n",
    "        elif(corr == 0 and torch.argmax(y_pred) == 0):\n",
    "            min_fn += 1\n",
    "        # Sanity check:\n",
    "        if(y_test[i] == 1):\n",
    "            min_pos += 1\n",
    "        else:\n",
    "            min_neg += 1\n",
    "\n",
    "print(\"Neural Net Acc: \\t\", acc/len(X_test))\n",
    "\n",
    "#print(len(X_test), maj_pos+maj_neg, min_pos+min_neg)\n",
    "\n",
    "p_rate_maj = (maj_tp + maj_fp)/(maj_pos+maj_neg)\n",
    "p_rate_min = (min_tp + min_fp)/(min_pos+min_neg)\n",
    "demographic_parity = abs(p_rate_maj - p_rate_min)\n",
    "#print(\"Positive rate for majority: \", p_rate_maj)\n",
    "#print(\"Positive rate for minority: \", p_rate_min)\n",
    "print(\"Demographic Parity: \\t\", demographic_parity)\n",
    "\n",
    "maj_tp_r = maj_tp/maj_pos\n",
    "min_tp_r = min_tp/min_pos\n",
    "equalized_opp = abs(maj_tp_r - min_tp_r)\n",
    "#print(\"True pos rate for majority: \", maj_tp_r)\n",
    "#print(\"True pos rate for minority: \", min_tp_r)\n",
    "print(\"Equalized Opp Disc: \\t\", equalized_opp)\n",
    "\n",
    "maj_tp_r = (maj_tp+maj_tn)/(maj_pos+maj_neg)\n",
    "min_tp_r = (min_tp+min_tn)/(min_pos+min_neg)\n",
    "equalized_acc = abs(maj_tp_r - min_tp_r)\n",
    "#print(\"True pos rate for majority: \", maj_tp_r)\n",
    "#print(\"True pos rate for minority: \", min_tp_r)\n",
    "print(\"Equalized Acc Disc: \\t\", equalized_acc)\n",
    "\n",
    "\n",
    "# Rest of the rates: \n",
    "\n",
    "maj_tp /= (maj_pos) # Total positives maj\n",
    "maj_tn /= (maj_neg) # Total negatives maj\n",
    "maj_fp /= (maj_neg)\n",
    "maj_fn /= (maj_pos)\n",
    "\n",
    "min_tp /= (min_pos) # Total positives min\n",
    "min_tn /= (min_neg) # Total negatives min\n",
    "min_fp /= (min_neg)\n",
    "min_fn /= (min_pos)\n",
    "\n",
    "\n",
    "print(\" \")\n",
    "print(\"Majority Stats/Minority Stats:\")\n",
    "print(\"TP:\", round(maj_tp,3), \"/\", round(min_tp,3))\n",
    "print(\"TN:\", round(maj_tn,3), \"/\", round(min_tn,3))\n",
    "print(\"FP:\", round(maj_fp,3), \"/\", round(min_fp,3))\n",
    "print(\"FN:\", round(maj_fn,3), \"/\", round(min_fn,3))\n",
    "\n",
    "\n",
    "\n",
    "\n",
    "\n",
    "\n"
   ]
  },
  {
   "cell_type": "code",
   "execution_count": null,
   "id": "29b31bae",
   "metadata": {},
   "outputs": [],
   "source": [
    "# Utils\n",
    "import torch\n",
    "import numpy as np\n",
    "import pickle\n",
    "\n",
    "# ML models\n",
    "from openxai.LoadModel import LoadModel\n",
    "\n",
    "# Data loaders\n",
    "from openxai.dataloader import return_loaders\n",
    "\n",
    "# Explanation models\n",
    "from openxai.Explainer import Explainer\n",
    "\n",
    "# Evaluation methods\n",
    "from openxai.evaluator import Evaluator\n",
    "\n",
    "# Perturbation methods required for the computation of the relative stability metrics\n",
    "from openxai.explainers.catalog.perturbation_methods import NormalPerturbation\n",
    "from openxai.explainers.catalog.perturbation_methods import NewDiscrete_NormalPerturbation\n",
    "\n",
    "data_full = torch.Tensor(X_test[0:100])\n",
    "labels_full = y_test[0:100]\n",
    "# You can supply your own set of hyperparameters like so:\n",
    "param_dict_lime = dict()\n",
    "param_dict_lime['dataset_tensor'] = data_full\n",
    "lime = Explainer(method='lime',\n",
    "                 model=model,\n",
    "                 dataset_tensor=data_full)\n",
    "                 #param_dict_lime=param_dict_lime)\n",
    "    \n",
    "\n",
    "lime_custom = lime.get_explanation(data_full,  label=labels_full)"
   ]
  },
  {
   "cell_type": "code",
   "execution_count": null,
   "id": "e349e2de",
   "metadata": {},
   "outputs": [],
   "source": [
    "index = 5\n",
    "# To use a different explanation method change the method name like so\n",
    "ig = Explainer(method='ig',\n",
    "               model=model,\n",
    "               dataset_tensor=data_full,\n",
    "               param_dict_lime=None)\n",
    "ig_default_exp = ig.get_explanation(data_full.float(), \n",
    "                                    label=labels_full)"
   ]
  },
  {
   "cell_type": "code",
   "execution_count": null,
   "id": "62144d5a",
   "metadata": {},
   "outputs": [],
   "source": [
    "def generate_mask(explanation, top_k):\n",
    "    mask_indices = torch.topk(explanation, top_k).indices\n",
    "    mask = torch.zeros(explanation.shape) > 10\n",
    "    for i in mask_indices:\n",
    "        mask[i] = True\n",
    "    return mask\n",
    "\n",
    "# Perturbation class parameters\n",
    "perturbation_mean = 0.0\n",
    "perturbation_std = 0.10\n",
    "perturbation_flip_percentage = 0.03\n",
    "feature_types = np.asarray(146*['d'])\n",
    "\n",
    "perturbation = NormalPerturbation(\"tabular\",\n",
    "                                      mean=perturbation_mean,\n",
    "                                      std_dev=perturbation_std,\n",
    "                                      flip_percentage=perturbation_flip_percentage)"
   ]
  },
  {
   "cell_type": "code",
   "execution_count": null,
   "id": "cb66fbe1",
   "metadata": {},
   "outputs": [],
   "source": [
    "input_dict = dict()\n",
    "index = 0\n",
    "\n",
    "# inputs and models\n",
    "input_dict['x'] = data_full[index].reshape(-1)\n",
    "input_dict['input_data'] = data_full\n",
    "input_dict['explainer'] = ig\n",
    "input_dict['explanation_x'] = ig_default_exp[index,:].flatten()\n",
    "input_dict['model'] = model\n",
    "\n",
    "# perturbation method used for the stability metric\n",
    "input_dict['perturbation'] = perturbation\n",
    "input_dict['perturb_method'] = perturbation\n",
    "input_dict['perturb_max_distance'] = 0.4\n",
    "input_dict['feature_metadata'] = feature_types\n",
    "input_dict['p_norm'] = 2\n",
    "input_dict['eval_metric'] = None\n",
    "\n",
    "# true label, predicted label, and masks\n",
    "input_dict['top_k'] = 3\n",
    "input_dict['y'] = labels_full[index].detach().item()\n",
    "input_dict['y_pred'] = torch.max(model(data_full[index].unsqueeze(0).float()), 1).indices.detach().item()\n",
    "input_dict['mask'] = generate_mask(input_dict['explanation_x'].reshape(-1), input_dict['top_k'])\n",
    "\n",
    "# required for the representation stability measure\n",
    "input_dict['L_map'] = model\n",
    "\n",
    "evaluator = Evaluator(input_dict,\n",
    "                      inputs=data_full,\n",
    "                      labels=labels_full, \n",
    "                      model=model, \n",
    "                      explainer=ig)"
   ]
  },
  {
   "cell_type": "code",
   "execution_count": null,
   "id": "71d73d38",
   "metadata": {},
   "outputs": [],
   "source": [
    "#PGU: 0.09543261 \t \t (Lower is better)\n",
    "#PGI: 0.09596974 \t \t (Higher is better)\n",
    "# evaluate prediction gap on umportant features\n",
    "print('PGU:', evaluator.evaluate(metric='PGU'), \"\\t \\t (Lower is better)\")\n",
    "\n",
    "# evaluate prediction gap on important features\n",
    "print('PGI:', evaluator.evaluate(metric='PGI'), \"\\t \\t (Higher is better)\")\n",
    "\n",
    "# evaluate relative input stability\n",
    "#print('RIS:', evaluator.evaluate(metric='RIS'))\n",
    "\n",
    "# evaluate relative output stability\n",
    "#print('ROS:', evaluator.evaluate(metric='ROS'))\n",
    "\n",
    "# evaluate prediction gap on umportant features\n",
    "#print('RRS:', evaluator.evaluate(metric='RRS'))\n"
   ]
  },
  {
   "cell_type": "code",
   "execution_count": null,
   "id": "23d0b091",
   "metadata": {},
   "outputs": [],
   "source": [
    "# Create Pleasing Visualizations for the paper\n",
    "\n",
    "\n",
    "\n"
   ]
  },
  {
   "cell_type": "code",
   "execution_count": null,
   "id": "bf4a1f58",
   "metadata": {},
   "outputs": [],
   "source": []
  },
  {
   "cell_type": "code",
   "execution_count": null,
   "id": "cea163b5",
   "metadata": {},
   "outputs": [],
   "source": [
    "NUM_POISON = 1000\n",
    "\n"
   ]
  },
  {
   "cell_type": "code",
   "execution_count": null,
   "id": "bb4a1c8f",
   "metadata": {},
   "outputs": [],
   "source": [
    "\"\"\"\n",
    "Neural Net Acc: \t 0.8023333333333333\n",
    "Demographic Parity: \t 0.008671282283995073\n",
    "Equalized Opp Disc: \t 0.013394042876114592\n",
    "Equalized Acc Disc: \t 0.01832785870604514\n",
    " \n",
    "Majority Stats/Minority Stats:\n",
    "TP: 0.158 / 0.171\n",
    "TN: 0.982 / 0.979\n",
    "FP: 0.018 / 0.021\n",
    "FN: 0.842 / 0.829\n",
    "\"\"\"\n",
    "\n",
    "\"\"\"\n",
    "Neural Net Acc: \t 0.7996666666666666\n",
    "Demographic Parity: \t 0.02904883034483907\n",
    "Equalized Opp Disc: \t 0.03514750521722637\n",
    "Equalized Acc Disc: \t 0.014569863599210087\n",
    " \n",
    "Majority Stats/Minority Stats:\n",
    "TP: 0.459 / 0.495\n",
    "TN: 0.897 / 0.881\n",
    "FP: 0.103 / 0.119\n",
    "FN: 0.541 / 0.505\n",
    "\"\"\""
   ]
  },
  {
   "cell_type": "code",
   "execution_count": null,
   "id": "97d33653",
   "metadata": {},
   "outputs": [],
   "source": [
    "# Measure Anchoring Attack Success Rate\n",
    "# Paper: Exacerbating Algorithmic Bias through Fairness Attacks\n",
    "\n"
   ]
  },
  {
   "cell_type": "code",
   "execution_count": null,
   "id": "6c6b4a62",
   "metadata": {},
   "outputs": [],
   "source": [
    "# Measure Attack from the Following\n",
    "# You Shouldn’t Trust Me: Learning Models Which Conceal Unfairness From Multiple Explanation Methods\n",
    "\n"
   ]
  },
  {
   "cell_type": "code",
   "execution_count": null,
   "id": "6f586ba9",
   "metadata": {},
   "outputs": [],
   "source": [
    "asdf = asdfe"
   ]
  },
  {
   "cell_type": "code",
   "execution_count": null,
   "id": "0b548585",
   "metadata": {},
   "outputs": [],
   "source": []
  },
  {
   "cell_type": "code",
   "execution_count": null,
   "id": "9f1171fe",
   "metadata": {},
   "outputs": [],
   "source": [
    "INDEX = 0\n",
    "while(True):\n",
    "    #print(INDEX, len(X_test))\n",
    "    data = torch.Tensor(X_test[INDEX])\n",
    "    target = torch.Tensor([y_test[INDEX]]).type(torch.LongTensor)\n",
    "    if(target != negative_cls):\n",
    "        INDEX += 1\n",
    "        continue\n",
    "    gra = GradCertModule.InputGrad(model, data[None, :], target, nclasses=2)\n",
    "    lower, upper = GradCertModule.GradCertBounds(model, data[None, :], target, eps=0.01, gam=0.0, nclasses=2)\n",
    "    break"
   ]
  },
  {
   "cell_type": "code",
   "execution_count": null,
   "id": "c7057e84",
   "metadata": {},
   "outputs": [],
   "source": [
    "import seaborn as sns\n",
    "import matplotlib\n",
    "import matplotlib.pyplot as plt\n",
    "\n",
    "ma = torch.max(upper).detach().numpy()\n",
    "mi = torch.min(lower).detach().numpy()\n",
    "\n",
    "im = plt.imshow(gra.detach().numpy().reshape(1, -1), cmap='coolwarm')\n",
    "plt.colorbar()\n",
    "im.set_clim(vmin=mi, vmax=ma)\n",
    "plt.show()\n",
    "\n",
    "im = plt.imshow(lower.detach().numpy().reshape(1, -1), cmap='coolwarm')\n",
    "plt.colorbar()\n",
    "im.set_clim(vmin=mi, vmax=ma)\n",
    "plt.show()\n",
    "im = plt.imshow(upper.detach().numpy().reshape(1, -1), cmap='coolwarm')\n",
    "plt.colorbar()\n",
    "im.set_clim(vmin=mi, vmax=ma)\n",
    "plt.show()"
   ]
  },
  {
   "cell_type": "code",
   "execution_count": null,
   "id": "38026c12",
   "metadata": {},
   "outputs": [],
   "source": [
    "\n"
   ]
  },
  {
   "cell_type": "code",
   "execution_count": null,
   "id": "ab50e06c",
   "metadata": {},
   "outputs": [],
   "source": [
    "INDEX = 2\n",
    "x = torch.Tensor(X_test[INDEX])\n",
    "y, cls = model.classify(torch.Tensor(x[None, :]))\n",
    "#print(y)\n",
    "ingrad = GradCertModule.InputGrad(model, torch.Tensor(x[None, :]), cls, nclasses=2)\n",
    "#print(\"IN GRADIENT TO START\")\n",
    "#print(np.squeeze(ingrad.detach().numpy()))\n",
    "#print(max(ingrad))\n",
    "\n",
    "success, x_adv, grad_adv = run_tabular_attack(model, torch.Tensor(X_test[INDEX]), iterations=1000,\n",
    "                                              target=sens_inds, epsilon=0.25, lr=0.005)\n",
    "print(success)\n",
    "\n",
    "#print(x_adv)\n",
    "#print(\"IN GRADIENT AT END\")\n",
    "#print(grad_adv.detach().numpy())\n",
    "\n",
    "#a = np.abs(grad_adv.detach().numpy())\n",
    "#top_idx = np.squeeze(np.argsort(a))\n",
    "#top_idx = list(reversed(top_2_idx))\n",
    "# Check if sensitive indexes are in the top 10% of feature explainers\n",
    "#print(sens_inds)\n",
    "#print(top_idx[0:5])\n",
    "\n",
    "#bool(set(top_idx[0:5]) & set(sens_inds))"
   ]
  },
  {
   "cell_type": "code",
   "execution_count": null,
   "id": "8c236ace",
   "metadata": {},
   "outputs": [],
   "source": [
    "plt.imshow(grad_adv.detach().numpy())\n",
    "print(np.argmax(grad_adv.detach().numpy()))\n",
    "print(sens_inds[0])"
   ]
  },
  {
   "cell_type": "code",
   "execution_count": null,
   "id": "64f23d9f",
   "metadata": {},
   "outputs": [],
   "source": [
    "sns.set_context('poster')\n",
    "mi_exp, ma_exp = GradCertModule.PostProcessBounds(lower, upper)\n",
    "worst_case_sens = float((sum(ma_exp[sens_inds])).detach().numpy())\n",
    "worst_case_nons = float((sum(mi_exp) - sum(mi_exp[sens_inds])).detach().numpy())\n",
    "plt.figure(figsize=(8,6))\n",
    "plt.bar(x=[0,1], height =[worst_case_nons, worst_case_sens], color=['darkblue', 'red'])\n",
    "ax = plt.gca()\n",
    "ax.set_xticklabels([' ','Non-Sensitive',' ', 'Race/Gender'])\n",
    "plt.ylabel('Exp. Magnitude')\n",
    "plt.title('Worst-Case Exp. (Grad. Cert.)')"
   ]
  },
  {
   "cell_type": "code",
   "execution_count": null,
   "id": "2fea3aa9",
   "metadata": {},
   "outputs": [],
   "source": [
    "from tqdm import trange\n",
    "# Compute Gradient Magnitudes \n",
    "\n",
    "# Compute RandAttack Magnitudes\n",
    "\n",
    "# Compute GradAttack Magnitudes\n",
    "\n",
    "# Compute GradCert Magnitudes\n",
    "\n",
    "\n",
    "avgs = []\n",
    "cert = []\n",
    "attk = []\n",
    "rand = []\n",
    "\n",
    "alls = []\n",
    "labs = []\n",
    "\n",
    "t_eps = 0.01\n",
    "t_gam = 0.0\n",
    "for INDEX in trange(250):\n",
    "    data = torch.Tensor(X_test[INDEX])\n",
    "    data = torch.reshape(data, (1,-1))\n",
    "    target = torch.Tensor([y_test[INDEX]]).type(torch.LongTensor)\n",
    "    \n",
    "    min_cert, max_cert = GradCertModule.GradCertBounds(model, data, target, t_eps, t_gam, nclasses=2)\n",
    "    min_cert, max_cert = min_cert.detach().numpy(), max_cert.detach().numpy()\n",
    "    cert.append(np.mean((max_cert - min_cert))/2)\n",
    "    alls.append(np.mean((max_cert - min_cert))/2)\n",
    "    labs.append('Cert. Diff.')\n",
    "    \n",
    "    min_attk, max_attk = GradCertModule.GradAttackBounds(model, data, target, t_eps, nclasses=2)\n",
    "    min_attk, max_attk = min_attk.detach().numpy(), max_attk.detach().numpy()\n",
    "    attk.append(np.mean((max_attk - min_attk))/2)\n",
    "    alls.append(np.mean((max_attk - min_attk))/2)\n",
    "    labs.append('Attk. Diff.')\n",
    "    \n",
    "    min_rand, max_rand = GradCertModule.GradAttackBounds(model, data, target, t_eps,  nclasses=2)\n",
    "    min_rand, max_rand = min_rand.detach().numpy(), max_rand.detach().numpy()\n",
    "    rand.append(np.mean((max_rand - min_rand))/2)\n",
    "    alls.append(np.mean((max_rand - min_rand))/2)\n",
    "    labs.append('Rand. Diff.')\n",
    "    \n",
    "    gra = GradCertModule.InputGrad(model, data, target, nclasses=2)\n",
    "    gra = gra.detach().numpy()\n",
    "    avgs.append(np.mean(np.abs(gra)))\n",
    "    alls.append(np.mean(np.abs(gra)))\n",
    "    labs.append('Gradient')\n",
    "        "
   ]
  },
  {
   "cell_type": "code",
   "execution_count": null,
   "id": "77ed5bf5",
   "metadata": {},
   "outputs": [],
   "source": [
    "import pandas as pd\n",
    "import seaborn as sns\n",
    "sns.set_context('poster')\n",
    "plt.figure(figsize=(12, 6), dpi=120)\n",
    "\n",
    "df = pd.DataFrame({'vals': alls, 'labs': labs})\n",
    "ax = sns.boxenplot(y=\"vals\", x='labs', data=df, outlier_prop=0.0000001, k_depth=\"proportion\",\n",
    "                   order=['Gradient', 'Cert. Diff.', 'Attk. Diff.', 'Rand. Diff.'])\n",
    "\n",
    "#plt.ylim([-0.001, 1.75])\n",
    "\n",
    "plt.yscale('log')\n",
    "\n",
    "plt.ylabel(\"Magnitudes\")\n",
    "plt.xlabel(\"\")\n",
    "plt.title(\"Standard Training\")"
   ]
  },
  {
   "cell_type": "code",
   "execution_count": null,
   "id": "fd09f956",
   "metadata": {},
   "outputs": [],
   "source": []
  }
 ],
 "metadata": {
  "kernelspec": {
   "display_name": "Python 3 (ipykernel)",
   "language": "python",
   "name": "python3"
  },
  "language_info": {
   "codemirror_mode": {
    "name": "ipython",
    "version": 3
   },
   "file_extension": ".py",
   "mimetype": "text/x-python",
   "name": "python",
   "nbconvert_exporter": "python",
   "pygments_lexer": "ipython3",
   "version": "3.7.13"
  }
 },
 "nbformat": 4,
 "nbformat_minor": 5
}
